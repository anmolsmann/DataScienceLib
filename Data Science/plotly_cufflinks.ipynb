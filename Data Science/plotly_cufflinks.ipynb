{
 "cells": [
  {
   "cell_type": "code",
   "execution_count": 2,
   "metadata": {},
   "outputs": [],
   "source": [
    "import pandas as pd"
   ]
  },
  {
   "cell_type": "code",
   "execution_count": 3,
   "metadata": {},
   "outputs": [],
   "source": [
    "import numpy as np"
   ]
  },
  {
   "cell_type": "code",
   "execution_count": 4,
   "metadata": {},
   "outputs": [],
   "source": [
    "import cufflinks as cf"
   ]
  },
  {
   "cell_type": "code",
   "execution_count": 5,
   "metadata": {},
   "outputs": [],
   "source": [
    "from plotly.offline import download_plotlyjs, init_notebook_mode, plot, iplot"
   ]
  },
  {
   "cell_type": "code",
   "execution_count": 6,
   "metadata": {},
   "outputs": [
    {
     "data": {
      "text/html": [
       "        <script type=\"text/javascript\">\n",
       "        window.PlotlyConfig = {MathJaxConfig: 'local'};\n",
       "        if (window.MathJax && window.MathJax.Hub && window.MathJax.Hub.Config) {window.MathJax.Hub.Config({SVG: {font: \"STIX-Web\"}});}\n",
       "        if (typeof require !== 'undefined') {\n",
       "        require.undef(\"plotly\");\n",
       "        requirejs.config({\n",
       "            paths: {\n",
       "                'plotly': ['https://cdn.plot.ly/plotly-2.24.1.min']\n",
       "            }\n",
       "        });\n",
       "        require(['plotly'], function(Plotly) {\n",
       "            window._Plotly = Plotly;\n",
       "        });\n",
       "        }\n",
       "        </script>\n",
       "        "
      ]
     },
     "metadata": {},
     "output_type": "display_data"
    }
   ],
   "source": [
    "init_notebook_mode(connected=True) #connects pandas to javascript library"
   ]
  },
  {
   "cell_type": "code",
   "execution_count": 7,
   "metadata": {},
   "outputs": [
    {
     "data": {
      "text/html": [
       "        <script type=\"text/javascript\">\n",
       "        window.PlotlyConfig = {MathJaxConfig: 'local'};\n",
       "        if (window.MathJax && window.MathJax.Hub && window.MathJax.Hub.Config) {window.MathJax.Hub.Config({SVG: {font: \"STIX-Web\"}});}\n",
       "        if (typeof require !== 'undefined') {\n",
       "        require.undef(\"plotly\");\n",
       "        requirejs.config({\n",
       "            paths: {\n",
       "                'plotly': ['https://cdn.plot.ly/plotly-2.24.1.min']\n",
       "            }\n",
       "        });\n",
       "        require(['plotly'], function(Plotly) {\n",
       "            window._Plotly = Plotly;\n",
       "        });\n",
       "        }\n",
       "        </script>\n",
       "        "
      ]
     },
     "metadata": {},
     "output_type": "display_data"
    }
   ],
   "source": [
    "cf.go_offline()"
   ]
  },
  {
   "cell_type": "code",
   "execution_count": 8,
   "metadata": {},
   "outputs": [],
   "source": [
    "%matplotlib inline"
   ]
  },
  {
   "cell_type": "code",
   "execution_count": 9,
   "metadata": {},
   "outputs": [],
   "source": [
    "df = pd.DataFrame(np.random.randn(100,4), columns= 'A B C D'.split())"
   ]
  },
  {
   "cell_type": "code",
   "execution_count": 33,
   "metadata": {},
   "outputs": [
    {
     "data": {
      "text/html": [
       "<div>\n",
       "<style scoped>\n",
       "    .dataframe tbody tr th:only-of-type {\n",
       "        vertical-align: middle;\n",
       "    }\n",
       "\n",
       "    .dataframe tbody tr th {\n",
       "        vertical-align: top;\n",
       "    }\n",
       "\n",
       "    .dataframe thead th {\n",
       "        text-align: right;\n",
       "    }\n",
       "</style>\n",
       "<table border=\"1\" class=\"dataframe\">\n",
       "  <thead>\n",
       "    <tr style=\"text-align: right;\">\n",
       "      <th></th>\n",
       "      <th>A</th>\n",
       "      <th>B</th>\n",
       "      <th>C</th>\n",
       "      <th>D</th>\n",
       "    </tr>\n",
       "  </thead>\n",
       "  <tbody>\n",
       "    <tr>\n",
       "      <th>0</th>\n",
       "      <td>0.031201</td>\n",
       "      <td>0.354726</td>\n",
       "      <td>1.455074</td>\n",
       "      <td>-1.324168</td>\n",
       "    </tr>\n",
       "    <tr>\n",
       "      <th>1</th>\n",
       "      <td>-1.541119</td>\n",
       "      <td>0.074752</td>\n",
       "      <td>-1.673936</td>\n",
       "      <td>-0.991027</td>\n",
       "    </tr>\n",
       "    <tr>\n",
       "      <th>2</th>\n",
       "      <td>0.109363</td>\n",
       "      <td>0.997944</td>\n",
       "      <td>-2.203517</td>\n",
       "      <td>0.082641</td>\n",
       "    </tr>\n",
       "    <tr>\n",
       "      <th>3</th>\n",
       "      <td>-0.271968</td>\n",
       "      <td>-1.237777</td>\n",
       "      <td>0.328628</td>\n",
       "      <td>2.506947</td>\n",
       "    </tr>\n",
       "    <tr>\n",
       "      <th>4</th>\n",
       "      <td>1.217295</td>\n",
       "      <td>0.112609</td>\n",
       "      <td>-0.188315</td>\n",
       "      <td>-0.592179</td>\n",
       "    </tr>\n",
       "    <tr>\n",
       "      <th>...</th>\n",
       "      <td>...</td>\n",
       "      <td>...</td>\n",
       "      <td>...</td>\n",
       "      <td>...</td>\n",
       "    </tr>\n",
       "    <tr>\n",
       "      <th>95</th>\n",
       "      <td>0.500749</td>\n",
       "      <td>-1.785399</td>\n",
       "      <td>0.730739</td>\n",
       "      <td>-0.808021</td>\n",
       "    </tr>\n",
       "    <tr>\n",
       "      <th>96</th>\n",
       "      <td>0.104572</td>\n",
       "      <td>-0.425446</td>\n",
       "      <td>0.854289</td>\n",
       "      <td>0.527960</td>\n",
       "    </tr>\n",
       "    <tr>\n",
       "      <th>97</th>\n",
       "      <td>-0.690553</td>\n",
       "      <td>1.261965</td>\n",
       "      <td>0.581370</td>\n",
       "      <td>-0.531368</td>\n",
       "    </tr>\n",
       "    <tr>\n",
       "      <th>98</th>\n",
       "      <td>-0.940347</td>\n",
       "      <td>-0.408699</td>\n",
       "      <td>-0.767207</td>\n",
       "      <td>1.509273</td>\n",
       "    </tr>\n",
       "    <tr>\n",
       "      <th>99</th>\n",
       "      <td>0.666554</td>\n",
       "      <td>-0.495216</td>\n",
       "      <td>-0.950044</td>\n",
       "      <td>0.161050</td>\n",
       "    </tr>\n",
       "  </tbody>\n",
       "</table>\n",
       "<p>100 rows × 4 columns</p>\n",
       "</div>"
      ],
      "text/plain": [
       "           A         B         C         D\n",
       "0   0.031201  0.354726  1.455074 -1.324168\n",
       "1  -1.541119  0.074752 -1.673936 -0.991027\n",
       "2   0.109363  0.997944 -2.203517  0.082641\n",
       "3  -0.271968 -1.237777  0.328628  2.506947\n",
       "4   1.217295  0.112609 -0.188315 -0.592179\n",
       "..       ...       ...       ...       ...\n",
       "95  0.500749 -1.785399  0.730739 -0.808021\n",
       "96  0.104572 -0.425446  0.854289  0.527960\n",
       "97 -0.690553  1.261965  0.581370 -0.531368\n",
       "98 -0.940347 -0.408699 -0.767207  1.509273\n",
       "99  0.666554 -0.495216 -0.950044  0.161050\n",
       "\n",
       "[100 rows x 4 columns]"
      ]
     },
     "execution_count": 33,
     "metadata": {},
     "output_type": "execute_result"
    }
   ],
   "source": [
    "df"
   ]
  },
  {
   "cell_type": "code",
   "execution_count": 10,
   "metadata": {},
   "outputs": [],
   "source": [
    "df2 = pd.DataFrame({'Category':['A','B','C'],'Values':[32, 64, 128]})"
   ]
  },
  {
   "cell_type": "code",
   "execution_count": 35,
   "metadata": {},
   "outputs": [
    {
     "data": {
      "text/html": [
       "<div>\n",
       "<style scoped>\n",
       "    .dataframe tbody tr th:only-of-type {\n",
       "        vertical-align: middle;\n",
       "    }\n",
       "\n",
       "    .dataframe tbody tr th {\n",
       "        vertical-align: top;\n",
       "    }\n",
       "\n",
       "    .dataframe thead th {\n",
       "        text-align: right;\n",
       "    }\n",
       "</style>\n",
       "<table border=\"1\" class=\"dataframe\">\n",
       "  <thead>\n",
       "    <tr style=\"text-align: right;\">\n",
       "      <th></th>\n",
       "      <th>Category</th>\n",
       "      <th>Values</th>\n",
       "    </tr>\n",
       "  </thead>\n",
       "  <tbody>\n",
       "    <tr>\n",
       "      <th>0</th>\n",
       "      <td>A</td>\n",
       "      <td>32</td>\n",
       "    </tr>\n",
       "    <tr>\n",
       "      <th>1</th>\n",
       "      <td>B</td>\n",
       "      <td>64</td>\n",
       "    </tr>\n",
       "    <tr>\n",
       "      <th>2</th>\n",
       "      <td>C</td>\n",
       "      <td>128</td>\n",
       "    </tr>\n",
       "  </tbody>\n",
       "</table>\n",
       "</div>"
      ],
      "text/plain": [
       "  Category  Values\n",
       "0        A      32\n",
       "1        B      64\n",
       "2        C     128"
      ]
     },
     "execution_count": 35,
     "metadata": {},
     "output_type": "execute_result"
    }
   ],
   "source": [
    "df2"
   ]
  },
  {
   "cell_type": "code",
   "execution_count": 12,
   "metadata": {},
   "outputs": [
    {
     "data": {
      "text/plain": [
       "<AxesSubplot:>"
      ]
     },
     "execution_count": 12,
     "metadata": {},
     "output_type": "execute_result"
    },
    {
     "data": {
      "image/png": "[encoded data removed]",
      "text/plain": [
       "<Figure size 640x480 with 1 Axes>"
      ]
     },
     "metadata": {},
     "output_type": "display_data"
    }
   ],
   "source": [
    "df.plot()"
   ]
  },
  {
   "cell_type": "code",
   "execution_count": 13,
   "metadata": {},
   "outputs": [
    {
     "data": {
      "application/vnd.plotly.v1+json": {
       "config": {
        "linkText": "Export to plot.ly",
        "plotlyServerURL": "https://plot.ly",
        "showLink": true
       },
       "data": [
        {
         "line": {
          "color": "rgba(255, 153, 51, 1.0)",
          "dash": "solid",
          "shape": "linear",
          "width": 1.3
         },
         "mode": "lines",
         "name": "A",
         "text": "",
         "type": "scatter",
         "x": [
          0,
          1,
          2,
          3,
          4,
          5,
          6,
          7,
          8,
          9,
          10,
          11,
          12,
          13,
          14,
          15,
          16,
          17,
          18,
          19,
          20,
          21,
          22,
          23,
          24,
          25,
          26,
          27,
          28,
          29,
          30,
          31,
          32,
          33,
          34,
          35,
          36,
          37,
          38,
          39,
          40,
          41,
          42,
          43,
          44,
          45,
          46,
          47,
          48,
          49,
          50,
          51,
          52,
          53,
          54,
          55,
          56,
          57,
          58,
          59,
          60,
          61,
          62,
          63,
          64,
          65,
          66,
          67,
          68,
          69,
          70,
          71,
          72,
          73,
          74,
          75,
          76,
          77,
          78,
          79,
          80,
          81,
          82,
          83,
          84,
          85,
          86,
          87,
          88,
          89,
          90,
          91,
          92,
          93,
          94,
          95,
          96,
          97,
          98,
          99
         ],
         "y": [
          -0.5947246609007995,
          0.5080983839176285,
          -0.2729821610343981,
          1.4374400910119844,
          1.1419571206311756,
          -1.232610716651499,
          0.4540428085669437,
          -0.2759116668580806,
          1.5697212376142504,
          -1.4639406540709177,
          0.5486686814847282,
          -2.2375808038284624,
          -0.2721421244748315,
          -1.3357025368243627,
          -1.6166706184888897,
          -0.6651463271797208,
          0.4871549158566213,
          0.19084172067838373,
          -0.6330915267659967,
          1.7826340370371316,
          0.1690698159664783,
          1.0211689589203143,
          -0.5010043034699433,
          0.4252811836772652,
          0.5836486439984949,
          0.3503229690937196,
          -0.5142408989289913,
          -0.8812870246830704,
          0.5630690790365496,
          0.5361186589776664,
          -0.5686083266420646,
          -1.2469869098846766,
          -2.245796079140013,
          -1.1330290335770774,
          -0.016457154406527605,
          -0.26530917851442315,
          1.633766433593139,
          0.4460629510726452,
          -0.37231238194284444,
          -0.48399034500600685,
          -0.5414805164545972,
          0.4711651195719005,
          2.2033910682226185,
          0.3912213674776983,
          0.1770356217677615,
          0.7890615627595226,
          0.47539228648359083,
          -0.19298618929105993,
          0.5491716496086573,
          0.25727239792699996,
          1.9795243617189382,
          0.05868896894501684,
          -0.31903491132136336,
          1.048297475078446,
          0.3841296136509673,
          1.2260276387430127,
          0.14139911530330046,
          -0.9713093590150319,
          0.3205918800593372,
          -1.229147303641053,
          -1.8478453803658355,
          -1.2817089726351218,
          -1.071775272089408,
          0.3688434390194641,
          -2.302296481140197,
          -1.4038330323601642,
          -0.48808645057929395,
          -0.7804602924006149,
          0.8359895304660069,
          -1.3359576639397497,
          0.8453514176969392,
          -0.7565319236838722,
          -0.3974968625688486,
          -1.9409598602833364,
          1.2025187504484942,
          -1.5182570076336794,
          -0.8359225144847929,
          0.7289852900300552,
          -2.012327311236848,
          -1.1659543540352098,
          -0.017836751322662835,
          0.7990639240283605,
          -2.001775607060861,
          1.092328168305829,
          0.0804502098619926,
          -0.10617798512770182,
          -0.4198327316334372,
          0.052821215172944753,
          -0.5620481639789512,
          -1.2783309620053314,
          -0.38810901933778996,
          -1.7056525772960924,
          -0.13688792539458344,
          0.25621374519340084,
          -0.2467355202221928,
          -0.4721640675454362,
          1.3030608335706142,
          -2.345608295359219,
          0.42988016100530735,
          0.049109420211097765
         ]
        },
        {
         "line": {
          "color": "rgba(55, 128, 191, 1.0)",
          "dash": "solid",
          "shape": "linear",
          "width": 1.3
         },
         "mode": "lines",
         "name": "B",
         "text": "",
         "type": "scatter",
         "x": [
          0,
          1,
          2,
          3,
          4,
          5,
          6,
          7,
          8,
          9,
          10,
          11,
          12,
          13,
          14,
          15,
          16,
          17,
          18,
          19,
          20,
          21,
          22,
          23,
          24,
          25,
          26,
          27,
          28,
          29,
          30,
          31,
          32,
          33,
          34,
          35,
          36,
          37,
          38,
          39,
          40,
          41,
          42,
          43,
          44,
          45,
          46,
          47,
          48,
          49,
          50,
          51,
          52,
          53,
          54,
          55,
          56,
          57,
          58,
          59,
          60,
          61,
          62,
          63,
          64,
          65,
          66,
          67,
          68,
          69,
          70,
          71,
          72,
          73,
          74,
          75,
          76,
          77,
          78,
          79,
          80,
          81,
          82,
          83,
          84,
          85,
          86,
          87,
          88,
          89,
          90,
          91,
          92,
          93,
          94,
          95,
          96,
          97,
          98,
          99
         ],
         "y": [
          0.14430390048733446,
          0.18385226572388244,
          0.6267925222963432,
          -1.7991365631148435,
          -0.09260168315194633,
          0.10777198890098612,
          -0.627501306506416,
          0.11444734206370642,
          0.10017936808866847,
          -1.9232470291397914,
          1.192955957249836,
          1.4497787501235513,
          1.186686360978737,
          -1.0736537888552176,
          -0.4336130808564092,
          1.5657140852015559,
          -0.16208891207122433,
          -1.2963164909465819,
          0.11814844150465005,
          0.15990666685255986,
          -1.383084023770703,
          0.6370776229859546,
          0.4023880533518819,
          1.690277568214669,
          -2.070625326711363,
          -0.8988644691386962,
          1.6680987309976378,
          -0.34433329934312806,
          -0.6823656481844063,
          -1.2636117957856465,
          0.112447023598441,
          0.41721632332990877,
          -1.565562192075304,
          0.05861013426015205,
          -1.1622505415955888,
          2.0431877673772103,
          0.858459656176057,
          1.451119803037829,
          1.8980018158487026,
          -0.5064313373211253,
          -0.20898713049887868,
          1.457358421741614,
          -0.30539596905069605,
          0.16288464866418792,
          -0.4976239637921026,
          -1.5771695022235366,
          -0.20013737586169705,
          0.3271854253957044,
          -0.9918162072306904,
          -1.5016475697997238,
          1.1072428604603766,
          -0.8399480565202709,
          0.10699809714259687,
          1.3319521951132123,
          0.5867610162303735,
          0.6448580408938127,
          1.6885434294164736,
          -0.5555540236567169,
          0.9943050345581028,
          0.02542547104866749,
          0.03622865136042082,
          -1.3518961052216667,
          0.7475420200885579,
          1.738709157017959,
          1.4268176849161678,
          2.0943291431089404,
          0.10042352026323743,
          0.7526653486565243,
          0.0754885810031796,
          0.22138841909823184,
          1.0283420762123308,
          -2.256464021352241,
          1.723026666758455,
          0.20894936157448674,
          0.2969439482816422,
          0.08755862719066476,
          -0.11818936527876349,
          -0.052177251228342846,
          0.3190612891639335,
          0.4234184226613397,
          -0.2803553734343674,
          0.11069710621633297,
          0.7648987785194783,
          0.9641521952815469,
          -0.4346213218256712,
          -2.380557946457946,
          -0.1792010511219879,
          -1.5886289406447707,
          1.2302098541388724,
          1.0584094453607762,
          -0.7555192518511187,
          0.8531733184921768,
          -0.5036295603129022,
          0.42822713321857314,
          2.087727855418845,
          -0.6197867460766998,
          -1.6925990919830793,
          -0.5848049270004688,
          0.9803760696762216,
          1.6461005998954452
         ]
        },
        {
         "line": {
          "color": "rgba(50, 171, 96, 1.0)",
          "dash": "solid",
          "shape": "linear",
          "width": 1.3
         },
         "mode": "lines",
         "name": "C",
         "text": "",
         "type": "scatter",
         "x": [
          0,
          1,
          2,
          3,
          4,
          5,
          6,
          7,
          8,
          9,
          10,
          11,
          12,
          13,
          14,
          15,
          16,
          17,
          18,
          19,
          20,
          21,
          22,
          23,
          24,
          25,
          26,
          27,
          28,
          29,
          30,
          31,
          32,
          33,
          34,
          35,
          36,
          37,
          38,
          39,
          40,
          41,
          42,
          43,
          44,
          45,
          46,
          47,
          48,
          49,
          50,
          51,
          52,
          53,
          54,
          55,
          56,
          57,
          58,
          59,
          60,
          61,
          62,
          63,
          64,
          65,
          66,
          67,
          68,
          69,
          70,
          71,
          72,
          73,
          74,
          75,
          76,
          77,
          78,
          79,
          80,
          81,
          82,
          83,
          84,
          85,
          86,
          87,
          88,
          89,
          90,
          91,
          92,
          93,
          94,
          95,
          96,
          97,
          98,
          99
         ],
         "y": [
          -0.7236601204638149,
          -0.7467954293161575,
          -0.039806670925485836,
          -0.16457241958214489,
          -0.9199550584768981,
          0.7182865018277215,
          0.9054261079666415,
          1.0349040447589948,
          -1.9832543962679843,
          0.009285766519921648,
          -0.17228761694828573,
          -0.021018714172627257,
          0.26717360180087446,
          0.29372850892418184,
          -0.032400607006684824,
          0.5457340182790611,
          -1.1427458125549577,
          -1.2495974016958575,
          0.0844149899171044,
          1.1041272677326561,
          0.4855691140806883,
          -0.6530008725391021,
          -0.6766362956082611,
          -0.7844695308231936,
          -0.8360648983622182,
          1.3757902417992993,
          1.5848024877347409,
          0.5758359503393505,
          -0.49378826447122,
          -1.3015077490717422,
          -0.11798657566473206,
          0.5358562122534294,
          -0.19868430786748814,
          -2.301370595071928,
          -0.9574430044156077,
          -0.09261946877124935,
          -1.2018693601847565,
          1.4509586792696725,
          1.4289242081397946,
          0.596620030702242,
          -1.596308401995124,
          -0.9313461954415222,
          -0.3691603353343343,
          -0.1601627434959844,
          2.298079511907588,
          -0.5460624144258817,
          -1.0326238261591398,
          0.4316458183256333,
          -0.6704824084056706,
          0.981547892830123,
          -0.436292854313039,
          -0.20292412804359816,
          0.16412851902650946,
          -1.0366568066808861,
          0.5009107918495906,
          1.5478814932141294,
          1.5938852549376812,
          0.6745625650302033,
          -1.7663876054902,
          -1.4244132758538786,
          -0.6118021330691402,
          -0.5089553599377198,
          1.4051958703664573,
          0.9322277530146459,
          -0.6614836405114031,
          -0.5301805513625502,
          -0.07894585553930644,
          1.327550670899684,
          0.8335723910553938,
          0.16328864338946916,
          -0.10680802157758101,
          -0.21594523479034272,
          1.6388411492336097,
          0.2457347313420937,
          -0.24255011968543377,
          0.9115929178222726,
          0.20979557217186795,
          0.36027463675098137,
          1.777201381586292,
          0.5062795576773983,
          -0.6316013592167439,
          0.1762823369936325,
          2.144160444250983,
          -2.1475778773671927,
          1.246201431414638,
          -3.3327465139606938,
          1.5082551710308134,
          0.06402498550813353,
          -0.4121095316692493,
          1.343397047569165,
          0.7550967219125034,
          0.7679989643939246,
          1.0638331415180389,
          0.31816014181090435,
          -0.580725362952155,
          0.5513949359272622,
          1.0749697197786172,
          0.01935082680365833,
          0.6873651154323457,
          0.914107567163954
         ]
        },
        {
         "line": {
          "color": "rgba(128, 0, 128, 1.0)",
          "dash": "solid",
          "shape": "linear",
          "width": 1.3
         },
         "mode": "lines",
         "name": "D",
         "text": "",
         "type": "scatter",
         "x": [
          0,
          1,
          2,
          3,
          4,
          5,
          6,
          7,
          8,
          9,
          10,
          11,
          12,
          13,
          14,
          15,
          16,
          17,
          18,
          19,
          20,
          21,
          22,
          23,
          24,
          25,
          26,
          27,
          28,
          29,
          30,
          31,
          32,
          33,
          34,
          35,
          36,
          37,
          38,
          39,
          40,
          41,
          42,
          43,
          44,
          45,
          46,
          47,
          48,
          49,
          50,
          51,
          52,
          53,
          54,
          55,
          56,
          57,
          58,
          59,
          60,
          61,
          62,
          63,
          64,
          65,
          66,
          67,
          68,
          69,
          70,
          71,
          72,
          73,
          74,
          75,
          76,
          77,
          78,
          79,
          80,
          81,
          82,
          83,
          84,
          85,
          86,
          87,
          88,
          89,
          90,
          91,
          92,
          93,
          94,
          95,
          96,
          97,
          98,
          99
         ],
         "y": [
          -0.12846590383052098,
          -0.5736665928796276,
          0.43247089436295283,
          -1.201561023327594,
          -0.841387838189908,
          1.4058946703878394,
          0.35034163795448836,
          -0.32025840883894474,
          -0.9033805586589194,
          -0.05008686227955628,
          0.5864642448196297,
          0.6736720429231517,
          1.6805681665025807,
          -0.6911972350149894,
          -1.5576625824129575,
          -0.13552138726384952,
          -1.2911984586823753,
          0.0628616767280927,
          0.8813280513454699,
          -1.0472744476768245,
          -0.015757088524068878,
          0.09245322335012084,
          -0.8337539117525953,
          -0.2560532983602593,
          0.4398551928670953,
          1.0855825202954248,
          -0.014449491335259971,
          0.032117216272124965,
          -0.5738751977654122,
          -0.7761312796823239,
          -1.3732360873052123,
          -0.10475594918516622,
          0.9934357279064523,
          1.931416124584842,
          -0.11220657799420207,
          -1.1245731038871467,
          0.9757377019571679,
          -0.22634626057572552,
          1.8342225079942651,
          0.7655777256783972,
          0.06493843886888971,
          0.0013140185612000271,
          -1.9681736792018603,
          0.19119139616415368,
          0.9910513727149622,
          -1.2593798428964282,
          -0.7766178801914202,
          0.4415533486969754,
          -0.02783963515728221,
          1.5340521367139188,
          -2.087642218958452,
          0.9445454841342155,
          0.21538326711293665,
          0.9563577602261734,
          -0.4462771391398886,
          -0.45357558041580975,
          -1.5123877985597531,
          0.21193152299811005,
          0.07927295741381414,
          2.840149042855891,
          1.141485684683194,
          -1.47195242534691,
          0.2563177107760869,
          -1.4275020005137258,
          0.16903007845418777,
          -0.5613788888467454,
          -0.9030299385868467,
          -1.435895816825327,
          -1.0302793737905378,
          -2.359355133100197,
          -0.8754013049247267,
          0.43243917746047167,
          0.769755392299032,
          0.6819878661895391,
          0.007315187595470889,
          0.488312357753937,
          -0.8567026316665675,
          -0.4117434419003329,
          -0.9717304951095566,
          -0.8781537628756366,
          -0.7783198606561087,
          1.1915481225612325,
          -0.5641766101408286,
          1.8443291152601566,
          -0.26795124387312913,
          0.5869362528157414,
          -0.9814765247240097,
          0.7388217367800601,
          -0.37881543364688464,
          -1.6353848899567873,
          -0.19371332281446912,
          0.5897130113996982,
          0.1131151989989693,
          -1.1212826708208437,
          -1.3279635820767466,
          1.875802397352702,
          0.7386071682166544,
          0.8256524949495112,
          1.2523630342714434,
          0.4386744626850792
         ]
        }
       ],
       "layout": {
        "legend": {
         "bgcolor": "#F5F6F9",
         "font": {
          "color": "#4D5663"
         }
        },
        "paper_bgcolor": "#F5F6F9",
        "plot_bgcolor": "#F5F6F9",
        "template": {
         "data": {
          "bar": [
           {
            "error_x": {
             "color": "#2a3f5f"
            },
            "error_y": {
             "color": "#2a3f5f"
            },
            "marker": {
             "line": {
              "color": "#E5ECF6",
              "width": 0.5
             },
             "pattern": {
              "fillmode": "overlay",
              "size": 10,
              "solidity": 0.2
             }
            },
            "type": "bar"
           }
          ],
          "barpolar": [
           {
            "marker": {
             "line": {
              "color": "#E5ECF6",
              "width": 0.5
             },
             "pattern": {
              "fillmode": "overlay",
              "size": 10,
              "solidity": 0.2
             }
            },
            "type": "barpolar"
           }
          ],
          "carpet": [
           {
            "aaxis": {
             "endlinecolor": "#2a3f5f",
             "gridcolor": "white",
             "linecolor": "white",
             "minorgridcolor": "white",
             "startlinecolor": "#2a3f5f"
            },
            "baxis": {
             "endlinecolor": "#2a3f5f",
             "gridcolor": "white",
             "linecolor": "white",
             "minorgridcolor": "white",
             "startlinecolor": "#2a3f5f"
            },
            "type": "carpet"
           }
          ],
          "choropleth": [
           {
            "colorbar": {
             "outlinewidth": 0,
             "ticks": ""
            },
            "type": "choropleth"
           }
          ],
          "contour": [
           {
            "colorbar": {
             "outlinewidth": 0,
             "ticks": ""
            },
            "colorscale": [
             [
              0,
              "#0d0887"
             ],
             [
              0.1111111111111111,
              "#46039f"
             ],
             [
              0.2222222222222222,
              "#7201a8"
             ],
             [
              0.3333333333333333,
              "#9c179e"
             ],
             [
              0.4444444444444444,
              "#bd3786"
             ],
             [
              0.5555555555555556,
              "#d8576b"
             ],
             [
              0.6666666666666666,
              "#ed7953"
             ],
             [
              0.7777777777777778,
              "#fb9f3a"
             ],
             [
              0.8888888888888888,
              "#fdca26"
             ],
             [
              1,
              "#f0f921"
             ]
            ],
            "type": "contour"
           }
          ],
          "contourcarpet": [
           {
            "colorbar": {
             "outlinewidth": 0,
             "ticks": ""
            },
            "type": "contourcarpet"
           }
          ],
          "heatmap": [
           {
            "colorbar": {
             "outlinewidth": 0,
             "ticks": ""
            },
            "colorscale": [
             [
              0,
              "#0d0887"
             ],
             [
              0.1111111111111111,
              "#46039f"
             ],
             [
              0.2222222222222222,
              "#7201a8"
             ],
             [
              0.3333333333333333,
              "#9c179e"
             ],
             [
              0.4444444444444444,
              "#bd3786"
             ],
             [
              0.5555555555555556,
              "#d8576b"
             ],
             [
              0.6666666666666666,
              "#ed7953"
             ],
             [
              0.7777777777777778,
              "#fb9f3a"
             ],
             [
              0.8888888888888888,
              "#fdca26"
             ],
             [
              1,
              "#f0f921"
             ]
            ],
            "type": "heatmap"
           }
          ],
          "heatmapgl": [
           {
            "colorbar": {
             "outlinewidth": 0,
             "ticks": ""
            },
            "colorscale": [
             [
              0,
              "#0d0887"
             ],
             [
              0.1111111111111111,
              "#46039f"
             ],
             [
              0.2222222222222222,
              "#7201a8"
             ],
             [
              0.3333333333333333,
              "#9c179e"
             ],
             [
              0.4444444444444444,
              "#bd3786"
             ],
             [
              0.5555555555555556,
              "#d8576b"
             ],
             [
              0.6666666666666666,
              "#ed7953"
             ],
             [
              0.7777777777777778,
              "#fb9f3a"
             ],
             [
              0.8888888888888888,
              "#fdca26"
             ],
             [
              1,
              "#f0f921"
             ]
            ],
            "type": "heatmapgl"
           }
          ],
          "histogram": [
           {
            "marker": {
             "pattern": {
              "fillmode": "overlay",
              "size": 10,
              "solidity": 0.2
             }
            },
            "type": "histogram"
           }
          ],
          "histogram2d": [
           {
            "colorbar": {
             "outlinewidth": 0,
             "ticks": ""
            },
            "colorscale": [
             [
              0,
              "#0d0887"
             ],
             [
              0.1111111111111111,
              "#46039f"
             ],
             [
              0.2222222222222222,
              "#7201a8"
             ],
             [
              0.3333333333333333,
              "#9c179e"
             ],
             [
              0.4444444444444444,
              "#bd3786"
             ],
             [
              0.5555555555555556,
              "#d8576b"
             ],
             [
              0.6666666666666666,
              "#ed7953"
             ],
             [
              0.7777777777777778,
              "#fb9f3a"
             ],
             [
              0.8888888888888888,
              "#fdca26"
             ],
             [
              1,
              "#f0f921"
             ]
            ],
            "type": "histogram2d"
           }
          ],
          "histogram2dcontour": [
           {
            "colorbar": {
             "outlinewidth": 0,
             "ticks": ""
            },
            "colorscale": [
             [
              0,
              "#0d0887"
             ],
             [
              0.1111111111111111,
              "#46039f"
             ],
             [
              0.2222222222222222,
              "#7201a8"
             ],
             [
              0.3333333333333333,
              "#9c179e"
             ],
             [
              0.4444444444444444,
              "#bd3786"
             ],
             [
              0.5555555555555556,
              "#d8576b"
             ],
             [
              0.6666666666666666,
              "#ed7953"
             ],
             [
              0.7777777777777778,
              "#fb9f3a"
             ],
             [
              0.8888888888888888,
              "#fdca26"
             ],
             [
              1,
              "#f0f921"
             ]
            ],
            "type": "histogram2dcontour"
           }
          ],
          "mesh3d": [
           {
            "colorbar": {
             "outlinewidth": 0,
             "ticks": ""
            },
            "type": "mesh3d"
           }
          ],
          "parcoords": [
           {
            "line": {
             "colorbar": {
              "outlinewidth": 0,
              "ticks": ""
             }
            },
            "type": "parcoords"
           }
          ],
          "pie": [
           {
            "automargin": true,
            "type": "pie"
           }
          ],
          "scatter": [
           {
            "fillpattern": {
             "fillmode": "overlay",
             "size": 10,
             "solidity": 0.2
            },
            "type": "scatter"
           }
          ],
          "scatter3d": [
           {
            "line": {
             "colorbar": {
              "outlinewidth": 0,
              "ticks": ""
             }
            },
            "marker": {
             "colorbar": {
              "outlinewidth": 0,
              "ticks": ""
             }
            },
            "type": "scatter3d"
           }
          ],
          "scattercarpet": [
           {
            "marker": {
             "colorbar": {
              "outlinewidth": 0,
              "ticks": ""
             }
            },
            "type": "scattercarpet"
           }
          ],
          "scattergeo": [
           {
            "marker": {
             "colorbar": {
              "outlinewidth": 0,
              "ticks": ""
             }
            },
            "type": "scattergeo"
           }
          ],
          "scattergl": [
           {
            "marker": {
             "colorbar": {
              "outlinewidth": 0,
              "ticks": ""
             }
            },
            "type": "scattergl"
           }
          ],
          "scattermapbox": [
           {
            "marker": {
             "colorbar": {
              "outlinewidth": 0,
              "ticks": ""
             }
            },
            "type": "scattermapbox"
           }
          ],
          "scatterpolar": [
           {
            "marker": {
             "colorbar": {
              "outlinewidth": 0,
              "ticks": ""
             }
            },
            "type": "scatterpolar"
           }
          ],
          "scatterpolargl": [
           {
            "marker": {
             "colorbar": {
              "outlinewidth": 0,
              "ticks": ""
             }
            },
            "type": "scatterpolargl"
           }
          ],
          "scatterternary": [
           {
            "marker": {
             "colorbar": {
              "outlinewidth": 0,
              "ticks": ""
             }
            },
            "type": "scatterternary"
           }
          ],
          "surface": [
           {
            "colorbar": {
             "outlinewidth": 0,
             "ticks": ""
            },
            "colorscale": [
             [
              0,
              "#0d0887"
             ],
             [
              0.1111111111111111,
              "#46039f"
             ],
             [
              0.2222222222222222,
              "#7201a8"
             ],
             [
              0.3333333333333333,
              "#9c179e"
             ],
             [
              0.4444444444444444,
              "#bd3786"
             ],
             [
              0.5555555555555556,
              "#d8576b"
             ],
             [
              0.6666666666666666,
              "#ed7953"
             ],
             [
              0.7777777777777778,
              "#fb9f3a"
             ],
             [
              0.8888888888888888,
              "#fdca26"
             ],
             [
              1,
              "#f0f921"
             ]
            ],
            "type": "surface"
           }
          ],
          "table": [
           {
            "cells": {
             "fill": {
              "color": "#EBF0F8"
             },
             "line": {
              "color": "white"
             }
            },
            "header": {
             "fill": {
              "color": "#C8D4E3"
             },
             "line": {
              "color": "white"
             }
            },
            "type": "table"
           }
          ]
         },
         "layout": {
          "annotationdefaults": {
           "arrowcolor": "#2a3f5f",
           "arrowhead": 0,
           "arrowwidth": 1
          },
          "autotypenumbers": "strict",
          "coloraxis": {
           "colorbar": {
            "outlinewidth": 0,
            "ticks": ""
           }
          },
          "colorscale": {
           "diverging": [
            [
             0,
             "#8e0152"
            ],
            [
             0.1,
             "#c51b7d"
            ],
            [
             0.2,
             "#de77ae"
            ],
            [
             0.3,
             "#f1b6da"
            ],
            [
             0.4,
             "#fde0ef"
            ],
            [
             0.5,
             "#f7f7f7"
            ],
            [
             0.6,
             "#e6f5d0"
            ],
            [
             0.7,
             "#b8e186"
            ],
            [
             0.8,
             "#7fbc41"
            ],
            [
             0.9,
             "#4d9221"
            ],
            [
             1,
             "#276419"
            ]
           ],
           "sequential": [
            [
             0,
             "#0d0887"
            ],
            [
             0.1111111111111111,
             "#46039f"
            ],
            [
             0.2222222222222222,
             "#7201a8"
            ],
            [
             0.3333333333333333,
             "#9c179e"
            ],
            [
             0.4444444444444444,
             "#bd3786"
            ],
            [
             0.5555555555555556,
             "#d8576b"
            ],
            [
             0.6666666666666666,
             "#ed7953"
            ],
            [
             0.7777777777777778,
             "#fb9f3a"
            ],
            [
             0.8888888888888888,
             "#fdca26"
            ],
            [
             1,
             "#f0f921"
            ]
           ],
           "sequentialminus": [
            [
             0,
             "#0d0887"
            ],
            [
             0.1111111111111111,
             "#46039f"
            ],
            [
             0.2222222222222222,
             "#7201a8"
            ],
            [
             0.3333333333333333,
             "#9c179e"
            ],
            [
             0.4444444444444444,
             "#bd3786"
            ],
            [
             0.5555555555555556,
             "#d8576b"
            ],
            [
             0.6666666666666666,
             "#ed7953"
            ],
            [
             0.7777777777777778,
             "#fb9f3a"
            ],
            [
             0.8888888888888888,
             "#fdca26"
            ],
            [
             1,
             "#f0f921"
            ]
           ]
          },
          "colorway": [
           "#636efa",
           "#EF553B",
           "#00cc96",
           "#ab63fa",
           "#FFA15A",
           "#19d3f3",
           "#FF6692",
           "#B6E880",
           "#FF97FF",
           "#FECB52"
          ],
          "font": {
           "color": "#2a3f5f"
          },
          "geo": {
           "bgcolor": "white",
           "lakecolor": "white",
           "landcolor": "#E5ECF6",
           "showlakes": true,
           "showland": true,
           "subunitcolor": "white"
          },
          "hoverlabel": {
           "align": "left"
          },
          "hovermode": "closest",
          "mapbox": {
           "style": "light"
          },
          "paper_bgcolor": "white",
          "plot_bgcolor": "#E5ECF6",
          "polar": {
           "angularaxis": {
            "gridcolor": "white",
            "linecolor": "white",
            "ticks": ""
           },
           "bgcolor": "#E5ECF6",
           "radialaxis": {
            "gridcolor": "white",
            "linecolor": "white",
            "ticks": ""
           }
          },
          "scene": {
           "xaxis": {
            "backgroundcolor": "#E5ECF6",
            "gridcolor": "white",
            "gridwidth": 2,
            "linecolor": "white",
            "showbackground": true,
            "ticks": "",
            "zerolinecolor": "white"
           },
           "yaxis": {
            "backgroundcolor": "#E5ECF6",
            "gridcolor": "white",
            "gridwidth": 2,
            "linecolor": "white",
            "showbackground": true,
            "ticks": "",
            "zerolinecolor": "white"
           },
           "zaxis": {
            "backgroundcolor": "#E5ECF6",
            "gridcolor": "white",
            "gridwidth": 2,
            "linecolor": "white",
            "showbackground": true,
            "ticks": "",
            "zerolinecolor": "white"
           }
          },
          "shapedefaults": {
           "line": {
            "color": "#2a3f5f"
           }
          },
          "ternary": {
           "aaxis": {
            "gridcolor": "white",
            "linecolor": "white",
            "ticks": ""
           },
           "baxis": {
            "gridcolor": "white",
            "linecolor": "white",
            "ticks": ""
           },
           "bgcolor": "#E5ECF6",
           "caxis": {
            "gridcolor": "white",
            "linecolor": "white",
            "ticks": ""
           }
          },
          "title": {
           "x": 0.05
          },
          "xaxis": {
           "automargin": true,
           "gridcolor": "white",
           "linecolor": "white",
           "ticks": "",
           "title": {
            "standoff": 15
           },
           "zerolinecolor": "white",
           "zerolinewidth": 2
          },
          "yaxis": {
           "automargin": true,
           "gridcolor": "white",
           "linecolor": "white",
           "ticks": "",
           "title": {
            "standoff": 15
           },
           "zerolinecolor": "white",
           "zerolinewidth": 2
          }
         }
        },
        "title": {
         "font": {
          "color": "#4D5663"
         }
        },
        "xaxis": {
         "gridcolor": "#E1E5ED",
         "showgrid": true,
         "tickfont": {
          "color": "#4D5663"
         },
         "title": {
          "font": {
           "color": "#4D5663"
          },
          "text": ""
         },
         "zerolinecolor": "#E1E5ED"
        },
        "yaxis": {
         "gridcolor": "#E1E5ED",
         "showgrid": true,
         "tickfont": {
          "color": "#4D5663"
         },
         "title": {
          "font": {
           "color": "#4D5663"
          },
          "text": ""
         },
         "zerolinecolor": "#E1E5ED"
        }
       }
      },
      "text/html": [
       "<div>                            <div id=\"1107cdf5-f38c-4638-a50a-a0cc6b08436e\" class=\"plotly-graph-div\" style=\"height:525px; width:100%;\"></div>            <script type=\"text/javascript\">                require([\"plotly\"], function(Plotly) {                    window.PLOTLYENV=window.PLOTLYENV || {};\n",
       "                    window.PLOTLYENV.BASE_URL='https://plot.ly';                                    if (document.getElementById(\"1107cdf5-f38c-4638-a50a-a0cc6b08436e\")) {                    Plotly.newPlot(                        \"1107cdf5-f38c-4638-a50a-a0cc6b08436e\",                        [{\"line\":{\"color\":\"rgba(255, 153, 51, 1.0)\",\"dash\":\"solid\",\"shape\":\"linear\",\"width\":1.3},\"mode\":\"lines\",\"name\":\"A\",\"text\":\"\",\"x\":[0,1,2,3,4,5,6,7,8,9,10,11,12,13,14,15,16,17,18,19,20,21,22,23,24,25,26,27,28,29,30,31,32,33,34,35,36,37,38,39,40,41,42,43,44,45,46,47,48,49,50,51,52,53,54,55,56,57,58,59,60,61,62,63,64,65,66,67,68,69,70,71,72,73,74,75,76,77,78,79,80,81,82,83,84,85,86,87,88,89,90,91,92,93,94,95,96,97,98,99],\"y\":[-0.5947246609007995,0.5080983839176285,-0.2729821610343981,1.4374400910119844,1.1419571206311756,-1.232610716651499,0.4540428085669437,-0.2759116668580806,1.5697212376142504,-1.4639406540709177,0.5486686814847282,-2.2375808038284624,-0.2721421244748315,-1.3357025368243627,-1.6166706184888897,-0.6651463271797208,0.4871549158566213,0.19084172067838373,-0.6330915267659967,1.7826340370371316,0.1690698159664783,1.0211689589203143,-0.5010043034699433,0.4252811836772652,0.5836486439984949,0.3503229690937196,-0.5142408989289913,-0.8812870246830704,0.5630690790365496,0.5361186589776664,-0.5686083266420646,-1.2469869098846766,-2.245796079140013,-1.1330290335770774,-0.016457154406527605,-0.26530917851442315,1.633766433593139,0.4460629510726452,-0.37231238194284444,-0.48399034500600685,-0.5414805164545972,0.4711651195719005,2.2033910682226185,0.3912213674776983,0.1770356217677615,0.7890615627595226,0.47539228648359083,-0.19298618929105993,0.5491716496086573,0.25727239792699996,1.9795243617189382,0.05868896894501684,-0.31903491132136336,1.048297475078446,0.3841296136509673,1.2260276387430127,0.14139911530330046,-0.9713093590150319,0.3205918800593372,-1.229147303641053,-1.8478453803658355,-1.2817089726351218,-1.071775272089408,0.3688434390194641,-2.302296481140197,-1.4038330323601642,-0.48808645057929395,-0.7804602924006149,0.8359895304660069,-1.3359576639397497,0.8453514176969392,-0.7565319236838722,-0.3974968625688486,-1.9409598602833364,1.2025187504484942,-1.5182570076336794,-0.8359225144847929,0.7289852900300552,-2.012327311236848,-1.1659543540352098,-0.017836751322662835,0.7990639240283605,-2.001775607060861,1.092328168305829,0.0804502098619926,-0.10617798512770182,-0.4198327316334372,0.052821215172944753,-0.5620481639789512,-1.2783309620053314,-0.38810901933778996,-1.7056525772960924,-0.13688792539458344,0.25621374519340084,-0.2467355202221928,-0.4721640675454362,1.3030608335706142,-2.345608295359219,0.42988016100530735,0.049109420211097765],\"type\":\"scatter\"},{\"line\":{\"color\":\"rgba(55, 128, 191, 1.0)\",\"dash\":\"solid\",\"shape\":\"linear\",\"width\":1.3},\"mode\":\"lines\",\"name\":\"B\",\"text\":\"\",\"x\":[0,1,2,3,4,5,6,7,8,9,10,11,12,13,14,15,16,17,18,19,20,21,22,23,24,25,26,27,28,29,30,31,32,33,34,35,36,37,38,39,40,41,42,43,44,45,46,47,48,49,50,51,52,53,54,55,56,57,58,59,60,61,62,63,64,65,66,67,68,69,70,71,72,73,74,75,76,77,78,79,80,81,82,83,84,85,86,87,88,89,90,91,92,93,94,95,96,97,98,99],\"y\":[0.14430390048733446,0.18385226572388244,0.6267925222963432,-1.7991365631148435,-0.09260168315194633,0.10777198890098612,-0.627501306506416,0.11444734206370642,0.10017936808866847,-1.9232470291397914,1.192955957249836,1.4497787501235513,1.186686360978737,-1.0736537888552176,-0.4336130808564092,1.5657140852015559,-0.16208891207122433,-1.2963164909465819,0.11814844150465005,0.15990666685255986,-1.383084023770703,0.6370776229859546,0.4023880533518819,1.690277568214669,-2.070625326711363,-0.8988644691386962,1.6680987309976378,-0.34433329934312806,-0.6823656481844063,-1.2636117957856465,0.112447023598441,0.41721632332990877,-1.565562192075304,0.05861013426015205,-1.1622505415955888,2.0431877673772103,0.858459656176057,1.451119803037829,1.8980018158487026,-0.5064313373211253,-0.20898713049887868,1.457358421741614,-0.30539596905069605,0.16288464866418792,-0.4976239637921026,-1.5771695022235366,-0.20013737586169705,0.3271854253957044,-0.9918162072306904,-1.5016475697997238,1.1072428604603766,-0.8399480565202709,0.10699809714259687,1.3319521951132123,0.5867610162303735,0.6448580408938127,1.6885434294164736,-0.5555540236567169,0.9943050345581028,0.02542547104866749,0.03622865136042082,-1.3518961052216667,0.7475420200885579,1.738709157017959,1.4268176849161678,2.0943291431089404,0.10042352026323743,0.7526653486565243,0.0754885810031796,0.22138841909823184,1.0283420762123308,-2.256464021352241,1.723026666758455,0.20894936157448674,0.2969439482816422,0.08755862719066476,-0.11818936527876349,-0.052177251228342846,0.3190612891639335,0.4234184226613397,-0.2803553734343674,0.11069710621633297,0.7648987785194783,0.9641521952815469,-0.4346213218256712,-2.380557946457946,-0.1792010511219879,-1.5886289406447707,1.2302098541388724,1.0584094453607762,-0.7555192518511187,0.8531733184921768,-0.5036295603129022,0.42822713321857314,2.087727855418845,-0.6197867460766998,-1.6925990919830793,-0.5848049270004688,0.9803760696762216,1.6461005998954452],\"type\":\"scatter\"},{\"line\":{\"color\":\"rgba(50, 171, 96, 1.0)\",\"dash\":\"solid\",\"shape\":\"linear\",\"width\":1.3},\"mode\":\"lines\",\"name\":\"C\",\"text\":\"\",\"x\":[0,1,2,3,4,5,6,7,8,9,10,11,12,13,14,15,16,17,18,19,20,21,22,23,24,25,26,27,28,29,30,31,32,33,34,35,36,37,38,39,40,41,42,43,44,45,46,47,48,49,50,51,52,53,54,55,56,57,58,59,60,61,62,63,64,65,66,67,68,69,70,71,72,73,74,75,76,77,78,79,80,81,82,83,84,85,86,87,88,89,90,91,92,93,94,95,96,97,98,99],\"y\":[-0.7236601204638149,-0.7467954293161575,-0.039806670925485836,-0.16457241958214489,-0.9199550584768981,0.7182865018277215,0.9054261079666415,1.0349040447589948,-1.9832543962679843,0.009285766519921648,-0.17228761694828573,-0.021018714172627257,0.26717360180087446,0.29372850892418184,-0.032400607006684824,0.5457340182790611,-1.1427458125549577,-1.2495974016958575,0.0844149899171044,1.1041272677326561,0.4855691140806883,-0.6530008725391021,-0.6766362956082611,-0.7844695308231936,-0.8360648983622182,1.3757902417992993,1.5848024877347409,0.5758359503393505,-0.49378826447122,-1.3015077490717422,-0.11798657566473206,0.5358562122534294,-0.19868430786748814,-2.301370595071928,-0.9574430044156077,-0.09261946877124935,-1.2018693601847565,1.4509586792696725,1.4289242081397946,0.596620030702242,-1.596308401995124,-0.9313461954415222,-0.3691603353343343,-0.1601627434959844,2.298079511907588,-0.5460624144258817,-1.0326238261591398,0.4316458183256333,-0.6704824084056706,0.981547892830123,-0.436292854313039,-0.20292412804359816,0.16412851902650946,-1.0366568066808861,0.5009107918495906,1.5478814932141294,1.5938852549376812,0.6745625650302033,-1.7663876054902,-1.4244132758538786,-0.6118021330691402,-0.5089553599377198,1.4051958703664573,0.9322277530146459,-0.6614836405114031,-0.5301805513625502,-0.07894585553930644,1.327550670899684,0.8335723910553938,0.16328864338946916,-0.10680802157758101,-0.21594523479034272,1.6388411492336097,0.2457347313420937,-0.24255011968543377,0.9115929178222726,0.20979557217186795,0.36027463675098137,1.777201381586292,0.5062795576773983,-0.6316013592167439,0.1762823369936325,2.144160444250983,-2.1475778773671927,1.246201431414638,-3.3327465139606938,1.5082551710308134,0.06402498550813353,-0.4121095316692493,1.343397047569165,0.7550967219125034,0.7679989643939246,1.0638331415180389,0.31816014181090435,-0.580725362952155,0.5513949359272622,1.0749697197786172,0.01935082680365833,0.6873651154323457,0.914107567163954],\"type\":\"scatter\"},{\"line\":{\"color\":\"rgba(128, 0, 128, 1.0)\",\"dash\":\"solid\",\"shape\":\"linear\",\"width\":1.3},\"mode\":\"lines\",\"name\":\"D\",\"text\":\"\",\"x\":[0,1,2,3,4,5,6,7,8,9,10,11,12,13,14,15,16,17,18,19,20,21,22,23,24,25,26,27,28,29,30,31,32,33,34,35,36,37,38,39,40,41,42,43,44,45,46,47,48,49,50,51,52,53,54,55,56,57,58,59,60,61,62,63,64,65,66,67,68,69,70,71,72,73,74,75,76,77,78,79,80,81,82,83,84,85,86,87,88,89,90,91,92,93,94,95,96,97,98,99],\"y\":[-0.12846590383052098,-0.5736665928796276,0.43247089436295283,-1.201561023327594,-0.841387838189908,1.4058946703878394,0.35034163795448836,-0.32025840883894474,-0.9033805586589194,-0.05008686227955628,0.5864642448196297,0.6736720429231517,1.6805681665025807,-0.6911972350149894,-1.5576625824129575,-0.13552138726384952,-1.2911984586823753,0.0628616767280927,0.8813280513454699,-1.0472744476768245,-0.015757088524068878,0.09245322335012084,-0.8337539117525953,-0.2560532983602593,0.4398551928670953,1.0855825202954248,-0.014449491335259971,0.032117216272124965,-0.5738751977654122,-0.7761312796823239,-1.3732360873052123,-0.10475594918516622,0.9934357279064523,1.931416124584842,-0.11220657799420207,-1.1245731038871467,0.9757377019571679,-0.22634626057572552,1.8342225079942651,0.7655777256783972,0.06493843886888971,0.0013140185612000271,-1.9681736792018603,0.19119139616415368,0.9910513727149622,-1.2593798428964282,-0.7766178801914202,0.4415533486969754,-0.02783963515728221,1.5340521367139188,-2.087642218958452,0.9445454841342155,0.21538326711293665,0.9563577602261734,-0.4462771391398886,-0.45357558041580975,-1.5123877985597531,0.21193152299811005,0.07927295741381414,2.840149042855891,1.141485684683194,-1.47195242534691,0.2563177107760869,-1.4275020005137258,0.16903007845418777,-0.5613788888467454,-0.9030299385868467,-1.435895816825327,-1.0302793737905378,-2.359355133100197,-0.8754013049247267,0.43243917746047167,0.769755392299032,0.6819878661895391,0.007315187595470889,0.488312357753937,-0.8567026316665675,-0.4117434419003329,-0.9717304951095566,-0.8781537628756366,-0.7783198606561087,1.1915481225612325,-0.5641766101408286,1.8443291152601566,-0.26795124387312913,0.5869362528157414,-0.9814765247240097,0.7388217367800601,-0.37881543364688464,-1.6353848899567873,-0.19371332281446912,0.5897130113996982,0.1131151989989693,-1.1212826708208437,-1.3279635820767466,1.875802397352702,0.7386071682166544,0.8256524949495112,1.2523630342714434,0.4386744626850792],\"type\":\"scatter\"}],                        {\"legend\":{\"bgcolor\":\"#F5F6F9\",\"font\":{\"color\":\"#4D5663\"}},\"paper_bgcolor\":\"#F5F6F9\",\"plot_bgcolor\":\"#F5F6F9\",\"template\":{\"data\":{\"barpolar\":[{\"marker\":{\"line\":{\"color\":\"#E5ECF6\",\"width\":0.5},\"pattern\":{\"fillmode\":\"overlay\",\"size\":10,\"solidity\":0.2}},\"type\":\"barpolar\"}],\"bar\":[{\"error_x\":{\"color\":\"#2a3f5f\"},\"error_y\":{\"color\":\"#2a3f5f\"},\"marker\":{\"line\":{\"color\":\"#E5ECF6\",\"width\":0.5},\"pattern\":{\"fillmode\":\"overlay\",\"size\":10,\"solidity\":0.2}},\"type\":\"bar\"}],\"carpet\":[{\"aaxis\":{\"endlinecolor\":\"#2a3f5f\",\"gridcolor\":\"white\",\"linecolor\":\"white\",\"minorgridcolor\":\"white\",\"startlinecolor\":\"#2a3f5f\"},\"baxis\":{\"endlinecolor\":\"#2a3f5f\",\"gridcolor\":\"white\",\"linecolor\":\"white\",\"minorgridcolor\":\"white\",\"startlinecolor\":\"#2a3f5f\"},\"type\":\"carpet\"}],\"choropleth\":[{\"colorbar\":{\"outlinewidth\":0,\"ticks\":\"\"},\"type\":\"choropleth\"}],\"contourcarpet\":[{\"colorbar\":{\"outlinewidth\":0,\"ticks\":\"\"},\"type\":\"contourcarpet\"}],\"contour\":[{\"colorbar\":{\"outlinewidth\":0,\"ticks\":\"\"},\"colorscale\":[[0.0,\"#0d0887\"],[0.1111111111111111,\"#46039f\"],[0.2222222222222222,\"#7201a8\"],[0.3333333333333333,\"#9c179e\"],[0.4444444444444444,\"#bd3786\"],[0.5555555555555556,\"#d8576b\"],[0.6666666666666666,\"#ed7953\"],[0.7777777777777778,\"#fb9f3a\"],[0.8888888888888888,\"#fdca26\"],[1.0,\"#f0f921\"]],\"type\":\"contour\"}],\"heatmapgl\":[{\"colorbar\":{\"outlinewidth\":0,\"ticks\":\"\"},\"colorscale\":[[0.0,\"#0d0887\"],[0.1111111111111111,\"#46039f\"],[0.2222222222222222,\"#7201a8\"],[0.3333333333333333,\"#9c179e\"],[0.4444444444444444,\"#bd3786\"],[0.5555555555555556,\"#d8576b\"],[0.6666666666666666,\"#ed7953\"],[0.7777777777777778,\"#fb9f3a\"],[0.8888888888888888,\"#fdca26\"],[1.0,\"#f0f921\"]],\"type\":\"heatmapgl\"}],\"heatmap\":[{\"colorbar\":{\"outlinewidth\":0,\"ticks\":\"\"},\"colorscale\":[[0.0,\"#0d0887\"],[0.1111111111111111,\"#46039f\"],[0.2222222222222222,\"#7201a8\"],[0.3333333333333333,\"#9c179e\"],[0.4444444444444444,\"#bd3786\"],[0.5555555555555556,\"#d8576b\"],[0.6666666666666666,\"#ed7953\"],[0.7777777777777778,\"#fb9f3a\"],[0.8888888888888888,\"#fdca26\"],[1.0,\"#f0f921\"]],\"type\":\"heatmap\"}],\"histogram2dcontour\":[{\"colorbar\":{\"outlinewidth\":0,\"ticks\":\"\"},\"colorscale\":[[0.0,\"#0d0887\"],[0.1111111111111111,\"#46039f\"],[0.2222222222222222,\"#7201a8\"],[0.3333333333333333,\"#9c179e\"],[0.4444444444444444,\"#bd3786\"],[0.5555555555555556,\"#d8576b\"],[0.6666666666666666,\"#ed7953\"],[0.7777777777777778,\"#fb9f3a\"],[0.8888888888888888,\"#fdca26\"],[1.0,\"#f0f921\"]],\"type\":\"histogram2dcontour\"}],\"histogram2d\":[{\"colorbar\":{\"outlinewidth\":0,\"ticks\":\"\"},\"colorscale\":[[0.0,\"#0d0887\"],[0.1111111111111111,\"#46039f\"],[0.2222222222222222,\"#7201a8\"],[0.3333333333333333,\"#9c179e\"],[0.4444444444444444,\"#bd3786\"],[0.5555555555555556,\"#d8576b\"],[0.6666666666666666,\"#ed7953\"],[0.7777777777777778,\"#fb9f3a\"],[0.8888888888888888,\"#fdca26\"],[1.0,\"#f0f921\"]],\"type\":\"histogram2d\"}],\"histogram\":[{\"marker\":{\"pattern\":{\"fillmode\":\"overlay\",\"size\":10,\"solidity\":0.2}},\"type\":\"histogram\"}],\"mesh3d\":[{\"colorbar\":{\"outlinewidth\":0,\"ticks\":\"\"},\"type\":\"mesh3d\"}],\"parcoords\":[{\"line\":{\"colorbar\":{\"outlinewidth\":0,\"ticks\":\"\"}},\"type\":\"parcoords\"}],\"pie\":[{\"automargin\":true,\"type\":\"pie\"}],\"scatter3d\":[{\"line\":{\"colorbar\":{\"outlinewidth\":0,\"ticks\":\"\"}},\"marker\":{\"colorbar\":{\"outlinewidth\":0,\"ticks\":\"\"}},\"type\":\"scatter3d\"}],\"scattercarpet\":[{\"marker\":{\"colorbar\":{\"outlinewidth\":0,\"ticks\":\"\"}},\"type\":\"scattercarpet\"}],\"scattergeo\":[{\"marker\":{\"colorbar\":{\"outlinewidth\":0,\"ticks\":\"\"}},\"type\":\"scattergeo\"}],\"scattergl\":[{\"marker\":{\"colorbar\":{\"outlinewidth\":0,\"ticks\":\"\"}},\"type\":\"scattergl\"}],\"scattermapbox\":[{\"marker\":{\"colorbar\":{\"outlinewidth\":0,\"ticks\":\"\"}},\"type\":\"scattermapbox\"}],\"scatterpolargl\":[{\"marker\":{\"colorbar\":{\"outlinewidth\":0,\"ticks\":\"\"}},\"type\":\"scatterpolargl\"}],\"scatterpolar\":[{\"marker\":{\"colorbar\":{\"outlinewidth\":0,\"ticks\":\"\"}},\"type\":\"scatterpolar\"}],\"scatter\":[{\"fillpattern\":{\"fillmode\":\"overlay\",\"size\":10,\"solidity\":0.2},\"type\":\"scatter\"}],\"scatterternary\":[{\"marker\":{\"colorbar\":{\"outlinewidth\":0,\"ticks\":\"\"}},\"type\":\"scatterternary\"}],\"surface\":[{\"colorbar\":{\"outlinewidth\":0,\"ticks\":\"\"},\"colorscale\":[[0.0,\"#0d0887\"],[0.1111111111111111,\"#46039f\"],[0.2222222222222222,\"#7201a8\"],[0.3333333333333333,\"#9c179e\"],[0.4444444444444444,\"#bd3786\"],[0.5555555555555556,\"#d8576b\"],[0.6666666666666666,\"#ed7953\"],[0.7777777777777778,\"#fb9f3a\"],[0.8888888888888888,\"#fdca26\"],[1.0,\"#f0f921\"]],\"type\":\"surface\"}],\"table\":[{\"cells\":{\"fill\":{\"color\":\"#EBF0F8\"},\"line\":{\"color\":\"white\"}},\"header\":{\"fill\":{\"color\":\"#C8D4E3\"},\"line\":{\"color\":\"white\"}},\"type\":\"table\"}]},\"layout\":{\"annotationdefaults\":{\"arrowcolor\":\"#2a3f5f\",\"arrowhead\":0,\"arrowwidth\":1},\"autotypenumbers\":\"strict\",\"coloraxis\":{\"colorbar\":{\"outlinewidth\":0,\"ticks\":\"\"}},\"colorscale\":{\"diverging\":[[0,\"#8e0152\"],[0.1,\"#c51b7d\"],[0.2,\"#de77ae\"],[0.3,\"#f1b6da\"],[0.4,\"#fde0ef\"],[0.5,\"#f7f7f7\"],[0.6,\"#e6f5d0\"],[0.7,\"#b8e186\"],[0.8,\"#7fbc41\"],[0.9,\"#4d9221\"],[1,\"#276419\"]],\"sequential\":[[0.0,\"#0d0887\"],[0.1111111111111111,\"#46039f\"],[0.2222222222222222,\"#7201a8\"],[0.3333333333333333,\"#9c179e\"],[0.4444444444444444,\"#bd3786\"],[0.5555555555555556,\"#d8576b\"],[0.6666666666666666,\"#ed7953\"],[0.7777777777777778,\"#fb9f3a\"],[0.8888888888888888,\"#fdca26\"],[1.0,\"#f0f921\"]],\"sequentialminus\":[[0.0,\"#0d0887\"],[0.1111111111111111,\"#46039f\"],[0.2222222222222222,\"#7201a8\"],[0.3333333333333333,\"#9c179e\"],[0.4444444444444444,\"#bd3786\"],[0.5555555555555556,\"#d8576b\"],[0.6666666666666666,\"#ed7953\"],[0.7777777777777778,\"#fb9f3a\"],[0.8888888888888888,\"#fdca26\"],[1.0,\"#f0f921\"]]},\"colorway\":[\"#636efa\",\"#EF553B\",\"#00cc96\",\"#ab63fa\",\"#FFA15A\",\"#19d3f3\",\"#FF6692\",\"#B6E880\",\"#FF97FF\",\"#FECB52\"],\"font\":{\"color\":\"#2a3f5f\"},\"geo\":{\"bgcolor\":\"white\",\"lakecolor\":\"white\",\"landcolor\":\"#E5ECF6\",\"showlakes\":true,\"showland\":true,\"subunitcolor\":\"white\"},\"hoverlabel\":{\"align\":\"left\"},\"hovermode\":\"closest\",\"mapbox\":{\"style\":\"light\"},\"paper_bgcolor\":\"white\",\"plot_bgcolor\":\"#E5ECF6\",\"polar\":{\"angularaxis\":{\"gridcolor\":\"white\",\"linecolor\":\"white\",\"ticks\":\"\"},\"bgcolor\":\"#E5ECF6\",\"radialaxis\":{\"gridcolor\":\"white\",\"linecolor\":\"white\",\"ticks\":\"\"}},\"scene\":{\"xaxis\":{\"backgroundcolor\":\"#E5ECF6\",\"gridcolor\":\"white\",\"gridwidth\":2,\"linecolor\":\"white\",\"showbackground\":true,\"ticks\":\"\",\"zerolinecolor\":\"white\"},\"yaxis\":{\"backgroundcolor\":\"#E5ECF6\",\"gridcolor\":\"white\",\"gridwidth\":2,\"linecolor\":\"white\",\"showbackground\":true,\"ticks\":\"\",\"zerolinecolor\":\"white\"},\"zaxis\":{\"backgroundcolor\":\"#E5ECF6\",\"gridcolor\":\"white\",\"gridwidth\":2,\"linecolor\":\"white\",\"showbackground\":true,\"ticks\":\"\",\"zerolinecolor\":\"white\"}},\"shapedefaults\":{\"line\":{\"color\":\"#2a3f5f\"}},\"ternary\":{\"aaxis\":{\"gridcolor\":\"white\",\"linecolor\":\"white\",\"ticks\":\"\"},\"baxis\":{\"gridcolor\":\"white\",\"linecolor\":\"white\",\"ticks\":\"\"},\"bgcolor\":\"#E5ECF6\",\"caxis\":{\"gridcolor\":\"white\",\"linecolor\":\"white\",\"ticks\":\"\"}},\"title\":{\"x\":0.05},\"xaxis\":{\"automargin\":true,\"gridcolor\":\"white\",\"linecolor\":\"white\",\"ticks\":\"\",\"title\":{\"standoff\":15},\"zerolinecolor\":\"white\",\"zerolinewidth\":2},\"yaxis\":{\"automargin\":true,\"gridcolor\":\"white\",\"linecolor\":\"white\",\"ticks\":\"\",\"title\":{\"standoff\":15},\"zerolinecolor\":\"white\",\"zerolinewidth\":2}}},\"title\":{\"font\":{\"color\":\"#4D5663\"}},\"xaxis\":{\"gridcolor\":\"#E1E5ED\",\"showgrid\":true,\"tickfont\":{\"color\":\"#4D5663\"},\"title\":{\"font\":{\"color\":\"#4D5663\"},\"text\":\"\"},\"zerolinecolor\":\"#E1E5ED\"},\"yaxis\":{\"gridcolor\":\"#E1E5ED\",\"showgrid\":true,\"tickfont\":{\"color\":\"#4D5663\"},\"title\":{\"font\":{\"color\":\"#4D5663\"},\"text\":\"\"},\"zerolinecolor\":\"#E1E5ED\"}},                        {\"showLink\": true, \"linkText\": \"Export to plot.ly\", \"plotlyServerURL\": \"https://plot.ly\", \"responsive\": true}                    ).then(function(){\n",
       "                            \n",
       "var gd = document.getElementById('1107cdf5-f38c-4638-a50a-a0cc6b08436e');\n",
       "var x = new MutationObserver(function (mutations, observer) {{\n",
       "        var display = window.getComputedStyle(gd).display;\n",
       "        if (!display || display === 'none') {{\n",
       "            console.log([gd, 'removed!']);\n",
       "            Plotly.purge(gd);\n",
       "            observer.disconnect();\n",
       "        }}\n",
       "}});\n",
       "\n",
       "// Listen for the removal of the full notebook cells\n",
       "var notebookContainer = gd.closest('#notebook-container');\n",
       "if (notebookContainer) {{\n",
       "    x.observe(notebookContainer, {childList: true});\n",
       "}}\n",
       "\n",
       "// Listen for the clearing of the current output cell\n",
       "var outputEl = gd.closest('.output');\n",
       "if (outputEl) {{\n",
       "    x.observe(outputEl, {childList: true});\n",
       "}}\n",
       "\n",
       "                        })                };                });            </script>        </div>"
      ]
     },
     "metadata": {},
     "output_type": "display_data"
    }
   ],
   "source": [
    "df.iplot()"
   ]
  },
  {
   "cell_type": "code",
   "execution_count": 14,
   "metadata": {},
   "outputs": [
    {
     "data": {
      "application/vnd.plotly.v1+json": {
       "config": {
        "linkText": "Export to plot.ly",
        "plotlyServerURL": "https://plot.ly",
        "showLink": true
       },
       "data": [
        {
         "line": {
          "color": "rgba(255, 153, 51, 1.0)",
          "dash": "solid",
          "shape": "linear",
          "width": 1.3
         },
         "marker": {
          "size": 12,
          "symbol": "circle"
         },
         "mode": "markers",
         "name": "B",
         "text": "",
         "type": "scatter",
         "x": [
          -0.5947246609007995,
          0.5080983839176285,
          -0.2729821610343981,
          1.4374400910119844,
          1.1419571206311756,
          -1.232610716651499,
          0.4540428085669437,
          -0.2759116668580806,
          1.5697212376142504,
          -1.4639406540709177,
          0.5486686814847282,
          -2.2375808038284624,
          -0.2721421244748315,
          -1.3357025368243627,
          -1.6166706184888897,
          -0.6651463271797208,
          0.4871549158566213,
          0.19084172067838373,
          -0.6330915267659967,
          1.7826340370371316,
          0.1690698159664783,
          1.0211689589203143,
          -0.5010043034699433,
          0.4252811836772652,
          0.5836486439984949,
          0.3503229690937196,
          -0.5142408989289913,
          -0.8812870246830704,
          0.5630690790365496,
          0.5361186589776664,
          -0.5686083266420646,
          -1.2469869098846766,
          -2.245796079140013,
          -1.1330290335770774,
          -0.016457154406527605,
          -0.26530917851442315,
          1.633766433593139,
          0.4460629510726452,
          -0.37231238194284444,
          -0.48399034500600685,
          -0.5414805164545972,
          0.4711651195719005,
          2.2033910682226185,
          0.3912213674776983,
          0.1770356217677615,
          0.7890615627595226,
          0.47539228648359083,
          -0.19298618929105993,
          0.5491716496086573,
          0.25727239792699996,
          1.9795243617189382,
          0.05868896894501684,
          -0.31903491132136336,
          1.048297475078446,
          0.3841296136509673,
          1.2260276387430127,
          0.14139911530330046,
          -0.9713093590150319,
          0.3205918800593372,
          -1.229147303641053,
          -1.8478453803658355,
          -1.2817089726351218,
          -1.071775272089408,
          0.3688434390194641,
          -2.302296481140197,
          -1.4038330323601642,
          -0.48808645057929395,
          -0.7804602924006149,
          0.8359895304660069,
          -1.3359576639397497,
          0.8453514176969392,
          -0.7565319236838722,
          -0.3974968625688486,
          -1.9409598602833364,
          1.2025187504484942,
          -1.5182570076336794,
          -0.8359225144847929,
          0.7289852900300552,
          -2.012327311236848,
          -1.1659543540352098,
          -0.017836751322662835,
          0.7990639240283605,
          -2.001775607060861,
          1.092328168305829,
          0.0804502098619926,
          -0.10617798512770182,
          -0.4198327316334372,
          0.052821215172944753,
          -0.5620481639789512,
          -1.2783309620053314,
          -0.38810901933778996,
          -1.7056525772960924,
          -0.13688792539458344,
          0.25621374519340084,
          -0.2467355202221928,
          -0.4721640675454362,
          1.3030608335706142,
          -2.345608295359219,
          0.42988016100530735,
          0.049109420211097765
         ],
         "y": [
          0.14430390048733446,
          0.18385226572388244,
          0.6267925222963432,
          -1.7991365631148435,
          -0.09260168315194633,
          0.10777198890098612,
          -0.627501306506416,
          0.11444734206370642,
          0.10017936808866847,
          -1.9232470291397914,
          1.192955957249836,
          1.4497787501235513,
          1.186686360978737,
          -1.0736537888552176,
          -0.4336130808564092,
          1.5657140852015559,
          -0.16208891207122433,
          -1.2963164909465819,
          0.11814844150465005,
          0.15990666685255986,
          -1.383084023770703,
          0.6370776229859546,
          0.4023880533518819,
          1.690277568214669,
          -2.070625326711363,
          -0.8988644691386962,
          1.6680987309976378,
          -0.34433329934312806,
          -0.6823656481844063,
          -1.2636117957856465,
          0.112447023598441,
          0.41721632332990877,
          -1.565562192075304,
          0.05861013426015205,
          -1.1622505415955888,
          2.0431877673772103,
          0.858459656176057,
          1.451119803037829,
          1.8980018158487026,
          -0.5064313373211253,
          -0.20898713049887868,
          1.457358421741614,
          -0.30539596905069605,
          0.16288464866418792,
          -0.4976239637921026,
          -1.5771695022235366,
          -0.20013737586169705,
          0.3271854253957044,
          -0.9918162072306904,
          -1.5016475697997238,
          1.1072428604603766,
          -0.8399480565202709,
          0.10699809714259687,
          1.3319521951132123,
          0.5867610162303735,
          0.6448580408938127,
          1.6885434294164736,
          -0.5555540236567169,
          0.9943050345581028,
          0.02542547104866749,
          0.03622865136042082,
          -1.3518961052216667,
          0.7475420200885579,
          1.738709157017959,
          1.4268176849161678,
          2.0943291431089404,
          0.10042352026323743,
          0.7526653486565243,
          0.0754885810031796,
          0.22138841909823184,
          1.0283420762123308,
          -2.256464021352241,
          1.723026666758455,
          0.20894936157448674,
          0.2969439482816422,
          0.08755862719066476,
          -0.11818936527876349,
          -0.052177251228342846,
          0.3190612891639335,
          0.4234184226613397,
          -0.2803553734343674,
          0.11069710621633297,
          0.7648987785194783,
          0.9641521952815469,
          -0.4346213218256712,
          -2.380557946457946,
          -0.1792010511219879,
          -1.5886289406447707,
          1.2302098541388724,
          1.0584094453607762,
          -0.7555192518511187,
          0.8531733184921768,
          -0.5036295603129022,
          0.42822713321857314,
          2.087727855418845,
          -0.6197867460766998,
          -1.6925990919830793,
          -0.5848049270004688,
          0.9803760696762216,
          1.6461005998954452
         ]
        }
       ],
       "layout": {
        "legend": {
         "bgcolor": "#F5F6F9",
         "font": {
          "color": "#4D5663"
         }
        },
        "paper_bgcolor": "#F5F6F9",
        "plot_bgcolor": "#F5F6F9",
        "template": {
         "data": {
          "bar": [
           {
            "error_x": {
             "color": "#2a3f5f"
            },
            "error_y": {
             "color": "#2a3f5f"
            },
            "marker": {
             "line": {
              "color": "#E5ECF6",
              "width": 0.5
             },
             "pattern": {
              "fillmode": "overlay",
              "size": 10,
              "solidity": 0.2
             }
            },
            "type": "bar"
           }
          ],
          "barpolar": [
           {
            "marker": {
             "line": {
              "color": "#E5ECF6",
              "width": 0.5
             },
             "pattern": {
              "fillmode": "overlay",
              "size": 10,
              "solidity": 0.2
             }
            },
            "type": "barpolar"
           }
          ],
          "carpet": [
           {
            "aaxis": {
             "endlinecolor": "#2a3f5f",
             "gridcolor": "white",
             "linecolor": "white",
             "minorgridcolor": "white",
             "startlinecolor": "#2a3f5f"
            },
            "baxis": {
             "endlinecolor": "#2a3f5f",
             "gridcolor": "white",
             "linecolor": "white",
             "minorgridcolor": "white",
             "startlinecolor": "#2a3f5f"
            },
            "type": "carpet"
           }
          ],
          "choropleth": [
           {
            "colorbar": {
             "outlinewidth": 0,
             "ticks": ""
            },
            "type": "choropleth"
           }
          ],
          "contour": [
           {
            "colorbar": {
             "outlinewidth": 0,
             "ticks": ""
            },
            "colorscale": [
             [
              0,
              "#0d0887"
             ],
             [
              0.1111111111111111,
              "#46039f"
             ],
             [
              0.2222222222222222,
              "#7201a8"
             ],
             [
              0.3333333333333333,
              "#9c179e"
             ],
             [
              0.4444444444444444,
              "#bd3786"
             ],
             [
              0.5555555555555556,
              "#d8576b"
             ],
             [
              0.6666666666666666,
              "#ed7953"
             ],
             [
              0.7777777777777778,
              "#fb9f3a"
             ],
             [
              0.8888888888888888,
              "#fdca26"
             ],
             [
              1,
              "#f0f921"
             ]
            ],
            "type": "contour"
           }
          ],
          "contourcarpet": [
           {
            "colorbar": {
             "outlinewidth": 0,
             "ticks": ""
            },
            "type": "contourcarpet"
           }
          ],
          "heatmap": [
           {
            "colorbar": {
             "outlinewidth": 0,
             "ticks": ""
            },
            "colorscale": [
             [
              0,
              "#0d0887"
             ],
             [
              0.1111111111111111,
              "#46039f"
             ],
             [
              0.2222222222222222,
              "#7201a8"
             ],
             [
              0.3333333333333333,
              "#9c179e"
             ],
             [
              0.4444444444444444,
              "#bd3786"
             ],
             [
              0.5555555555555556,
              "#d8576b"
             ],
             [
              0.6666666666666666,
              "#ed7953"
             ],
             [
              0.7777777777777778,
              "#fb9f3a"
             ],
             [
              0.8888888888888888,
              "#fdca26"
             ],
             [
              1,
              "#f0f921"
             ]
            ],
            "type": "heatmap"
           }
          ],
          "heatmapgl": [
           {
            "colorbar": {
             "outlinewidth": 0,
             "ticks": ""
            },
            "colorscale": [
             [
              0,
              "#0d0887"
             ],
             [
              0.1111111111111111,
              "#46039f"
             ],
             [
              0.2222222222222222,
              "#7201a8"
             ],
             [
              0.3333333333333333,
              "#9c179e"
             ],
             [
              0.4444444444444444,
              "#bd3786"
             ],
             [
              0.5555555555555556,
              "#d8576b"
             ],
             [
              0.6666666666666666,
              "#ed7953"
             ],
             [
              0.7777777777777778,
              "#fb9f3a"
             ],
             [
              0.8888888888888888,
              "#fdca26"
             ],
             [
              1,
              "#f0f921"
             ]
            ],
            "type": "heatmapgl"
           }
          ],
          "histogram": [
           {
            "marker": {
             "pattern": {
              "fillmode": "overlay",
              "size": 10,
              "solidity": 0.2
             }
            },
            "type": "histogram"
           }
          ],
          "histogram2d": [
           {
            "colorbar": {
             "outlinewidth": 0,
             "ticks": ""
            },
            "colorscale": [
             [
              0,
              "#0d0887"
             ],
             [
              0.1111111111111111,
              "#46039f"
             ],
             [
              0.2222222222222222,
              "#7201a8"
             ],
             [
              0.3333333333333333,
              "#9c179e"
             ],
             [
              0.4444444444444444,
              "#bd3786"
             ],
             [
              0.5555555555555556,
              "#d8576b"
             ],
             [
              0.6666666666666666,
              "#ed7953"
             ],
             [
              0.7777777777777778,
              "#fb9f3a"
             ],
             [
              0.8888888888888888,
              "#fdca26"
             ],
             [
              1,
              "#f0f921"
             ]
            ],
            "type": "histogram2d"
           }
          ],
          "histogram2dcontour": [
           {
            "colorbar": {
             "outlinewidth": 0,
             "ticks": ""
            },
            "colorscale": [
             [
              0,
              "#0d0887"
             ],
             [
              0.1111111111111111,
              "#46039f"
             ],
             [
              0.2222222222222222,
              "#7201a8"
             ],
             [
              0.3333333333333333,
              "#9c179e"
             ],
             [
              0.4444444444444444,
              "#bd3786"
             ],
             [
              0.5555555555555556,
              "#d8576b"
             ],
             [
              0.6666666666666666,
              "#ed7953"
             ],
             [
              0.7777777777777778,
              "#fb9f3a"
             ],
             [
              0.8888888888888888,
              "#fdca26"
             ],
             [
              1,
              "#f0f921"
             ]
            ],
            "type": "histogram2dcontour"
           }
          ],
          "mesh3d": [
           {
            "colorbar": {
             "outlinewidth": 0,
             "ticks": ""
            },
            "type": "mesh3d"
           }
          ],
          "parcoords": [
           {
            "line": {
             "colorbar": {
              "outlinewidth": 0,
              "ticks": ""
             }
            },
            "type": "parcoords"
           }
          ],
          "pie": [
           {
            "automargin": true,
            "type": "pie"
           }
          ],
          "scatter": [
           {
            "fillpattern": {
             "fillmode": "overlay",
             "size": 10,
             "solidity": 0.2
            },
            "type": "scatter"
           }
          ],
          "scatter3d": [
           {
            "line": {
             "colorbar": {
              "outlinewidth": 0,
              "ticks": ""
             }
            },
            "marker": {
             "colorbar": {
              "outlinewidth": 0,
              "ticks": ""
             }
            },
            "type": "scatter3d"
           }
          ],
          "scattercarpet": [
           {
            "marker": {
             "colorbar": {
              "outlinewidth": 0,
              "ticks": ""
             }
            },
            "type": "scattercarpet"
           }
          ],
          "scattergeo": [
           {
            "marker": {
             "colorbar": {
              "outlinewidth": 0,
              "ticks": ""
             }
            },
            "type": "scattergeo"
           }
          ],
          "scattergl": [
           {
            "marker": {
             "colorbar": {
              "outlinewidth": 0,
              "ticks": ""
             }
            },
            "type": "scattergl"
           }
          ],
          "scattermapbox": [
           {
            "marker": {
             "colorbar": {
              "outlinewidth": 0,
              "ticks": ""
             }
            },
            "type": "scattermapbox"
           }
          ],
          "scatterpolar": [
           {
            "marker": {
             "colorbar": {
              "outlinewidth": 0,
              "ticks": ""
             }
            },
            "type": "scatterpolar"
           }
          ],
          "scatterpolargl": [
           {
            "marker": {
             "colorbar": {
              "outlinewidth": 0,
              "ticks": ""
             }
            },
            "type": "scatterpolargl"
           }
          ],
          "scatterternary": [
           {
            "marker": {
             "colorbar": {
              "outlinewidth": 0,
              "ticks": ""
             }
            },
            "type": "scatterternary"
           }
          ],
          "surface": [
           {
            "colorbar": {
             "outlinewidth": 0,
             "ticks": ""
            },
            "colorscale": [
             [
              0,
              "#0d0887"
             ],
             [
              0.1111111111111111,
              "#46039f"
             ],
             [
              0.2222222222222222,
              "#7201a8"
             ],
             [
              0.3333333333333333,
              "#9c179e"
             ],
             [
              0.4444444444444444,
              "#bd3786"
             ],
             [
              0.5555555555555556,
              "#d8576b"
             ],
             [
              0.6666666666666666,
              "#ed7953"
             ],
             [
              0.7777777777777778,
              "#fb9f3a"
             ],
             [
              0.8888888888888888,
              "#fdca26"
             ],
             [
              1,
              "#f0f921"
             ]
            ],
            "type": "surface"
           }
          ],
          "table": [
           {
            "cells": {
             "fill": {
              "color": "#EBF0F8"
             },
             "line": {
              "color": "white"
             }
            },
            "header": {
             "fill": {
              "color": "#C8D4E3"
             },
             "line": {
              "color": "white"
             }
            },
            "type": "table"
           }
          ]
         },
         "layout": {
          "annotationdefaults": {
           "arrowcolor": "#2a3f5f",
           "arrowhead": 0,
           "arrowwidth": 1
          },
          "autotypenumbers": "strict",
          "coloraxis": {
           "colorbar": {
            "outlinewidth": 0,
            "ticks": ""
           }
          },
          "colorscale": {
           "diverging": [
            [
             0,
             "#8e0152"
            ],
            [
             0.1,
             "#c51b7d"
            ],
            [
             0.2,
             "#de77ae"
            ],
            [
             0.3,
             "#f1b6da"
            ],
            [
             0.4,
             "#fde0ef"
            ],
            [
             0.5,
             "#f7f7f7"
            ],
            [
             0.6,
             "#e6f5d0"
            ],
            [
             0.7,
             "#b8e186"
            ],
            [
             0.8,
             "#7fbc41"
            ],
            [
             0.9,
             "#4d9221"
            ],
            [
             1,
             "#276419"
            ]
           ],
           "sequential": [
            [
             0,
             "#0d0887"
            ],
            [
             0.1111111111111111,
             "#46039f"
            ],
            [
             0.2222222222222222,
             "#7201a8"
            ],
            [
             0.3333333333333333,
             "#9c179e"
            ],
            [
             0.4444444444444444,
             "#bd3786"
            ],
            [
             0.5555555555555556,
             "#d8576b"
            ],
            [
             0.6666666666666666,
             "#ed7953"
            ],
            [
             0.7777777777777778,
             "#fb9f3a"
            ],
            [
             0.8888888888888888,
             "#fdca26"
            ],
            [
             1,
             "#f0f921"
            ]
           ],
           "sequentialminus": [
            [
             0,
             "#0d0887"
            ],
            [
             0.1111111111111111,
             "#46039f"
            ],
            [
             0.2222222222222222,
             "#7201a8"
            ],
            [
             0.3333333333333333,
             "#9c179e"
            ],
            [
             0.4444444444444444,
             "#bd3786"
            ],
            [
             0.5555555555555556,
             "#d8576b"
            ],
            [
             0.6666666666666666,
             "#ed7953"
            ],
            [
             0.7777777777777778,
             "#fb9f3a"
            ],
            [
             0.8888888888888888,
             "#fdca26"
            ],
            [
             1,
             "#f0f921"
            ]
           ]
          },
          "colorway": [
           "#636efa",
           "#EF553B",
           "#00cc96",
           "#ab63fa",
           "#FFA15A",
           "#19d3f3",
           "#FF6692",
           "#B6E880",
           "#FF97FF",
           "#FECB52"
          ],
          "font": {
           "color": "#2a3f5f"
          },
          "geo": {
           "bgcolor": "white",
           "lakecolor": "white",
           "landcolor": "#E5ECF6",
           "showlakes": true,
           "showland": true,
           "subunitcolor": "white"
          },
          "hoverlabel": {
           "align": "left"
          },
          "hovermode": "closest",
          "mapbox": {
           "style": "light"
          },
          "paper_bgcolor": "white",
          "plot_bgcolor": "#E5ECF6",
          "polar": {
           "angularaxis": {
            "gridcolor": "white",
            "linecolor": "white",
            "ticks": ""
           },
           "bgcolor": "#E5ECF6",
           "radialaxis": {
            "gridcolor": "white",
            "linecolor": "white",
            "ticks": ""
           }
          },
          "scene": {
           "xaxis": {
            "backgroundcolor": "#E5ECF6",
            "gridcolor": "white",
            "gridwidth": 2,
            "linecolor": "white",
            "showbackground": true,
            "ticks": "",
            "zerolinecolor": "white"
           },
           "yaxis": {
            "backgroundcolor": "#E5ECF6",
            "gridcolor": "white",
            "gridwidth": 2,
            "linecolor": "white",
            "showbackground": true,
            "ticks": "",
            "zerolinecolor": "white"
           },
           "zaxis": {
            "backgroundcolor": "#E5ECF6",
            "gridcolor": "white",
            "gridwidth": 2,
            "linecolor": "white",
            "showbackground": true,
            "ticks": "",
            "zerolinecolor": "white"
           }
          },
          "shapedefaults": {
           "line": {
            "color": "#2a3f5f"
           }
          },
          "ternary": {
           "aaxis": {
            "gridcolor": "white",
            "linecolor": "white",
            "ticks": ""
           },
           "baxis": {
            "gridcolor": "white",
            "linecolor": "white",
            "ticks": ""
           },
           "bgcolor": "#E5ECF6",
           "caxis": {
            "gridcolor": "white",
            "linecolor": "white",
            "ticks": ""
           }
          },
          "title": {
           "x": 0.05
          },
          "xaxis": {
           "automargin": true,
           "gridcolor": "white",
           "linecolor": "white",
           "ticks": "",
           "title": {
            "standoff": 15
           },
           "zerolinecolor": "white",
           "zerolinewidth": 2
          },
          "yaxis": {
           "automargin": true,
           "gridcolor": "white",
           "linecolor": "white",
           "ticks": "",
           "title": {
            "standoff": 15
           },
           "zerolinecolor": "white",
           "zerolinewidth": 2
          }
         }
        },
        "title": {
         "font": {
          "color": "#4D5663"
         }
        },
        "xaxis": {
         "gridcolor": "#E1E5ED",
         "showgrid": true,
         "tickfont": {
          "color": "#4D5663"
         },
         "title": {
          "font": {
           "color": "#4D5663"
          },
          "text": ""
         },
         "zerolinecolor": "#E1E5ED"
        },
        "yaxis": {
         "gridcolor": "#E1E5ED",
         "showgrid": true,
         "tickfont": {
          "color": "#4D5663"
         },
         "title": {
          "font": {
           "color": "#4D5663"
          },
          "text": ""
         },
         "zerolinecolor": "#E1E5ED"
        }
       }
      },
      "text/html": [
       "<div>                            <div id=\"47f16ed4-ae06-455e-a2ea-1e12a772112f\" class=\"plotly-graph-div\" style=\"height:525px; width:100%;\"></div>            <script type=\"text/javascript\">                require([\"plotly\"], function(Plotly) {                    window.PLOTLYENV=window.PLOTLYENV || {};\n",
       "                    window.PLOTLYENV.BASE_URL='https://plot.ly';                                    if (document.getElementById(\"47f16ed4-ae06-455e-a2ea-1e12a772112f\")) {                    Plotly.newPlot(                        \"47f16ed4-ae06-455e-a2ea-1e12a772112f\",                        [{\"line\":{\"color\":\"rgba(255, 153, 51, 1.0)\",\"dash\":\"solid\",\"shape\":\"linear\",\"width\":1.3},\"marker\":{\"size\":12,\"symbol\":\"circle\"},\"mode\":\"markers\",\"name\":\"B\",\"text\":\"\",\"x\":[-0.5947246609007995,0.5080983839176285,-0.2729821610343981,1.4374400910119844,1.1419571206311756,-1.232610716651499,0.4540428085669437,-0.2759116668580806,1.5697212376142504,-1.4639406540709177,0.5486686814847282,-2.2375808038284624,-0.2721421244748315,-1.3357025368243627,-1.6166706184888897,-0.6651463271797208,0.4871549158566213,0.19084172067838373,-0.6330915267659967,1.7826340370371316,0.1690698159664783,1.0211689589203143,-0.5010043034699433,0.4252811836772652,0.5836486439984949,0.3503229690937196,-0.5142408989289913,-0.8812870246830704,0.5630690790365496,0.5361186589776664,-0.5686083266420646,-1.2469869098846766,-2.245796079140013,-1.1330290335770774,-0.016457154406527605,-0.26530917851442315,1.633766433593139,0.4460629510726452,-0.37231238194284444,-0.48399034500600685,-0.5414805164545972,0.4711651195719005,2.2033910682226185,0.3912213674776983,0.1770356217677615,0.7890615627595226,0.47539228648359083,-0.19298618929105993,0.5491716496086573,0.25727239792699996,1.9795243617189382,0.05868896894501684,-0.31903491132136336,1.048297475078446,0.3841296136509673,1.2260276387430127,0.14139911530330046,-0.9713093590150319,0.3205918800593372,-1.229147303641053,-1.8478453803658355,-1.2817089726351218,-1.071775272089408,0.3688434390194641,-2.302296481140197,-1.4038330323601642,-0.48808645057929395,-0.7804602924006149,0.8359895304660069,-1.3359576639397497,0.8453514176969392,-0.7565319236838722,-0.3974968625688486,-1.9409598602833364,1.2025187504484942,-1.5182570076336794,-0.8359225144847929,0.7289852900300552,-2.012327311236848,-1.1659543540352098,-0.017836751322662835,0.7990639240283605,-2.001775607060861,1.092328168305829,0.0804502098619926,-0.10617798512770182,-0.4198327316334372,0.052821215172944753,-0.5620481639789512,-1.2783309620053314,-0.38810901933778996,-1.7056525772960924,-0.13688792539458344,0.25621374519340084,-0.2467355202221928,-0.4721640675454362,1.3030608335706142,-2.345608295359219,0.42988016100530735,0.049109420211097765],\"y\":[0.14430390048733446,0.18385226572388244,0.6267925222963432,-1.7991365631148435,-0.09260168315194633,0.10777198890098612,-0.627501306506416,0.11444734206370642,0.10017936808866847,-1.9232470291397914,1.192955957249836,1.4497787501235513,1.186686360978737,-1.0736537888552176,-0.4336130808564092,1.5657140852015559,-0.16208891207122433,-1.2963164909465819,0.11814844150465005,0.15990666685255986,-1.383084023770703,0.6370776229859546,0.4023880533518819,1.690277568214669,-2.070625326711363,-0.8988644691386962,1.6680987309976378,-0.34433329934312806,-0.6823656481844063,-1.2636117957856465,0.112447023598441,0.41721632332990877,-1.565562192075304,0.05861013426015205,-1.1622505415955888,2.0431877673772103,0.858459656176057,1.451119803037829,1.8980018158487026,-0.5064313373211253,-0.20898713049887868,1.457358421741614,-0.30539596905069605,0.16288464866418792,-0.4976239637921026,-1.5771695022235366,-0.20013737586169705,0.3271854253957044,-0.9918162072306904,-1.5016475697997238,1.1072428604603766,-0.8399480565202709,0.10699809714259687,1.3319521951132123,0.5867610162303735,0.6448580408938127,1.6885434294164736,-0.5555540236567169,0.9943050345581028,0.02542547104866749,0.03622865136042082,-1.3518961052216667,0.7475420200885579,1.738709157017959,1.4268176849161678,2.0943291431089404,0.10042352026323743,0.7526653486565243,0.0754885810031796,0.22138841909823184,1.0283420762123308,-2.256464021352241,1.723026666758455,0.20894936157448674,0.2969439482816422,0.08755862719066476,-0.11818936527876349,-0.052177251228342846,0.3190612891639335,0.4234184226613397,-0.2803553734343674,0.11069710621633297,0.7648987785194783,0.9641521952815469,-0.4346213218256712,-2.380557946457946,-0.1792010511219879,-1.5886289406447707,1.2302098541388724,1.0584094453607762,-0.7555192518511187,0.8531733184921768,-0.5036295603129022,0.42822713321857314,2.087727855418845,-0.6197867460766998,-1.6925990919830793,-0.5848049270004688,0.9803760696762216,1.6461005998954452],\"type\":\"scatter\"}],                        {\"legend\":{\"bgcolor\":\"#F5F6F9\",\"font\":{\"color\":\"#4D5663\"}},\"paper_bgcolor\":\"#F5F6F9\",\"plot_bgcolor\":\"#F5F6F9\",\"template\":{\"data\":{\"barpolar\":[{\"marker\":{\"line\":{\"color\":\"#E5ECF6\",\"width\":0.5},\"pattern\":{\"fillmode\":\"overlay\",\"size\":10,\"solidity\":0.2}},\"type\":\"barpolar\"}],\"bar\":[{\"error_x\":{\"color\":\"#2a3f5f\"},\"error_y\":{\"color\":\"#2a3f5f\"},\"marker\":{\"line\":{\"color\":\"#E5ECF6\",\"width\":0.5},\"pattern\":{\"fillmode\":\"overlay\",\"size\":10,\"solidity\":0.2}},\"type\":\"bar\"}],\"carpet\":[{\"aaxis\":{\"endlinecolor\":\"#2a3f5f\",\"gridcolor\":\"white\",\"linecolor\":\"white\",\"minorgridcolor\":\"white\",\"startlinecolor\":\"#2a3f5f\"},\"baxis\":{\"endlinecolor\":\"#2a3f5f\",\"gridcolor\":\"white\",\"linecolor\":\"white\",\"minorgridcolor\":\"white\",\"startlinecolor\":\"#2a3f5f\"},\"type\":\"carpet\"}],\"choropleth\":[{\"colorbar\":{\"outlinewidth\":0,\"ticks\":\"\"},\"type\":\"choropleth\"}],\"contourcarpet\":[{\"colorbar\":{\"outlinewidth\":0,\"ticks\":\"\"},\"type\":\"contourcarpet\"}],\"contour\":[{\"colorbar\":{\"outlinewidth\":0,\"ticks\":\"\"},\"colorscale\":[[0.0,\"#0d0887\"],[0.1111111111111111,\"#46039f\"],[0.2222222222222222,\"#7201a8\"],[0.3333333333333333,\"#9c179e\"],[0.4444444444444444,\"#bd3786\"],[0.5555555555555556,\"#d8576b\"],[0.6666666666666666,\"#ed7953\"],[0.7777777777777778,\"#fb9f3a\"],[0.8888888888888888,\"#fdca26\"],[1.0,\"#f0f921\"]],\"type\":\"contour\"}],\"heatmapgl\":[{\"colorbar\":{\"outlinewidth\":0,\"ticks\":\"\"},\"colorscale\":[[0.0,\"#0d0887\"],[0.1111111111111111,\"#46039f\"],[0.2222222222222222,\"#7201a8\"],[0.3333333333333333,\"#9c179e\"],[0.4444444444444444,\"#bd3786\"],[0.5555555555555556,\"#d8576b\"],[0.6666666666666666,\"#ed7953\"],[0.7777777777777778,\"#fb9f3a\"],[0.8888888888888888,\"#fdca26\"],[1.0,\"#f0f921\"]],\"type\":\"heatmapgl\"}],\"heatmap\":[{\"colorbar\":{\"outlinewidth\":0,\"ticks\":\"\"},\"colorscale\":[[0.0,\"#0d0887\"],[0.1111111111111111,\"#46039f\"],[0.2222222222222222,\"#7201a8\"],[0.3333333333333333,\"#9c179e\"],[0.4444444444444444,\"#bd3786\"],[0.5555555555555556,\"#d8576b\"],[0.6666666666666666,\"#ed7953\"],[0.7777777777777778,\"#fb9f3a\"],[0.8888888888888888,\"#fdca26\"],[1.0,\"#f0f921\"]],\"type\":\"heatmap\"}],\"histogram2dcontour\":[{\"colorbar\":{\"outlinewidth\":0,\"ticks\":\"\"},\"colorscale\":[[0.0,\"#0d0887\"],[0.1111111111111111,\"#46039f\"],[0.2222222222222222,\"#7201a8\"],[0.3333333333333333,\"#9c179e\"],[0.4444444444444444,\"#bd3786\"],[0.5555555555555556,\"#d8576b\"],[0.6666666666666666,\"#ed7953\"],[0.7777777777777778,\"#fb9f3a\"],[0.8888888888888888,\"#fdca26\"],[1.0,\"#f0f921\"]],\"type\":\"histogram2dcontour\"}],\"histogram2d\":[{\"colorbar\":{\"outlinewidth\":0,\"ticks\":\"\"},\"colorscale\":[[0.0,\"#0d0887\"],[0.1111111111111111,\"#46039f\"],[0.2222222222222222,\"#7201a8\"],[0.3333333333333333,\"#9c179e\"],[0.4444444444444444,\"#bd3786\"],[0.5555555555555556,\"#d8576b\"],[0.6666666666666666,\"#ed7953\"],[0.7777777777777778,\"#fb9f3a\"],[0.8888888888888888,\"#fdca26\"],[1.0,\"#f0f921\"]],\"type\":\"histogram2d\"}],\"histogram\":[{\"marker\":{\"pattern\":{\"fillmode\":\"overlay\",\"size\":10,\"solidity\":0.2}},\"type\":\"histogram\"}],\"mesh3d\":[{\"colorbar\":{\"outlinewidth\":0,\"ticks\":\"\"},\"type\":\"mesh3d\"}],\"parcoords\":[{\"line\":{\"colorbar\":{\"outlinewidth\":0,\"ticks\":\"\"}},\"type\":\"parcoords\"}],\"pie\":[{\"automargin\":true,\"type\":\"pie\"}],\"scatter3d\":[{\"line\":{\"colorbar\":{\"outlinewidth\":0,\"ticks\":\"\"}},\"marker\":{\"colorbar\":{\"outlinewidth\":0,\"ticks\":\"\"}},\"type\":\"scatter3d\"}],\"scattercarpet\":[{\"marker\":{\"colorbar\":{\"outlinewidth\":0,\"ticks\":\"\"}},\"type\":\"scattercarpet\"}],\"scattergeo\":[{\"marker\":{\"colorbar\":{\"outlinewidth\":0,\"ticks\":\"\"}},\"type\":\"scattergeo\"}],\"scattergl\":[{\"marker\":{\"colorbar\":{\"outlinewidth\":0,\"ticks\":\"\"}},\"type\":\"scattergl\"}],\"scattermapbox\":[{\"marker\":{\"colorbar\":{\"outlinewidth\":0,\"ticks\":\"\"}},\"type\":\"scattermapbox\"}],\"scatterpolargl\":[{\"marker\":{\"colorbar\":{\"outlinewidth\":0,\"ticks\":\"\"}},\"type\":\"scatterpolargl\"}],\"scatterpolar\":[{\"marker\":{\"colorbar\":{\"outlinewidth\":0,\"ticks\":\"\"}},\"type\":\"scatterpolar\"}],\"scatter\":[{\"fillpattern\":{\"fillmode\":\"overlay\",\"size\":10,\"solidity\":0.2},\"type\":\"scatter\"}],\"scatterternary\":[{\"marker\":{\"colorbar\":{\"outlinewidth\":0,\"ticks\":\"\"}},\"type\":\"scatterternary\"}],\"surface\":[{\"colorbar\":{\"outlinewidth\":0,\"ticks\":\"\"},\"colorscale\":[[0.0,\"#0d0887\"],[0.1111111111111111,\"#46039f\"],[0.2222222222222222,\"#7201a8\"],[0.3333333333333333,\"#9c179e\"],[0.4444444444444444,\"#bd3786\"],[0.5555555555555556,\"#d8576b\"],[0.6666666666666666,\"#ed7953\"],[0.7777777777777778,\"#fb9f3a\"],[0.8888888888888888,\"#fdca26\"],[1.0,\"#f0f921\"]],\"type\":\"surface\"}],\"table\":[{\"cells\":{\"fill\":{\"color\":\"#EBF0F8\"},\"line\":{\"color\":\"white\"}},\"header\":{\"fill\":{\"color\":\"#C8D4E3\"},\"line\":{\"color\":\"white\"}},\"type\":\"table\"}]},\"layout\":{\"annotationdefaults\":{\"arrowcolor\":\"#2a3f5f\",\"arrowhead\":0,\"arrowwidth\":1},\"autotypenumbers\":\"strict\",\"coloraxis\":{\"colorbar\":{\"outlinewidth\":0,\"ticks\":\"\"}},\"colorscale\":{\"diverging\":[[0,\"#8e0152\"],[0.1,\"#c51b7d\"],[0.2,\"#de77ae\"],[0.3,\"#f1b6da\"],[0.4,\"#fde0ef\"],[0.5,\"#f7f7f7\"],[0.6,\"#e6f5d0\"],[0.7,\"#b8e186\"],[0.8,\"#7fbc41\"],[0.9,\"#4d9221\"],[1,\"#276419\"]],\"sequential\":[[0.0,\"#0d0887\"],[0.1111111111111111,\"#46039f\"],[0.2222222222222222,\"#7201a8\"],[0.3333333333333333,\"#9c179e\"],[0.4444444444444444,\"#bd3786\"],[0.5555555555555556,\"#d8576b\"],[0.6666666666666666,\"#ed7953\"],[0.7777777777777778,\"#fb9f3a\"],[0.8888888888888888,\"#fdca26\"],[1.0,\"#f0f921\"]],\"sequentialminus\":[[0.0,\"#0d0887\"],[0.1111111111111111,\"#46039f\"],[0.2222222222222222,\"#7201a8\"],[0.3333333333333333,\"#9c179e\"],[0.4444444444444444,\"#bd3786\"],[0.5555555555555556,\"#d8576b\"],[0.6666666666666666,\"#ed7953\"],[0.7777777777777778,\"#fb9f3a\"],[0.8888888888888888,\"#fdca26\"],[1.0,\"#f0f921\"]]},\"colorway\":[\"#636efa\",\"#EF553B\",\"#00cc96\",\"#ab63fa\",\"#FFA15A\",\"#19d3f3\",\"#FF6692\",\"#B6E880\",\"#FF97FF\",\"#FECB52\"],\"font\":{\"color\":\"#2a3f5f\"},\"geo\":{\"bgcolor\":\"white\",\"lakecolor\":\"white\",\"landcolor\":\"#E5ECF6\",\"showlakes\":true,\"showland\":true,\"subunitcolor\":\"white\"},\"hoverlabel\":{\"align\":\"left\"},\"hovermode\":\"closest\",\"mapbox\":{\"style\":\"light\"},\"paper_bgcolor\":\"white\",\"plot_bgcolor\":\"#E5ECF6\",\"polar\":{\"angularaxis\":{\"gridcolor\":\"white\",\"linecolor\":\"white\",\"ticks\":\"\"},\"bgcolor\":\"#E5ECF6\",\"radialaxis\":{\"gridcolor\":\"white\",\"linecolor\":\"white\",\"ticks\":\"\"}},\"scene\":{\"xaxis\":{\"backgroundcolor\":\"#E5ECF6\",\"gridcolor\":\"white\",\"gridwidth\":2,\"linecolor\":\"white\",\"showbackground\":true,\"ticks\":\"\",\"zerolinecolor\":\"white\"},\"yaxis\":{\"backgroundcolor\":\"#E5ECF6\",\"gridcolor\":\"white\",\"gridwidth\":2,\"linecolor\":\"white\",\"showbackground\":true,\"ticks\":\"\",\"zerolinecolor\":\"white\"},\"zaxis\":{\"backgroundcolor\":\"#E5ECF6\",\"gridcolor\":\"white\",\"gridwidth\":2,\"linecolor\":\"white\",\"showbackground\":true,\"ticks\":\"\",\"zerolinecolor\":\"white\"}},\"shapedefaults\":{\"line\":{\"color\":\"#2a3f5f\"}},\"ternary\":{\"aaxis\":{\"gridcolor\":\"white\",\"linecolor\":\"white\",\"ticks\":\"\"},\"baxis\":{\"gridcolor\":\"white\",\"linecolor\":\"white\",\"ticks\":\"\"},\"bgcolor\":\"#E5ECF6\",\"caxis\":{\"gridcolor\":\"white\",\"linecolor\":\"white\",\"ticks\":\"\"}},\"title\":{\"x\":0.05},\"xaxis\":{\"automargin\":true,\"gridcolor\":\"white\",\"linecolor\":\"white\",\"ticks\":\"\",\"title\":{\"standoff\":15},\"zerolinecolor\":\"white\",\"zerolinewidth\":2},\"yaxis\":{\"automargin\":true,\"gridcolor\":\"white\",\"linecolor\":\"white\",\"ticks\":\"\",\"title\":{\"standoff\":15},\"zerolinecolor\":\"white\",\"zerolinewidth\":2}}},\"title\":{\"font\":{\"color\":\"#4D5663\"}},\"xaxis\":{\"gridcolor\":\"#E1E5ED\",\"showgrid\":true,\"tickfont\":{\"color\":\"#4D5663\"},\"title\":{\"font\":{\"color\":\"#4D5663\"},\"text\":\"\"},\"zerolinecolor\":\"#E1E5ED\"},\"yaxis\":{\"gridcolor\":\"#E1E5ED\",\"showgrid\":true,\"tickfont\":{\"color\":\"#4D5663\"},\"title\":{\"font\":{\"color\":\"#4D5663\"},\"text\":\"\"},\"zerolinecolor\":\"#E1E5ED\"}},                        {\"showLink\": true, \"linkText\": \"Export to plot.ly\", \"plotlyServerURL\": \"https://plot.ly\", \"responsive\": true}                    ).then(function(){\n",
       "                            \n",
       "var gd = document.getElementById('47f16ed4-ae06-455e-a2ea-1e12a772112f');\n",
       "var x = new MutationObserver(function (mutations, observer) {{\n",
       "        var display = window.getComputedStyle(gd).display;\n",
       "        if (!display || display === 'none') {{\n",
       "            console.log([gd, 'removed!']);\n",
       "            Plotly.purge(gd);\n",
       "            observer.disconnect();\n",
       "        }}\n",
       "}});\n",
       "\n",
       "// Listen for the removal of the full notebook cells\n",
       "var notebookContainer = gd.closest('#notebook-container');\n",
       "if (notebookContainer) {{\n",
       "    x.observe(notebookContainer, {childList: true});\n",
       "}}\n",
       "\n",
       "// Listen for the clearing of the current output cell\n",
       "var outputEl = gd.closest('.output');\n",
       "if (outputEl) {{\n",
       "    x.observe(outputEl, {childList: true});\n",
       "}}\n",
       "\n",
       "                        })                };                });            </script>        </div>"
      ]
     },
     "metadata": {},
     "output_type": "display_data"
    }
   ],
   "source": [
    "df.iplot(kind='scatter',x='A',y='B', mode='markers')"
   ]
  },
  {
   "cell_type": "code",
   "execution_count": 15,
   "metadata": {},
   "outputs": [
    {
     "data": {
      "application/vnd.plotly.v1+json": {
       "config": {
        "linkText": "Export to plot.ly",
        "plotlyServerURL": "https://plot.ly",
        "showLink": true
       },
       "data": [
        {
         "line": {
          "color": "rgba(255, 153, 51, 1.0)",
          "dash": "solid",
          "shape": "linear",
          "width": 1.3
         },
         "mode": "lines",
         "name": "B",
         "text": "",
         "type": "scatter",
         "x": [
          -0.5947246609007995,
          0.5080983839176285,
          -0.2729821610343981,
          1.4374400910119844,
          1.1419571206311756,
          -1.232610716651499,
          0.4540428085669437,
          -0.2759116668580806,
          1.5697212376142504,
          -1.4639406540709177,
          0.5486686814847282,
          -2.2375808038284624,
          -0.2721421244748315,
          -1.3357025368243627,
          -1.6166706184888897,
          -0.6651463271797208,
          0.4871549158566213,
          0.19084172067838373,
          -0.6330915267659967,
          1.7826340370371316,
          0.1690698159664783,
          1.0211689589203143,
          -0.5010043034699433,
          0.4252811836772652,
          0.5836486439984949,
          0.3503229690937196,
          -0.5142408989289913,
          -0.8812870246830704,
          0.5630690790365496,
          0.5361186589776664,
          -0.5686083266420646,
          -1.2469869098846766,
          -2.245796079140013,
          -1.1330290335770774,
          -0.016457154406527605,
          -0.26530917851442315,
          1.633766433593139,
          0.4460629510726452,
          -0.37231238194284444,
          -0.48399034500600685,
          -0.5414805164545972,
          0.4711651195719005,
          2.2033910682226185,
          0.3912213674776983,
          0.1770356217677615,
          0.7890615627595226,
          0.47539228648359083,
          -0.19298618929105993,
          0.5491716496086573,
          0.25727239792699996,
          1.9795243617189382,
          0.05868896894501684,
          -0.31903491132136336,
          1.048297475078446,
          0.3841296136509673,
          1.2260276387430127,
          0.14139911530330046,
          -0.9713093590150319,
          0.3205918800593372,
          -1.229147303641053,
          -1.8478453803658355,
          -1.2817089726351218,
          -1.071775272089408,
          0.3688434390194641,
          -2.302296481140197,
          -1.4038330323601642,
          -0.48808645057929395,
          -0.7804602924006149,
          0.8359895304660069,
          -1.3359576639397497,
          0.8453514176969392,
          -0.7565319236838722,
          -0.3974968625688486,
          -1.9409598602833364,
          1.2025187504484942,
          -1.5182570076336794,
          -0.8359225144847929,
          0.7289852900300552,
          -2.012327311236848,
          -1.1659543540352098,
          -0.017836751322662835,
          0.7990639240283605,
          -2.001775607060861,
          1.092328168305829,
          0.0804502098619926,
          -0.10617798512770182,
          -0.4198327316334372,
          0.052821215172944753,
          -0.5620481639789512,
          -1.2783309620053314,
          -0.38810901933778996,
          -1.7056525772960924,
          -0.13688792539458344,
          0.25621374519340084,
          -0.2467355202221928,
          -0.4721640675454362,
          1.3030608335706142,
          -2.345608295359219,
          0.42988016100530735,
          0.049109420211097765
         ],
         "y": [
          0.14430390048733446,
          0.18385226572388244,
          0.6267925222963432,
          -1.7991365631148435,
          -0.09260168315194633,
          0.10777198890098612,
          -0.627501306506416,
          0.11444734206370642,
          0.10017936808866847,
          -1.9232470291397914,
          1.192955957249836,
          1.4497787501235513,
          1.186686360978737,
          -1.0736537888552176,
          -0.4336130808564092,
          1.5657140852015559,
          -0.16208891207122433,
          -1.2963164909465819,
          0.11814844150465005,
          0.15990666685255986,
          -1.383084023770703,
          0.6370776229859546,
          0.4023880533518819,
          1.690277568214669,
          -2.070625326711363,
          -0.8988644691386962,
          1.6680987309976378,
          -0.34433329934312806,
          -0.6823656481844063,
          -1.2636117957856465,
          0.112447023598441,
          0.41721632332990877,
          -1.565562192075304,
          0.05861013426015205,
          -1.1622505415955888,
          2.0431877673772103,
          0.858459656176057,
          1.451119803037829,
          1.8980018158487026,
          -0.5064313373211253,
          -0.20898713049887868,
          1.457358421741614,
          -0.30539596905069605,
          0.16288464866418792,
          -0.4976239637921026,
          -1.5771695022235366,
          -0.20013737586169705,
          0.3271854253957044,
          -0.9918162072306904,
          -1.5016475697997238,
          1.1072428604603766,
          -0.8399480565202709,
          0.10699809714259687,
          1.3319521951132123,
          0.5867610162303735,
          0.6448580408938127,
          1.6885434294164736,
          -0.5555540236567169,
          0.9943050345581028,
          0.02542547104866749,
          0.03622865136042082,
          -1.3518961052216667,
          0.7475420200885579,
          1.738709157017959,
          1.4268176849161678,
          2.0943291431089404,
          0.10042352026323743,
          0.7526653486565243,
          0.0754885810031796,
          0.22138841909823184,
          1.0283420762123308,
          -2.256464021352241,
          1.723026666758455,
          0.20894936157448674,
          0.2969439482816422,
          0.08755862719066476,
          -0.11818936527876349,
          -0.052177251228342846,
          0.3190612891639335,
          0.4234184226613397,
          -0.2803553734343674,
          0.11069710621633297,
          0.7648987785194783,
          0.9641521952815469,
          -0.4346213218256712,
          -2.380557946457946,
          -0.1792010511219879,
          -1.5886289406447707,
          1.2302098541388724,
          1.0584094453607762,
          -0.7555192518511187,
          0.8531733184921768,
          -0.5036295603129022,
          0.42822713321857314,
          2.087727855418845,
          -0.6197867460766998,
          -1.6925990919830793,
          -0.5848049270004688,
          0.9803760696762216,
          1.6461005998954452
         ]
        }
       ],
       "layout": {
        "legend": {
         "bgcolor": "#F5F6F9",
         "font": {
          "color": "#4D5663"
         }
        },
        "paper_bgcolor": "#F5F6F9",
        "plot_bgcolor": "#F5F6F9",
        "template": {
         "data": {
          "bar": [
           {
            "error_x": {
             "color": "#2a3f5f"
            },
            "error_y": {
             "color": "#2a3f5f"
            },
            "marker": {
             "line": {
              "color": "#E5ECF6",
              "width": 0.5
             },
             "pattern": {
              "fillmode": "overlay",
              "size": 10,
              "solidity": 0.2
             }
            },
            "type": "bar"
           }
          ],
          "barpolar": [
           {
            "marker": {
             "line": {
              "color": "#E5ECF6",
              "width": 0.5
             },
             "pattern": {
              "fillmode": "overlay",
              "size": 10,
              "solidity": 0.2
             }
            },
            "type": "barpolar"
           }
          ],
          "carpet": [
           {
            "aaxis": {
             "endlinecolor": "#2a3f5f",
             "gridcolor": "white",
             "linecolor": "white",
             "minorgridcolor": "white",
             "startlinecolor": "#2a3f5f"
            },
            "baxis": {
             "endlinecolor": "#2a3f5f",
             "gridcolor": "white",
             "linecolor": "white",
             "minorgridcolor": "white",
             "startlinecolor": "#2a3f5f"
            },
            "type": "carpet"
           }
          ],
          "choropleth": [
           {
            "colorbar": {
             "outlinewidth": 0,
             "ticks": ""
            },
            "type": "choropleth"
           }
          ],
          "contour": [
           {
            "colorbar": {
             "outlinewidth": 0,
             "ticks": ""
            },
            "colorscale": [
             [
              0,
              "#0d0887"
             ],
             [
              0.1111111111111111,
              "#46039f"
             ],
             [
              0.2222222222222222,
              "#7201a8"
             ],
             [
              0.3333333333333333,
              "#9c179e"
             ],
             [
              0.4444444444444444,
              "#bd3786"
             ],
             [
              0.5555555555555556,
              "#d8576b"
             ],
             [
              0.6666666666666666,
              "#ed7953"
             ],
             [
              0.7777777777777778,
              "#fb9f3a"
             ],
             [
              0.8888888888888888,
              "#fdca26"
             ],
             [
              1,
              "#f0f921"
             ]
            ],
            "type": "contour"
           }
          ],
          "contourcarpet": [
           {
            "colorbar": {
             "outlinewidth": 0,
             "ticks": ""
            },
            "type": "contourcarpet"
           }
          ],
          "heatmap": [
           {
            "colorbar": {
             "outlinewidth": 0,
             "ticks": ""
            },
            "colorscale": [
             [
              0,
              "#0d0887"
             ],
             [
              0.1111111111111111,
              "#46039f"
             ],
             [
              0.2222222222222222,
              "#7201a8"
             ],
             [
              0.3333333333333333,
              "#9c179e"
             ],
             [
              0.4444444444444444,
              "#bd3786"
             ],
             [
              0.5555555555555556,
              "#d8576b"
             ],
             [
              0.6666666666666666,
              "#ed7953"
             ],
             [
              0.7777777777777778,
              "#fb9f3a"
             ],
             [
              0.8888888888888888,
              "#fdca26"
             ],
             [
              1,
              "#f0f921"
             ]
            ],
            "type": "heatmap"
           }
          ],
          "heatmapgl": [
           {
            "colorbar": {
             "outlinewidth": 0,
             "ticks": ""
            },
            "colorscale": [
             [
              0,
              "#0d0887"
             ],
             [
              0.1111111111111111,
              "#46039f"
             ],
             [
              0.2222222222222222,
              "#7201a8"
             ],
             [
              0.3333333333333333,
              "#9c179e"
             ],
             [
              0.4444444444444444,
              "#bd3786"
             ],
             [
              0.5555555555555556,
              "#d8576b"
             ],
             [
              0.6666666666666666,
              "#ed7953"
             ],
             [
              0.7777777777777778,
              "#fb9f3a"
             ],
             [
              0.8888888888888888,
              "#fdca26"
             ],
             [
              1,
              "#f0f921"
             ]
            ],
            "type": "heatmapgl"
           }
          ],
          "histogram": [
           {
            "marker": {
             "pattern": {
              "fillmode": "overlay",
              "size": 10,
              "solidity": 0.2
             }
            },
            "type": "histogram"
           }
          ],
          "histogram2d": [
           {
            "colorbar": {
             "outlinewidth": 0,
             "ticks": ""
            },
            "colorscale": [
             [
              0,
              "#0d0887"
             ],
             [
              0.1111111111111111,
              "#46039f"
             ],
             [
              0.2222222222222222,
              "#7201a8"
             ],
             [
              0.3333333333333333,
              "#9c179e"
             ],
             [
              0.4444444444444444,
              "#bd3786"
             ],
             [
              0.5555555555555556,
              "#d8576b"
             ],
             [
              0.6666666666666666,
              "#ed7953"
             ],
             [
              0.7777777777777778,
              "#fb9f3a"
             ],
             [
              0.8888888888888888,
              "#fdca26"
             ],
             [
              1,
              "#f0f921"
             ]
            ],
            "type": "histogram2d"
           }
          ],
          "histogram2dcontour": [
           {
            "colorbar": {
             "outlinewidth": 0,
             "ticks": ""
            },
            "colorscale": [
             [
              0,
              "#0d0887"
             ],
             [
              0.1111111111111111,
              "#46039f"
             ],
             [
              0.2222222222222222,
              "#7201a8"
             ],
             [
              0.3333333333333333,
              "#9c179e"
             ],
             [
              0.4444444444444444,
              "#bd3786"
             ],
             [
              0.5555555555555556,
              "#d8576b"
             ],
             [
              0.6666666666666666,
              "#ed7953"
             ],
             [
              0.7777777777777778,
              "#fb9f3a"
             ],
             [
              0.8888888888888888,
              "#fdca26"
             ],
             [
              1,
              "#f0f921"
             ]
            ],
            "type": "histogram2dcontour"
           }
          ],
          "mesh3d": [
           {
            "colorbar": {
             "outlinewidth": 0,
             "ticks": ""
            },
            "type": "mesh3d"
           }
          ],
          "parcoords": [
           {
            "line": {
             "colorbar": {
              "outlinewidth": 0,
              "ticks": ""
             }
            },
            "type": "parcoords"
           }
          ],
          "pie": [
           {
            "automargin": true,
            "type": "pie"
           }
          ],
          "scatter": [
           {
            "fillpattern": {
             "fillmode": "overlay",
             "size": 10,
             "solidity": 0.2
            },
            "type": "scatter"
           }
          ],
          "scatter3d": [
           {
            "line": {
             "colorbar": {
              "outlinewidth": 0,
              "ticks": ""
             }
            },
            "marker": {
             "colorbar": {
              "outlinewidth": 0,
              "ticks": ""
             }
            },
            "type": "scatter3d"
           }
          ],
          "scattercarpet": [
           {
            "marker": {
             "colorbar": {
              "outlinewidth": 0,
              "ticks": ""
             }
            },
            "type": "scattercarpet"
           }
          ],
          "scattergeo": [
           {
            "marker": {
             "colorbar": {
              "outlinewidth": 0,
              "ticks": ""
             }
            },
            "type": "scattergeo"
           }
          ],
          "scattergl": [
           {
            "marker": {
             "colorbar": {
              "outlinewidth": 0,
              "ticks": ""
             }
            },
            "type": "scattergl"
           }
          ],
          "scattermapbox": [
           {
            "marker": {
             "colorbar": {
              "outlinewidth": 0,
              "ticks": ""
             }
            },
            "type": "scattermapbox"
           }
          ],
          "scatterpolar": [
           {
            "marker": {
             "colorbar": {
              "outlinewidth": 0,
              "ticks": ""
             }
            },
            "type": "scatterpolar"
           }
          ],
          "scatterpolargl": [
           {
            "marker": {
             "colorbar": {
              "outlinewidth": 0,
              "ticks": ""
             }
            },
            "type": "scatterpolargl"
           }
          ],
          "scatterternary": [
           {
            "marker": {
             "colorbar": {
              "outlinewidth": 0,
              "ticks": ""
             }
            },
            "type": "scatterternary"
           }
          ],
          "surface": [
           {
            "colorbar": {
             "outlinewidth": 0,
             "ticks": ""
            },
            "colorscale": [
             [
              0,
              "#0d0887"
             ],
             [
              0.1111111111111111,
              "#46039f"
             ],
             [
              0.2222222222222222,
              "#7201a8"
             ],
             [
              0.3333333333333333,
              "#9c179e"
             ],
             [
              0.4444444444444444,
              "#bd3786"
             ],
             [
              0.5555555555555556,
              "#d8576b"
             ],
             [
              0.6666666666666666,
              "#ed7953"
             ],
             [
              0.7777777777777778,
              "#fb9f3a"
             ],
             [
              0.8888888888888888,
              "#fdca26"
             ],
             [
              1,
              "#f0f921"
             ]
            ],
            "type": "surface"
           }
          ],
          "table": [
           {
            "cells": {
             "fill": {
              "color": "#EBF0F8"
             },
             "line": {
              "color": "white"
             }
            },
            "header": {
             "fill": {
              "color": "#C8D4E3"
             },
             "line": {
              "color": "white"
             }
            },
            "type": "table"
           }
          ]
         },
         "layout": {
          "annotationdefaults": {
           "arrowcolor": "#2a3f5f",
           "arrowhead": 0,
           "arrowwidth": 1
          },
          "autotypenumbers": "strict",
          "coloraxis": {
           "colorbar": {
            "outlinewidth": 0,
            "ticks": ""
           }
          },
          "colorscale": {
           "diverging": [
            [
             0,
             "#8e0152"
            ],
            [
             0.1,
             "#c51b7d"
            ],
            [
             0.2,
             "#de77ae"
            ],
            [
             0.3,
             "#f1b6da"
            ],
            [
             0.4,
             "#fde0ef"
            ],
            [
             0.5,
             "#f7f7f7"
            ],
            [
             0.6,
             "#e6f5d0"
            ],
            [
             0.7,
             "#b8e186"
            ],
            [
             0.8,
             "#7fbc41"
            ],
            [
             0.9,
             "#4d9221"
            ],
            [
             1,
             "#276419"
            ]
           ],
           "sequential": [
            [
             0,
             "#0d0887"
            ],
            [
             0.1111111111111111,
             "#46039f"
            ],
            [
             0.2222222222222222,
             "#7201a8"
            ],
            [
             0.3333333333333333,
             "#9c179e"
            ],
            [
             0.4444444444444444,
             "#bd3786"
            ],
            [
             0.5555555555555556,
             "#d8576b"
            ],
            [
             0.6666666666666666,
             "#ed7953"
            ],
            [
             0.7777777777777778,
             "#fb9f3a"
            ],
            [
             0.8888888888888888,
             "#fdca26"
            ],
            [
             1,
             "#f0f921"
            ]
           ],
           "sequentialminus": [
            [
             0,
             "#0d0887"
            ],
            [
             0.1111111111111111,
             "#46039f"
            ],
            [
             0.2222222222222222,
             "#7201a8"
            ],
            [
             0.3333333333333333,
             "#9c179e"
            ],
            [
             0.4444444444444444,
             "#bd3786"
            ],
            [
             0.5555555555555556,
             "#d8576b"
            ],
            [
             0.6666666666666666,
             "#ed7953"
            ],
            [
             0.7777777777777778,
             "#fb9f3a"
            ],
            [
             0.8888888888888888,
             "#fdca26"
            ],
            [
             1,
             "#f0f921"
            ]
           ]
          },
          "colorway": [
           "#636efa",
           "#EF553B",
           "#00cc96",
           "#ab63fa",
           "#FFA15A",
           "#19d3f3",
           "#FF6692",
           "#B6E880",
           "#FF97FF",
           "#FECB52"
          ],
          "font": {
           "color": "#2a3f5f"
          },
          "geo": {
           "bgcolor": "white",
           "lakecolor": "white",
           "landcolor": "#E5ECF6",
           "showlakes": true,
           "showland": true,
           "subunitcolor": "white"
          },
          "hoverlabel": {
           "align": "left"
          },
          "hovermode": "closest",
          "mapbox": {
           "style": "light"
          },
          "paper_bgcolor": "white",
          "plot_bgcolor": "#E5ECF6",
          "polar": {
           "angularaxis": {
            "gridcolor": "white",
            "linecolor": "white",
            "ticks": ""
           },
           "bgcolor": "#E5ECF6",
           "radialaxis": {
            "gridcolor": "white",
            "linecolor": "white",
            "ticks": ""
           }
          },
          "scene": {
           "xaxis": {
            "backgroundcolor": "#E5ECF6",
            "gridcolor": "white",
            "gridwidth": 2,
            "linecolor": "white",
            "showbackground": true,
            "ticks": "",
            "zerolinecolor": "white"
           },
           "yaxis": {
            "backgroundcolor": "#E5ECF6",
            "gridcolor": "white",
            "gridwidth": 2,
            "linecolor": "white",
            "showbackground": true,
            "ticks": "",
            "zerolinecolor": "white"
           },
           "zaxis": {
            "backgroundcolor": "#E5ECF6",
            "gridcolor": "white",
            "gridwidth": 2,
            "linecolor": "white",
            "showbackground": true,
            "ticks": "",
            "zerolinecolor": "white"
           }
          },
          "shapedefaults": {
           "line": {
            "color": "#2a3f5f"
           }
          },
          "ternary": {
           "aaxis": {
            "gridcolor": "white",
            "linecolor": "white",
            "ticks": ""
           },
           "baxis": {
            "gridcolor": "white",
            "linecolor": "white",
            "ticks": ""
           },
           "bgcolor": "#E5ECF6",
           "caxis": {
            "gridcolor": "white",
            "linecolor": "white",
            "ticks": ""
           }
          },
          "title": {
           "x": 0.05
          },
          "xaxis": {
           "automargin": true,
           "gridcolor": "white",
           "linecolor": "white",
           "ticks": "",
           "title": {
            "standoff": 15
           },
           "zerolinecolor": "white",
           "zerolinewidth": 2
          },
          "yaxis": {
           "automargin": true,
           "gridcolor": "white",
           "linecolor": "white",
           "ticks": "",
           "title": {
            "standoff": 15
           },
           "zerolinecolor": "white",
           "zerolinewidth": 2
          }
         }
        },
        "title": {
         "font": {
          "color": "#4D5663"
         }
        },
        "xaxis": {
         "gridcolor": "#E1E5ED",
         "showgrid": true,
         "tickfont": {
          "color": "#4D5663"
         },
         "title": {
          "font": {
           "color": "#4D5663"
          },
          "text": ""
         },
         "zerolinecolor": "#E1E5ED"
        },
        "yaxis": {
         "gridcolor": "#E1E5ED",
         "showgrid": true,
         "tickfont": {
          "color": "#4D5663"
         },
         "title": {
          "font": {
           "color": "#4D5663"
          },
          "text": ""
         },
         "zerolinecolor": "#E1E5ED"
        }
       }
      },
      "text/html": [
       "<div>                            <div id=\"2dfac387-6a2a-4f59-901a-d21432ae8d38\" class=\"plotly-graph-div\" style=\"height:525px; width:100%;\"></div>            <script type=\"text/javascript\">                require([\"plotly\"], function(Plotly) {                    window.PLOTLYENV=window.PLOTLYENV || {};\n",
       "                    window.PLOTLYENV.BASE_URL='https://plot.ly';                                    if (document.getElementById(\"2dfac387-6a2a-4f59-901a-d21432ae8d38\")) {                    Plotly.newPlot(                        \"2dfac387-6a2a-4f59-901a-d21432ae8d38\",                        [{\"line\":{\"color\":\"rgba(255, 153, 51, 1.0)\",\"dash\":\"solid\",\"shape\":\"linear\",\"width\":1.3},\"mode\":\"lines\",\"name\":\"B\",\"text\":\"\",\"x\":[-0.5947246609007995,0.5080983839176285,-0.2729821610343981,1.4374400910119844,1.1419571206311756,-1.232610716651499,0.4540428085669437,-0.2759116668580806,1.5697212376142504,-1.4639406540709177,0.5486686814847282,-2.2375808038284624,-0.2721421244748315,-1.3357025368243627,-1.6166706184888897,-0.6651463271797208,0.4871549158566213,0.19084172067838373,-0.6330915267659967,1.7826340370371316,0.1690698159664783,1.0211689589203143,-0.5010043034699433,0.4252811836772652,0.5836486439984949,0.3503229690937196,-0.5142408989289913,-0.8812870246830704,0.5630690790365496,0.5361186589776664,-0.5686083266420646,-1.2469869098846766,-2.245796079140013,-1.1330290335770774,-0.016457154406527605,-0.26530917851442315,1.633766433593139,0.4460629510726452,-0.37231238194284444,-0.48399034500600685,-0.5414805164545972,0.4711651195719005,2.2033910682226185,0.3912213674776983,0.1770356217677615,0.7890615627595226,0.47539228648359083,-0.19298618929105993,0.5491716496086573,0.25727239792699996,1.9795243617189382,0.05868896894501684,-0.31903491132136336,1.048297475078446,0.3841296136509673,1.2260276387430127,0.14139911530330046,-0.9713093590150319,0.3205918800593372,-1.229147303641053,-1.8478453803658355,-1.2817089726351218,-1.071775272089408,0.3688434390194641,-2.302296481140197,-1.4038330323601642,-0.48808645057929395,-0.7804602924006149,0.8359895304660069,-1.3359576639397497,0.8453514176969392,-0.7565319236838722,-0.3974968625688486,-1.9409598602833364,1.2025187504484942,-1.5182570076336794,-0.8359225144847929,0.7289852900300552,-2.012327311236848,-1.1659543540352098,-0.017836751322662835,0.7990639240283605,-2.001775607060861,1.092328168305829,0.0804502098619926,-0.10617798512770182,-0.4198327316334372,0.052821215172944753,-0.5620481639789512,-1.2783309620053314,-0.38810901933778996,-1.7056525772960924,-0.13688792539458344,0.25621374519340084,-0.2467355202221928,-0.4721640675454362,1.3030608335706142,-2.345608295359219,0.42988016100530735,0.049109420211097765],\"y\":[0.14430390048733446,0.18385226572388244,0.6267925222963432,-1.7991365631148435,-0.09260168315194633,0.10777198890098612,-0.627501306506416,0.11444734206370642,0.10017936808866847,-1.9232470291397914,1.192955957249836,1.4497787501235513,1.186686360978737,-1.0736537888552176,-0.4336130808564092,1.5657140852015559,-0.16208891207122433,-1.2963164909465819,0.11814844150465005,0.15990666685255986,-1.383084023770703,0.6370776229859546,0.4023880533518819,1.690277568214669,-2.070625326711363,-0.8988644691386962,1.6680987309976378,-0.34433329934312806,-0.6823656481844063,-1.2636117957856465,0.112447023598441,0.41721632332990877,-1.565562192075304,0.05861013426015205,-1.1622505415955888,2.0431877673772103,0.858459656176057,1.451119803037829,1.8980018158487026,-0.5064313373211253,-0.20898713049887868,1.457358421741614,-0.30539596905069605,0.16288464866418792,-0.4976239637921026,-1.5771695022235366,-0.20013737586169705,0.3271854253957044,-0.9918162072306904,-1.5016475697997238,1.1072428604603766,-0.8399480565202709,0.10699809714259687,1.3319521951132123,0.5867610162303735,0.6448580408938127,1.6885434294164736,-0.5555540236567169,0.9943050345581028,0.02542547104866749,0.03622865136042082,-1.3518961052216667,0.7475420200885579,1.738709157017959,1.4268176849161678,2.0943291431089404,0.10042352026323743,0.7526653486565243,0.0754885810031796,0.22138841909823184,1.0283420762123308,-2.256464021352241,1.723026666758455,0.20894936157448674,0.2969439482816422,0.08755862719066476,-0.11818936527876349,-0.052177251228342846,0.3190612891639335,0.4234184226613397,-0.2803553734343674,0.11069710621633297,0.7648987785194783,0.9641521952815469,-0.4346213218256712,-2.380557946457946,-0.1792010511219879,-1.5886289406447707,1.2302098541388724,1.0584094453607762,-0.7555192518511187,0.8531733184921768,-0.5036295603129022,0.42822713321857314,2.087727855418845,-0.6197867460766998,-1.6925990919830793,-0.5848049270004688,0.9803760696762216,1.6461005998954452],\"type\":\"scatter\"}],                        {\"legend\":{\"bgcolor\":\"#F5F6F9\",\"font\":{\"color\":\"#4D5663\"}},\"paper_bgcolor\":\"#F5F6F9\",\"plot_bgcolor\":\"#F5F6F9\",\"template\":{\"data\":{\"barpolar\":[{\"marker\":{\"line\":{\"color\":\"#E5ECF6\",\"width\":0.5},\"pattern\":{\"fillmode\":\"overlay\",\"size\":10,\"solidity\":0.2}},\"type\":\"barpolar\"}],\"bar\":[{\"error_x\":{\"color\":\"#2a3f5f\"},\"error_y\":{\"color\":\"#2a3f5f\"},\"marker\":{\"line\":{\"color\":\"#E5ECF6\",\"width\":0.5},\"pattern\":{\"fillmode\":\"overlay\",\"size\":10,\"solidity\":0.2}},\"type\":\"bar\"}],\"carpet\":[{\"aaxis\":{\"endlinecolor\":\"#2a3f5f\",\"gridcolor\":\"white\",\"linecolor\":\"white\",\"minorgridcolor\":\"white\",\"startlinecolor\":\"#2a3f5f\"},\"baxis\":{\"endlinecolor\":\"#2a3f5f\",\"gridcolor\":\"white\",\"linecolor\":\"white\",\"minorgridcolor\":\"white\",\"startlinecolor\":\"#2a3f5f\"},\"type\":\"carpet\"}],\"choropleth\":[{\"colorbar\":{\"outlinewidth\":0,\"ticks\":\"\"},\"type\":\"choropleth\"}],\"contourcarpet\":[{\"colorbar\":{\"outlinewidth\":0,\"ticks\":\"\"},\"type\":\"contourcarpet\"}],\"contour\":[{\"colorbar\":{\"outlinewidth\":0,\"ticks\":\"\"},\"colorscale\":[[0.0,\"#0d0887\"],[0.1111111111111111,\"#46039f\"],[0.2222222222222222,\"#7201a8\"],[0.3333333333333333,\"#9c179e\"],[0.4444444444444444,\"#bd3786\"],[0.5555555555555556,\"#d8576b\"],[0.6666666666666666,\"#ed7953\"],[0.7777777777777778,\"#fb9f3a\"],[0.8888888888888888,\"#fdca26\"],[1.0,\"#f0f921\"]],\"type\":\"contour\"}],\"heatmapgl\":[{\"colorbar\":{\"outlinewidth\":0,\"ticks\":\"\"},\"colorscale\":[[0.0,\"#0d0887\"],[0.1111111111111111,\"#46039f\"],[0.2222222222222222,\"#7201a8\"],[0.3333333333333333,\"#9c179e\"],[0.4444444444444444,\"#bd3786\"],[0.5555555555555556,\"#d8576b\"],[0.6666666666666666,\"#ed7953\"],[0.7777777777777778,\"#fb9f3a\"],[0.8888888888888888,\"#fdca26\"],[1.0,\"#f0f921\"]],\"type\":\"heatmapgl\"}],\"heatmap\":[{\"colorbar\":{\"outlinewidth\":0,\"ticks\":\"\"},\"colorscale\":[[0.0,\"#0d0887\"],[0.1111111111111111,\"#46039f\"],[0.2222222222222222,\"#7201a8\"],[0.3333333333333333,\"#9c179e\"],[0.4444444444444444,\"#bd3786\"],[0.5555555555555556,\"#d8576b\"],[0.6666666666666666,\"#ed7953\"],[0.7777777777777778,\"#fb9f3a\"],[0.8888888888888888,\"#fdca26\"],[1.0,\"#f0f921\"]],\"type\":\"heatmap\"}],\"histogram2dcontour\":[{\"colorbar\":{\"outlinewidth\":0,\"ticks\":\"\"},\"colorscale\":[[0.0,\"#0d0887\"],[0.1111111111111111,\"#46039f\"],[0.2222222222222222,\"#7201a8\"],[0.3333333333333333,\"#9c179e\"],[0.4444444444444444,\"#bd3786\"],[0.5555555555555556,\"#d8576b\"],[0.6666666666666666,\"#ed7953\"],[0.7777777777777778,\"#fb9f3a\"],[0.8888888888888888,\"#fdca26\"],[1.0,\"#f0f921\"]],\"type\":\"histogram2dcontour\"}],\"histogram2d\":[{\"colorbar\":{\"outlinewidth\":0,\"ticks\":\"\"},\"colorscale\":[[0.0,\"#0d0887\"],[0.1111111111111111,\"#46039f\"],[0.2222222222222222,\"#7201a8\"],[0.3333333333333333,\"#9c179e\"],[0.4444444444444444,\"#bd3786\"],[0.5555555555555556,\"#d8576b\"],[0.6666666666666666,\"#ed7953\"],[0.7777777777777778,\"#fb9f3a\"],[0.8888888888888888,\"#fdca26\"],[1.0,\"#f0f921\"]],\"type\":\"histogram2d\"}],\"histogram\":[{\"marker\":{\"pattern\":{\"fillmode\":\"overlay\",\"size\":10,\"solidity\":0.2}},\"type\":\"histogram\"}],\"mesh3d\":[{\"colorbar\":{\"outlinewidth\":0,\"ticks\":\"\"},\"type\":\"mesh3d\"}],\"parcoords\":[{\"line\":{\"colorbar\":{\"outlinewidth\":0,\"ticks\":\"\"}},\"type\":\"parcoords\"}],\"pie\":[{\"automargin\":true,\"type\":\"pie\"}],\"scatter3d\":[{\"line\":{\"colorbar\":{\"outlinewidth\":0,\"ticks\":\"\"}},\"marker\":{\"colorbar\":{\"outlinewidth\":0,\"ticks\":\"\"}},\"type\":\"scatter3d\"}],\"scattercarpet\":[{\"marker\":{\"colorbar\":{\"outlinewidth\":0,\"ticks\":\"\"}},\"type\":\"scattercarpet\"}],\"scattergeo\":[{\"marker\":{\"colorbar\":{\"outlinewidth\":0,\"ticks\":\"\"}},\"type\":\"scattergeo\"}],\"scattergl\":[{\"marker\":{\"colorbar\":{\"outlinewidth\":0,\"ticks\":\"\"}},\"type\":\"scattergl\"}],\"scattermapbox\":[{\"marker\":{\"colorbar\":{\"outlinewidth\":0,\"ticks\":\"\"}},\"type\":\"scattermapbox\"}],\"scatterpolargl\":[{\"marker\":{\"colorbar\":{\"outlinewidth\":0,\"ticks\":\"\"}},\"type\":\"scatterpolargl\"}],\"scatterpolar\":[{\"marker\":{\"colorbar\":{\"outlinewidth\":0,\"ticks\":\"\"}},\"type\":\"scatterpolar\"}],\"scatter\":[{\"fillpattern\":{\"fillmode\":\"overlay\",\"size\":10,\"solidity\":0.2},\"type\":\"scatter\"}],\"scatterternary\":[{\"marker\":{\"colorbar\":{\"outlinewidth\":0,\"ticks\":\"\"}},\"type\":\"scatterternary\"}],\"surface\":[{\"colorbar\":{\"outlinewidth\":0,\"ticks\":\"\"},\"colorscale\":[[0.0,\"#0d0887\"],[0.1111111111111111,\"#46039f\"],[0.2222222222222222,\"#7201a8\"],[0.3333333333333333,\"#9c179e\"],[0.4444444444444444,\"#bd3786\"],[0.5555555555555556,\"#d8576b\"],[0.6666666666666666,\"#ed7953\"],[0.7777777777777778,\"#fb9f3a\"],[0.8888888888888888,\"#fdca26\"],[1.0,\"#f0f921\"]],\"type\":\"surface\"}],\"table\":[{\"cells\":{\"fill\":{\"color\":\"#EBF0F8\"},\"line\":{\"color\":\"white\"}},\"header\":{\"fill\":{\"color\":\"#C8D4E3\"},\"line\":{\"color\":\"white\"}},\"type\":\"table\"}]},\"layout\":{\"annotationdefaults\":{\"arrowcolor\":\"#2a3f5f\",\"arrowhead\":0,\"arrowwidth\":1},\"autotypenumbers\":\"strict\",\"coloraxis\":{\"colorbar\":{\"outlinewidth\":0,\"ticks\":\"\"}},\"colorscale\":{\"diverging\":[[0,\"#8e0152\"],[0.1,\"#c51b7d\"],[0.2,\"#de77ae\"],[0.3,\"#f1b6da\"],[0.4,\"#fde0ef\"],[0.5,\"#f7f7f7\"],[0.6,\"#e6f5d0\"],[0.7,\"#b8e186\"],[0.8,\"#7fbc41\"],[0.9,\"#4d9221\"],[1,\"#276419\"]],\"sequential\":[[0.0,\"#0d0887\"],[0.1111111111111111,\"#46039f\"],[0.2222222222222222,\"#7201a8\"],[0.3333333333333333,\"#9c179e\"],[0.4444444444444444,\"#bd3786\"],[0.5555555555555556,\"#d8576b\"],[0.6666666666666666,\"#ed7953\"],[0.7777777777777778,\"#fb9f3a\"],[0.8888888888888888,\"#fdca26\"],[1.0,\"#f0f921\"]],\"sequentialminus\":[[0.0,\"#0d0887\"],[0.1111111111111111,\"#46039f\"],[0.2222222222222222,\"#7201a8\"],[0.3333333333333333,\"#9c179e\"],[0.4444444444444444,\"#bd3786\"],[0.5555555555555556,\"#d8576b\"],[0.6666666666666666,\"#ed7953\"],[0.7777777777777778,\"#fb9f3a\"],[0.8888888888888888,\"#fdca26\"],[1.0,\"#f0f921\"]]},\"colorway\":[\"#636efa\",\"#EF553B\",\"#00cc96\",\"#ab63fa\",\"#FFA15A\",\"#19d3f3\",\"#FF6692\",\"#B6E880\",\"#FF97FF\",\"#FECB52\"],\"font\":{\"color\":\"#2a3f5f\"},\"geo\":{\"bgcolor\":\"white\",\"lakecolor\":\"white\",\"landcolor\":\"#E5ECF6\",\"showlakes\":true,\"showland\":true,\"subunitcolor\":\"white\"},\"hoverlabel\":{\"align\":\"left\"},\"hovermode\":\"closest\",\"mapbox\":{\"style\":\"light\"},\"paper_bgcolor\":\"white\",\"plot_bgcolor\":\"#E5ECF6\",\"polar\":{\"angularaxis\":{\"gridcolor\":\"white\",\"linecolor\":\"white\",\"ticks\":\"\"},\"bgcolor\":\"#E5ECF6\",\"radialaxis\":{\"gridcolor\":\"white\",\"linecolor\":\"white\",\"ticks\":\"\"}},\"scene\":{\"xaxis\":{\"backgroundcolor\":\"#E5ECF6\",\"gridcolor\":\"white\",\"gridwidth\":2,\"linecolor\":\"white\",\"showbackground\":true,\"ticks\":\"\",\"zerolinecolor\":\"white\"},\"yaxis\":{\"backgroundcolor\":\"#E5ECF6\",\"gridcolor\":\"white\",\"gridwidth\":2,\"linecolor\":\"white\",\"showbackground\":true,\"ticks\":\"\",\"zerolinecolor\":\"white\"},\"zaxis\":{\"backgroundcolor\":\"#E5ECF6\",\"gridcolor\":\"white\",\"gridwidth\":2,\"linecolor\":\"white\",\"showbackground\":true,\"ticks\":\"\",\"zerolinecolor\":\"white\"}},\"shapedefaults\":{\"line\":{\"color\":\"#2a3f5f\"}},\"ternary\":{\"aaxis\":{\"gridcolor\":\"white\",\"linecolor\":\"white\",\"ticks\":\"\"},\"baxis\":{\"gridcolor\":\"white\",\"linecolor\":\"white\",\"ticks\":\"\"},\"bgcolor\":\"#E5ECF6\",\"caxis\":{\"gridcolor\":\"white\",\"linecolor\":\"white\",\"ticks\":\"\"}},\"title\":{\"x\":0.05},\"xaxis\":{\"automargin\":true,\"gridcolor\":\"white\",\"linecolor\":\"white\",\"ticks\":\"\",\"title\":{\"standoff\":15},\"zerolinecolor\":\"white\",\"zerolinewidth\":2},\"yaxis\":{\"automargin\":true,\"gridcolor\":\"white\",\"linecolor\":\"white\",\"ticks\":\"\",\"title\":{\"standoff\":15},\"zerolinecolor\":\"white\",\"zerolinewidth\":2}}},\"title\":{\"font\":{\"color\":\"#4D5663\"}},\"xaxis\":{\"gridcolor\":\"#E1E5ED\",\"showgrid\":true,\"tickfont\":{\"color\":\"#4D5663\"},\"title\":{\"font\":{\"color\":\"#4D5663\"},\"text\":\"\"},\"zerolinecolor\":\"#E1E5ED\"},\"yaxis\":{\"gridcolor\":\"#E1E5ED\",\"showgrid\":true,\"tickfont\":{\"color\":\"#4D5663\"},\"title\":{\"font\":{\"color\":\"#4D5663\"},\"text\":\"\"},\"zerolinecolor\":\"#E1E5ED\"}},                        {\"showLink\": true, \"linkText\": \"Export to plot.ly\", \"plotlyServerURL\": \"https://plot.ly\", \"responsive\": true}                    ).then(function(){\n",
       "                            \n",
       "var gd = document.getElementById('2dfac387-6a2a-4f59-901a-d21432ae8d38');\n",
       "var x = new MutationObserver(function (mutations, observer) {{\n",
       "        var display = window.getComputedStyle(gd).display;\n",
       "        if (!display || display === 'none') {{\n",
       "            console.log([gd, 'removed!']);\n",
       "            Plotly.purge(gd);\n",
       "            observer.disconnect();\n",
       "        }}\n",
       "}});\n",
       "\n",
       "// Listen for the removal of the full notebook cells\n",
       "var notebookContainer = gd.closest('#notebook-container');\n",
       "if (notebookContainer) {{\n",
       "    x.observe(notebookContainer, {childList: true});\n",
       "}}\n",
       "\n",
       "// Listen for the clearing of the current output cell\n",
       "var outputEl = gd.closest('.output');\n",
       "if (outputEl) {{\n",
       "    x.observe(outputEl, {childList: true});\n",
       "}}\n",
       "\n",
       "                        })                };                });            </script>        </div>"
      ]
     },
     "metadata": {},
     "output_type": "display_data"
    }
   ],
   "source": [
    "df.iplot(kind='scatter',x='A',y='B')"
   ]
  },
  {
   "cell_type": "code",
   "execution_count": 16,
   "metadata": {},
   "outputs": [
    {
     "data": {
      "application/vnd.plotly.v1+json": {
       "config": {
        "linkText": "Export to plot.ly",
        "plotlyServerURL": "https://plot.ly",
        "showLink": true
       },
       "data": [
        {
         "marker": {
          "color": "rgba(255, 153, 51, 0.6)",
          "line": {
           "color": "rgba(255, 153, 51, 1.0)",
           "width": 1
          }
         },
         "name": "Values",
         "orientation": "v",
         "text": "",
         "type": "bar",
         "x": [
          "A",
          "B",
          "C"
         ],
         "y": [
          32,
          64,
          128
         ]
        }
       ],
       "layout": {
        "legend": {
         "bgcolor": "#F5F6F9",
         "font": {
          "color": "#4D5663"
         }
        },
        "paper_bgcolor": "#F5F6F9",
        "plot_bgcolor": "#F5F6F9",
        "template": {
         "data": {
          "bar": [
           {
            "error_x": {
             "color": "#2a3f5f"
            },
            "error_y": {
             "color": "#2a3f5f"
            },
            "marker": {
             "line": {
              "color": "#E5ECF6",
              "width": 0.5
             },
             "pattern": {
              "fillmode": "overlay",
              "size": 10,
              "solidity": 0.2
             }
            },
            "type": "bar"
           }
          ],
          "barpolar": [
           {
            "marker": {
             "line": {
              "color": "#E5ECF6",
              "width": 0.5
             },
             "pattern": {
              "fillmode": "overlay",
              "size": 10,
              "solidity": 0.2
             }
            },
            "type": "barpolar"
           }
          ],
          "carpet": [
           {
            "aaxis": {
             "endlinecolor": "#2a3f5f",
             "gridcolor": "white",
             "linecolor": "white",
             "minorgridcolor": "white",
             "startlinecolor": "#2a3f5f"
            },
            "baxis": {
             "endlinecolor": "#2a3f5f",
             "gridcolor": "white",
             "linecolor": "white",
             "minorgridcolor": "white",
             "startlinecolor": "#2a3f5f"
            },
            "type": "carpet"
           }
          ],
          "choropleth": [
           {
            "colorbar": {
             "outlinewidth": 0,
             "ticks": ""
            },
            "type": "choropleth"
           }
          ],
          "contour": [
           {
            "colorbar": {
             "outlinewidth": 0,
             "ticks": ""
            },
            "colorscale": [
             [
              0,
              "#0d0887"
             ],
             [
              0.1111111111111111,
              "#46039f"
             ],
             [
              0.2222222222222222,
              "#7201a8"
             ],
             [
              0.3333333333333333,
              "#9c179e"
             ],
             [
              0.4444444444444444,
              "#bd3786"
             ],
             [
              0.5555555555555556,
              "#d8576b"
             ],
             [
              0.6666666666666666,
              "#ed7953"
             ],
             [
              0.7777777777777778,
              "#fb9f3a"
             ],
             [
              0.8888888888888888,
              "#fdca26"
             ],
             [
              1,
              "#f0f921"
             ]
            ],
            "type": "contour"
           }
          ],
          "contourcarpet": [
           {
            "colorbar": {
             "outlinewidth": 0,
             "ticks": ""
            },
            "type": "contourcarpet"
           }
          ],
          "heatmap": [
           {
            "colorbar": {
             "outlinewidth": 0,
             "ticks": ""
            },
            "colorscale": [
             [
              0,
              "#0d0887"
             ],
             [
              0.1111111111111111,
              "#46039f"
             ],
             [
              0.2222222222222222,
              "#7201a8"
             ],
             [
              0.3333333333333333,
              "#9c179e"
             ],
             [
              0.4444444444444444,
              "#bd3786"
             ],
             [
              0.5555555555555556,
              "#d8576b"
             ],
             [
              0.6666666666666666,
              "#ed7953"
             ],
             [
              0.7777777777777778,
              "#fb9f3a"
             ],
             [
              0.8888888888888888,
              "#fdca26"
             ],
             [
              1,
              "#f0f921"
             ]
            ],
            "type": "heatmap"
           }
          ],
          "heatmapgl": [
           {
            "colorbar": {
             "outlinewidth": 0,
             "ticks": ""
            },
            "colorscale": [
             [
              0,
              "#0d0887"
             ],
             [
              0.1111111111111111,
              "#46039f"
             ],
             [
              0.2222222222222222,
              "#7201a8"
             ],
             [
              0.3333333333333333,
              "#9c179e"
             ],
             [
              0.4444444444444444,
              "#bd3786"
             ],
             [
              0.5555555555555556,
              "#d8576b"
             ],
             [
              0.6666666666666666,
              "#ed7953"
             ],
             [
              0.7777777777777778,
              "#fb9f3a"
             ],
             [
              0.8888888888888888,
              "#fdca26"
             ],
             [
              1,
              "#f0f921"
             ]
            ],
            "type": "heatmapgl"
           }
          ],
          "histogram": [
           {
            "marker": {
             "pattern": {
              "fillmode": "overlay",
              "size": 10,
              "solidity": 0.2
             }
            },
            "type": "histogram"
           }
          ],
          "histogram2d": [
           {
            "colorbar": {
             "outlinewidth": 0,
             "ticks": ""
            },
            "colorscale": [
             [
              0,
              "#0d0887"
             ],
             [
              0.1111111111111111,
              "#46039f"
             ],
             [
              0.2222222222222222,
              "#7201a8"
             ],
             [
              0.3333333333333333,
              "#9c179e"
             ],
             [
              0.4444444444444444,
              "#bd3786"
             ],
             [
              0.5555555555555556,
              "#d8576b"
             ],
             [
              0.6666666666666666,
              "#ed7953"
             ],
             [
              0.7777777777777778,
              "#fb9f3a"
             ],
             [
              0.8888888888888888,
              "#fdca26"
             ],
             [
              1,
              "#f0f921"
             ]
            ],
            "type": "histogram2d"
           }
          ],
          "histogram2dcontour": [
           {
            "colorbar": {
             "outlinewidth": 0,
             "ticks": ""
            },
            "colorscale": [
             [
              0,
              "#0d0887"
             ],
             [
              0.1111111111111111,
              "#46039f"
             ],
             [
              0.2222222222222222,
              "#7201a8"
             ],
             [
              0.3333333333333333,
              "#9c179e"
             ],
             [
              0.4444444444444444,
              "#bd3786"
             ],
             [
              0.5555555555555556,
              "#d8576b"
             ],
             [
              0.6666666666666666,
              "#ed7953"
             ],
             [
              0.7777777777777778,
              "#fb9f3a"
             ],
             [
              0.8888888888888888,
              "#fdca26"
             ],
             [
              1,
              "#f0f921"
             ]
            ],
            "type": "histogram2dcontour"
           }
          ],
          "mesh3d": [
           {
            "colorbar": {
             "outlinewidth": 0,
             "ticks": ""
            },
            "type": "mesh3d"
           }
          ],
          "parcoords": [
           {
            "line": {
             "colorbar": {
              "outlinewidth": 0,
              "ticks": ""
             }
            },
            "type": "parcoords"
           }
          ],
          "pie": [
           {
            "automargin": true,
            "type": "pie"
           }
          ],
          "scatter": [
           {
            "fillpattern": {
             "fillmode": "overlay",
             "size": 10,
             "solidity": 0.2
            },
            "type": "scatter"
           }
          ],
          "scatter3d": [
           {
            "line": {
             "colorbar": {
              "outlinewidth": 0,
              "ticks": ""
             }
            },
            "marker": {
             "colorbar": {
              "outlinewidth": 0,
              "ticks": ""
             }
            },
            "type": "scatter3d"
           }
          ],
          "scattercarpet": [
           {
            "marker": {
             "colorbar": {
              "outlinewidth": 0,
              "ticks": ""
             }
            },
            "type": "scattercarpet"
           }
          ],
          "scattergeo": [
           {
            "marker": {
             "colorbar": {
              "outlinewidth": 0,
              "ticks": ""
             }
            },
            "type": "scattergeo"
           }
          ],
          "scattergl": [
           {
            "marker": {
             "colorbar": {
              "outlinewidth": 0,
              "ticks": ""
             }
            },
            "type": "scattergl"
           }
          ],
          "scattermapbox": [
           {
            "marker": {
             "colorbar": {
              "outlinewidth": 0,
              "ticks": ""
             }
            },
            "type": "scattermapbox"
           }
          ],
          "scatterpolar": [
           {
            "marker": {
             "colorbar": {
              "outlinewidth": 0,
              "ticks": ""
             }
            },
            "type": "scatterpolar"
           }
          ],
          "scatterpolargl": [
           {
            "marker": {
             "colorbar": {
              "outlinewidth": 0,
              "ticks": ""
             }
            },
            "type": "scatterpolargl"
           }
          ],
          "scatterternary": [
           {
            "marker": {
             "colorbar": {
              "outlinewidth": 0,
              "ticks": ""
             }
            },
            "type": "scatterternary"
           }
          ],
          "surface": [
           {
            "colorbar": {
             "outlinewidth": 0,
             "ticks": ""
            },
            "colorscale": [
             [
              0,
              "#0d0887"
             ],
             [
              0.1111111111111111,
              "#46039f"
             ],
             [
              0.2222222222222222,
              "#7201a8"
             ],
             [
              0.3333333333333333,
              "#9c179e"
             ],
             [
              0.4444444444444444,
              "#bd3786"
             ],
             [
              0.5555555555555556,
              "#d8576b"
             ],
             [
              0.6666666666666666,
              "#ed7953"
             ],
             [
              0.7777777777777778,
              "#fb9f3a"
             ],
             [
              0.8888888888888888,
              "#fdca26"
             ],
             [
              1,
              "#f0f921"
             ]
            ],
            "type": "surface"
           }
          ],
          "table": [
           {
            "cells": {
             "fill": {
              "color": "#EBF0F8"
             },
             "line": {
              "color": "white"
             }
            },
            "header": {
             "fill": {
              "color": "#C8D4E3"
             },
             "line": {
              "color": "white"
             }
            },
            "type": "table"
           }
          ]
         },
         "layout": {
          "annotationdefaults": {
           "arrowcolor": "#2a3f5f",
           "arrowhead": 0,
           "arrowwidth": 1
          },
          "autotypenumbers": "strict",
          "coloraxis": {
           "colorbar": {
            "outlinewidth": 0,
            "ticks": ""
           }
          },
          "colorscale": {
           "diverging": [
            [
             0,
             "#8e0152"
            ],
            [
             0.1,
             "#c51b7d"
            ],
            [
             0.2,
             "#de77ae"
            ],
            [
             0.3,
             "#f1b6da"
            ],
            [
             0.4,
             "#fde0ef"
            ],
            [
             0.5,
             "#f7f7f7"
            ],
            [
             0.6,
             "#e6f5d0"
            ],
            [
             0.7,
             "#b8e186"
            ],
            [
             0.8,
             "#7fbc41"
            ],
            [
             0.9,
             "#4d9221"
            ],
            [
             1,
             "#276419"
            ]
           ],
           "sequential": [
            [
             0,
             "#0d0887"
            ],
            [
             0.1111111111111111,
             "#46039f"
            ],
            [
             0.2222222222222222,
             "#7201a8"
            ],
            [
             0.3333333333333333,
             "#9c179e"
            ],
            [
             0.4444444444444444,
             "#bd3786"
            ],
            [
             0.5555555555555556,
             "#d8576b"
            ],
            [
             0.6666666666666666,
             "#ed7953"
            ],
            [
             0.7777777777777778,
             "#fb9f3a"
            ],
            [
             0.8888888888888888,
             "#fdca26"
            ],
            [
             1,
             "#f0f921"
            ]
           ],
           "sequentialminus": [
            [
             0,
             "#0d0887"
            ],
            [
             0.1111111111111111,
             "#46039f"
            ],
            [
             0.2222222222222222,
             "#7201a8"
            ],
            [
             0.3333333333333333,
             "#9c179e"
            ],
            [
             0.4444444444444444,
             "#bd3786"
            ],
            [
             0.5555555555555556,
             "#d8576b"
            ],
            [
             0.6666666666666666,
             "#ed7953"
            ],
            [
             0.7777777777777778,
             "#fb9f3a"
            ],
            [
             0.8888888888888888,
             "#fdca26"
            ],
            [
             1,
             "#f0f921"
            ]
           ]
          },
          "colorway": [
           "#636efa",
           "#EF553B",
           "#00cc96",
           "#ab63fa",
           "#FFA15A",
           "#19d3f3",
           "#FF6692",
           "#B6E880",
           "#FF97FF",
           "#FECB52"
          ],
          "font": {
           "color": "#2a3f5f"
          },
          "geo": {
           "bgcolor": "white",
           "lakecolor": "white",
           "landcolor": "#E5ECF6",
           "showlakes": true,
           "showland": true,
           "subunitcolor": "white"
          },
          "hoverlabel": {
           "align": "left"
          },
          "hovermode": "closest",
          "mapbox": {
           "style": "light"
          },
          "paper_bgcolor": "white",
          "plot_bgcolor": "#E5ECF6",
          "polar": {
           "angularaxis": {
            "gridcolor": "white",
            "linecolor": "white",
            "ticks": ""
           },
           "bgcolor": "#E5ECF6",
           "radialaxis": {
            "gridcolor": "white",
            "linecolor": "white",
            "ticks": ""
           }
          },
          "scene": {
           "xaxis": {
            "backgroundcolor": "#E5ECF6",
            "gridcolor": "white",
            "gridwidth": 2,
            "linecolor": "white",
            "showbackground": true,
            "ticks": "",
            "zerolinecolor": "white"
           },
           "yaxis": {
            "backgroundcolor": "#E5ECF6",
            "gridcolor": "white",
            "gridwidth": 2,
            "linecolor": "white",
            "showbackground": true,
            "ticks": "",
            "zerolinecolor": "white"
           },
           "zaxis": {
            "backgroundcolor": "#E5ECF6",
            "gridcolor": "white",
            "gridwidth": 2,
            "linecolor": "white",
            "showbackground": true,
            "ticks": "",
            "zerolinecolor": "white"
           }
          },
          "shapedefaults": {
           "line": {
            "color": "#2a3f5f"
           }
          },
          "ternary": {
           "aaxis": {
            "gridcolor": "white",
            "linecolor": "white",
            "ticks": ""
           },
           "baxis": {
            "gridcolor": "white",
            "linecolor": "white",
            "ticks": ""
           },
           "bgcolor": "#E5ECF6",
           "caxis": {
            "gridcolor": "white",
            "linecolor": "white",
            "ticks": ""
           }
          },
          "title": {
           "x": 0.05
          },
          "xaxis": {
           "automargin": true,
           "gridcolor": "white",
           "linecolor": "white",
           "ticks": "",
           "title": {
            "standoff": 15
           },
           "zerolinecolor": "white",
           "zerolinewidth": 2
          },
          "yaxis": {
           "automargin": true,
           "gridcolor": "white",
           "linecolor": "white",
           "ticks": "",
           "title": {
            "standoff": 15
           },
           "zerolinecolor": "white",
           "zerolinewidth": 2
          }
         }
        },
        "title": {
         "font": {
          "color": "#4D5663"
         }
        },
        "xaxis": {
         "gridcolor": "#E1E5ED",
         "showgrid": true,
         "tickfont": {
          "color": "#4D5663"
         },
         "title": {
          "font": {
           "color": "#4D5663"
          },
          "text": ""
         },
         "zerolinecolor": "#E1E5ED"
        },
        "yaxis": {
         "gridcolor": "#E1E5ED",
         "showgrid": true,
         "tickfont": {
          "color": "#4D5663"
         },
         "title": {
          "font": {
           "color": "#4D5663"
          },
          "text": ""
         },
         "zerolinecolor": "#E1E5ED"
        }
       }
      },
      "text/html": [
       "<div>                            <div id=\"d779173d-d134-417d-add1-578fa0c63b21\" class=\"plotly-graph-div\" style=\"height:525px; width:100%;\"></div>            <script type=\"text/javascript\">                require([\"plotly\"], function(Plotly) {                    window.PLOTLYENV=window.PLOTLYENV || {};\n",
       "                    window.PLOTLYENV.BASE_URL='https://plot.ly';                                    if (document.getElementById(\"d779173d-d134-417d-add1-578fa0c63b21\")) {                    Plotly.newPlot(                        \"d779173d-d134-417d-add1-578fa0c63b21\",                        [{\"marker\":{\"color\":\"rgba(255, 153, 51, 0.6)\",\"line\":{\"color\":\"rgba(255, 153, 51, 1.0)\",\"width\":1}},\"name\":\"Values\",\"orientation\":\"v\",\"text\":\"\",\"x\":[\"A\",\"B\",\"C\"],\"y\":[32,64,128],\"type\":\"bar\"}],                        {\"legend\":{\"bgcolor\":\"#F5F6F9\",\"font\":{\"color\":\"#4D5663\"}},\"paper_bgcolor\":\"#F5F6F9\",\"plot_bgcolor\":\"#F5F6F9\",\"template\":{\"data\":{\"barpolar\":[{\"marker\":{\"line\":{\"color\":\"#E5ECF6\",\"width\":0.5},\"pattern\":{\"fillmode\":\"overlay\",\"size\":10,\"solidity\":0.2}},\"type\":\"barpolar\"}],\"bar\":[{\"error_x\":{\"color\":\"#2a3f5f\"},\"error_y\":{\"color\":\"#2a3f5f\"},\"marker\":{\"line\":{\"color\":\"#E5ECF6\",\"width\":0.5},\"pattern\":{\"fillmode\":\"overlay\",\"size\":10,\"solidity\":0.2}},\"type\":\"bar\"}],\"carpet\":[{\"aaxis\":{\"endlinecolor\":\"#2a3f5f\",\"gridcolor\":\"white\",\"linecolor\":\"white\",\"minorgridcolor\":\"white\",\"startlinecolor\":\"#2a3f5f\"},\"baxis\":{\"endlinecolor\":\"#2a3f5f\",\"gridcolor\":\"white\",\"linecolor\":\"white\",\"minorgridcolor\":\"white\",\"startlinecolor\":\"#2a3f5f\"},\"type\":\"carpet\"}],\"choropleth\":[{\"colorbar\":{\"outlinewidth\":0,\"ticks\":\"\"},\"type\":\"choropleth\"}],\"contourcarpet\":[{\"colorbar\":{\"outlinewidth\":0,\"ticks\":\"\"},\"type\":\"contourcarpet\"}],\"contour\":[{\"colorbar\":{\"outlinewidth\":0,\"ticks\":\"\"},\"colorscale\":[[0.0,\"#0d0887\"],[0.1111111111111111,\"#46039f\"],[0.2222222222222222,\"#7201a8\"],[0.3333333333333333,\"#9c179e\"],[0.4444444444444444,\"#bd3786\"],[0.5555555555555556,\"#d8576b\"],[0.6666666666666666,\"#ed7953\"],[0.7777777777777778,\"#fb9f3a\"],[0.8888888888888888,\"#fdca26\"],[1.0,\"#f0f921\"]],\"type\":\"contour\"}],\"heatmapgl\":[{\"colorbar\":{\"outlinewidth\":0,\"ticks\":\"\"},\"colorscale\":[[0.0,\"#0d0887\"],[0.1111111111111111,\"#46039f\"],[0.2222222222222222,\"#7201a8\"],[0.3333333333333333,\"#9c179e\"],[0.4444444444444444,\"#bd3786\"],[0.5555555555555556,\"#d8576b\"],[0.6666666666666666,\"#ed7953\"],[0.7777777777777778,\"#fb9f3a\"],[0.8888888888888888,\"#fdca26\"],[1.0,\"#f0f921\"]],\"type\":\"heatmapgl\"}],\"heatmap\":[{\"colorbar\":{\"outlinewidth\":0,\"ticks\":\"\"},\"colorscale\":[[0.0,\"#0d0887\"],[0.1111111111111111,\"#46039f\"],[0.2222222222222222,\"#7201a8\"],[0.3333333333333333,\"#9c179e\"],[0.4444444444444444,\"#bd3786\"],[0.5555555555555556,\"#d8576b\"],[0.6666666666666666,\"#ed7953\"],[0.7777777777777778,\"#fb9f3a\"],[0.8888888888888888,\"#fdca26\"],[1.0,\"#f0f921\"]],\"type\":\"heatmap\"}],\"histogram2dcontour\":[{\"colorbar\":{\"outlinewidth\":0,\"ticks\":\"\"},\"colorscale\":[[0.0,\"#0d0887\"],[0.1111111111111111,\"#46039f\"],[0.2222222222222222,\"#7201a8\"],[0.3333333333333333,\"#9c179e\"],[0.4444444444444444,\"#bd3786\"],[0.5555555555555556,\"#d8576b\"],[0.6666666666666666,\"#ed7953\"],[0.7777777777777778,\"#fb9f3a\"],[0.8888888888888888,\"#fdca26\"],[1.0,\"#f0f921\"]],\"type\":\"histogram2dcontour\"}],\"histogram2d\":[{\"colorbar\":{\"outlinewidth\":0,\"ticks\":\"\"},\"colorscale\":[[0.0,\"#0d0887\"],[0.1111111111111111,\"#46039f\"],[0.2222222222222222,\"#7201a8\"],[0.3333333333333333,\"#9c179e\"],[0.4444444444444444,\"#bd3786\"],[0.5555555555555556,\"#d8576b\"],[0.6666666666666666,\"#ed7953\"],[0.7777777777777778,\"#fb9f3a\"],[0.8888888888888888,\"#fdca26\"],[1.0,\"#f0f921\"]],\"type\":\"histogram2d\"}],\"histogram\":[{\"marker\":{\"pattern\":{\"fillmode\":\"overlay\",\"size\":10,\"solidity\":0.2}},\"type\":\"histogram\"}],\"mesh3d\":[{\"colorbar\":{\"outlinewidth\":0,\"ticks\":\"\"},\"type\":\"mesh3d\"}],\"parcoords\":[{\"line\":{\"colorbar\":{\"outlinewidth\":0,\"ticks\":\"\"}},\"type\":\"parcoords\"}],\"pie\":[{\"automargin\":true,\"type\":\"pie\"}],\"scatter3d\":[{\"line\":{\"colorbar\":{\"outlinewidth\":0,\"ticks\":\"\"}},\"marker\":{\"colorbar\":{\"outlinewidth\":0,\"ticks\":\"\"}},\"type\":\"scatter3d\"}],\"scattercarpet\":[{\"marker\":{\"colorbar\":{\"outlinewidth\":0,\"ticks\":\"\"}},\"type\":\"scattercarpet\"}],\"scattergeo\":[{\"marker\":{\"colorbar\":{\"outlinewidth\":0,\"ticks\":\"\"}},\"type\":\"scattergeo\"}],\"scattergl\":[{\"marker\":{\"colorbar\":{\"outlinewidth\":0,\"ticks\":\"\"}},\"type\":\"scattergl\"}],\"scattermapbox\":[{\"marker\":{\"colorbar\":{\"outlinewidth\":0,\"ticks\":\"\"}},\"type\":\"scattermapbox\"}],\"scatterpolargl\":[{\"marker\":{\"colorbar\":{\"outlinewidth\":0,\"ticks\":\"\"}},\"type\":\"scatterpolargl\"}],\"scatterpolar\":[{\"marker\":{\"colorbar\":{\"outlinewidth\":0,\"ticks\":\"\"}},\"type\":\"scatterpolar\"}],\"scatter\":[{\"fillpattern\":{\"fillmode\":\"overlay\",\"size\":10,\"solidity\":0.2},\"type\":\"scatter\"}],\"scatterternary\":[{\"marker\":{\"colorbar\":{\"outlinewidth\":0,\"ticks\":\"\"}},\"type\":\"scatterternary\"}],\"surface\":[{\"colorbar\":{\"outlinewidth\":0,\"ticks\":\"\"},\"colorscale\":[[0.0,\"#0d0887\"],[0.1111111111111111,\"#46039f\"],[0.2222222222222222,\"#7201a8\"],[0.3333333333333333,\"#9c179e\"],[0.4444444444444444,\"#bd3786\"],[0.5555555555555556,\"#d8576b\"],[0.6666666666666666,\"#ed7953\"],[0.7777777777777778,\"#fb9f3a\"],[0.8888888888888888,\"#fdca26\"],[1.0,\"#f0f921\"]],\"type\":\"surface\"}],\"table\":[{\"cells\":{\"fill\":{\"color\":\"#EBF0F8\"},\"line\":{\"color\":\"white\"}},\"header\":{\"fill\":{\"color\":\"#C8D4E3\"},\"line\":{\"color\":\"white\"}},\"type\":\"table\"}]},\"layout\":{\"annotationdefaults\":{\"arrowcolor\":\"#2a3f5f\",\"arrowhead\":0,\"arrowwidth\":1},\"autotypenumbers\":\"strict\",\"coloraxis\":{\"colorbar\":{\"outlinewidth\":0,\"ticks\":\"\"}},\"colorscale\":{\"diverging\":[[0,\"#8e0152\"],[0.1,\"#c51b7d\"],[0.2,\"#de77ae\"],[0.3,\"#f1b6da\"],[0.4,\"#fde0ef\"],[0.5,\"#f7f7f7\"],[0.6,\"#e6f5d0\"],[0.7,\"#b8e186\"],[0.8,\"#7fbc41\"],[0.9,\"#4d9221\"],[1,\"#276419\"]],\"sequential\":[[0.0,\"#0d0887\"],[0.1111111111111111,\"#46039f\"],[0.2222222222222222,\"#7201a8\"],[0.3333333333333333,\"#9c179e\"],[0.4444444444444444,\"#bd3786\"],[0.5555555555555556,\"#d8576b\"],[0.6666666666666666,\"#ed7953\"],[0.7777777777777778,\"#fb9f3a\"],[0.8888888888888888,\"#fdca26\"],[1.0,\"#f0f921\"]],\"sequentialminus\":[[0.0,\"#0d0887\"],[0.1111111111111111,\"#46039f\"],[0.2222222222222222,\"#7201a8\"],[0.3333333333333333,\"#9c179e\"],[0.4444444444444444,\"#bd3786\"],[0.5555555555555556,\"#d8576b\"],[0.6666666666666666,\"#ed7953\"],[0.7777777777777778,\"#fb9f3a\"],[0.8888888888888888,\"#fdca26\"],[1.0,\"#f0f921\"]]},\"colorway\":[\"#636efa\",\"#EF553B\",\"#00cc96\",\"#ab63fa\",\"#FFA15A\",\"#19d3f3\",\"#FF6692\",\"#B6E880\",\"#FF97FF\",\"#FECB52\"],\"font\":{\"color\":\"#2a3f5f\"},\"geo\":{\"bgcolor\":\"white\",\"lakecolor\":\"white\",\"landcolor\":\"#E5ECF6\",\"showlakes\":true,\"showland\":true,\"subunitcolor\":\"white\"},\"hoverlabel\":{\"align\":\"left\"},\"hovermode\":\"closest\",\"mapbox\":{\"style\":\"light\"},\"paper_bgcolor\":\"white\",\"plot_bgcolor\":\"#E5ECF6\",\"polar\":{\"angularaxis\":{\"gridcolor\":\"white\",\"linecolor\":\"white\",\"ticks\":\"\"},\"bgcolor\":\"#E5ECF6\",\"radialaxis\":{\"gridcolor\":\"white\",\"linecolor\":\"white\",\"ticks\":\"\"}},\"scene\":{\"xaxis\":{\"backgroundcolor\":\"#E5ECF6\",\"gridcolor\":\"white\",\"gridwidth\":2,\"linecolor\":\"white\",\"showbackground\":true,\"ticks\":\"\",\"zerolinecolor\":\"white\"},\"yaxis\":{\"backgroundcolor\":\"#E5ECF6\",\"gridcolor\":\"white\",\"gridwidth\":2,\"linecolor\":\"white\",\"showbackground\":true,\"ticks\":\"\",\"zerolinecolor\":\"white\"},\"zaxis\":{\"backgroundcolor\":\"#E5ECF6\",\"gridcolor\":\"white\",\"gridwidth\":2,\"linecolor\":\"white\",\"showbackground\":true,\"ticks\":\"\",\"zerolinecolor\":\"white\"}},\"shapedefaults\":{\"line\":{\"color\":\"#2a3f5f\"}},\"ternary\":{\"aaxis\":{\"gridcolor\":\"white\",\"linecolor\":\"white\",\"ticks\":\"\"},\"baxis\":{\"gridcolor\":\"white\",\"linecolor\":\"white\",\"ticks\":\"\"},\"bgcolor\":\"#E5ECF6\",\"caxis\":{\"gridcolor\":\"white\",\"linecolor\":\"white\",\"ticks\":\"\"}},\"title\":{\"x\":0.05},\"xaxis\":{\"automargin\":true,\"gridcolor\":\"white\",\"linecolor\":\"white\",\"ticks\":\"\",\"title\":{\"standoff\":15},\"zerolinecolor\":\"white\",\"zerolinewidth\":2},\"yaxis\":{\"automargin\":true,\"gridcolor\":\"white\",\"linecolor\":\"white\",\"ticks\":\"\",\"title\":{\"standoff\":15},\"zerolinecolor\":\"white\",\"zerolinewidth\":2}}},\"title\":{\"font\":{\"color\":\"#4D5663\"}},\"xaxis\":{\"gridcolor\":\"#E1E5ED\",\"showgrid\":true,\"tickfont\":{\"color\":\"#4D5663\"},\"title\":{\"font\":{\"color\":\"#4D5663\"},\"text\":\"\"},\"zerolinecolor\":\"#E1E5ED\"},\"yaxis\":{\"gridcolor\":\"#E1E5ED\",\"showgrid\":true,\"tickfont\":{\"color\":\"#4D5663\"},\"title\":{\"font\":{\"color\":\"#4D5663\"},\"text\":\"\"},\"zerolinecolor\":\"#E1E5ED\"}},                        {\"showLink\": true, \"linkText\": \"Export to plot.ly\", \"plotlyServerURL\": \"https://plot.ly\", \"responsive\": true}                    ).then(function(){\n",
       "                            \n",
       "var gd = document.getElementById('d779173d-d134-417d-add1-578fa0c63b21');\n",
       "var x = new MutationObserver(function (mutations, observer) {{\n",
       "        var display = window.getComputedStyle(gd).display;\n",
       "        if (!display || display === 'none') {{\n",
       "            console.log([gd, 'removed!']);\n",
       "            Plotly.purge(gd);\n",
       "            observer.disconnect();\n",
       "        }}\n",
       "}});\n",
       "\n",
       "// Listen for the removal of the full notebook cells\n",
       "var notebookContainer = gd.closest('#notebook-container');\n",
       "if (notebookContainer) {{\n",
       "    x.observe(notebookContainer, {childList: true});\n",
       "}}\n",
       "\n",
       "// Listen for the clearing of the current output cell\n",
       "var outputEl = gd.closest('.output');\n",
       "if (outputEl) {{\n",
       "    x.observe(outputEl, {childList: true});\n",
       "}}\n",
       "\n",
       "                        })                };                });            </script>        </div>"
      ]
     },
     "metadata": {},
     "output_type": "display_data"
    }
   ],
   "source": [
    "df2.iplot(kind='bar',x='Category',y='Values')"
   ]
  },
  {
   "cell_type": "code",
   "execution_count": 11,
   "metadata": {},
   "outputs": [
    {
     "data": {
      "application/vnd.plotly.v1+json": {
       "config": {
        "linkText": "Export to plot.ly",
        "plotlyServerURL": "https://plot.ly",
        "showLink": true
       },
       "data": [
        {
         "marker": {
          "color": "rgba(255, 153, 51, 0.6)",
          "line": {
           "color": "rgba(255, 153, 51, 1.0)",
           "width": 1
          }
         },
         "name": "A",
         "orientation": "v",
         "text": "",
         "type": "bar",
         "x": [
          0,
          1,
          2,
          3,
          4,
          5,
          6,
          7,
          8,
          9,
          10,
          11,
          12,
          13,
          14,
          15,
          16,
          17,
          18,
          19,
          20,
          21,
          22,
          23,
          24,
          25,
          26,
          27,
          28,
          29,
          30,
          31,
          32,
          33,
          34,
          35,
          36,
          37,
          38,
          39,
          40,
          41,
          42,
          43,
          44,
          45,
          46,
          47,
          48,
          49,
          50,
          51,
          52,
          53,
          54,
          55,
          56,
          57,
          58,
          59,
          60,
          61,
          62,
          63,
          64,
          65,
          66,
          67,
          68,
          69,
          70,
          71,
          72,
          73,
          74,
          75,
          76,
          77,
          78,
          79,
          80,
          81,
          82,
          83,
          84,
          85,
          86,
          87,
          88,
          89,
          90,
          91,
          92,
          93,
          94,
          95,
          96,
          97,
          98,
          99
         ],
         "y": [
          1.2379579215557721,
          -0.5005184725982377,
          -1.8230450427793612,
          0.06842502309955707,
          0.4254384314514911,
          1.1763052359239257,
          -0.11214271908475447,
          1.1059753615356682,
          0.22346118664892053,
          -3.0955008897822682,
          -1.4517744954104537,
          1.0800716683559,
          0.7541959355429521,
          -0.19781466988496854,
          0.8027711878115771,
          0.32235289207845674,
          -1.407064449126228,
          0.5813815157192956,
          -0.4203924036852652,
          0.5355956630247433,
          1.0206309013545645,
          0.7384385770882846,
          -0.2900868329082115,
          0.3829461322814965,
          0.4611215018331621,
          -1.3790825150179762,
          1.2819328381644517,
          -1.134352798171451,
          0.5205979181212208,
          1.3157399184969396,
          0.784109751385838,
          -0.2788739329905516,
          2.8096183045496717,
          -0.2308271549045375,
          1.3964084344569843,
          0.01831236818373684,
          0.827571000150851,
          -0.7590395468795416,
          -0.16238163174865078,
          0.2572099021763275,
          -0.1498663201241084,
          2.0530119786117687,
          -0.03723847683954049,
          0.41757657681991633,
          0.9672215524108312,
          1.964130099188044,
          -0.9148020760659852,
          -0.7067367751252867,
          -0.46258169228107315,
          0.6395101035312151,
          0.614656019091725,
          1.6970454877439154,
          0.09192463941462742,
          1.541224196386175,
          1.1495442914166665,
          1.4773844447931597,
          1.7621437230813883,
          0.46693142325967285,
          1.419824486490099,
          0.8120024374923902,
          -1.0954528503558223,
          0.0407775353196377,
          0.42850511111267753,
          1.9275505103817203,
          -1.3431683970134831,
          0.796264215695926,
          -1.9127758508775747,
          1.2854170397536104,
          -0.29109585036885166,
          0.7387637394372951,
          0.1864707079105069,
          -1.2500559744599842,
          1.2676856772130243,
          -0.16842033667773443,
          0.05579077525029771,
          -0.3262741971013337,
          0.023869859254569244,
          0.24314462754504315,
          -0.1535936724579839,
          1.0697246004611893,
          -0.9083408958560282,
          0.23825984450463622,
          0.6387576608046327,
          -0.5069686294885749,
          0.951703871558809,
          -0.5131593778854479,
          -0.06489118914025865,
          -1.6708061688797646,
          -0.8107835190282477,
          -1.181205795352084,
          -0.813756681394152,
          0.12899794573478857,
          -0.3690930111001821,
          1.015706364161616,
          -1.5316143343754245,
          -0.5312137078010556,
          -0.9267416426601521,
          0.800610799926069,
          -1.3397198536182306,
          -0.39168708430114446
         ]
        },
        {
         "marker": {
          "color": "rgba(55, 128, 191, 0.6)",
          "line": {
           "color": "rgba(55, 128, 191, 1.0)",
           "width": 1
          }
         },
         "name": "B",
         "orientation": "v",
         "text": "",
         "type": "bar",
         "x": [
          0,
          1,
          2,
          3,
          4,
          5,
          6,
          7,
          8,
          9,
          10,
          11,
          12,
          13,
          14,
          15,
          16,
          17,
          18,
          19,
          20,
          21,
          22,
          23,
          24,
          25,
          26,
          27,
          28,
          29,
          30,
          31,
          32,
          33,
          34,
          35,
          36,
          37,
          38,
          39,
          40,
          41,
          42,
          43,
          44,
          45,
          46,
          47,
          48,
          49,
          50,
          51,
          52,
          53,
          54,
          55,
          56,
          57,
          58,
          59,
          60,
          61,
          62,
          63,
          64,
          65,
          66,
          67,
          68,
          69,
          70,
          71,
          72,
          73,
          74,
          75,
          76,
          77,
          78,
          79,
          80,
          81,
          82,
          83,
          84,
          85,
          86,
          87,
          88,
          89,
          90,
          91,
          92,
          93,
          94,
          95,
          96,
          97,
          98,
          99
         ],
         "y": [
          0.02001560917781522,
          -1.0891731935032625,
          1.117115278451909,
          0.40002640297342607,
          0.6788225994148674,
          -1.0464508327499304,
          1.753186397555937,
          0.4553153584280742,
          1.9267772772513023,
          0.36761632757654483,
          0.3354221156945639,
          -1.3975971007794514,
          -0.8288799184866059,
          -1.4694617838267692,
          0.38071369841281305,
          0.5873705484639964,
          -1.3368556819937818,
          1.4991333888708165,
          0.5813807231497642,
          -0.5527128990216509,
          -0.09761952261295645,
          -0.28166161146952456,
          0.7142778405665612,
          0.6293793918294663,
          -2.123446302387997,
          -0.1383482546425122,
          0.0893175440277195,
          -1.3223609989772662,
          -1.4742353228376357,
          2.3557586879361794,
          0.6407860071334618,
          -1.6723162335483108,
          0.010739496078409847,
          -0.8404641217846549,
          -0.37170568055098224,
          1.8912657465336102,
          0.18598631691892653,
          -0.5051875454241069,
          0.20307885101154383,
          -0.1892760143690366,
          1.0627125177800432,
          0.00576008208656999,
          1.4018256061331034,
          0.21525579076981813,
          0.9108216767100435,
          -0.09179782052924047,
          -0.8190698523389677,
          0.5656749663533622,
          1.01457085362219,
          -1.3907851791904955,
          0.09853552198020779,
          1.7139266832774738,
          -0.34554016715977387,
          2.2656738435005725,
          0.48749200482362615,
          0.7508919362554308,
          -0.5490445283005263,
          1.353420063225845,
          -0.3316233300195538,
          0.6405398483347998,
          -0.2463538808502654,
          -0.7363662270746788,
          -0.680425364174238,
          0.05553101197713513,
          1.6033590272505436,
          0.10504078713367834,
          2.080793389318112,
          -0.24229773712897296,
          -1.0333677171102167,
          0.4132352687474129,
          -0.02609569212262343,
          0.4517671856431499,
          -0.844903742341376,
          -1.117027526113431,
          0.20431018641555201,
          0.1887560681516722,
          -0.8661853113814597,
          -1.3997834715565687,
          1.293875546610676,
          0.12507506231115692,
          1.4813260456365591,
          1.2799752422469581,
          -1.873280502909398,
          -1.1616794539335047,
          -0.7297439373845849,
          0.3172723549807555,
          0.02191631673027781,
          1.763692690956398,
          -0.8702349417220633,
          1.63676868925836,
          -0.6512863117971823,
          0.5600399577030546,
          1.234716383944129,
          -1.0610391550838316,
          -0.31963888274136043,
          2.159961437255129,
          0.5231537525093585,
          -0.6452848760271948,
          0.9483151450214008,
          0.3273184835628279
         ]
        },
        {
         "marker": {
          "color": "rgba(50, 171, 96, 0.6)",
          "line": {
           "color": "rgba(50, 171, 96, 1.0)",
           "width": 1
          }
         },
         "name": "C",
         "orientation": "v",
         "text": "",
         "type": "bar",
         "x": [
          0,
          1,
          2,
          3,
          4,
          5,
          6,
          7,
          8,
          9,
          10,
          11,
          12,
          13,
          14,
          15,
          16,
          17,
          18,
          19,
          20,
          21,
          22,
          23,
          24,
          25,
          26,
          27,
          28,
          29,
          30,
          31,
          32,
          33,
          34,
          35,
          36,
          37,
          38,
          39,
          40,
          41,
          42,
          43,
          44,
          45,
          46,
          47,
          48,
          49,
          50,
          51,
          52,
          53,
          54,
          55,
          56,
          57,
          58,
          59,
          60,
          61,
          62,
          63,
          64,
          65,
          66,
          67,
          68,
          69,
          70,
          71,
          72,
          73,
          74,
          75,
          76,
          77,
          78,
          79,
          80,
          81,
          82,
          83,
          84,
          85,
          86,
          87,
          88,
          89,
          90,
          91,
          92,
          93,
          94,
          95,
          96,
          97,
          98,
          99
         ],
         "y": [
          -0.3308678283499978,
          1.2102869885680758,
          0.16165666886283267,
          -0.05014626976914914,
          -1.7041310004861954,
          2.024235238513975,
          -0.09134465405958134,
          -1.6844924497820224,
          0.9163296026413046,
          2.0794659045860073,
          0.9924934578875237,
          0.5873707456348409,
          1.2905227319405057,
          0.46820678032260965,
          1.1206849052535683,
          1.341070631482998,
          -0.9920483075572034,
          -0.37702169423272214,
          0.46126090421413385,
          -0.4546029067221703,
          0.4026763795390725,
          -0.7561975897647178,
          0.14441673856184556,
          0.8211975728390191,
          0.6788870276756361,
          1.1182546437714418,
          0.9490176518954572,
          -1.154782531524615,
          0.38181427290559194,
          0.33793396035602163,
          -0.7751405834311564,
          -0.5529730769082326,
          0.05647916438691906,
          0.10192405603420507,
          -2.5162833330941545,
          -0.7951372011661051,
          -0.3646860211475907,
          0.40531580458811517,
          1.1926397744105726,
          -0.29028992462203845,
          1.3583231215828995,
          0.07781708033642254,
          2.0736040373947846,
          -0.8696821561479623,
          0.12043740731758966,
          -0.03629497239265656,
          0.3053570205331342,
          0.18029122773894382,
          0.13354900391709607,
          -0.17334299637084163,
          1.441867436897421,
          1.4636153646305592,
          0.26550864279774633,
          -0.7738813937949514,
          -1.2303692250124292,
          0.838200091267915,
          -0.38617909861518657,
          0.7352581128330348,
          -0.4019180535632065,
          0.20708486170988621,
          -0.7159667677135855,
          0.8368946666471312,
          -0.7160851600715328,
          0.6010705536057844,
          0.2030736188503543,
          0.5921507478620754,
          0.7574792167617637,
          0.4842234648942265,
          0.5773379515467608,
          1.670424691479897,
          0.9266799668186261,
          -1.403877587672895,
          1.2038809660012877,
          0.3452384281513092,
          0.44303880229347764,
          0.8719181744286881,
          -1.2329183855895733,
          0.9236240777143699,
          -0.24448714149810596,
          -1.0261859997751288,
          -0.21321537760757056,
          -1.5737984069401019,
          -0.18240254216565702,
          -0.6234118074730078,
          -1.4485033427600447,
          0.5503312905497174,
          -1.8692148240880035,
          0.2651111144391633,
          -0.4259951764634556,
          -0.8599050611922008,
          -0.14029638457586968,
          -1.3003551328791512,
          2.2322790534052537,
          -0.29450300839930077,
          -1.0470733402417887,
          -1.0307516059120065,
          0.21920184356692302,
          -0.42602690198949716,
          1.0245308766574683,
          -1.9089173419853969
         ]
        },
        {
         "marker": {
          "color": "rgba(128, 0, 128, 0.6)",
          "line": {
           "color": "rgba(128, 0, 128, 1.0)",
           "width": 1
          }
         },
         "name": "D",
         "orientation": "v",
         "text": "",
         "type": "bar",
         "x": [
          0,
          1,
          2,
          3,
          4,
          5,
          6,
          7,
          8,
          9,
          10,
          11,
          12,
          13,
          14,
          15,
          16,
          17,
          18,
          19,
          20,
          21,
          22,
          23,
          24,
          25,
          26,
          27,
          28,
          29,
          30,
          31,
          32,
          33,
          34,
          35,
          36,
          37,
          38,
          39,
          40,
          41,
          42,
          43,
          44,
          45,
          46,
          47,
          48,
          49,
          50,
          51,
          52,
          53,
          54,
          55,
          56,
          57,
          58,
          59,
          60,
          61,
          62,
          63,
          64,
          65,
          66,
          67,
          68,
          69,
          70,
          71,
          72,
          73,
          74,
          75,
          76,
          77,
          78,
          79,
          80,
          81,
          82,
          83,
          84,
          85,
          86,
          87,
          88,
          89,
          90,
          91,
          92,
          93,
          94,
          95,
          96,
          97,
          98,
          99
         ],
         "y": [
          -1.3310222068170523,
          -1.7096392690646527,
          -1.2912551841487887,
          -0.7020206211106352,
          -0.2875650554311028,
          0.19299137551135742,
          -0.3318021907267024,
          0.554407437903143,
          -1.6027514483438141,
          -0.5583374457996408,
          -1.1909155900979693,
          -0.16799969304505857,
          1.1076547382907063,
          -0.08899211740101358,
          -1.1449527400822357,
          1.6959826727319578,
          1.3670266110405185,
          -0.8405936593803466,
          -0.1929076216496946,
          0.8789932032389244,
          -0.4698205311769827,
          -0.398356752332882,
          1.0561635988235853,
          -0.3706603855536645,
          -0.277764072335064,
          -1.0785627100616377,
          -0.18152225999466887,
          0.5276844224501354,
          1.1561194606045417,
          1.1106954550163752,
          1.0627416146217996,
          -0.1260928931598106,
          -0.4598332651987356,
          0.6411437776042059,
          -1.041951477817779,
          0.6691217962214827,
          1.6296666424666046,
          -0.44574977222849377,
          -0.23281014979912887,
          -0.8639938660683446,
          0.27319588799445926,
          0.37558781089225113,
          -0.5534460166278362,
          -0.5364730092304173,
          0.9362697464962008,
          -0.37548380330025893,
          -0.6509652667464869,
          0.8970401589650328,
          -0.5009942063842345,
          -0.44467857541875516,
          0.09353221011102655,
          -0.11262393269507838,
          0.7625100864753245,
          2.3613592187384107,
          1.029644115872112,
          -0.2242940367590926,
          0.5824917337235999,
          -2.6652205073890047,
          0.012729101381596683,
          -0.22203396772971987,
          0.09131735780368261,
          1.6016833144812963,
          -0.5474491875501178,
          -0.21470432358028996,
          0.8304930555147175,
          0.08789297532799611,
          -0.7104857063861766,
          2.0978491190720696,
          0.4547763828312598,
          0.020660494156799884,
          0.9137750695744344,
          -0.2524765883552448,
          0.18743883654481444,
          -0.27695411625325256,
          1.0623044063581735,
          0.0847298230681404,
          -2.402239634495088,
          0.6097433415482213,
          1.0828561134806167,
          0.30931683484609324,
          0.1278116765466919,
          -0.784658364858415,
          -0.06854681415485908,
          0.24234831106758858,
          -0.317327955941285,
          -0.5732783164792783,
          -0.1794450666813971,
          0.5751584951505719,
          -1.5956776053935104,
          -1.3413271641328415,
          -0.411489813959892,
          0.037151516689043845,
          1.4482132720076988,
          0.06431614118783856,
          -1.3208101075105647,
          1.1178702087130916,
          -0.9365522791504914,
          -0.7876891468081865,
          2.0388487442797953,
          -0.950333941501925
         ]
        }
       ],
       "layout": {
        "legend": {
         "bgcolor": "#F5F6F9",
         "font": {
          "color": "#4D5663"
         }
        },
        "paper_bgcolor": "#F5F6F9",
        "plot_bgcolor": "#F5F6F9",
        "template": {
         "data": {
          "bar": [
           {
            "error_x": {
             "color": "#2a3f5f"
            },
            "error_y": {
             "color": "#2a3f5f"
            },
            "marker": {
             "line": {
              "color": "#E5ECF6",
              "width": 0.5
             },
             "pattern": {
              "fillmode": "overlay",
              "size": 10,
              "solidity": 0.2
             }
            },
            "type": "bar"
           }
          ],
          "barpolar": [
           {
            "marker": {
             "line": {
              "color": "#E5ECF6",
              "width": 0.5
             },
             "pattern": {
              "fillmode": "overlay",
              "size": 10,
              "solidity": 0.2
             }
            },
            "type": "barpolar"
           }
          ],
          "carpet": [
           {
            "aaxis": {
             "endlinecolor": "#2a3f5f",
             "gridcolor": "white",
             "linecolor": "white",
             "minorgridcolor": "white",
             "startlinecolor": "#2a3f5f"
            },
            "baxis": {
             "endlinecolor": "#2a3f5f",
             "gridcolor": "white",
             "linecolor": "white",
             "minorgridcolor": "white",
             "startlinecolor": "#2a3f5f"
            },
            "type": "carpet"
           }
          ],
          "choropleth": [
           {
            "colorbar": {
             "outlinewidth": 0,
             "ticks": ""
            },
            "type": "choropleth"
           }
          ],
          "contour": [
           {
            "colorbar": {
             "outlinewidth": 0,
             "ticks": ""
            },
            "colorscale": [
             [
              0,
              "#0d0887"
             ],
             [
              0.1111111111111111,
              "#46039f"
             ],
             [
              0.2222222222222222,
              "#7201a8"
             ],
             [
              0.3333333333333333,
              "#9c179e"
             ],
             [
              0.4444444444444444,
              "#bd3786"
             ],
             [
              0.5555555555555556,
              "#d8576b"
             ],
             [
              0.6666666666666666,
              "#ed7953"
             ],
             [
              0.7777777777777778,
              "#fb9f3a"
             ],
             [
              0.8888888888888888,
              "#fdca26"
             ],
             [
              1,
              "#f0f921"
             ]
            ],
            "type": "contour"
           }
          ],
          "contourcarpet": [
           {
            "colorbar": {
             "outlinewidth": 0,
             "ticks": ""
            },
            "type": "contourcarpet"
           }
          ],
          "heatmap": [
           {
            "colorbar": {
             "outlinewidth": 0,
             "ticks": ""
            },
            "colorscale": [
             [
              0,
              "#0d0887"
             ],
             [
              0.1111111111111111,
              "#46039f"
             ],
             [
              0.2222222222222222,
              "#7201a8"
             ],
             [
              0.3333333333333333,
              "#9c179e"
             ],
             [
              0.4444444444444444,
              "#bd3786"
             ],
             [
              0.5555555555555556,
              "#d8576b"
             ],
             [
              0.6666666666666666,
              "#ed7953"
             ],
             [
              0.7777777777777778,
              "#fb9f3a"
             ],
             [
              0.8888888888888888,
              "#fdca26"
             ],
             [
              1,
              "#f0f921"
             ]
            ],
            "type": "heatmap"
           }
          ],
          "heatmapgl": [
           {
            "colorbar": {
             "outlinewidth": 0,
             "ticks": ""
            },
            "colorscale": [
             [
              0,
              "#0d0887"
             ],
             [
              0.1111111111111111,
              "#46039f"
             ],
             [
              0.2222222222222222,
              "#7201a8"
             ],
             [
              0.3333333333333333,
              "#9c179e"
             ],
             [
              0.4444444444444444,
              "#bd3786"
             ],
             [
              0.5555555555555556,
              "#d8576b"
             ],
             [
              0.6666666666666666,
              "#ed7953"
             ],
             [
              0.7777777777777778,
              "#fb9f3a"
             ],
             [
              0.8888888888888888,
              "#fdca26"
             ],
             [
              1,
              "#f0f921"
             ]
            ],
            "type": "heatmapgl"
           }
          ],
          "histogram": [
           {
            "marker": {
             "pattern": {
              "fillmode": "overlay",
              "size": 10,
              "solidity": 0.2
             }
            },
            "type": "histogram"
           }
          ],
          "histogram2d": [
           {
            "colorbar": {
             "outlinewidth": 0,
             "ticks": ""
            },
            "colorscale": [
             [
              0,
              "#0d0887"
             ],
             [
              0.1111111111111111,
              "#46039f"
             ],
             [
              0.2222222222222222,
              "#7201a8"
             ],
             [
              0.3333333333333333,
              "#9c179e"
             ],
             [
              0.4444444444444444,
              "#bd3786"
             ],
             [
              0.5555555555555556,
              "#d8576b"
             ],
             [
              0.6666666666666666,
              "#ed7953"
             ],
             [
              0.7777777777777778,
              "#fb9f3a"
             ],
             [
              0.8888888888888888,
              "#fdca26"
             ],
             [
              1,
              "#f0f921"
             ]
            ],
            "type": "histogram2d"
           }
          ],
          "histogram2dcontour": [
           {
            "colorbar": {
             "outlinewidth": 0,
             "ticks": ""
            },
            "colorscale": [
             [
              0,
              "#0d0887"
             ],
             [
              0.1111111111111111,
              "#46039f"
             ],
             [
              0.2222222222222222,
              "#7201a8"
             ],
             [
              0.3333333333333333,
              "#9c179e"
             ],
             [
              0.4444444444444444,
              "#bd3786"
             ],
             [
              0.5555555555555556,
              "#d8576b"
             ],
             [
              0.6666666666666666,
              "#ed7953"
             ],
             [
              0.7777777777777778,
              "#fb9f3a"
             ],
             [
              0.8888888888888888,
              "#fdca26"
             ],
             [
              1,
              "#f0f921"
             ]
            ],
            "type": "histogram2dcontour"
           }
          ],
          "mesh3d": [
           {
            "colorbar": {
             "outlinewidth": 0,
             "ticks": ""
            },
            "type": "mesh3d"
           }
          ],
          "parcoords": [
           {
            "line": {
             "colorbar": {
              "outlinewidth": 0,
              "ticks": ""
             }
            },
            "type": "parcoords"
           }
          ],
          "pie": [
           {
            "automargin": true,
            "type": "pie"
           }
          ],
          "scatter": [
           {
            "fillpattern": {
             "fillmode": "overlay",
             "size": 10,
             "solidity": 0.2
            },
            "type": "scatter"
           }
          ],
          "scatter3d": [
           {
            "line": {
             "colorbar": {
              "outlinewidth": 0,
              "ticks": ""
             }
            },
            "marker": {
             "colorbar": {
              "outlinewidth": 0,
              "ticks": ""
             }
            },
            "type": "scatter3d"
           }
          ],
          "scattercarpet": [
           {
            "marker": {
             "colorbar": {
              "outlinewidth": 0,
              "ticks": ""
             }
            },
            "type": "scattercarpet"
           }
          ],
          "scattergeo": [
           {
            "marker": {
             "colorbar": {
              "outlinewidth": 0,
              "ticks": ""
             }
            },
            "type": "scattergeo"
           }
          ],
          "scattergl": [
           {
            "marker": {
             "colorbar": {
              "outlinewidth": 0,
              "ticks": ""
             }
            },
            "type": "scattergl"
           }
          ],
          "scattermapbox": [
           {
            "marker": {
             "colorbar": {
              "outlinewidth": 0,
              "ticks": ""
             }
            },
            "type": "scattermapbox"
           }
          ],
          "scatterpolar": [
           {
            "marker": {
             "colorbar": {
              "outlinewidth": 0,
              "ticks": ""
             }
            },
            "type": "scatterpolar"
           }
          ],
          "scatterpolargl": [
           {
            "marker": {
             "colorbar": {
              "outlinewidth": 0,
              "ticks": ""
             }
            },
            "type": "scatterpolargl"
           }
          ],
          "scatterternary": [
           {
            "marker": {
             "colorbar": {
              "outlinewidth": 0,
              "ticks": ""
             }
            },
            "type": "scatterternary"
           }
          ],
          "surface": [
           {
            "colorbar": {
             "outlinewidth": 0,
             "ticks": ""
            },
            "colorscale": [
             [
              0,
              "#0d0887"
             ],
             [
              0.1111111111111111,
              "#46039f"
             ],
             [
              0.2222222222222222,
              "#7201a8"
             ],
             [
              0.3333333333333333,
              "#9c179e"
             ],
             [
              0.4444444444444444,
              "#bd3786"
             ],
             [
              0.5555555555555556,
              "#d8576b"
             ],
             [
              0.6666666666666666,
              "#ed7953"
             ],
             [
              0.7777777777777778,
              "#fb9f3a"
             ],
             [
              0.8888888888888888,
              "#fdca26"
             ],
             [
              1,
              "#f0f921"
             ]
            ],
            "type": "surface"
           }
          ],
          "table": [
           {
            "cells": {
             "fill": {
              "color": "#EBF0F8"
             },
             "line": {
              "color": "white"
             }
            },
            "header": {
             "fill": {
              "color": "#C8D4E3"
             },
             "line": {
              "color": "white"
             }
            },
            "type": "table"
           }
          ]
         },
         "layout": {
          "annotationdefaults": {
           "arrowcolor": "#2a3f5f",
           "arrowhead": 0,
           "arrowwidth": 1
          },
          "autotypenumbers": "strict",
          "coloraxis": {
           "colorbar": {
            "outlinewidth": 0,
            "ticks": ""
           }
          },
          "colorscale": {
           "diverging": [
            [
             0,
             "#8e0152"
            ],
            [
             0.1,
             "#c51b7d"
            ],
            [
             0.2,
             "#de77ae"
            ],
            [
             0.3,
             "#f1b6da"
            ],
            [
             0.4,
             "#fde0ef"
            ],
            [
             0.5,
             "#f7f7f7"
            ],
            [
             0.6,
             "#e6f5d0"
            ],
            [
             0.7,
             "#b8e186"
            ],
            [
             0.8,
             "#7fbc41"
            ],
            [
             0.9,
             "#4d9221"
            ],
            [
             1,
             "#276419"
            ]
           ],
           "sequential": [
            [
             0,
             "#0d0887"
            ],
            [
             0.1111111111111111,
             "#46039f"
            ],
            [
             0.2222222222222222,
             "#7201a8"
            ],
            [
             0.3333333333333333,
             "#9c179e"
            ],
            [
             0.4444444444444444,
             "#bd3786"
            ],
            [
             0.5555555555555556,
             "#d8576b"
            ],
            [
             0.6666666666666666,
             "#ed7953"
            ],
            [
             0.7777777777777778,
             "#fb9f3a"
            ],
            [
             0.8888888888888888,
             "#fdca26"
            ],
            [
             1,
             "#f0f921"
            ]
           ],
           "sequentialminus": [
            [
             0,
             "#0d0887"
            ],
            [
             0.1111111111111111,
             "#46039f"
            ],
            [
             0.2222222222222222,
             "#7201a8"
            ],
            [
             0.3333333333333333,
             "#9c179e"
            ],
            [
             0.4444444444444444,
             "#bd3786"
            ],
            [
             0.5555555555555556,
             "#d8576b"
            ],
            [
             0.6666666666666666,
             "#ed7953"
            ],
            [
             0.7777777777777778,
             "#fb9f3a"
            ],
            [
             0.8888888888888888,
             "#fdca26"
            ],
            [
             1,
             "#f0f921"
            ]
           ]
          },
          "colorway": [
           "#636efa",
           "#EF553B",
           "#00cc96",
           "#ab63fa",
           "#FFA15A",
           "#19d3f3",
           "#FF6692",
           "#B6E880",
           "#FF97FF",
           "#FECB52"
          ],
          "font": {
           "color": "#2a3f5f"
          },
          "geo": {
           "bgcolor": "white",
           "lakecolor": "white",
           "landcolor": "#E5ECF6",
           "showlakes": true,
           "showland": true,
           "subunitcolor": "white"
          },
          "hoverlabel": {
           "align": "left"
          },
          "hovermode": "closest",
          "mapbox": {
           "style": "light"
          },
          "paper_bgcolor": "white",
          "plot_bgcolor": "#E5ECF6",
          "polar": {
           "angularaxis": {
            "gridcolor": "white",
            "linecolor": "white",
            "ticks": ""
           },
           "bgcolor": "#E5ECF6",
           "radialaxis": {
            "gridcolor": "white",
            "linecolor": "white",
            "ticks": ""
           }
          },
          "scene": {
           "xaxis": {
            "backgroundcolor": "#E5ECF6",
            "gridcolor": "white",
            "gridwidth": 2,
            "linecolor": "white",
            "showbackground": true,
            "ticks": "",
            "zerolinecolor": "white"
           },
           "yaxis": {
            "backgroundcolor": "#E5ECF6",
            "gridcolor": "white",
            "gridwidth": 2,
            "linecolor": "white",
            "showbackground": true,
            "ticks": "",
            "zerolinecolor": "white"
           },
           "zaxis": {
            "backgroundcolor": "#E5ECF6",
            "gridcolor": "white",
            "gridwidth": 2,
            "linecolor": "white",
            "showbackground": true,
            "ticks": "",
            "zerolinecolor": "white"
           }
          },
          "shapedefaults": {
           "line": {
            "color": "#2a3f5f"
           }
          },
          "ternary": {
           "aaxis": {
            "gridcolor": "white",
            "linecolor": "white",
            "ticks": ""
           },
           "baxis": {
            "gridcolor": "white",
            "linecolor": "white",
            "ticks": ""
           },
           "bgcolor": "#E5ECF6",
           "caxis": {
            "gridcolor": "white",
            "linecolor": "white",
            "ticks": ""
           }
          },
          "title": {
           "x": 0.05
          },
          "xaxis": {
           "automargin": true,
           "gridcolor": "white",
           "linecolor": "white",
           "ticks": "",
           "title": {
            "standoff": 15
           },
           "zerolinecolor": "white",
           "zerolinewidth": 2
          },
          "yaxis": {
           "automargin": true,
           "gridcolor": "white",
           "linecolor": "white",
           "ticks": "",
           "title": {
            "standoff": 15
           },
           "zerolinecolor": "white",
           "zerolinewidth": 2
          }
         }
        },
        "title": {
         "font": {
          "color": "#4D5663"
         }
        },
        "xaxis": {
         "gridcolor": "#E1E5ED",
         "showgrid": true,
         "tickfont": {
          "color": "#4D5663"
         },
         "title": {
          "font": {
           "color": "#4D5663"
          },
          "text": ""
         },
         "zerolinecolor": "#E1E5ED"
        },
        "yaxis": {
         "gridcolor": "#E1E5ED",
         "showgrid": true,
         "tickfont": {
          "color": "#4D5663"
         },
         "title": {
          "font": {
           "color": "#4D5663"
          },
          "text": ""
         },
         "zerolinecolor": "#E1E5ED"
        }
       }
      },
      "text/html": [
       "<div>                            <div id=\"04abf93c-c4ce-4999-8008-d2d321d2ad4a\" class=\"plotly-graph-div\" style=\"height:525px; width:100%;\"></div>            <script type=\"text/javascript\">                require([\"plotly\"], function(Plotly) {                    window.PLOTLYENV=window.PLOTLYENV || {};\n",
       "                    window.PLOTLYENV.BASE_URL='https://plot.ly';                                    if (document.getElementById(\"04abf93c-c4ce-4999-8008-d2d321d2ad4a\")) {                    Plotly.newPlot(                        \"04abf93c-c4ce-4999-8008-d2d321d2ad4a\",                        [{\"marker\":{\"color\":\"rgba(255, 153, 51, 0.6)\",\"line\":{\"color\":\"rgba(255, 153, 51, 1.0)\",\"width\":1}},\"name\":\"A\",\"orientation\":\"v\",\"text\":\"\",\"x\":[0,1,2,3,4,5,6,7,8,9,10,11,12,13,14,15,16,17,18,19,20,21,22,23,24,25,26,27,28,29,30,31,32,33,34,35,36,37,38,39,40,41,42,43,44,45,46,47,48,49,50,51,52,53,54,55,56,57,58,59,60,61,62,63,64,65,66,67,68,69,70,71,72,73,74,75,76,77,78,79,80,81,82,83,84,85,86,87,88,89,90,91,92,93,94,95,96,97,98,99],\"y\":[1.2379579215557721,-0.5005184725982377,-1.8230450427793612,0.06842502309955707,0.4254384314514911,1.1763052359239257,-0.11214271908475447,1.1059753615356682,0.22346118664892053,-3.0955008897822682,-1.4517744954104537,1.0800716683559,0.7541959355429521,-0.19781466988496854,0.8027711878115771,0.32235289207845674,-1.407064449126228,0.5813815157192956,-0.4203924036852652,0.5355956630247433,1.0206309013545645,0.7384385770882846,-0.2900868329082115,0.3829461322814965,0.4611215018331621,-1.3790825150179762,1.2819328381644517,-1.134352798171451,0.5205979181212208,1.3157399184969396,0.784109751385838,-0.2788739329905516,2.8096183045496717,-0.2308271549045375,1.3964084344569843,0.01831236818373684,0.827571000150851,-0.7590395468795416,-0.16238163174865078,0.2572099021763275,-0.1498663201241084,2.0530119786117687,-0.03723847683954049,0.41757657681991633,0.9672215524108312,1.964130099188044,-0.9148020760659852,-0.7067367751252867,-0.46258169228107315,0.6395101035312151,0.614656019091725,1.6970454877439154,0.09192463941462742,1.541224196386175,1.1495442914166665,1.4773844447931597,1.7621437230813883,0.46693142325967285,1.419824486490099,0.8120024374923902,-1.0954528503558223,0.0407775353196377,0.42850511111267753,1.9275505103817203,-1.3431683970134831,0.796264215695926,-1.9127758508775747,1.2854170397536104,-0.29109585036885166,0.7387637394372951,0.1864707079105069,-1.2500559744599842,1.2676856772130243,-0.16842033667773443,0.05579077525029771,-0.3262741971013337,0.023869859254569244,0.24314462754504315,-0.1535936724579839,1.0697246004611893,-0.9083408958560282,0.23825984450463622,0.6387576608046327,-0.5069686294885749,0.951703871558809,-0.5131593778854479,-0.06489118914025865,-1.6708061688797646,-0.8107835190282477,-1.181205795352084,-0.813756681394152,0.12899794573478857,-0.3690930111001821,1.015706364161616,-1.5316143343754245,-0.5312137078010556,-0.9267416426601521,0.800610799926069,-1.3397198536182306,-0.39168708430114446],\"type\":\"bar\"},{\"marker\":{\"color\":\"rgba(55, 128, 191, 0.6)\",\"line\":{\"color\":\"rgba(55, 128, 191, 1.0)\",\"width\":1}},\"name\":\"B\",\"orientation\":\"v\",\"text\":\"\",\"x\":[0,1,2,3,4,5,6,7,8,9,10,11,12,13,14,15,16,17,18,19,20,21,22,23,24,25,26,27,28,29,30,31,32,33,34,35,36,37,38,39,40,41,42,43,44,45,46,47,48,49,50,51,52,53,54,55,56,57,58,59,60,61,62,63,64,65,66,67,68,69,70,71,72,73,74,75,76,77,78,79,80,81,82,83,84,85,86,87,88,89,90,91,92,93,94,95,96,97,98,99],\"y\":[0.02001560917781522,-1.0891731935032625,1.117115278451909,0.40002640297342607,0.6788225994148674,-1.0464508327499304,1.753186397555937,0.4553153584280742,1.9267772772513023,0.36761632757654483,0.3354221156945639,-1.3975971007794514,-0.8288799184866059,-1.4694617838267692,0.38071369841281305,0.5873705484639964,-1.3368556819937818,1.4991333888708165,0.5813807231497642,-0.5527128990216509,-0.09761952261295645,-0.28166161146952456,0.7142778405665612,0.6293793918294663,-2.123446302387997,-0.1383482546425122,0.0893175440277195,-1.3223609989772662,-1.4742353228376357,2.3557586879361794,0.6407860071334618,-1.6723162335483108,0.010739496078409847,-0.8404641217846549,-0.37170568055098224,1.8912657465336102,0.18598631691892653,-0.5051875454241069,0.20307885101154383,-0.1892760143690366,1.0627125177800432,0.00576008208656999,1.4018256061331034,0.21525579076981813,0.9108216767100435,-0.09179782052924047,-0.8190698523389677,0.5656749663533622,1.01457085362219,-1.3907851791904955,0.09853552198020779,1.7139266832774738,-0.34554016715977387,2.2656738435005725,0.48749200482362615,0.7508919362554308,-0.5490445283005263,1.353420063225845,-0.3316233300195538,0.6405398483347998,-0.2463538808502654,-0.7363662270746788,-0.680425364174238,0.05553101197713513,1.6033590272505436,0.10504078713367834,2.080793389318112,-0.24229773712897296,-1.0333677171102167,0.4132352687474129,-0.02609569212262343,0.4517671856431499,-0.844903742341376,-1.117027526113431,0.20431018641555201,0.1887560681516722,-0.8661853113814597,-1.3997834715565687,1.293875546610676,0.12507506231115692,1.4813260456365591,1.2799752422469581,-1.873280502909398,-1.1616794539335047,-0.7297439373845849,0.3172723549807555,0.02191631673027781,1.763692690956398,-0.8702349417220633,1.63676868925836,-0.6512863117971823,0.5600399577030546,1.234716383944129,-1.0610391550838316,-0.31963888274136043,2.159961437255129,0.5231537525093585,-0.6452848760271948,0.9483151450214008,0.3273184835628279],\"type\":\"bar\"},{\"marker\":{\"color\":\"rgba(50, 171, 96, 0.6)\",\"line\":{\"color\":\"rgba(50, 171, 96, 1.0)\",\"width\":1}},\"name\":\"C\",\"orientation\":\"v\",\"text\":\"\",\"x\":[0,1,2,3,4,5,6,7,8,9,10,11,12,13,14,15,16,17,18,19,20,21,22,23,24,25,26,27,28,29,30,31,32,33,34,35,36,37,38,39,40,41,42,43,44,45,46,47,48,49,50,51,52,53,54,55,56,57,58,59,60,61,62,63,64,65,66,67,68,69,70,71,72,73,74,75,76,77,78,79,80,81,82,83,84,85,86,87,88,89,90,91,92,93,94,95,96,97,98,99],\"y\":[-0.3308678283499978,1.2102869885680758,0.16165666886283267,-0.05014626976914914,-1.7041310004861954,2.024235238513975,-0.09134465405958134,-1.6844924497820224,0.9163296026413046,2.0794659045860073,0.9924934578875237,0.5873707456348409,1.2905227319405057,0.46820678032260965,1.1206849052535683,1.341070631482998,-0.9920483075572034,-0.37702169423272214,0.46126090421413385,-0.4546029067221703,0.4026763795390725,-0.7561975897647178,0.14441673856184556,0.8211975728390191,0.6788870276756361,1.1182546437714418,0.9490176518954572,-1.154782531524615,0.38181427290559194,0.33793396035602163,-0.7751405834311564,-0.5529730769082326,0.05647916438691906,0.10192405603420507,-2.5162833330941545,-0.7951372011661051,-0.3646860211475907,0.40531580458811517,1.1926397744105726,-0.29028992462203845,1.3583231215828995,0.07781708033642254,2.0736040373947846,-0.8696821561479623,0.12043740731758966,-0.03629497239265656,0.3053570205331342,0.18029122773894382,0.13354900391709607,-0.17334299637084163,1.441867436897421,1.4636153646305592,0.26550864279774633,-0.7738813937949514,-1.2303692250124292,0.838200091267915,-0.38617909861518657,0.7352581128330348,-0.4019180535632065,0.20708486170988621,-0.7159667677135855,0.8368946666471312,-0.7160851600715328,0.6010705536057844,0.2030736188503543,0.5921507478620754,0.7574792167617637,0.4842234648942265,0.5773379515467608,1.670424691479897,0.9266799668186261,-1.403877587672895,1.2038809660012877,0.3452384281513092,0.44303880229347764,0.8719181744286881,-1.2329183855895733,0.9236240777143699,-0.24448714149810596,-1.0261859997751288,-0.21321537760757056,-1.5737984069401019,-0.18240254216565702,-0.6234118074730078,-1.4485033427600447,0.5503312905497174,-1.8692148240880035,0.2651111144391633,-0.4259951764634556,-0.8599050611922008,-0.14029638457586968,-1.3003551328791512,2.2322790534052537,-0.29450300839930077,-1.0470733402417887,-1.0307516059120065,0.21920184356692302,-0.42602690198949716,1.0245308766574683,-1.9089173419853969],\"type\":\"bar\"},{\"marker\":{\"color\":\"rgba(128, 0, 128, 0.6)\",\"line\":{\"color\":\"rgba(128, 0, 128, 1.0)\",\"width\":1}},\"name\":\"D\",\"orientation\":\"v\",\"text\":\"\",\"x\":[0,1,2,3,4,5,6,7,8,9,10,11,12,13,14,15,16,17,18,19,20,21,22,23,24,25,26,27,28,29,30,31,32,33,34,35,36,37,38,39,40,41,42,43,44,45,46,47,48,49,50,51,52,53,54,55,56,57,58,59,60,61,62,63,64,65,66,67,68,69,70,71,72,73,74,75,76,77,78,79,80,81,82,83,84,85,86,87,88,89,90,91,92,93,94,95,96,97,98,99],\"y\":[-1.3310222068170523,-1.7096392690646527,-1.2912551841487887,-0.7020206211106352,-0.2875650554311028,0.19299137551135742,-0.3318021907267024,0.554407437903143,-1.6027514483438141,-0.5583374457996408,-1.1909155900979693,-0.16799969304505857,1.1076547382907063,-0.08899211740101358,-1.1449527400822357,1.6959826727319578,1.3670266110405185,-0.8405936593803466,-0.1929076216496946,0.8789932032389244,-0.4698205311769827,-0.398356752332882,1.0561635988235853,-0.3706603855536645,-0.277764072335064,-1.0785627100616377,-0.18152225999466887,0.5276844224501354,1.1561194606045417,1.1106954550163752,1.0627416146217996,-0.1260928931598106,-0.4598332651987356,0.6411437776042059,-1.041951477817779,0.6691217962214827,1.6296666424666046,-0.44574977222849377,-0.23281014979912887,-0.8639938660683446,0.27319588799445926,0.37558781089225113,-0.5534460166278362,-0.5364730092304173,0.9362697464962008,-0.37548380330025893,-0.6509652667464869,0.8970401589650328,-0.5009942063842345,-0.44467857541875516,0.09353221011102655,-0.11262393269507838,0.7625100864753245,2.3613592187384107,1.029644115872112,-0.2242940367590926,0.5824917337235999,-2.6652205073890047,0.012729101381596683,-0.22203396772971987,0.09131735780368261,1.6016833144812963,-0.5474491875501178,-0.21470432358028996,0.8304930555147175,0.08789297532799611,-0.7104857063861766,2.0978491190720696,0.4547763828312598,0.020660494156799884,0.9137750695744344,-0.2524765883552448,0.18743883654481444,-0.27695411625325256,1.0623044063581735,0.0847298230681404,-2.402239634495088,0.6097433415482213,1.0828561134806167,0.30931683484609324,0.1278116765466919,-0.784658364858415,-0.06854681415485908,0.24234831106758858,-0.317327955941285,-0.5732783164792783,-0.1794450666813971,0.5751584951505719,-1.5956776053935104,-1.3413271641328415,-0.411489813959892,0.037151516689043845,1.4482132720076988,0.06431614118783856,-1.3208101075105647,1.1178702087130916,-0.9365522791504914,-0.7876891468081865,2.0388487442797953,-0.950333941501925],\"type\":\"bar\"}],                        {\"legend\":{\"bgcolor\":\"#F5F6F9\",\"font\":{\"color\":\"#4D5663\"}},\"paper_bgcolor\":\"#F5F6F9\",\"plot_bgcolor\":\"#F5F6F9\",\"template\":{\"data\":{\"barpolar\":[{\"marker\":{\"line\":{\"color\":\"#E5ECF6\",\"width\":0.5},\"pattern\":{\"fillmode\":\"overlay\",\"size\":10,\"solidity\":0.2}},\"type\":\"barpolar\"}],\"bar\":[{\"error_x\":{\"color\":\"#2a3f5f\"},\"error_y\":{\"color\":\"#2a3f5f\"},\"marker\":{\"line\":{\"color\":\"#E5ECF6\",\"width\":0.5},\"pattern\":{\"fillmode\":\"overlay\",\"size\":10,\"solidity\":0.2}},\"type\":\"bar\"}],\"carpet\":[{\"aaxis\":{\"endlinecolor\":\"#2a3f5f\",\"gridcolor\":\"white\",\"linecolor\":\"white\",\"minorgridcolor\":\"white\",\"startlinecolor\":\"#2a3f5f\"},\"baxis\":{\"endlinecolor\":\"#2a3f5f\",\"gridcolor\":\"white\",\"linecolor\":\"white\",\"minorgridcolor\":\"white\",\"startlinecolor\":\"#2a3f5f\"},\"type\":\"carpet\"}],\"choropleth\":[{\"colorbar\":{\"outlinewidth\":0,\"ticks\":\"\"},\"type\":\"choropleth\"}],\"contourcarpet\":[{\"colorbar\":{\"outlinewidth\":0,\"ticks\":\"\"},\"type\":\"contourcarpet\"}],\"contour\":[{\"colorbar\":{\"outlinewidth\":0,\"ticks\":\"\"},\"colorscale\":[[0.0,\"#0d0887\"],[0.1111111111111111,\"#46039f\"],[0.2222222222222222,\"#7201a8\"],[0.3333333333333333,\"#9c179e\"],[0.4444444444444444,\"#bd3786\"],[0.5555555555555556,\"#d8576b\"],[0.6666666666666666,\"#ed7953\"],[0.7777777777777778,\"#fb9f3a\"],[0.8888888888888888,\"#fdca26\"],[1.0,\"#f0f921\"]],\"type\":\"contour\"}],\"heatmapgl\":[{\"colorbar\":{\"outlinewidth\":0,\"ticks\":\"\"},\"colorscale\":[[0.0,\"#0d0887\"],[0.1111111111111111,\"#46039f\"],[0.2222222222222222,\"#7201a8\"],[0.3333333333333333,\"#9c179e\"],[0.4444444444444444,\"#bd3786\"],[0.5555555555555556,\"#d8576b\"],[0.6666666666666666,\"#ed7953\"],[0.7777777777777778,\"#fb9f3a\"],[0.8888888888888888,\"#fdca26\"],[1.0,\"#f0f921\"]],\"type\":\"heatmapgl\"}],\"heatmap\":[{\"colorbar\":{\"outlinewidth\":0,\"ticks\":\"\"},\"colorscale\":[[0.0,\"#0d0887\"],[0.1111111111111111,\"#46039f\"],[0.2222222222222222,\"#7201a8\"],[0.3333333333333333,\"#9c179e\"],[0.4444444444444444,\"#bd3786\"],[0.5555555555555556,\"#d8576b\"],[0.6666666666666666,\"#ed7953\"],[0.7777777777777778,\"#fb9f3a\"],[0.8888888888888888,\"#fdca26\"],[1.0,\"#f0f921\"]],\"type\":\"heatmap\"}],\"histogram2dcontour\":[{\"colorbar\":{\"outlinewidth\":0,\"ticks\":\"\"},\"colorscale\":[[0.0,\"#0d0887\"],[0.1111111111111111,\"#46039f\"],[0.2222222222222222,\"#7201a8\"],[0.3333333333333333,\"#9c179e\"],[0.4444444444444444,\"#bd3786\"],[0.5555555555555556,\"#d8576b\"],[0.6666666666666666,\"#ed7953\"],[0.7777777777777778,\"#fb9f3a\"],[0.8888888888888888,\"#fdca26\"],[1.0,\"#f0f921\"]],\"type\":\"histogram2dcontour\"}],\"histogram2d\":[{\"colorbar\":{\"outlinewidth\":0,\"ticks\":\"\"},\"colorscale\":[[0.0,\"#0d0887\"],[0.1111111111111111,\"#46039f\"],[0.2222222222222222,\"#7201a8\"],[0.3333333333333333,\"#9c179e\"],[0.4444444444444444,\"#bd3786\"],[0.5555555555555556,\"#d8576b\"],[0.6666666666666666,\"#ed7953\"],[0.7777777777777778,\"#fb9f3a\"],[0.8888888888888888,\"#fdca26\"],[1.0,\"#f0f921\"]],\"type\":\"histogram2d\"}],\"histogram\":[{\"marker\":{\"pattern\":{\"fillmode\":\"overlay\",\"size\":10,\"solidity\":0.2}},\"type\":\"histogram\"}],\"mesh3d\":[{\"colorbar\":{\"outlinewidth\":0,\"ticks\":\"\"},\"type\":\"mesh3d\"}],\"parcoords\":[{\"line\":{\"colorbar\":{\"outlinewidth\":0,\"ticks\":\"\"}},\"type\":\"parcoords\"}],\"pie\":[{\"automargin\":true,\"type\":\"pie\"}],\"scatter3d\":[{\"line\":{\"colorbar\":{\"outlinewidth\":0,\"ticks\":\"\"}},\"marker\":{\"colorbar\":{\"outlinewidth\":0,\"ticks\":\"\"}},\"type\":\"scatter3d\"}],\"scattercarpet\":[{\"marker\":{\"colorbar\":{\"outlinewidth\":0,\"ticks\":\"\"}},\"type\":\"scattercarpet\"}],\"scattergeo\":[{\"marker\":{\"colorbar\":{\"outlinewidth\":0,\"ticks\":\"\"}},\"type\":\"scattergeo\"}],\"scattergl\":[{\"marker\":{\"colorbar\":{\"outlinewidth\":0,\"ticks\":\"\"}},\"type\":\"scattergl\"}],\"scattermapbox\":[{\"marker\":{\"colorbar\":{\"outlinewidth\":0,\"ticks\":\"\"}},\"type\":\"scattermapbox\"}],\"scatterpolargl\":[{\"marker\":{\"colorbar\":{\"outlinewidth\":0,\"ticks\":\"\"}},\"type\":\"scatterpolargl\"}],\"scatterpolar\":[{\"marker\":{\"colorbar\":{\"outlinewidth\":0,\"ticks\":\"\"}},\"type\":\"scatterpolar\"}],\"scatter\":[{\"fillpattern\":{\"fillmode\":\"overlay\",\"size\":10,\"solidity\":0.2},\"type\":\"scatter\"}],\"scatterternary\":[{\"marker\":{\"colorbar\":{\"outlinewidth\":0,\"ticks\":\"\"}},\"type\":\"scatterternary\"}],\"surface\":[{\"colorbar\":{\"outlinewidth\":0,\"ticks\":\"\"},\"colorscale\":[[0.0,\"#0d0887\"],[0.1111111111111111,\"#46039f\"],[0.2222222222222222,\"#7201a8\"],[0.3333333333333333,\"#9c179e\"],[0.4444444444444444,\"#bd3786\"],[0.5555555555555556,\"#d8576b\"],[0.6666666666666666,\"#ed7953\"],[0.7777777777777778,\"#fb9f3a\"],[0.8888888888888888,\"#fdca26\"],[1.0,\"#f0f921\"]],\"type\":\"surface\"}],\"table\":[{\"cells\":{\"fill\":{\"color\":\"#EBF0F8\"},\"line\":{\"color\":\"white\"}},\"header\":{\"fill\":{\"color\":\"#C8D4E3\"},\"line\":{\"color\":\"white\"}},\"type\":\"table\"}]},\"layout\":{\"annotationdefaults\":{\"arrowcolor\":\"#2a3f5f\",\"arrowhead\":0,\"arrowwidth\":1},\"autotypenumbers\":\"strict\",\"coloraxis\":{\"colorbar\":{\"outlinewidth\":0,\"ticks\":\"\"}},\"colorscale\":{\"diverging\":[[0,\"#8e0152\"],[0.1,\"#c51b7d\"],[0.2,\"#de77ae\"],[0.3,\"#f1b6da\"],[0.4,\"#fde0ef\"],[0.5,\"#f7f7f7\"],[0.6,\"#e6f5d0\"],[0.7,\"#b8e186\"],[0.8,\"#7fbc41\"],[0.9,\"#4d9221\"],[1,\"#276419\"]],\"sequential\":[[0.0,\"#0d0887\"],[0.1111111111111111,\"#46039f\"],[0.2222222222222222,\"#7201a8\"],[0.3333333333333333,\"#9c179e\"],[0.4444444444444444,\"#bd3786\"],[0.5555555555555556,\"#d8576b\"],[0.6666666666666666,\"#ed7953\"],[0.7777777777777778,\"#fb9f3a\"],[0.8888888888888888,\"#fdca26\"],[1.0,\"#f0f921\"]],\"sequentialminus\":[[0.0,\"#0d0887\"],[0.1111111111111111,\"#46039f\"],[0.2222222222222222,\"#7201a8\"],[0.3333333333333333,\"#9c179e\"],[0.4444444444444444,\"#bd3786\"],[0.5555555555555556,\"#d8576b\"],[0.6666666666666666,\"#ed7953\"],[0.7777777777777778,\"#fb9f3a\"],[0.8888888888888888,\"#fdca26\"],[1.0,\"#f0f921\"]]},\"colorway\":[\"#636efa\",\"#EF553B\",\"#00cc96\",\"#ab63fa\",\"#FFA15A\",\"#19d3f3\",\"#FF6692\",\"#B6E880\",\"#FF97FF\",\"#FECB52\"],\"font\":{\"color\":\"#2a3f5f\"},\"geo\":{\"bgcolor\":\"white\",\"lakecolor\":\"white\",\"landcolor\":\"#E5ECF6\",\"showlakes\":true,\"showland\":true,\"subunitcolor\":\"white\"},\"hoverlabel\":{\"align\":\"left\"},\"hovermode\":\"closest\",\"mapbox\":{\"style\":\"light\"},\"paper_bgcolor\":\"white\",\"plot_bgcolor\":\"#E5ECF6\",\"polar\":{\"angularaxis\":{\"gridcolor\":\"white\",\"linecolor\":\"white\",\"ticks\":\"\"},\"bgcolor\":\"#E5ECF6\",\"radialaxis\":{\"gridcolor\":\"white\",\"linecolor\":\"white\",\"ticks\":\"\"}},\"scene\":{\"xaxis\":{\"backgroundcolor\":\"#E5ECF6\",\"gridcolor\":\"white\",\"gridwidth\":2,\"linecolor\":\"white\",\"showbackground\":true,\"ticks\":\"\",\"zerolinecolor\":\"white\"},\"yaxis\":{\"backgroundcolor\":\"#E5ECF6\",\"gridcolor\":\"white\",\"gridwidth\":2,\"linecolor\":\"white\",\"showbackground\":true,\"ticks\":\"\",\"zerolinecolor\":\"white\"},\"zaxis\":{\"backgroundcolor\":\"#E5ECF6\",\"gridcolor\":\"white\",\"gridwidth\":2,\"linecolor\":\"white\",\"showbackground\":true,\"ticks\":\"\",\"zerolinecolor\":\"white\"}},\"shapedefaults\":{\"line\":{\"color\":\"#2a3f5f\"}},\"ternary\":{\"aaxis\":{\"gridcolor\":\"white\",\"linecolor\":\"white\",\"ticks\":\"\"},\"baxis\":{\"gridcolor\":\"white\",\"linecolor\":\"white\",\"ticks\":\"\"},\"bgcolor\":\"#E5ECF6\",\"caxis\":{\"gridcolor\":\"white\",\"linecolor\":\"white\",\"ticks\":\"\"}},\"title\":{\"x\":0.05},\"xaxis\":{\"automargin\":true,\"gridcolor\":\"white\",\"linecolor\":\"white\",\"ticks\":\"\",\"title\":{\"standoff\":15},\"zerolinecolor\":\"white\",\"zerolinewidth\":2},\"yaxis\":{\"automargin\":true,\"gridcolor\":\"white\",\"linecolor\":\"white\",\"ticks\":\"\",\"title\":{\"standoff\":15},\"zerolinecolor\":\"white\",\"zerolinewidth\":2}}},\"title\":{\"font\":{\"color\":\"#4D5663\"}},\"xaxis\":{\"gridcolor\":\"#E1E5ED\",\"showgrid\":true,\"tickfont\":{\"color\":\"#4D5663\"},\"title\":{\"font\":{\"color\":\"#4D5663\"},\"text\":\"\"},\"zerolinecolor\":\"#E1E5ED\"},\"yaxis\":{\"gridcolor\":\"#E1E5ED\",\"showgrid\":true,\"tickfont\":{\"color\":\"#4D5663\"},\"title\":{\"font\":{\"color\":\"#4D5663\"},\"text\":\"\"},\"zerolinecolor\":\"#E1E5ED\"}},                        {\"showLink\": true, \"linkText\": \"Export to plot.ly\", \"plotlyServerURL\": \"https://plot.ly\", \"responsive\": true}                    ).then(function(){\n",
       "                            \n",
       "var gd = document.getElementById('04abf93c-c4ce-4999-8008-d2d321d2ad4a');\n",
       "var x = new MutationObserver(function (mutations, observer) {{\n",
       "        var display = window.getComputedStyle(gd).display;\n",
       "        if (!display || display === 'none') {{\n",
       "            console.log([gd, 'removed!']);\n",
       "            Plotly.purge(gd);\n",
       "            observer.disconnect();\n",
       "        }}\n",
       "}});\n",
       "\n",
       "// Listen for the removal of the full notebook cells\n",
       "var notebookContainer = gd.closest('#notebook-container');\n",
       "if (notebookContainer) {{\n",
       "    x.observe(notebookContainer, {childList: true});\n",
       "}}\n",
       "\n",
       "// Listen for the clearing of the current output cell\n",
       "var outputEl = gd.closest('.output');\n",
       "if (outputEl) {{\n",
       "    x.observe(outputEl, {childList: true});\n",
       "}}\n",
       "\n",
       "                        })                };                });            </script>        </div>"
      ]
     },
     "metadata": {},
     "output_type": "display_data"
    }
   ],
   "source": [
    "df.iplot(kind='bar')"
   ]
  },
  {
   "cell_type": "code",
   "execution_count": 13,
   "metadata": {},
   "outputs": [
    {
     "data": {
      "application/vnd.plotly.v1+json": {
       "config": {
        "linkText": "Export to plot.ly",
        "plotlyServerURL": "https://plot.ly",
        "showLink": true
       },
       "data": [
        {
         "marker": {
          "color": "rgba(255, 153, 51, 0.6)",
          "line": {
           "color": "rgba(255, 153, 51, 1.0)",
           "width": 1
          }
         },
         "name": "None",
         "orientation": "v",
         "text": "",
         "type": "bar",
         "x": [
          "A",
          "B",
          "C",
          "D"
         ],
         "y": [
          15.425760001147465,
          13.316178407717146,
          7.727839955995224,
          -1.284224066873609
         ]
        }
       ],
       "layout": {
        "legend": {
         "bgcolor": "#F5F6F9",
         "font": {
          "color": "#4D5663"
         }
        },
        "paper_bgcolor": "#F5F6F9",
        "plot_bgcolor": "#F5F6F9",
        "template": {
         "data": {
          "bar": [
           {
            "error_x": {
             "color": "#2a3f5f"
            },
            "error_y": {
             "color": "#2a3f5f"
            },
            "marker": {
             "line": {
              "color": "#E5ECF6",
              "width": 0.5
             },
             "pattern": {
              "fillmode": "overlay",
              "size": 10,
              "solidity": 0.2
             }
            },
            "type": "bar"
           }
          ],
          "barpolar": [
           {
            "marker": {
             "line": {
              "color": "#E5ECF6",
              "width": 0.5
             },
             "pattern": {
              "fillmode": "overlay",
              "size": 10,
              "solidity": 0.2
             }
            },
            "type": "barpolar"
           }
          ],
          "carpet": [
           {
            "aaxis": {
             "endlinecolor": "#2a3f5f",
             "gridcolor": "white",
             "linecolor": "white",
             "minorgridcolor": "white",
             "startlinecolor": "#2a3f5f"
            },
            "baxis": {
             "endlinecolor": "#2a3f5f",
             "gridcolor": "white",
             "linecolor": "white",
             "minorgridcolor": "white",
             "startlinecolor": "#2a3f5f"
            },
            "type": "carpet"
           }
          ],
          "choropleth": [
           {
            "colorbar": {
             "outlinewidth": 0,
             "ticks": ""
            },
            "type": "choropleth"
           }
          ],
          "contour": [
           {
            "colorbar": {
             "outlinewidth": 0,
             "ticks": ""
            },
            "colorscale": [
             [
              0,
              "#0d0887"
             ],
             [
              0.1111111111111111,
              "#46039f"
             ],
             [
              0.2222222222222222,
              "#7201a8"
             ],
             [
              0.3333333333333333,
              "#9c179e"
             ],
             [
              0.4444444444444444,
              "#bd3786"
             ],
             [
              0.5555555555555556,
              "#d8576b"
             ],
             [
              0.6666666666666666,
              "#ed7953"
             ],
             [
              0.7777777777777778,
              "#fb9f3a"
             ],
             [
              0.8888888888888888,
              "#fdca26"
             ],
             [
              1,
              "#f0f921"
             ]
            ],
            "type": "contour"
           }
          ],
          "contourcarpet": [
           {
            "colorbar": {
             "outlinewidth": 0,
             "ticks": ""
            },
            "type": "contourcarpet"
           }
          ],
          "heatmap": [
           {
            "colorbar": {
             "outlinewidth": 0,
             "ticks": ""
            },
            "colorscale": [
             [
              0,
              "#0d0887"
             ],
             [
              0.1111111111111111,
              "#46039f"
             ],
             [
              0.2222222222222222,
              "#7201a8"
             ],
             [
              0.3333333333333333,
              "#9c179e"
             ],
             [
              0.4444444444444444,
              "#bd3786"
             ],
             [
              0.5555555555555556,
              "#d8576b"
             ],
             [
              0.6666666666666666,
              "#ed7953"
             ],
             [
              0.7777777777777778,
              "#fb9f3a"
             ],
             [
              0.8888888888888888,
              "#fdca26"
             ],
             [
              1,
              "#f0f921"
             ]
            ],
            "type": "heatmap"
           }
          ],
          "heatmapgl": [
           {
            "colorbar": {
             "outlinewidth": 0,
             "ticks": ""
            },
            "colorscale": [
             [
              0,
              "#0d0887"
             ],
             [
              0.1111111111111111,
              "#46039f"
             ],
             [
              0.2222222222222222,
              "#7201a8"
             ],
             [
              0.3333333333333333,
              "#9c179e"
             ],
             [
              0.4444444444444444,
              "#bd3786"
             ],
             [
              0.5555555555555556,
              "#d8576b"
             ],
             [
              0.6666666666666666,
              "#ed7953"
             ],
             [
              0.7777777777777778,
              "#fb9f3a"
             ],
             [
              0.8888888888888888,
              "#fdca26"
             ],
             [
              1,
              "#f0f921"
             ]
            ],
            "type": "heatmapgl"
           }
          ],
          "histogram": [
           {
            "marker": {
             "pattern": {
              "fillmode": "overlay",
              "size": 10,
              "solidity": 0.2
             }
            },
            "type": "histogram"
           }
          ],
          "histogram2d": [
           {
            "colorbar": {
             "outlinewidth": 0,
             "ticks": ""
            },
            "colorscale": [
             [
              0,
              "#0d0887"
             ],
             [
              0.1111111111111111,
              "#46039f"
             ],
             [
              0.2222222222222222,
              "#7201a8"
             ],
             [
              0.3333333333333333,
              "#9c179e"
             ],
             [
              0.4444444444444444,
              "#bd3786"
             ],
             [
              0.5555555555555556,
              "#d8576b"
             ],
             [
              0.6666666666666666,
              "#ed7953"
             ],
             [
              0.7777777777777778,
              "#fb9f3a"
             ],
             [
              0.8888888888888888,
              "#fdca26"
             ],
             [
              1,
              "#f0f921"
             ]
            ],
            "type": "histogram2d"
           }
          ],
          "histogram2dcontour": [
           {
            "colorbar": {
             "outlinewidth": 0,
             "ticks": ""
            },
            "colorscale": [
             [
              0,
              "#0d0887"
             ],
             [
              0.1111111111111111,
              "#46039f"
             ],
             [
              0.2222222222222222,
              "#7201a8"
             ],
             [
              0.3333333333333333,
              "#9c179e"
             ],
             [
              0.4444444444444444,
              "#bd3786"
             ],
             [
              0.5555555555555556,
              "#d8576b"
             ],
             [
              0.6666666666666666,
              "#ed7953"
             ],
             [
              0.7777777777777778,
              "#fb9f3a"
             ],
             [
              0.8888888888888888,
              "#fdca26"
             ],
             [
              1,
              "#f0f921"
             ]
            ],
            "type": "histogram2dcontour"
           }
          ],
          "mesh3d": [
           {
            "colorbar": {
             "outlinewidth": 0,
             "ticks": ""
            },
            "type": "mesh3d"
           }
          ],
          "parcoords": [
           {
            "line": {
             "colorbar": {
              "outlinewidth": 0,
              "ticks": ""
             }
            },
            "type": "parcoords"
           }
          ],
          "pie": [
           {
            "automargin": true,
            "type": "pie"
           }
          ],
          "scatter": [
           {
            "fillpattern": {
             "fillmode": "overlay",
             "size": 10,
             "solidity": 0.2
            },
            "type": "scatter"
           }
          ],
          "scatter3d": [
           {
            "line": {
             "colorbar": {
              "outlinewidth": 0,
              "ticks": ""
             }
            },
            "marker": {
             "colorbar": {
              "outlinewidth": 0,
              "ticks": ""
             }
            },
            "type": "scatter3d"
           }
          ],
          "scattercarpet": [
           {
            "marker": {
             "colorbar": {
              "outlinewidth": 0,
              "ticks": ""
             }
            },
            "type": "scattercarpet"
           }
          ],
          "scattergeo": [
           {
            "marker": {
             "colorbar": {
              "outlinewidth": 0,
              "ticks": ""
             }
            },
            "type": "scattergeo"
           }
          ],
          "scattergl": [
           {
            "marker": {
             "colorbar": {
              "outlinewidth": 0,
              "ticks": ""
             }
            },
            "type": "scattergl"
           }
          ],
          "scattermapbox": [
           {
            "marker": {
             "colorbar": {
              "outlinewidth": 0,
              "ticks": ""
             }
            },
            "type": "scattermapbox"
           }
          ],
          "scatterpolar": [
           {
            "marker": {
             "colorbar": {
              "outlinewidth": 0,
              "ticks": ""
             }
            },
            "type": "scatterpolar"
           }
          ],
          "scatterpolargl": [
           {
            "marker": {
             "colorbar": {
              "outlinewidth": 0,
              "ticks": ""
             }
            },
            "type": "scatterpolargl"
           }
          ],
          "scatterternary": [
           {
            "marker": {
             "colorbar": {
              "outlinewidth": 0,
              "ticks": ""
             }
            },
            "type": "scatterternary"
           }
          ],
          "surface": [
           {
            "colorbar": {
             "outlinewidth": 0,
             "ticks": ""
            },
            "colorscale": [
             [
              0,
              "#0d0887"
             ],
             [
              0.1111111111111111,
              "#46039f"
             ],
             [
              0.2222222222222222,
              "#7201a8"
             ],
             [
              0.3333333333333333,
              "#9c179e"
             ],
             [
              0.4444444444444444,
              "#bd3786"
             ],
             [
              0.5555555555555556,
              "#d8576b"
             ],
             [
              0.6666666666666666,
              "#ed7953"
             ],
             [
              0.7777777777777778,
              "#fb9f3a"
             ],
             [
              0.8888888888888888,
              "#fdca26"
             ],
             [
              1,
              "#f0f921"
             ]
            ],
            "type": "surface"
           }
          ],
          "table": [
           {
            "cells": {
             "fill": {
              "color": "#EBF0F8"
             },
             "line": {
              "color": "white"
             }
            },
            "header": {
             "fill": {
              "color": "#C8D4E3"
             },
             "line": {
              "color": "white"
             }
            },
            "type": "table"
           }
          ]
         },
         "layout": {
          "annotationdefaults": {
           "arrowcolor": "#2a3f5f",
           "arrowhead": 0,
           "arrowwidth": 1
          },
          "autotypenumbers": "strict",
          "coloraxis": {
           "colorbar": {
            "outlinewidth": 0,
            "ticks": ""
           }
          },
          "colorscale": {
           "diverging": [
            [
             0,
             "#8e0152"
            ],
            [
             0.1,
             "#c51b7d"
            ],
            [
             0.2,
             "#de77ae"
            ],
            [
             0.3,
             "#f1b6da"
            ],
            [
             0.4,
             "#fde0ef"
            ],
            [
             0.5,
             "#f7f7f7"
            ],
            [
             0.6,
             "#e6f5d0"
            ],
            [
             0.7,
             "#b8e186"
            ],
            [
             0.8,
             "#7fbc41"
            ],
            [
             0.9,
             "#4d9221"
            ],
            [
             1,
             "#276419"
            ]
           ],
           "sequential": [
            [
             0,
             "#0d0887"
            ],
            [
             0.1111111111111111,
             "#46039f"
            ],
            [
             0.2222222222222222,
             "#7201a8"
            ],
            [
             0.3333333333333333,
             "#9c179e"
            ],
            [
             0.4444444444444444,
             "#bd3786"
            ],
            [
             0.5555555555555556,
             "#d8576b"
            ],
            [
             0.6666666666666666,
             "#ed7953"
            ],
            [
             0.7777777777777778,
             "#fb9f3a"
            ],
            [
             0.8888888888888888,
             "#fdca26"
            ],
            [
             1,
             "#f0f921"
            ]
           ],
           "sequentialminus": [
            [
             0,
             "#0d0887"
            ],
            [
             0.1111111111111111,
             "#46039f"
            ],
            [
             0.2222222222222222,
             "#7201a8"
            ],
            [
             0.3333333333333333,
             "#9c179e"
            ],
            [
             0.4444444444444444,
             "#bd3786"
            ],
            [
             0.5555555555555556,
             "#d8576b"
            ],
            [
             0.6666666666666666,
             "#ed7953"
            ],
            [
             0.7777777777777778,
             "#fb9f3a"
            ],
            [
             0.8888888888888888,
             "#fdca26"
            ],
            [
             1,
             "#f0f921"
            ]
           ]
          },
          "colorway": [
           "#636efa",
           "#EF553B",
           "#00cc96",
           "#ab63fa",
           "#FFA15A",
           "#19d3f3",
           "#FF6692",
           "#B6E880",
           "#FF97FF",
           "#FECB52"
          ],
          "font": {
           "color": "#2a3f5f"
          },
          "geo": {
           "bgcolor": "white",
           "lakecolor": "white",
           "landcolor": "#E5ECF6",
           "showlakes": true,
           "showland": true,
           "subunitcolor": "white"
          },
          "hoverlabel": {
           "align": "left"
          },
          "hovermode": "closest",
          "mapbox": {
           "style": "light"
          },
          "paper_bgcolor": "white",
          "plot_bgcolor": "#E5ECF6",
          "polar": {
           "angularaxis": {
            "gridcolor": "white",
            "linecolor": "white",
            "ticks": ""
           },
           "bgcolor": "#E5ECF6",
           "radialaxis": {
            "gridcolor": "white",
            "linecolor": "white",
            "ticks": ""
           }
          },
          "scene": {
           "xaxis": {
            "backgroundcolor": "#E5ECF6",
            "gridcolor": "white",
            "gridwidth": 2,
            "linecolor": "white",
            "showbackground": true,
            "ticks": "",
            "zerolinecolor": "white"
           },
           "yaxis": {
            "backgroundcolor": "#E5ECF6",
            "gridcolor": "white",
            "gridwidth": 2,
            "linecolor": "white",
            "showbackground": true,
            "ticks": "",
            "zerolinecolor": "white"
           },
           "zaxis": {
            "backgroundcolor": "#E5ECF6",
            "gridcolor": "white",
            "gridwidth": 2,
            "linecolor": "white",
            "showbackground": true,
            "ticks": "",
            "zerolinecolor": "white"
           }
          },
          "shapedefaults": {
           "line": {
            "color": "#2a3f5f"
           }
          },
          "ternary": {
           "aaxis": {
            "gridcolor": "white",
            "linecolor": "white",
            "ticks": ""
           },
           "baxis": {
            "gridcolor": "white",
            "linecolor": "white",
            "ticks": ""
           },
           "bgcolor": "#E5ECF6",
           "caxis": {
            "gridcolor": "white",
            "linecolor": "white",
            "ticks": ""
           }
          },
          "title": {
           "x": 0.05
          },
          "xaxis": {
           "automargin": true,
           "gridcolor": "white",
           "linecolor": "white",
           "ticks": "",
           "title": {
            "standoff": 15
           },
           "zerolinecolor": "white",
           "zerolinewidth": 2
          },
          "yaxis": {
           "automargin": true,
           "gridcolor": "white",
           "linecolor": "white",
           "ticks": "",
           "title": {
            "standoff": 15
           },
           "zerolinecolor": "white",
           "zerolinewidth": 2
          }
         }
        },
        "title": {
         "font": {
          "color": "#4D5663"
         }
        },
        "xaxis": {
         "gridcolor": "#E1E5ED",
         "showgrid": true,
         "tickfont": {
          "color": "#4D5663"
         },
         "title": {
          "font": {
           "color": "#4D5663"
          },
          "text": ""
         },
         "zerolinecolor": "#E1E5ED"
        },
        "yaxis": {
         "gridcolor": "#E1E5ED",
         "showgrid": true,
         "tickfont": {
          "color": "#4D5663"
         },
         "title": {
          "font": {
           "color": "#4D5663"
          },
          "text": ""
         },
         "zerolinecolor": "#E1E5ED"
        }
       }
      },
      "text/html": [
       "<div>                            <div id=\"372537b3-3cbf-48ad-8a01-d65f68fbaebd\" class=\"plotly-graph-div\" style=\"height:525px; width:100%;\"></div>            <script type=\"text/javascript\">                require([\"plotly\"], function(Plotly) {                    window.PLOTLYENV=window.PLOTLYENV || {};\n",
       "                    window.PLOTLYENV.BASE_URL='https://plot.ly';                                    if (document.getElementById(\"372537b3-3cbf-48ad-8a01-d65f68fbaebd\")) {                    Plotly.newPlot(                        \"372537b3-3cbf-48ad-8a01-d65f68fbaebd\",                        [{\"marker\":{\"color\":\"rgba(255, 153, 51, 0.6)\",\"line\":{\"color\":\"rgba(255, 153, 51, 1.0)\",\"width\":1}},\"name\":\"None\",\"orientation\":\"v\",\"text\":\"\",\"x\":[\"A\",\"B\",\"C\",\"D\"],\"y\":[15.425760001147465,13.316178407717146,7.727839955995224,-1.284224066873609],\"type\":\"bar\"}],                        {\"legend\":{\"bgcolor\":\"#F5F6F9\",\"font\":{\"color\":\"#4D5663\"}},\"paper_bgcolor\":\"#F5F6F9\",\"plot_bgcolor\":\"#F5F6F9\",\"template\":{\"data\":{\"barpolar\":[{\"marker\":{\"line\":{\"color\":\"#E5ECF6\",\"width\":0.5},\"pattern\":{\"fillmode\":\"overlay\",\"size\":10,\"solidity\":0.2}},\"type\":\"barpolar\"}],\"bar\":[{\"error_x\":{\"color\":\"#2a3f5f\"},\"error_y\":{\"color\":\"#2a3f5f\"},\"marker\":{\"line\":{\"color\":\"#E5ECF6\",\"width\":0.5},\"pattern\":{\"fillmode\":\"overlay\",\"size\":10,\"solidity\":0.2}},\"type\":\"bar\"}],\"carpet\":[{\"aaxis\":{\"endlinecolor\":\"#2a3f5f\",\"gridcolor\":\"white\",\"linecolor\":\"white\",\"minorgridcolor\":\"white\",\"startlinecolor\":\"#2a3f5f\"},\"baxis\":{\"endlinecolor\":\"#2a3f5f\",\"gridcolor\":\"white\",\"linecolor\":\"white\",\"minorgridcolor\":\"white\",\"startlinecolor\":\"#2a3f5f\"},\"type\":\"carpet\"}],\"choropleth\":[{\"colorbar\":{\"outlinewidth\":0,\"ticks\":\"\"},\"type\":\"choropleth\"}],\"contourcarpet\":[{\"colorbar\":{\"outlinewidth\":0,\"ticks\":\"\"},\"type\":\"contourcarpet\"}],\"contour\":[{\"colorbar\":{\"outlinewidth\":0,\"ticks\":\"\"},\"colorscale\":[[0.0,\"#0d0887\"],[0.1111111111111111,\"#46039f\"],[0.2222222222222222,\"#7201a8\"],[0.3333333333333333,\"#9c179e\"],[0.4444444444444444,\"#bd3786\"],[0.5555555555555556,\"#d8576b\"],[0.6666666666666666,\"#ed7953\"],[0.7777777777777778,\"#fb9f3a\"],[0.8888888888888888,\"#fdca26\"],[1.0,\"#f0f921\"]],\"type\":\"contour\"}],\"heatmapgl\":[{\"colorbar\":{\"outlinewidth\":0,\"ticks\":\"\"},\"colorscale\":[[0.0,\"#0d0887\"],[0.1111111111111111,\"#46039f\"],[0.2222222222222222,\"#7201a8\"],[0.3333333333333333,\"#9c179e\"],[0.4444444444444444,\"#bd3786\"],[0.5555555555555556,\"#d8576b\"],[0.6666666666666666,\"#ed7953\"],[0.7777777777777778,\"#fb9f3a\"],[0.8888888888888888,\"#fdca26\"],[1.0,\"#f0f921\"]],\"type\":\"heatmapgl\"}],\"heatmap\":[{\"colorbar\":{\"outlinewidth\":0,\"ticks\":\"\"},\"colorscale\":[[0.0,\"#0d0887\"],[0.1111111111111111,\"#46039f\"],[0.2222222222222222,\"#7201a8\"],[0.3333333333333333,\"#9c179e\"],[0.4444444444444444,\"#bd3786\"],[0.5555555555555556,\"#d8576b\"],[0.6666666666666666,\"#ed7953\"],[0.7777777777777778,\"#fb9f3a\"],[0.8888888888888888,\"#fdca26\"],[1.0,\"#f0f921\"]],\"type\":\"heatmap\"}],\"histogram2dcontour\":[{\"colorbar\":{\"outlinewidth\":0,\"ticks\":\"\"},\"colorscale\":[[0.0,\"#0d0887\"],[0.1111111111111111,\"#46039f\"],[0.2222222222222222,\"#7201a8\"],[0.3333333333333333,\"#9c179e\"],[0.4444444444444444,\"#bd3786\"],[0.5555555555555556,\"#d8576b\"],[0.6666666666666666,\"#ed7953\"],[0.7777777777777778,\"#fb9f3a\"],[0.8888888888888888,\"#fdca26\"],[1.0,\"#f0f921\"]],\"type\":\"histogram2dcontour\"}],\"histogram2d\":[{\"colorbar\":{\"outlinewidth\":0,\"ticks\":\"\"},\"colorscale\":[[0.0,\"#0d0887\"],[0.1111111111111111,\"#46039f\"],[0.2222222222222222,\"#7201a8\"],[0.3333333333333333,\"#9c179e\"],[0.4444444444444444,\"#bd3786\"],[0.5555555555555556,\"#d8576b\"],[0.6666666666666666,\"#ed7953\"],[0.7777777777777778,\"#fb9f3a\"],[0.8888888888888888,\"#fdca26\"],[1.0,\"#f0f921\"]],\"type\":\"histogram2d\"}],\"histogram\":[{\"marker\":{\"pattern\":{\"fillmode\":\"overlay\",\"size\":10,\"solidity\":0.2}},\"type\":\"histogram\"}],\"mesh3d\":[{\"colorbar\":{\"outlinewidth\":0,\"ticks\":\"\"},\"type\":\"mesh3d\"}],\"parcoords\":[{\"line\":{\"colorbar\":{\"outlinewidth\":0,\"ticks\":\"\"}},\"type\":\"parcoords\"}],\"pie\":[{\"automargin\":true,\"type\":\"pie\"}],\"scatter3d\":[{\"line\":{\"colorbar\":{\"outlinewidth\":0,\"ticks\":\"\"}},\"marker\":{\"colorbar\":{\"outlinewidth\":0,\"ticks\":\"\"}},\"type\":\"scatter3d\"}],\"scattercarpet\":[{\"marker\":{\"colorbar\":{\"outlinewidth\":0,\"ticks\":\"\"}},\"type\":\"scattercarpet\"}],\"scattergeo\":[{\"marker\":{\"colorbar\":{\"outlinewidth\":0,\"ticks\":\"\"}},\"type\":\"scattergeo\"}],\"scattergl\":[{\"marker\":{\"colorbar\":{\"outlinewidth\":0,\"ticks\":\"\"}},\"type\":\"scattergl\"}],\"scattermapbox\":[{\"marker\":{\"colorbar\":{\"outlinewidth\":0,\"ticks\":\"\"}},\"type\":\"scattermapbox\"}],\"scatterpolargl\":[{\"marker\":{\"colorbar\":{\"outlinewidth\":0,\"ticks\":\"\"}},\"type\":\"scatterpolargl\"}],\"scatterpolar\":[{\"marker\":{\"colorbar\":{\"outlinewidth\":0,\"ticks\":\"\"}},\"type\":\"scatterpolar\"}],\"scatter\":[{\"fillpattern\":{\"fillmode\":\"overlay\",\"size\":10,\"solidity\":0.2},\"type\":\"scatter\"}],\"scatterternary\":[{\"marker\":{\"colorbar\":{\"outlinewidth\":0,\"ticks\":\"\"}},\"type\":\"scatterternary\"}],\"surface\":[{\"colorbar\":{\"outlinewidth\":0,\"ticks\":\"\"},\"colorscale\":[[0.0,\"#0d0887\"],[0.1111111111111111,\"#46039f\"],[0.2222222222222222,\"#7201a8\"],[0.3333333333333333,\"#9c179e\"],[0.4444444444444444,\"#bd3786\"],[0.5555555555555556,\"#d8576b\"],[0.6666666666666666,\"#ed7953\"],[0.7777777777777778,\"#fb9f3a\"],[0.8888888888888888,\"#fdca26\"],[1.0,\"#f0f921\"]],\"type\":\"surface\"}],\"table\":[{\"cells\":{\"fill\":{\"color\":\"#EBF0F8\"},\"line\":{\"color\":\"white\"}},\"header\":{\"fill\":{\"color\":\"#C8D4E3\"},\"line\":{\"color\":\"white\"}},\"type\":\"table\"}]},\"layout\":{\"annotationdefaults\":{\"arrowcolor\":\"#2a3f5f\",\"arrowhead\":0,\"arrowwidth\":1},\"autotypenumbers\":\"strict\",\"coloraxis\":{\"colorbar\":{\"outlinewidth\":0,\"ticks\":\"\"}},\"colorscale\":{\"diverging\":[[0,\"#8e0152\"],[0.1,\"#c51b7d\"],[0.2,\"#de77ae\"],[0.3,\"#f1b6da\"],[0.4,\"#fde0ef\"],[0.5,\"#f7f7f7\"],[0.6,\"#e6f5d0\"],[0.7,\"#b8e186\"],[0.8,\"#7fbc41\"],[0.9,\"#4d9221\"],[1,\"#276419\"]],\"sequential\":[[0.0,\"#0d0887\"],[0.1111111111111111,\"#46039f\"],[0.2222222222222222,\"#7201a8\"],[0.3333333333333333,\"#9c179e\"],[0.4444444444444444,\"#bd3786\"],[0.5555555555555556,\"#d8576b\"],[0.6666666666666666,\"#ed7953\"],[0.7777777777777778,\"#fb9f3a\"],[0.8888888888888888,\"#fdca26\"],[1.0,\"#f0f921\"]],\"sequentialminus\":[[0.0,\"#0d0887\"],[0.1111111111111111,\"#46039f\"],[0.2222222222222222,\"#7201a8\"],[0.3333333333333333,\"#9c179e\"],[0.4444444444444444,\"#bd3786\"],[0.5555555555555556,\"#d8576b\"],[0.6666666666666666,\"#ed7953\"],[0.7777777777777778,\"#fb9f3a\"],[0.8888888888888888,\"#fdca26\"],[1.0,\"#f0f921\"]]},\"colorway\":[\"#636efa\",\"#EF553B\",\"#00cc96\",\"#ab63fa\",\"#FFA15A\",\"#19d3f3\",\"#FF6692\",\"#B6E880\",\"#FF97FF\",\"#FECB52\"],\"font\":{\"color\":\"#2a3f5f\"},\"geo\":{\"bgcolor\":\"white\",\"lakecolor\":\"white\",\"landcolor\":\"#E5ECF6\",\"showlakes\":true,\"showland\":true,\"subunitcolor\":\"white\"},\"hoverlabel\":{\"align\":\"left\"},\"hovermode\":\"closest\",\"mapbox\":{\"style\":\"light\"},\"paper_bgcolor\":\"white\",\"plot_bgcolor\":\"#E5ECF6\",\"polar\":{\"angularaxis\":{\"gridcolor\":\"white\",\"linecolor\":\"white\",\"ticks\":\"\"},\"bgcolor\":\"#E5ECF6\",\"radialaxis\":{\"gridcolor\":\"white\",\"linecolor\":\"white\",\"ticks\":\"\"}},\"scene\":{\"xaxis\":{\"backgroundcolor\":\"#E5ECF6\",\"gridcolor\":\"white\",\"gridwidth\":2,\"linecolor\":\"white\",\"showbackground\":true,\"ticks\":\"\",\"zerolinecolor\":\"white\"},\"yaxis\":{\"backgroundcolor\":\"#E5ECF6\",\"gridcolor\":\"white\",\"gridwidth\":2,\"linecolor\":\"white\",\"showbackground\":true,\"ticks\":\"\",\"zerolinecolor\":\"white\"},\"zaxis\":{\"backgroundcolor\":\"#E5ECF6\",\"gridcolor\":\"white\",\"gridwidth\":2,\"linecolor\":\"white\",\"showbackground\":true,\"ticks\":\"\",\"zerolinecolor\":\"white\"}},\"shapedefaults\":{\"line\":{\"color\":\"#2a3f5f\"}},\"ternary\":{\"aaxis\":{\"gridcolor\":\"white\",\"linecolor\":\"white\",\"ticks\":\"\"},\"baxis\":{\"gridcolor\":\"white\",\"linecolor\":\"white\",\"ticks\":\"\"},\"bgcolor\":\"#E5ECF6\",\"caxis\":{\"gridcolor\":\"white\",\"linecolor\":\"white\",\"ticks\":\"\"}},\"title\":{\"x\":0.05},\"xaxis\":{\"automargin\":true,\"gridcolor\":\"white\",\"linecolor\":\"white\",\"ticks\":\"\",\"title\":{\"standoff\":15},\"zerolinecolor\":\"white\",\"zerolinewidth\":2},\"yaxis\":{\"automargin\":true,\"gridcolor\":\"white\",\"linecolor\":\"white\",\"ticks\":\"\",\"title\":{\"standoff\":15},\"zerolinecolor\":\"white\",\"zerolinewidth\":2}}},\"title\":{\"font\":{\"color\":\"#4D5663\"}},\"xaxis\":{\"gridcolor\":\"#E1E5ED\",\"showgrid\":true,\"tickfont\":{\"color\":\"#4D5663\"},\"title\":{\"font\":{\"color\":\"#4D5663\"},\"text\":\"\"},\"zerolinecolor\":\"#E1E5ED\"},\"yaxis\":{\"gridcolor\":\"#E1E5ED\",\"showgrid\":true,\"tickfont\":{\"color\":\"#4D5663\"},\"title\":{\"font\":{\"color\":\"#4D5663\"},\"text\":\"\"},\"zerolinecolor\":\"#E1E5ED\"}},                        {\"showLink\": true, \"linkText\": \"Export to plot.ly\", \"plotlyServerURL\": \"https://plot.ly\", \"responsive\": true}                    ).then(function(){\n",
       "                            \n",
       "var gd = document.getElementById('372537b3-3cbf-48ad-8a01-d65f68fbaebd');\n",
       "var x = new MutationObserver(function (mutations, observer) {{\n",
       "        var display = window.getComputedStyle(gd).display;\n",
       "        if (!display || display === 'none') {{\n",
       "            console.log([gd, 'removed!']);\n",
       "            Plotly.purge(gd);\n",
       "            observer.disconnect();\n",
       "        }}\n",
       "}});\n",
       "\n",
       "// Listen for the removal of the full notebook cells\n",
       "var notebookContainer = gd.closest('#notebook-container');\n",
       "if (notebookContainer) {{\n",
       "    x.observe(notebookContainer, {childList: true});\n",
       "}}\n",
       "\n",
       "// Listen for the clearing of the current output cell\n",
       "var outputEl = gd.closest('.output');\n",
       "if (outputEl) {{\n",
       "    x.observe(outputEl, {childList: true});\n",
       "}}\n",
       "\n",
       "                        })                };                });            </script>        </div>"
      ]
     },
     "metadata": {},
     "output_type": "display_data"
    }
   ],
   "source": [
    "df.sum().iplot(kind='bar')"
   ]
  },
  {
   "cell_type": "code",
   "execution_count": 15,
   "metadata": {},
   "outputs": [
    {
     "data": {
      "application/vnd.plotly.v1+json": {
       "config": {
        "linkText": "Export to plot.ly",
        "plotlyServerURL": "https://plot.ly",
        "showLink": true
       },
       "data": [
        {
         "boxpoints": false,
         "line": {
          "width": 1.3
         },
         "marker": {
          "color": "rgba(255, 153, 51, 1.0)"
         },
         "name": "A",
         "orientation": "v",
         "type": "box",
         "y": [
          1.2379579215557721,
          -0.5005184725982377,
          -1.8230450427793612,
          0.06842502309955707,
          0.4254384314514911,
          1.1763052359239257,
          -0.11214271908475447,
          1.1059753615356682,
          0.22346118664892053,
          -3.0955008897822682,
          -1.4517744954104537,
          1.0800716683559,
          0.7541959355429521,
          -0.19781466988496854,
          0.8027711878115771,
          0.32235289207845674,
          -1.407064449126228,
          0.5813815157192956,
          -0.4203924036852652,
          0.5355956630247433,
          1.0206309013545645,
          0.7384385770882846,
          -0.2900868329082115,
          0.3829461322814965,
          0.4611215018331621,
          -1.3790825150179762,
          1.2819328381644517,
          -1.134352798171451,
          0.5205979181212208,
          1.3157399184969396,
          0.784109751385838,
          -0.2788739329905516,
          2.8096183045496717,
          -0.2308271549045375,
          1.3964084344569843,
          0.01831236818373684,
          0.827571000150851,
          -0.7590395468795416,
          -0.16238163174865078,
          0.2572099021763275,
          -0.1498663201241084,
          2.0530119786117687,
          -0.03723847683954049,
          0.41757657681991633,
          0.9672215524108312,
          1.964130099188044,
          -0.9148020760659852,
          -0.7067367751252867,
          -0.46258169228107315,
          0.6395101035312151,
          0.614656019091725,
          1.6970454877439154,
          0.09192463941462742,
          1.541224196386175,
          1.1495442914166665,
          1.4773844447931597,
          1.7621437230813883,
          0.46693142325967285,
          1.419824486490099,
          0.8120024374923902,
          -1.0954528503558223,
          0.0407775353196377,
          0.42850511111267753,
          1.9275505103817203,
          -1.3431683970134831,
          0.796264215695926,
          -1.9127758508775747,
          1.2854170397536104,
          -0.29109585036885166,
          0.7387637394372951,
          0.1864707079105069,
          -1.2500559744599842,
          1.2676856772130243,
          -0.16842033667773443,
          0.05579077525029771,
          -0.3262741971013337,
          0.023869859254569244,
          0.24314462754504315,
          -0.1535936724579839,
          1.0697246004611893,
          -0.9083408958560282,
          0.23825984450463622,
          0.6387576608046327,
          -0.5069686294885749,
          0.951703871558809,
          -0.5131593778854479,
          -0.06489118914025865,
          -1.6708061688797646,
          -0.8107835190282477,
          -1.181205795352084,
          -0.813756681394152,
          0.12899794573478857,
          -0.3690930111001821,
          1.015706364161616,
          -1.5316143343754245,
          -0.5312137078010556,
          -0.9267416426601521,
          0.800610799926069,
          -1.3397198536182306,
          -0.39168708430114446
         ]
        },
        {
         "boxpoints": false,
         "line": {
          "width": 1.3
         },
         "marker": {
          "color": "rgba(55, 128, 191, 1.0)"
         },
         "name": "B",
         "orientation": "v",
         "type": "box",
         "y": [
          0.02001560917781522,
          -1.0891731935032625,
          1.117115278451909,
          0.40002640297342607,
          0.6788225994148674,
          -1.0464508327499304,
          1.753186397555937,
          0.4553153584280742,
          1.9267772772513023,
          0.36761632757654483,
          0.3354221156945639,
          -1.3975971007794514,
          -0.8288799184866059,
          -1.4694617838267692,
          0.38071369841281305,
          0.5873705484639964,
          -1.3368556819937818,
          1.4991333888708165,
          0.5813807231497642,
          -0.5527128990216509,
          -0.09761952261295645,
          -0.28166161146952456,
          0.7142778405665612,
          0.6293793918294663,
          -2.123446302387997,
          -0.1383482546425122,
          0.0893175440277195,
          -1.3223609989772662,
          -1.4742353228376357,
          2.3557586879361794,
          0.6407860071334618,
          -1.6723162335483108,
          0.010739496078409847,
          -0.8404641217846549,
          -0.37170568055098224,
          1.8912657465336102,
          0.18598631691892653,
          -0.5051875454241069,
          0.20307885101154383,
          -0.1892760143690366,
          1.0627125177800432,
          0.00576008208656999,
          1.4018256061331034,
          0.21525579076981813,
          0.9108216767100435,
          -0.09179782052924047,
          -0.8190698523389677,
          0.5656749663533622,
          1.01457085362219,
          -1.3907851791904955,
          0.09853552198020779,
          1.7139266832774738,
          -0.34554016715977387,
          2.2656738435005725,
          0.48749200482362615,
          0.7508919362554308,
          -0.5490445283005263,
          1.353420063225845,
          -0.3316233300195538,
          0.6405398483347998,
          -0.2463538808502654,
          -0.7363662270746788,
          -0.680425364174238,
          0.05553101197713513,
          1.6033590272505436,
          0.10504078713367834,
          2.080793389318112,
          -0.24229773712897296,
          -1.0333677171102167,
          0.4132352687474129,
          -0.02609569212262343,
          0.4517671856431499,
          -0.844903742341376,
          -1.117027526113431,
          0.20431018641555201,
          0.1887560681516722,
          -0.8661853113814597,
          -1.3997834715565687,
          1.293875546610676,
          0.12507506231115692,
          1.4813260456365591,
          1.2799752422469581,
          -1.873280502909398,
          -1.1616794539335047,
          -0.7297439373845849,
          0.3172723549807555,
          0.02191631673027781,
          1.763692690956398,
          -0.8702349417220633,
          1.63676868925836,
          -0.6512863117971823,
          0.5600399577030546,
          1.234716383944129,
          -1.0610391550838316,
          -0.31963888274136043,
          2.159961437255129,
          0.5231537525093585,
          -0.6452848760271948,
          0.9483151450214008,
          0.3273184835628279
         ]
        },
        {
         "boxpoints": false,
         "line": {
          "width": 1.3
         },
         "marker": {
          "color": "rgba(50, 171, 96, 1.0)"
         },
         "name": "C",
         "orientation": "v",
         "type": "box",
         "y": [
          -0.3308678283499978,
          1.2102869885680758,
          0.16165666886283267,
          -0.05014626976914914,
          -1.7041310004861954,
          2.024235238513975,
          -0.09134465405958134,
          -1.6844924497820224,
          0.9163296026413046,
          2.0794659045860073,
          0.9924934578875237,
          0.5873707456348409,
          1.2905227319405057,
          0.46820678032260965,
          1.1206849052535683,
          1.341070631482998,
          -0.9920483075572034,
          -0.37702169423272214,
          0.46126090421413385,
          -0.4546029067221703,
          0.4026763795390725,
          -0.7561975897647178,
          0.14441673856184556,
          0.8211975728390191,
          0.6788870276756361,
          1.1182546437714418,
          0.9490176518954572,
          -1.154782531524615,
          0.38181427290559194,
          0.33793396035602163,
          -0.7751405834311564,
          -0.5529730769082326,
          0.05647916438691906,
          0.10192405603420507,
          -2.5162833330941545,
          -0.7951372011661051,
          -0.3646860211475907,
          0.40531580458811517,
          1.1926397744105726,
          -0.29028992462203845,
          1.3583231215828995,
          0.07781708033642254,
          2.0736040373947846,
          -0.8696821561479623,
          0.12043740731758966,
          -0.03629497239265656,
          0.3053570205331342,
          0.18029122773894382,
          0.13354900391709607,
          -0.17334299637084163,
          1.441867436897421,
          1.4636153646305592,
          0.26550864279774633,
          -0.7738813937949514,
          -1.2303692250124292,
          0.838200091267915,
          -0.38617909861518657,
          0.7352581128330348,
          -0.4019180535632065,
          0.20708486170988621,
          -0.7159667677135855,
          0.8368946666471312,
          -0.7160851600715328,
          0.6010705536057844,
          0.2030736188503543,
          0.5921507478620754,
          0.7574792167617637,
          0.4842234648942265,
          0.5773379515467608,
          1.670424691479897,
          0.9266799668186261,
          -1.403877587672895,
          1.2038809660012877,
          0.3452384281513092,
          0.44303880229347764,
          0.8719181744286881,
          -1.2329183855895733,
          0.9236240777143699,
          -0.24448714149810596,
          -1.0261859997751288,
          -0.21321537760757056,
          -1.5737984069401019,
          -0.18240254216565702,
          -0.6234118074730078,
          -1.4485033427600447,
          0.5503312905497174,
          -1.8692148240880035,
          0.2651111144391633,
          -0.4259951764634556,
          -0.8599050611922008,
          -0.14029638457586968,
          -1.3003551328791512,
          2.2322790534052537,
          -0.29450300839930077,
          -1.0470733402417887,
          -1.0307516059120065,
          0.21920184356692302,
          -0.42602690198949716,
          1.0245308766574683,
          -1.9089173419853969
         ]
        },
        {
         "boxpoints": false,
         "line": {
          "width": 1.3
         },
         "marker": {
          "color": "rgba(128, 0, 128, 1.0)"
         },
         "name": "D",
         "orientation": "v",
         "type": "box",
         "y": [
          -1.3310222068170523,
          -1.7096392690646527,
          -1.2912551841487887,
          -0.7020206211106352,
          -0.2875650554311028,
          0.19299137551135742,
          -0.3318021907267024,
          0.554407437903143,
          -1.6027514483438141,
          -0.5583374457996408,
          -1.1909155900979693,
          -0.16799969304505857,
          1.1076547382907063,
          -0.08899211740101358,
          -1.1449527400822357,
          1.6959826727319578,
          1.3670266110405185,
          -0.8405936593803466,
          -0.1929076216496946,
          0.8789932032389244,
          -0.4698205311769827,
          -0.398356752332882,
          1.0561635988235853,
          -0.3706603855536645,
          -0.277764072335064,
          -1.0785627100616377,
          -0.18152225999466887,
          0.5276844224501354,
          1.1561194606045417,
          1.1106954550163752,
          1.0627416146217996,
          -0.1260928931598106,
          -0.4598332651987356,
          0.6411437776042059,
          -1.041951477817779,
          0.6691217962214827,
          1.6296666424666046,
          -0.44574977222849377,
          -0.23281014979912887,
          -0.8639938660683446,
          0.27319588799445926,
          0.37558781089225113,
          -0.5534460166278362,
          -0.5364730092304173,
          0.9362697464962008,
          -0.37548380330025893,
          -0.6509652667464869,
          0.8970401589650328,
          -0.5009942063842345,
          -0.44467857541875516,
          0.09353221011102655,
          -0.11262393269507838,
          0.7625100864753245,
          2.3613592187384107,
          1.029644115872112,
          -0.2242940367590926,
          0.5824917337235999,
          -2.6652205073890047,
          0.012729101381596683,
          -0.22203396772971987,
          0.09131735780368261,
          1.6016833144812963,
          -0.5474491875501178,
          -0.21470432358028996,
          0.8304930555147175,
          0.08789297532799611,
          -0.7104857063861766,
          2.0978491190720696,
          0.4547763828312598,
          0.020660494156799884,
          0.9137750695744344,
          -0.2524765883552448,
          0.18743883654481444,
          -0.27695411625325256,
          1.0623044063581735,
          0.0847298230681404,
          -2.402239634495088,
          0.6097433415482213,
          1.0828561134806167,
          0.30931683484609324,
          0.1278116765466919,
          -0.784658364858415,
          -0.06854681415485908,
          0.24234831106758858,
          -0.317327955941285,
          -0.5732783164792783,
          -0.1794450666813971,
          0.5751584951505719,
          -1.5956776053935104,
          -1.3413271641328415,
          -0.411489813959892,
          0.037151516689043845,
          1.4482132720076988,
          0.06431614118783856,
          -1.3208101075105647,
          1.1178702087130916,
          -0.9365522791504914,
          -0.7876891468081865,
          2.0388487442797953,
          -0.950333941501925
         ]
        }
       ],
       "layout": {
        "legend": {
         "bgcolor": "#F5F6F9",
         "font": {
          "color": "#4D5663"
         }
        },
        "paper_bgcolor": "#F5F6F9",
        "plot_bgcolor": "#F5F6F9",
        "template": {
         "data": {
          "bar": [
           {
            "error_x": {
             "color": "#2a3f5f"
            },
            "error_y": {
             "color": "#2a3f5f"
            },
            "marker": {
             "line": {
              "color": "#E5ECF6",
              "width": 0.5
             },
             "pattern": {
              "fillmode": "overlay",
              "size": 10,
              "solidity": 0.2
             }
            },
            "type": "bar"
           }
          ],
          "barpolar": [
           {
            "marker": {
             "line": {
              "color": "#E5ECF6",
              "width": 0.5
             },
             "pattern": {
              "fillmode": "overlay",
              "size": 10,
              "solidity": 0.2
             }
            },
            "type": "barpolar"
           }
          ],
          "carpet": [
           {
            "aaxis": {
             "endlinecolor": "#2a3f5f",
             "gridcolor": "white",
             "linecolor": "white",
             "minorgridcolor": "white",
             "startlinecolor": "#2a3f5f"
            },
            "baxis": {
             "endlinecolor": "#2a3f5f",
             "gridcolor": "white",
             "linecolor": "white",
             "minorgridcolor": "white",
             "startlinecolor": "#2a3f5f"
            },
            "type": "carpet"
           }
          ],
          "choropleth": [
           {
            "colorbar": {
             "outlinewidth": 0,
             "ticks": ""
            },
            "type": "choropleth"
           }
          ],
          "contour": [
           {
            "colorbar": {
             "outlinewidth": 0,
             "ticks": ""
            },
            "colorscale": [
             [
              0,
              "#0d0887"
             ],
             [
              0.1111111111111111,
              "#46039f"
             ],
             [
              0.2222222222222222,
              "#7201a8"
             ],
             [
              0.3333333333333333,
              "#9c179e"
             ],
             [
              0.4444444444444444,
              "#bd3786"
             ],
             [
              0.5555555555555556,
              "#d8576b"
             ],
             [
              0.6666666666666666,
              "#ed7953"
             ],
             [
              0.7777777777777778,
              "#fb9f3a"
             ],
             [
              0.8888888888888888,
              "#fdca26"
             ],
             [
              1,
              "#f0f921"
             ]
            ],
            "type": "contour"
           }
          ],
          "contourcarpet": [
           {
            "colorbar": {
             "outlinewidth": 0,
             "ticks": ""
            },
            "type": "contourcarpet"
           }
          ],
          "heatmap": [
           {
            "colorbar": {
             "outlinewidth": 0,
             "ticks": ""
            },
            "colorscale": [
             [
              0,
              "#0d0887"
             ],
             [
              0.1111111111111111,
              "#46039f"
             ],
             [
              0.2222222222222222,
              "#7201a8"
             ],
             [
              0.3333333333333333,
              "#9c179e"
             ],
             [
              0.4444444444444444,
              "#bd3786"
             ],
             [
              0.5555555555555556,
              "#d8576b"
             ],
             [
              0.6666666666666666,
              "#ed7953"
             ],
             [
              0.7777777777777778,
              "#fb9f3a"
             ],
             [
              0.8888888888888888,
              "#fdca26"
             ],
             [
              1,
              "#f0f921"
             ]
            ],
            "type": "heatmap"
           }
          ],
          "heatmapgl": [
           {
            "colorbar": {
             "outlinewidth": 0,
             "ticks": ""
            },
            "colorscale": [
             [
              0,
              "#0d0887"
             ],
             [
              0.1111111111111111,
              "#46039f"
             ],
             [
              0.2222222222222222,
              "#7201a8"
             ],
             [
              0.3333333333333333,
              "#9c179e"
             ],
             [
              0.4444444444444444,
              "#bd3786"
             ],
             [
              0.5555555555555556,
              "#d8576b"
             ],
             [
              0.6666666666666666,
              "#ed7953"
             ],
             [
              0.7777777777777778,
              "#fb9f3a"
             ],
             [
              0.8888888888888888,
              "#fdca26"
             ],
             [
              1,
              "#f0f921"
             ]
            ],
            "type": "heatmapgl"
           }
          ],
          "histogram": [
           {
            "marker": {
             "pattern": {
              "fillmode": "overlay",
              "size": 10,
              "solidity": 0.2
             }
            },
            "type": "histogram"
           }
          ],
          "histogram2d": [
           {
            "colorbar": {
             "outlinewidth": 0,
             "ticks": ""
            },
            "colorscale": [
             [
              0,
              "#0d0887"
             ],
             [
              0.1111111111111111,
              "#46039f"
             ],
             [
              0.2222222222222222,
              "#7201a8"
             ],
             [
              0.3333333333333333,
              "#9c179e"
             ],
             [
              0.4444444444444444,
              "#bd3786"
             ],
             [
              0.5555555555555556,
              "#d8576b"
             ],
             [
              0.6666666666666666,
              "#ed7953"
             ],
             [
              0.7777777777777778,
              "#fb9f3a"
             ],
             [
              0.8888888888888888,
              "#fdca26"
             ],
             [
              1,
              "#f0f921"
             ]
            ],
            "type": "histogram2d"
           }
          ],
          "histogram2dcontour": [
           {
            "colorbar": {
             "outlinewidth": 0,
             "ticks": ""
            },
            "colorscale": [
             [
              0,
              "#0d0887"
             ],
             [
              0.1111111111111111,
              "#46039f"
             ],
             [
              0.2222222222222222,
              "#7201a8"
             ],
             [
              0.3333333333333333,
              "#9c179e"
             ],
             [
              0.4444444444444444,
              "#bd3786"
             ],
             [
              0.5555555555555556,
              "#d8576b"
             ],
             [
              0.6666666666666666,
              "#ed7953"
             ],
             [
              0.7777777777777778,
              "#fb9f3a"
             ],
             [
              0.8888888888888888,
              "#fdca26"
             ],
             [
              1,
              "#f0f921"
             ]
            ],
            "type": "histogram2dcontour"
           }
          ],
          "mesh3d": [
           {
            "colorbar": {
             "outlinewidth": 0,
             "ticks": ""
            },
            "type": "mesh3d"
           }
          ],
          "parcoords": [
           {
            "line": {
             "colorbar": {
              "outlinewidth": 0,
              "ticks": ""
             }
            },
            "type": "parcoords"
           }
          ],
          "pie": [
           {
            "automargin": true,
            "type": "pie"
           }
          ],
          "scatter": [
           {
            "fillpattern": {
             "fillmode": "overlay",
             "size": 10,
             "solidity": 0.2
            },
            "type": "scatter"
           }
          ],
          "scatter3d": [
           {
            "line": {
             "colorbar": {
              "outlinewidth": 0,
              "ticks": ""
             }
            },
            "marker": {
             "colorbar": {
              "outlinewidth": 0,
              "ticks": ""
             }
            },
            "type": "scatter3d"
           }
          ],
          "scattercarpet": [
           {
            "marker": {
             "colorbar": {
              "outlinewidth": 0,
              "ticks": ""
             }
            },
            "type": "scattercarpet"
           }
          ],
          "scattergeo": [
           {
            "marker": {
             "colorbar": {
              "outlinewidth": 0,
              "ticks": ""
             }
            },
            "type": "scattergeo"
           }
          ],
          "scattergl": [
           {
            "marker": {
             "colorbar": {
              "outlinewidth": 0,
              "ticks": ""
             }
            },
            "type": "scattergl"
           }
          ],
          "scattermapbox": [
           {
            "marker": {
             "colorbar": {
              "outlinewidth": 0,
              "ticks": ""
             }
            },
            "type": "scattermapbox"
           }
          ],
          "scatterpolar": [
           {
            "marker": {
             "colorbar": {
              "outlinewidth": 0,
              "ticks": ""
             }
            },
            "type": "scatterpolar"
           }
          ],
          "scatterpolargl": [
           {
            "marker": {
             "colorbar": {
              "outlinewidth": 0,
              "ticks": ""
             }
            },
            "type": "scatterpolargl"
           }
          ],
          "scatterternary": [
           {
            "marker": {
             "colorbar": {
              "outlinewidth": 0,
              "ticks": ""
             }
            },
            "type": "scatterternary"
           }
          ],
          "surface": [
           {
            "colorbar": {
             "outlinewidth": 0,
             "ticks": ""
            },
            "colorscale": [
             [
              0,
              "#0d0887"
             ],
             [
              0.1111111111111111,
              "#46039f"
             ],
             [
              0.2222222222222222,
              "#7201a8"
             ],
             [
              0.3333333333333333,
              "#9c179e"
             ],
             [
              0.4444444444444444,
              "#bd3786"
             ],
             [
              0.5555555555555556,
              "#d8576b"
             ],
             [
              0.6666666666666666,
              "#ed7953"
             ],
             [
              0.7777777777777778,
              "#fb9f3a"
             ],
             [
              0.8888888888888888,
              "#fdca26"
             ],
             [
              1,
              "#f0f921"
             ]
            ],
            "type": "surface"
           }
          ],
          "table": [
           {
            "cells": {
             "fill": {
              "color": "#EBF0F8"
             },
             "line": {
              "color": "white"
             }
            },
            "header": {
             "fill": {
              "color": "#C8D4E3"
             },
             "line": {
              "color": "white"
             }
            },
            "type": "table"
           }
          ]
         },
         "layout": {
          "annotationdefaults": {
           "arrowcolor": "#2a3f5f",
           "arrowhead": 0,
           "arrowwidth": 1
          },
          "autotypenumbers": "strict",
          "coloraxis": {
           "colorbar": {
            "outlinewidth": 0,
            "ticks": ""
           }
          },
          "colorscale": {
           "diverging": [
            [
             0,
             "#8e0152"
            ],
            [
             0.1,
             "#c51b7d"
            ],
            [
             0.2,
             "#de77ae"
            ],
            [
             0.3,
             "#f1b6da"
            ],
            [
             0.4,
             "#fde0ef"
            ],
            [
             0.5,
             "#f7f7f7"
            ],
            [
             0.6,
             "#e6f5d0"
            ],
            [
             0.7,
             "#b8e186"
            ],
            [
             0.8,
             "#7fbc41"
            ],
            [
             0.9,
             "#4d9221"
            ],
            [
             1,
             "#276419"
            ]
           ],
           "sequential": [
            [
             0,
             "#0d0887"
            ],
            [
             0.1111111111111111,
             "#46039f"
            ],
            [
             0.2222222222222222,
             "#7201a8"
            ],
            [
             0.3333333333333333,
             "#9c179e"
            ],
            [
             0.4444444444444444,
             "#bd3786"
            ],
            [
             0.5555555555555556,
             "#d8576b"
            ],
            [
             0.6666666666666666,
             "#ed7953"
            ],
            [
             0.7777777777777778,
             "#fb9f3a"
            ],
            [
             0.8888888888888888,
             "#fdca26"
            ],
            [
             1,
             "#f0f921"
            ]
           ],
           "sequentialminus": [
            [
             0,
             "#0d0887"
            ],
            [
             0.1111111111111111,
             "#46039f"
            ],
            [
             0.2222222222222222,
             "#7201a8"
            ],
            [
             0.3333333333333333,
             "#9c179e"
            ],
            [
             0.4444444444444444,
             "#bd3786"
            ],
            [
             0.5555555555555556,
             "#d8576b"
            ],
            [
             0.6666666666666666,
             "#ed7953"
            ],
            [
             0.7777777777777778,
             "#fb9f3a"
            ],
            [
             0.8888888888888888,
             "#fdca26"
            ],
            [
             1,
             "#f0f921"
            ]
           ]
          },
          "colorway": [
           "#636efa",
           "#EF553B",
           "#00cc96",
           "#ab63fa",
           "#FFA15A",
           "#19d3f3",
           "#FF6692",
           "#B6E880",
           "#FF97FF",
           "#FECB52"
          ],
          "font": {
           "color": "#2a3f5f"
          },
          "geo": {
           "bgcolor": "white",
           "lakecolor": "white",
           "landcolor": "#E5ECF6",
           "showlakes": true,
           "showland": true,
           "subunitcolor": "white"
          },
          "hoverlabel": {
           "align": "left"
          },
          "hovermode": "closest",
          "mapbox": {
           "style": "light"
          },
          "paper_bgcolor": "white",
          "plot_bgcolor": "#E5ECF6",
          "polar": {
           "angularaxis": {
            "gridcolor": "white",
            "linecolor": "white",
            "ticks": ""
           },
           "bgcolor": "#E5ECF6",
           "radialaxis": {
            "gridcolor": "white",
            "linecolor": "white",
            "ticks": ""
           }
          },
          "scene": {
           "xaxis": {
            "backgroundcolor": "#E5ECF6",
            "gridcolor": "white",
            "gridwidth": 2,
            "linecolor": "white",
            "showbackground": true,
            "ticks": "",
            "zerolinecolor": "white"
           },
           "yaxis": {
            "backgroundcolor": "#E5ECF6",
            "gridcolor": "white",
            "gridwidth": 2,
            "linecolor": "white",
            "showbackground": true,
            "ticks": "",
            "zerolinecolor": "white"
           },
           "zaxis": {
            "backgroundcolor": "#E5ECF6",
            "gridcolor": "white",
            "gridwidth": 2,
            "linecolor": "white",
            "showbackground": true,
            "ticks": "",
            "zerolinecolor": "white"
           }
          },
          "shapedefaults": {
           "line": {
            "color": "#2a3f5f"
           }
          },
          "ternary": {
           "aaxis": {
            "gridcolor": "white",
            "linecolor": "white",
            "ticks": ""
           },
           "baxis": {
            "gridcolor": "white",
            "linecolor": "white",
            "ticks": ""
           },
           "bgcolor": "#E5ECF6",
           "caxis": {
            "gridcolor": "white",
            "linecolor": "white",
            "ticks": ""
           }
          },
          "title": {
           "x": 0.05
          },
          "xaxis": {
           "automargin": true,
           "gridcolor": "white",
           "linecolor": "white",
           "ticks": "",
           "title": {
            "standoff": 15
           },
           "zerolinecolor": "white",
           "zerolinewidth": 2
          },
          "yaxis": {
           "automargin": true,
           "gridcolor": "white",
           "linecolor": "white",
           "ticks": "",
           "title": {
            "standoff": 15
           },
           "zerolinecolor": "white",
           "zerolinewidth": 2
          }
         }
        },
        "title": {
         "font": {
          "color": "#4D5663"
         }
        },
        "xaxis": {
         "gridcolor": "#E1E5ED",
         "showgrid": true,
         "tickfont": {
          "color": "#4D5663"
         },
         "title": {
          "font": {
           "color": "#4D5663"
          },
          "text": ""
         },
         "zerolinecolor": "#E1E5ED"
        },
        "yaxis": {
         "gridcolor": "#E1E5ED",
         "showgrid": true,
         "tickfont": {
          "color": "#4D5663"
         },
         "title": {
          "font": {
           "color": "#4D5663"
          },
          "text": ""
         },
         "zerolinecolor": "#E1E5ED"
        }
       }
      },
      "text/html": [
       "<div>                            <div id=\"2c1a035d-e3aa-4d93-8d2e-b3b3c575c65b\" class=\"plotly-graph-div\" style=\"height:525px; width:100%;\"></div>            <script type=\"text/javascript\">                require([\"plotly\"], function(Plotly) {                    window.PLOTLYENV=window.PLOTLYENV || {};\n",
       "                    window.PLOTLYENV.BASE_URL='https://plot.ly';                                    if (document.getElementById(\"2c1a035d-e3aa-4d93-8d2e-b3b3c575c65b\")) {                    Plotly.newPlot(                        \"2c1a035d-e3aa-4d93-8d2e-b3b3c575c65b\",                        [{\"boxpoints\":false,\"line\":{\"width\":1.3},\"marker\":{\"color\":\"rgba(255, 153, 51, 1.0)\"},\"name\":\"A\",\"orientation\":\"v\",\"y\":[1.2379579215557721,-0.5005184725982377,-1.8230450427793612,0.06842502309955707,0.4254384314514911,1.1763052359239257,-0.11214271908475447,1.1059753615356682,0.22346118664892053,-3.0955008897822682,-1.4517744954104537,1.0800716683559,0.7541959355429521,-0.19781466988496854,0.8027711878115771,0.32235289207845674,-1.407064449126228,0.5813815157192956,-0.4203924036852652,0.5355956630247433,1.0206309013545645,0.7384385770882846,-0.2900868329082115,0.3829461322814965,0.4611215018331621,-1.3790825150179762,1.2819328381644517,-1.134352798171451,0.5205979181212208,1.3157399184969396,0.784109751385838,-0.2788739329905516,2.8096183045496717,-0.2308271549045375,1.3964084344569843,0.01831236818373684,0.827571000150851,-0.7590395468795416,-0.16238163174865078,0.2572099021763275,-0.1498663201241084,2.0530119786117687,-0.03723847683954049,0.41757657681991633,0.9672215524108312,1.964130099188044,-0.9148020760659852,-0.7067367751252867,-0.46258169228107315,0.6395101035312151,0.614656019091725,1.6970454877439154,0.09192463941462742,1.541224196386175,1.1495442914166665,1.4773844447931597,1.7621437230813883,0.46693142325967285,1.419824486490099,0.8120024374923902,-1.0954528503558223,0.0407775353196377,0.42850511111267753,1.9275505103817203,-1.3431683970134831,0.796264215695926,-1.9127758508775747,1.2854170397536104,-0.29109585036885166,0.7387637394372951,0.1864707079105069,-1.2500559744599842,1.2676856772130243,-0.16842033667773443,0.05579077525029771,-0.3262741971013337,0.023869859254569244,0.24314462754504315,-0.1535936724579839,1.0697246004611893,-0.9083408958560282,0.23825984450463622,0.6387576608046327,-0.5069686294885749,0.951703871558809,-0.5131593778854479,-0.06489118914025865,-1.6708061688797646,-0.8107835190282477,-1.181205795352084,-0.813756681394152,0.12899794573478857,-0.3690930111001821,1.015706364161616,-1.5316143343754245,-0.5312137078010556,-0.9267416426601521,0.800610799926069,-1.3397198536182306,-0.39168708430114446],\"type\":\"box\"},{\"boxpoints\":false,\"line\":{\"width\":1.3},\"marker\":{\"color\":\"rgba(55, 128, 191, 1.0)\"},\"name\":\"B\",\"orientation\":\"v\",\"y\":[0.02001560917781522,-1.0891731935032625,1.117115278451909,0.40002640297342607,0.6788225994148674,-1.0464508327499304,1.753186397555937,0.4553153584280742,1.9267772772513023,0.36761632757654483,0.3354221156945639,-1.3975971007794514,-0.8288799184866059,-1.4694617838267692,0.38071369841281305,0.5873705484639964,-1.3368556819937818,1.4991333888708165,0.5813807231497642,-0.5527128990216509,-0.09761952261295645,-0.28166161146952456,0.7142778405665612,0.6293793918294663,-2.123446302387997,-0.1383482546425122,0.0893175440277195,-1.3223609989772662,-1.4742353228376357,2.3557586879361794,0.6407860071334618,-1.6723162335483108,0.010739496078409847,-0.8404641217846549,-0.37170568055098224,1.8912657465336102,0.18598631691892653,-0.5051875454241069,0.20307885101154383,-0.1892760143690366,1.0627125177800432,0.00576008208656999,1.4018256061331034,0.21525579076981813,0.9108216767100435,-0.09179782052924047,-0.8190698523389677,0.5656749663533622,1.01457085362219,-1.3907851791904955,0.09853552198020779,1.7139266832774738,-0.34554016715977387,2.2656738435005725,0.48749200482362615,0.7508919362554308,-0.5490445283005263,1.353420063225845,-0.3316233300195538,0.6405398483347998,-0.2463538808502654,-0.7363662270746788,-0.680425364174238,0.05553101197713513,1.6033590272505436,0.10504078713367834,2.080793389318112,-0.24229773712897296,-1.0333677171102167,0.4132352687474129,-0.02609569212262343,0.4517671856431499,-0.844903742341376,-1.117027526113431,0.20431018641555201,0.1887560681516722,-0.8661853113814597,-1.3997834715565687,1.293875546610676,0.12507506231115692,1.4813260456365591,1.2799752422469581,-1.873280502909398,-1.1616794539335047,-0.7297439373845849,0.3172723549807555,0.02191631673027781,1.763692690956398,-0.8702349417220633,1.63676868925836,-0.6512863117971823,0.5600399577030546,1.234716383944129,-1.0610391550838316,-0.31963888274136043,2.159961437255129,0.5231537525093585,-0.6452848760271948,0.9483151450214008,0.3273184835628279],\"type\":\"box\"},{\"boxpoints\":false,\"line\":{\"width\":1.3},\"marker\":{\"color\":\"rgba(50, 171, 96, 1.0)\"},\"name\":\"C\",\"orientation\":\"v\",\"y\":[-0.3308678283499978,1.2102869885680758,0.16165666886283267,-0.05014626976914914,-1.7041310004861954,2.024235238513975,-0.09134465405958134,-1.6844924497820224,0.9163296026413046,2.0794659045860073,0.9924934578875237,0.5873707456348409,1.2905227319405057,0.46820678032260965,1.1206849052535683,1.341070631482998,-0.9920483075572034,-0.37702169423272214,0.46126090421413385,-0.4546029067221703,0.4026763795390725,-0.7561975897647178,0.14441673856184556,0.8211975728390191,0.6788870276756361,1.1182546437714418,0.9490176518954572,-1.154782531524615,0.38181427290559194,0.33793396035602163,-0.7751405834311564,-0.5529730769082326,0.05647916438691906,0.10192405603420507,-2.5162833330941545,-0.7951372011661051,-0.3646860211475907,0.40531580458811517,1.1926397744105726,-0.29028992462203845,1.3583231215828995,0.07781708033642254,2.0736040373947846,-0.8696821561479623,0.12043740731758966,-0.03629497239265656,0.3053570205331342,0.18029122773894382,0.13354900391709607,-0.17334299637084163,1.441867436897421,1.4636153646305592,0.26550864279774633,-0.7738813937949514,-1.2303692250124292,0.838200091267915,-0.38617909861518657,0.7352581128330348,-0.4019180535632065,0.20708486170988621,-0.7159667677135855,0.8368946666471312,-0.7160851600715328,0.6010705536057844,0.2030736188503543,0.5921507478620754,0.7574792167617637,0.4842234648942265,0.5773379515467608,1.670424691479897,0.9266799668186261,-1.403877587672895,1.2038809660012877,0.3452384281513092,0.44303880229347764,0.8719181744286881,-1.2329183855895733,0.9236240777143699,-0.24448714149810596,-1.0261859997751288,-0.21321537760757056,-1.5737984069401019,-0.18240254216565702,-0.6234118074730078,-1.4485033427600447,0.5503312905497174,-1.8692148240880035,0.2651111144391633,-0.4259951764634556,-0.8599050611922008,-0.14029638457586968,-1.3003551328791512,2.2322790534052537,-0.29450300839930077,-1.0470733402417887,-1.0307516059120065,0.21920184356692302,-0.42602690198949716,1.0245308766574683,-1.9089173419853969],\"type\":\"box\"},{\"boxpoints\":false,\"line\":{\"width\":1.3},\"marker\":{\"color\":\"rgba(128, 0, 128, 1.0)\"},\"name\":\"D\",\"orientation\":\"v\",\"y\":[-1.3310222068170523,-1.7096392690646527,-1.2912551841487887,-0.7020206211106352,-0.2875650554311028,0.19299137551135742,-0.3318021907267024,0.554407437903143,-1.6027514483438141,-0.5583374457996408,-1.1909155900979693,-0.16799969304505857,1.1076547382907063,-0.08899211740101358,-1.1449527400822357,1.6959826727319578,1.3670266110405185,-0.8405936593803466,-0.1929076216496946,0.8789932032389244,-0.4698205311769827,-0.398356752332882,1.0561635988235853,-0.3706603855536645,-0.277764072335064,-1.0785627100616377,-0.18152225999466887,0.5276844224501354,1.1561194606045417,1.1106954550163752,1.0627416146217996,-0.1260928931598106,-0.4598332651987356,0.6411437776042059,-1.041951477817779,0.6691217962214827,1.6296666424666046,-0.44574977222849377,-0.23281014979912887,-0.8639938660683446,0.27319588799445926,0.37558781089225113,-0.5534460166278362,-0.5364730092304173,0.9362697464962008,-0.37548380330025893,-0.6509652667464869,0.8970401589650328,-0.5009942063842345,-0.44467857541875516,0.09353221011102655,-0.11262393269507838,0.7625100864753245,2.3613592187384107,1.029644115872112,-0.2242940367590926,0.5824917337235999,-2.6652205073890047,0.012729101381596683,-0.22203396772971987,0.09131735780368261,1.6016833144812963,-0.5474491875501178,-0.21470432358028996,0.8304930555147175,0.08789297532799611,-0.7104857063861766,2.0978491190720696,0.4547763828312598,0.020660494156799884,0.9137750695744344,-0.2524765883552448,0.18743883654481444,-0.27695411625325256,1.0623044063581735,0.0847298230681404,-2.402239634495088,0.6097433415482213,1.0828561134806167,0.30931683484609324,0.1278116765466919,-0.784658364858415,-0.06854681415485908,0.24234831106758858,-0.317327955941285,-0.5732783164792783,-0.1794450666813971,0.5751584951505719,-1.5956776053935104,-1.3413271641328415,-0.411489813959892,0.037151516689043845,1.4482132720076988,0.06431614118783856,-1.3208101075105647,1.1178702087130916,-0.9365522791504914,-0.7876891468081865,2.0388487442797953,-0.950333941501925],\"type\":\"box\"}],                        {\"legend\":{\"bgcolor\":\"#F5F6F9\",\"font\":{\"color\":\"#4D5663\"}},\"paper_bgcolor\":\"#F5F6F9\",\"plot_bgcolor\":\"#F5F6F9\",\"template\":{\"data\":{\"barpolar\":[{\"marker\":{\"line\":{\"color\":\"#E5ECF6\",\"width\":0.5},\"pattern\":{\"fillmode\":\"overlay\",\"size\":10,\"solidity\":0.2}},\"type\":\"barpolar\"}],\"bar\":[{\"error_x\":{\"color\":\"#2a3f5f\"},\"error_y\":{\"color\":\"#2a3f5f\"},\"marker\":{\"line\":{\"color\":\"#E5ECF6\",\"width\":0.5},\"pattern\":{\"fillmode\":\"overlay\",\"size\":10,\"solidity\":0.2}},\"type\":\"bar\"}],\"carpet\":[{\"aaxis\":{\"endlinecolor\":\"#2a3f5f\",\"gridcolor\":\"white\",\"linecolor\":\"white\",\"minorgridcolor\":\"white\",\"startlinecolor\":\"#2a3f5f\"},\"baxis\":{\"endlinecolor\":\"#2a3f5f\",\"gridcolor\":\"white\",\"linecolor\":\"white\",\"minorgridcolor\":\"white\",\"startlinecolor\":\"#2a3f5f\"},\"type\":\"carpet\"}],\"choropleth\":[{\"colorbar\":{\"outlinewidth\":0,\"ticks\":\"\"},\"type\":\"choropleth\"}],\"contourcarpet\":[{\"colorbar\":{\"outlinewidth\":0,\"ticks\":\"\"},\"type\":\"contourcarpet\"}],\"contour\":[{\"colorbar\":{\"outlinewidth\":0,\"ticks\":\"\"},\"colorscale\":[[0.0,\"#0d0887\"],[0.1111111111111111,\"#46039f\"],[0.2222222222222222,\"#7201a8\"],[0.3333333333333333,\"#9c179e\"],[0.4444444444444444,\"#bd3786\"],[0.5555555555555556,\"#d8576b\"],[0.6666666666666666,\"#ed7953\"],[0.7777777777777778,\"#fb9f3a\"],[0.8888888888888888,\"#fdca26\"],[1.0,\"#f0f921\"]],\"type\":\"contour\"}],\"heatmapgl\":[{\"colorbar\":{\"outlinewidth\":0,\"ticks\":\"\"},\"colorscale\":[[0.0,\"#0d0887\"],[0.1111111111111111,\"#46039f\"],[0.2222222222222222,\"#7201a8\"],[0.3333333333333333,\"#9c179e\"],[0.4444444444444444,\"#bd3786\"],[0.5555555555555556,\"#d8576b\"],[0.6666666666666666,\"#ed7953\"],[0.7777777777777778,\"#fb9f3a\"],[0.8888888888888888,\"#fdca26\"],[1.0,\"#f0f921\"]],\"type\":\"heatmapgl\"}],\"heatmap\":[{\"colorbar\":{\"outlinewidth\":0,\"ticks\":\"\"},\"colorscale\":[[0.0,\"#0d0887\"],[0.1111111111111111,\"#46039f\"],[0.2222222222222222,\"#7201a8\"],[0.3333333333333333,\"#9c179e\"],[0.4444444444444444,\"#bd3786\"],[0.5555555555555556,\"#d8576b\"],[0.6666666666666666,\"#ed7953\"],[0.7777777777777778,\"#fb9f3a\"],[0.8888888888888888,\"#fdca26\"],[1.0,\"#f0f921\"]],\"type\":\"heatmap\"}],\"histogram2dcontour\":[{\"colorbar\":{\"outlinewidth\":0,\"ticks\":\"\"},\"colorscale\":[[0.0,\"#0d0887\"],[0.1111111111111111,\"#46039f\"],[0.2222222222222222,\"#7201a8\"],[0.3333333333333333,\"#9c179e\"],[0.4444444444444444,\"#bd3786\"],[0.5555555555555556,\"#d8576b\"],[0.6666666666666666,\"#ed7953\"],[0.7777777777777778,\"#fb9f3a\"],[0.8888888888888888,\"#fdca26\"],[1.0,\"#f0f921\"]],\"type\":\"histogram2dcontour\"}],\"histogram2d\":[{\"colorbar\":{\"outlinewidth\":0,\"ticks\":\"\"},\"colorscale\":[[0.0,\"#0d0887\"],[0.1111111111111111,\"#46039f\"],[0.2222222222222222,\"#7201a8\"],[0.3333333333333333,\"#9c179e\"],[0.4444444444444444,\"#bd3786\"],[0.5555555555555556,\"#d8576b\"],[0.6666666666666666,\"#ed7953\"],[0.7777777777777778,\"#fb9f3a\"],[0.8888888888888888,\"#fdca26\"],[1.0,\"#f0f921\"]],\"type\":\"histogram2d\"}],\"histogram\":[{\"marker\":{\"pattern\":{\"fillmode\":\"overlay\",\"size\":10,\"solidity\":0.2}},\"type\":\"histogram\"}],\"mesh3d\":[{\"colorbar\":{\"outlinewidth\":0,\"ticks\":\"\"},\"type\":\"mesh3d\"}],\"parcoords\":[{\"line\":{\"colorbar\":{\"outlinewidth\":0,\"ticks\":\"\"}},\"type\":\"parcoords\"}],\"pie\":[{\"automargin\":true,\"type\":\"pie\"}],\"scatter3d\":[{\"line\":{\"colorbar\":{\"outlinewidth\":0,\"ticks\":\"\"}},\"marker\":{\"colorbar\":{\"outlinewidth\":0,\"ticks\":\"\"}},\"type\":\"scatter3d\"}],\"scattercarpet\":[{\"marker\":{\"colorbar\":{\"outlinewidth\":0,\"ticks\":\"\"}},\"type\":\"scattercarpet\"}],\"scattergeo\":[{\"marker\":{\"colorbar\":{\"outlinewidth\":0,\"ticks\":\"\"}},\"type\":\"scattergeo\"}],\"scattergl\":[{\"marker\":{\"colorbar\":{\"outlinewidth\":0,\"ticks\":\"\"}},\"type\":\"scattergl\"}],\"scattermapbox\":[{\"marker\":{\"colorbar\":{\"outlinewidth\":0,\"ticks\":\"\"}},\"type\":\"scattermapbox\"}],\"scatterpolargl\":[{\"marker\":{\"colorbar\":{\"outlinewidth\":0,\"ticks\":\"\"}},\"type\":\"scatterpolargl\"}],\"scatterpolar\":[{\"marker\":{\"colorbar\":{\"outlinewidth\":0,\"ticks\":\"\"}},\"type\":\"scatterpolar\"}],\"scatter\":[{\"fillpattern\":{\"fillmode\":\"overlay\",\"size\":10,\"solidity\":0.2},\"type\":\"scatter\"}],\"scatterternary\":[{\"marker\":{\"colorbar\":{\"outlinewidth\":0,\"ticks\":\"\"}},\"type\":\"scatterternary\"}],\"surface\":[{\"colorbar\":{\"outlinewidth\":0,\"ticks\":\"\"},\"colorscale\":[[0.0,\"#0d0887\"],[0.1111111111111111,\"#46039f\"],[0.2222222222222222,\"#7201a8\"],[0.3333333333333333,\"#9c179e\"],[0.4444444444444444,\"#bd3786\"],[0.5555555555555556,\"#d8576b\"],[0.6666666666666666,\"#ed7953\"],[0.7777777777777778,\"#fb9f3a\"],[0.8888888888888888,\"#fdca26\"],[1.0,\"#f0f921\"]],\"type\":\"surface\"}],\"table\":[{\"cells\":{\"fill\":{\"color\":\"#EBF0F8\"},\"line\":{\"color\":\"white\"}},\"header\":{\"fill\":{\"color\":\"#C8D4E3\"},\"line\":{\"color\":\"white\"}},\"type\":\"table\"}]},\"layout\":{\"annotationdefaults\":{\"arrowcolor\":\"#2a3f5f\",\"arrowhead\":0,\"arrowwidth\":1},\"autotypenumbers\":\"strict\",\"coloraxis\":{\"colorbar\":{\"outlinewidth\":0,\"ticks\":\"\"}},\"colorscale\":{\"diverging\":[[0,\"#8e0152\"],[0.1,\"#c51b7d\"],[0.2,\"#de77ae\"],[0.3,\"#f1b6da\"],[0.4,\"#fde0ef\"],[0.5,\"#f7f7f7\"],[0.6,\"#e6f5d0\"],[0.7,\"#b8e186\"],[0.8,\"#7fbc41\"],[0.9,\"#4d9221\"],[1,\"#276419\"]],\"sequential\":[[0.0,\"#0d0887\"],[0.1111111111111111,\"#46039f\"],[0.2222222222222222,\"#7201a8\"],[0.3333333333333333,\"#9c179e\"],[0.4444444444444444,\"#bd3786\"],[0.5555555555555556,\"#d8576b\"],[0.6666666666666666,\"#ed7953\"],[0.7777777777777778,\"#fb9f3a\"],[0.8888888888888888,\"#fdca26\"],[1.0,\"#f0f921\"]],\"sequentialminus\":[[0.0,\"#0d0887\"],[0.1111111111111111,\"#46039f\"],[0.2222222222222222,\"#7201a8\"],[0.3333333333333333,\"#9c179e\"],[0.4444444444444444,\"#bd3786\"],[0.5555555555555556,\"#d8576b\"],[0.6666666666666666,\"#ed7953\"],[0.7777777777777778,\"#fb9f3a\"],[0.8888888888888888,\"#fdca26\"],[1.0,\"#f0f921\"]]},\"colorway\":[\"#636efa\",\"#EF553B\",\"#00cc96\",\"#ab63fa\",\"#FFA15A\",\"#19d3f3\",\"#FF6692\",\"#B6E880\",\"#FF97FF\",\"#FECB52\"],\"font\":{\"color\":\"#2a3f5f\"},\"geo\":{\"bgcolor\":\"white\",\"lakecolor\":\"white\",\"landcolor\":\"#E5ECF6\",\"showlakes\":true,\"showland\":true,\"subunitcolor\":\"white\"},\"hoverlabel\":{\"align\":\"left\"},\"hovermode\":\"closest\",\"mapbox\":{\"style\":\"light\"},\"paper_bgcolor\":\"white\",\"plot_bgcolor\":\"#E5ECF6\",\"polar\":{\"angularaxis\":{\"gridcolor\":\"white\",\"linecolor\":\"white\",\"ticks\":\"\"},\"bgcolor\":\"#E5ECF6\",\"radialaxis\":{\"gridcolor\":\"white\",\"linecolor\":\"white\",\"ticks\":\"\"}},\"scene\":{\"xaxis\":{\"backgroundcolor\":\"#E5ECF6\",\"gridcolor\":\"white\",\"gridwidth\":2,\"linecolor\":\"white\",\"showbackground\":true,\"ticks\":\"\",\"zerolinecolor\":\"white\"},\"yaxis\":{\"backgroundcolor\":\"#E5ECF6\",\"gridcolor\":\"white\",\"gridwidth\":2,\"linecolor\":\"white\",\"showbackground\":true,\"ticks\":\"\",\"zerolinecolor\":\"white\"},\"zaxis\":{\"backgroundcolor\":\"#E5ECF6\",\"gridcolor\":\"white\",\"gridwidth\":2,\"linecolor\":\"white\",\"showbackground\":true,\"ticks\":\"\",\"zerolinecolor\":\"white\"}},\"shapedefaults\":{\"line\":{\"color\":\"#2a3f5f\"}},\"ternary\":{\"aaxis\":{\"gridcolor\":\"white\",\"linecolor\":\"white\",\"ticks\":\"\"},\"baxis\":{\"gridcolor\":\"white\",\"linecolor\":\"white\",\"ticks\":\"\"},\"bgcolor\":\"#E5ECF6\",\"caxis\":{\"gridcolor\":\"white\",\"linecolor\":\"white\",\"ticks\":\"\"}},\"title\":{\"x\":0.05},\"xaxis\":{\"automargin\":true,\"gridcolor\":\"white\",\"linecolor\":\"white\",\"ticks\":\"\",\"title\":{\"standoff\":15},\"zerolinecolor\":\"white\",\"zerolinewidth\":2},\"yaxis\":{\"automargin\":true,\"gridcolor\":\"white\",\"linecolor\":\"white\",\"ticks\":\"\",\"title\":{\"standoff\":15},\"zerolinecolor\":\"white\",\"zerolinewidth\":2}}},\"title\":{\"font\":{\"color\":\"#4D5663\"}},\"xaxis\":{\"gridcolor\":\"#E1E5ED\",\"showgrid\":true,\"tickfont\":{\"color\":\"#4D5663\"},\"title\":{\"font\":{\"color\":\"#4D5663\"},\"text\":\"\"},\"zerolinecolor\":\"#E1E5ED\"},\"yaxis\":{\"gridcolor\":\"#E1E5ED\",\"showgrid\":true,\"tickfont\":{\"color\":\"#4D5663\"},\"title\":{\"font\":{\"color\":\"#4D5663\"},\"text\":\"\"},\"zerolinecolor\":\"#E1E5ED\"}},                        {\"showLink\": true, \"linkText\": \"Export to plot.ly\", \"plotlyServerURL\": \"https://plot.ly\", \"responsive\": true}                    ).then(function(){\n",
       "                            \n",
       "var gd = document.getElementById('2c1a035d-e3aa-4d93-8d2e-b3b3c575c65b');\n",
       "var x = new MutationObserver(function (mutations, observer) {{\n",
       "        var display = window.getComputedStyle(gd).display;\n",
       "        if (!display || display === 'none') {{\n",
       "            console.log([gd, 'removed!']);\n",
       "            Plotly.purge(gd);\n",
       "            observer.disconnect();\n",
       "        }}\n",
       "}});\n",
       "\n",
       "// Listen for the removal of the full notebook cells\n",
       "var notebookContainer = gd.closest('#notebook-container');\n",
       "if (notebookContainer) {{\n",
       "    x.observe(notebookContainer, {childList: true});\n",
       "}}\n",
       "\n",
       "// Listen for the clearing of the current output cell\n",
       "var outputEl = gd.closest('.output');\n",
       "if (outputEl) {{\n",
       "    x.observe(outputEl, {childList: true});\n",
       "}}\n",
       "\n",
       "                        })                };                });            </script>        </div>"
      ]
     },
     "metadata": {},
     "output_type": "display_data"
    }
   ],
   "source": [
    "df.iplot(kind='box')"
   ]
  },
  {
   "cell_type": "code",
   "execution_count": 20,
   "metadata": {},
   "outputs": [],
   "source": [
    "df3 = pd.DataFrame({'x':[1,2,3,4,5], 'y':[12,20,30,20,10],'z':[5,4,3,2,1]})"
   ]
  },
  {
   "cell_type": "code",
   "execution_count": 21,
   "metadata": {},
   "outputs": [
    {
     "data": {
      "text/html": [
       "<div>\n",
       "<style scoped>\n",
       "    .dataframe tbody tr th:only-of-type {\n",
       "        vertical-align: middle;\n",
       "    }\n",
       "\n",
       "    .dataframe tbody tr th {\n",
       "        vertical-align: top;\n",
       "    }\n",
       "\n",
       "    .dataframe thead th {\n",
       "        text-align: right;\n",
       "    }\n",
       "</style>\n",
       "<table border=\"1\" class=\"dataframe\">\n",
       "  <thead>\n",
       "    <tr style=\"text-align: right;\">\n",
       "      <th></th>\n",
       "      <th>x</th>\n",
       "      <th>y</th>\n",
       "      <th>z</th>\n",
       "    </tr>\n",
       "  </thead>\n",
       "  <tbody>\n",
       "    <tr>\n",
       "      <th>0</th>\n",
       "      <td>1</td>\n",
       "      <td>12</td>\n",
       "      <td>5</td>\n",
       "    </tr>\n",
       "    <tr>\n",
       "      <th>1</th>\n",
       "      <td>2</td>\n",
       "      <td>20</td>\n",
       "      <td>4</td>\n",
       "    </tr>\n",
       "    <tr>\n",
       "      <th>2</th>\n",
       "      <td>3</td>\n",
       "      <td>30</td>\n",
       "      <td>3</td>\n",
       "    </tr>\n",
       "    <tr>\n",
       "      <th>3</th>\n",
       "      <td>4</td>\n",
       "      <td>20</td>\n",
       "      <td>2</td>\n",
       "    </tr>\n",
       "    <tr>\n",
       "      <th>4</th>\n",
       "      <td>5</td>\n",
       "      <td>10</td>\n",
       "      <td>1</td>\n",
       "    </tr>\n",
       "  </tbody>\n",
       "</table>\n",
       "</div>"
      ],
      "text/plain": [
       "   x   y  z\n",
       "0  1  12  5\n",
       "1  2  20  4\n",
       "2  3  30  3\n",
       "3  4  20  2\n",
       "4  5  10  1"
      ]
     },
     "execution_count": 21,
     "metadata": {},
     "output_type": "execute_result"
    }
   ],
   "source": [
    "df3"
   ]
  },
  {
   "cell_type": "code",
   "execution_count": 22,
   "metadata": {},
   "outputs": [
    {
     "data": {
      "application/vnd.plotly.v1+json": {
       "config": {
        "linkText": "Export to plot.ly",
        "plotlyServerURL": "https://plot.ly",
        "showLink": true
       },
       "data": [
        {
         "colorscale": [
          [
           0,
           "rgb(255, 153, 51)"
          ],
          [
           0.1111111111111111,
           "rgb(55, 128, 191)"
          ],
          [
           0.2222222222222222,
           "rgb(50, 171, 96)"
          ],
          [
           0.3333333333333333,
           "rgb(128, 0, 128)"
          ],
          [
           0.4444444444444444,
           "rgb(219, 64, 82)"
          ],
          [
           0.5555555555555556,
           "rgb(0, 128, 128)"
          ],
          [
           0.6666666666666666,
           "rgb(255, 255, 51)"
          ],
          [
           0.7777777777777778,
           "rgb(128, 128, 0)"
          ],
          [
           0.8888888888888888,
           "rgb(251, 128, 114)"
          ],
          [
           1,
           "rgb(128, 177, 211)"
          ]
         ],
         "type": "surface",
         "x": [
          0,
          1,
          2,
          3,
          4
         ],
         "y": [
          "x",
          "y",
          "z"
         ],
         "z": [
          [
           1,
           2,
           3,
           4,
           5
          ],
          [
           12,
           20,
           30,
           20,
           10
          ],
          [
           5,
           4,
           3,
           2,
           1
          ]
         ]
        }
       ],
       "layout": {
        "legend": {
         "bgcolor": "#F5F6F9",
         "font": {
          "color": "#4D5663"
         }
        },
        "paper_bgcolor": "#F5F6F9",
        "plot_bgcolor": "#F5F6F9",
        "template": {
         "data": {
          "bar": [
           {
            "error_x": {
             "color": "#2a3f5f"
            },
            "error_y": {
             "color": "#2a3f5f"
            },
            "marker": {
             "line": {
              "color": "#E5ECF6",
              "width": 0.5
             },
             "pattern": {
              "fillmode": "overlay",
              "size": 10,
              "solidity": 0.2
             }
            },
            "type": "bar"
           }
          ],
          "barpolar": [
           {
            "marker": {
             "line": {
              "color": "#E5ECF6",
              "width": 0.5
             },
             "pattern": {
              "fillmode": "overlay",
              "size": 10,
              "solidity": 0.2
             }
            },
            "type": "barpolar"
           }
          ],
          "carpet": [
           {
            "aaxis": {
             "endlinecolor": "#2a3f5f",
             "gridcolor": "white",
             "linecolor": "white",
             "minorgridcolor": "white",
             "startlinecolor": "#2a3f5f"
            },
            "baxis": {
             "endlinecolor": "#2a3f5f",
             "gridcolor": "white",
             "linecolor": "white",
             "minorgridcolor": "white",
             "startlinecolor": "#2a3f5f"
            },
            "type": "carpet"
           }
          ],
          "choropleth": [
           {
            "colorbar": {
             "outlinewidth": 0,
             "ticks": ""
            },
            "type": "choropleth"
           }
          ],
          "contour": [
           {
            "colorbar": {
             "outlinewidth": 0,
             "ticks": ""
            },
            "colorscale": [
             [
              0,
              "#0d0887"
             ],
             [
              0.1111111111111111,
              "#46039f"
             ],
             [
              0.2222222222222222,
              "#7201a8"
             ],
             [
              0.3333333333333333,
              "#9c179e"
             ],
             [
              0.4444444444444444,
              "#bd3786"
             ],
             [
              0.5555555555555556,
              "#d8576b"
             ],
             [
              0.6666666666666666,
              "#ed7953"
             ],
             [
              0.7777777777777778,
              "#fb9f3a"
             ],
             [
              0.8888888888888888,
              "#fdca26"
             ],
             [
              1,
              "#f0f921"
             ]
            ],
            "type": "contour"
           }
          ],
          "contourcarpet": [
           {
            "colorbar": {
             "outlinewidth": 0,
             "ticks": ""
            },
            "type": "contourcarpet"
           }
          ],
          "heatmap": [
           {
            "colorbar": {
             "outlinewidth": 0,
             "ticks": ""
            },
            "colorscale": [
             [
              0,
              "#0d0887"
             ],
             [
              0.1111111111111111,
              "#46039f"
             ],
             [
              0.2222222222222222,
              "#7201a8"
             ],
             [
              0.3333333333333333,
              "#9c179e"
             ],
             [
              0.4444444444444444,
              "#bd3786"
             ],
             [
              0.5555555555555556,
              "#d8576b"
             ],
             [
              0.6666666666666666,
              "#ed7953"
             ],
             [
              0.7777777777777778,
              "#fb9f3a"
             ],
             [
              0.8888888888888888,
              "#fdca26"
             ],
             [
              1,
              "#f0f921"
             ]
            ],
            "type": "heatmap"
           }
          ],
          "heatmapgl": [
           {
            "colorbar": {
             "outlinewidth": 0,
             "ticks": ""
            },
            "colorscale": [
             [
              0,
              "#0d0887"
             ],
             [
              0.1111111111111111,
              "#46039f"
             ],
             [
              0.2222222222222222,
              "#7201a8"
             ],
             [
              0.3333333333333333,
              "#9c179e"
             ],
             [
              0.4444444444444444,
              "#bd3786"
             ],
             [
              0.5555555555555556,
              "#d8576b"
             ],
             [
              0.6666666666666666,
              "#ed7953"
             ],
             [
              0.7777777777777778,
              "#fb9f3a"
             ],
             [
              0.8888888888888888,
              "#fdca26"
             ],
             [
              1,
              "#f0f921"
             ]
            ],
            "type": "heatmapgl"
           }
          ],
          "histogram": [
           {
            "marker": {
             "pattern": {
              "fillmode": "overlay",
              "size": 10,
              "solidity": 0.2
             }
            },
            "type": "histogram"
           }
          ],
          "histogram2d": [
           {
            "colorbar": {
             "outlinewidth": 0,
             "ticks": ""
            },
            "colorscale": [
             [
              0,
              "#0d0887"
             ],
             [
              0.1111111111111111,
              "#46039f"
             ],
             [
              0.2222222222222222,
              "#7201a8"
             ],
             [
              0.3333333333333333,
              "#9c179e"
             ],
             [
              0.4444444444444444,
              "#bd3786"
             ],
             [
              0.5555555555555556,
              "#d8576b"
             ],
             [
              0.6666666666666666,
              "#ed7953"
             ],
             [
              0.7777777777777778,
              "#fb9f3a"
             ],
             [
              0.8888888888888888,
              "#fdca26"
             ],
             [
              1,
              "#f0f921"
             ]
            ],
            "type": "histogram2d"
           }
          ],
          "histogram2dcontour": [
           {
            "colorbar": {
             "outlinewidth": 0,
             "ticks": ""
            },
            "colorscale": [
             [
              0,
              "#0d0887"
             ],
             [
              0.1111111111111111,
              "#46039f"
             ],
             [
              0.2222222222222222,
              "#7201a8"
             ],
             [
              0.3333333333333333,
              "#9c179e"
             ],
             [
              0.4444444444444444,
              "#bd3786"
             ],
             [
              0.5555555555555556,
              "#d8576b"
             ],
             [
              0.6666666666666666,
              "#ed7953"
             ],
             [
              0.7777777777777778,
              "#fb9f3a"
             ],
             [
              0.8888888888888888,
              "#fdca26"
             ],
             [
              1,
              "#f0f921"
             ]
            ],
            "type": "histogram2dcontour"
           }
          ],
          "mesh3d": [
           {
            "colorbar": {
             "outlinewidth": 0,
             "ticks": ""
            },
            "type": "mesh3d"
           }
          ],
          "parcoords": [
           {
            "line": {
             "colorbar": {
              "outlinewidth": 0,
              "ticks": ""
             }
            },
            "type": "parcoords"
           }
          ],
          "pie": [
           {
            "automargin": true,
            "type": "pie"
           }
          ],
          "scatter": [
           {
            "fillpattern": {
             "fillmode": "overlay",
             "size": 10,
             "solidity": 0.2
            },
            "type": "scatter"
           }
          ],
          "scatter3d": [
           {
            "line": {
             "colorbar": {
              "outlinewidth": 0,
              "ticks": ""
             }
            },
            "marker": {
             "colorbar": {
              "outlinewidth": 0,
              "ticks": ""
             }
            },
            "type": "scatter3d"
           }
          ],
          "scattercarpet": [
           {
            "marker": {
             "colorbar": {
              "outlinewidth": 0,
              "ticks": ""
             }
            },
            "type": "scattercarpet"
           }
          ],
          "scattergeo": [
           {
            "marker": {
             "colorbar": {
              "outlinewidth": 0,
              "ticks": ""
             }
            },
            "type": "scattergeo"
           }
          ],
          "scattergl": [
           {
            "marker": {
             "colorbar": {
              "outlinewidth": 0,
              "ticks": ""
             }
            },
            "type": "scattergl"
           }
          ],
          "scattermapbox": [
           {
            "marker": {
             "colorbar": {
              "outlinewidth": 0,
              "ticks": ""
             }
            },
            "type": "scattermapbox"
           }
          ],
          "scatterpolar": [
           {
            "marker": {
             "colorbar": {
              "outlinewidth": 0,
              "ticks": ""
             }
            },
            "type": "scatterpolar"
           }
          ],
          "scatterpolargl": [
           {
            "marker": {
             "colorbar": {
              "outlinewidth": 0,
              "ticks": ""
             }
            },
            "type": "scatterpolargl"
           }
          ],
          "scatterternary": [
           {
            "marker": {
             "colorbar": {
              "outlinewidth": 0,
              "ticks": ""
             }
            },
            "type": "scatterternary"
           }
          ],
          "surface": [
           {
            "colorbar": {
             "outlinewidth": 0,
             "ticks": ""
            },
            "colorscale": [
             [
              0,
              "#0d0887"
             ],
             [
              0.1111111111111111,
              "#46039f"
             ],
             [
              0.2222222222222222,
              "#7201a8"
             ],
             [
              0.3333333333333333,
              "#9c179e"
             ],
             [
              0.4444444444444444,
              "#bd3786"
             ],
             [
              0.5555555555555556,
              "#d8576b"
             ],
             [
              0.6666666666666666,
              "#ed7953"
             ],
             [
              0.7777777777777778,
              "#fb9f3a"
             ],
             [
              0.8888888888888888,
              "#fdca26"
             ],
             [
              1,
              "#f0f921"
             ]
            ],
            "type": "surface"
           }
          ],
          "table": [
           {
            "cells": {
             "fill": {
              "color": "#EBF0F8"
             },
             "line": {
              "color": "white"
             }
            },
            "header": {
             "fill": {
              "color": "#C8D4E3"
             },
             "line": {
              "color": "white"
             }
            },
            "type": "table"
           }
          ]
         },
         "layout": {
          "annotationdefaults": {
           "arrowcolor": "#2a3f5f",
           "arrowhead": 0,
           "arrowwidth": 1
          },
          "autotypenumbers": "strict",
          "coloraxis": {
           "colorbar": {
            "outlinewidth": 0,
            "ticks": ""
           }
          },
          "colorscale": {
           "diverging": [
            [
             0,
             "#8e0152"
            ],
            [
             0.1,
             "#c51b7d"
            ],
            [
             0.2,
             "#de77ae"
            ],
            [
             0.3,
             "#f1b6da"
            ],
            [
             0.4,
             "#fde0ef"
            ],
            [
             0.5,
             "#f7f7f7"
            ],
            [
             0.6,
             "#e6f5d0"
            ],
            [
             0.7,
             "#b8e186"
            ],
            [
             0.8,
             "#7fbc41"
            ],
            [
             0.9,
             "#4d9221"
            ],
            [
             1,
             "#276419"
            ]
           ],
           "sequential": [
            [
             0,
             "#0d0887"
            ],
            [
             0.1111111111111111,
             "#46039f"
            ],
            [
             0.2222222222222222,
             "#7201a8"
            ],
            [
             0.3333333333333333,
             "#9c179e"
            ],
            [
             0.4444444444444444,
             "#bd3786"
            ],
            [
             0.5555555555555556,
             "#d8576b"
            ],
            [
             0.6666666666666666,
             "#ed7953"
            ],
            [
             0.7777777777777778,
             "#fb9f3a"
            ],
            [
             0.8888888888888888,
             "#fdca26"
            ],
            [
             1,
             "#f0f921"
            ]
           ],
           "sequentialminus": [
            [
             0,
             "#0d0887"
            ],
            [
             0.1111111111111111,
             "#46039f"
            ],
            [
             0.2222222222222222,
             "#7201a8"
            ],
            [
             0.3333333333333333,
             "#9c179e"
            ],
            [
             0.4444444444444444,
             "#bd3786"
            ],
            [
             0.5555555555555556,
             "#d8576b"
            ],
            [
             0.6666666666666666,
             "#ed7953"
            ],
            [
             0.7777777777777778,
             "#fb9f3a"
            ],
            [
             0.8888888888888888,
             "#fdca26"
            ],
            [
             1,
             "#f0f921"
            ]
           ]
          },
          "colorway": [
           "#636efa",
           "#EF553B",
           "#00cc96",
           "#ab63fa",
           "#FFA15A",
           "#19d3f3",
           "#FF6692",
           "#B6E880",
           "#FF97FF",
           "#FECB52"
          ],
          "font": {
           "color": "#2a3f5f"
          },
          "geo": {
           "bgcolor": "white",
           "lakecolor": "white",
           "landcolor": "#E5ECF6",
           "showlakes": true,
           "showland": true,
           "subunitcolor": "white"
          },
          "hoverlabel": {
           "align": "left"
          },
          "hovermode": "closest",
          "mapbox": {
           "style": "light"
          },
          "paper_bgcolor": "white",
          "plot_bgcolor": "#E5ECF6",
          "polar": {
           "angularaxis": {
            "gridcolor": "white",
            "linecolor": "white",
            "ticks": ""
           },
           "bgcolor": "#E5ECF6",
           "radialaxis": {
            "gridcolor": "white",
            "linecolor": "white",
            "ticks": ""
           }
          },
          "scene": {
           "xaxis": {
            "backgroundcolor": "#E5ECF6",
            "gridcolor": "white",
            "gridwidth": 2,
            "linecolor": "white",
            "showbackground": true,
            "ticks": "",
            "zerolinecolor": "white"
           },
           "yaxis": {
            "backgroundcolor": "#E5ECF6",
            "gridcolor": "white",
            "gridwidth": 2,
            "linecolor": "white",
            "showbackground": true,
            "ticks": "",
            "zerolinecolor": "white"
           },
           "zaxis": {
            "backgroundcolor": "#E5ECF6",
            "gridcolor": "white",
            "gridwidth": 2,
            "linecolor": "white",
            "showbackground": true,
            "ticks": "",
            "zerolinecolor": "white"
           }
          },
          "shapedefaults": {
           "line": {
            "color": "#2a3f5f"
           }
          },
          "ternary": {
           "aaxis": {
            "gridcolor": "white",
            "linecolor": "white",
            "ticks": ""
           },
           "baxis": {
            "gridcolor": "white",
            "linecolor": "white",
            "ticks": ""
           },
           "bgcolor": "#E5ECF6",
           "caxis": {
            "gridcolor": "white",
            "linecolor": "white",
            "ticks": ""
           }
          },
          "title": {
           "x": 0.05
          },
          "xaxis": {
           "automargin": true,
           "gridcolor": "white",
           "linecolor": "white",
           "ticks": "",
           "title": {
            "standoff": 15
           },
           "zerolinecolor": "white",
           "zerolinewidth": 2
          },
          "yaxis": {
           "automargin": true,
           "gridcolor": "white",
           "linecolor": "white",
           "ticks": "",
           "title": {
            "standoff": 15
           },
           "zerolinecolor": "white",
           "zerolinewidth": 2
          }
         }
        },
        "title": {
         "font": {
          "color": "#4D5663"
         }
        },
        "xaxis": {
         "gridcolor": "#E1E5ED",
         "showgrid": true,
         "tickfont": {
          "color": "#4D5663"
         },
         "title": {
          "font": {
           "color": "#4D5663"
          },
          "text": ""
         },
         "zerolinecolor": "#E1E5ED"
        },
        "yaxis": {
         "gridcolor": "#E1E5ED",
         "showgrid": true,
         "tickfont": {
          "color": "#4D5663"
         },
         "title": {
          "font": {
           "color": "#4D5663"
          },
          "text": ""
         },
         "zerolinecolor": "#E1E5ED"
        }
       }
      },
      "text/html": [
       "<div>                            <div id=\"ca31e9d8-cf99-485f-a924-607cdca546f1\" class=\"plotly-graph-div\" style=\"height:525px; width:100%;\"></div>            <script type=\"text/javascript\">                require([\"plotly\"], function(Plotly) {                    window.PLOTLYENV=window.PLOTLYENV || {};\n",
       "                    window.PLOTLYENV.BASE_URL='https://plot.ly';                                    if (document.getElementById(\"ca31e9d8-cf99-485f-a924-607cdca546f1\")) {                    Plotly.newPlot(                        \"ca31e9d8-cf99-485f-a924-607cdca546f1\",                        [{\"colorscale\":[[0.0,\"rgb(255, 153, 51)\"],[0.1111111111111111,\"rgb(55, 128, 191)\"],[0.2222222222222222,\"rgb(50, 171, 96)\"],[0.3333333333333333,\"rgb(128, 0, 128)\"],[0.4444444444444444,\"rgb(219, 64, 82)\"],[0.5555555555555556,\"rgb(0, 128, 128)\"],[0.6666666666666666,\"rgb(255, 255, 51)\"],[0.7777777777777778,\"rgb(128, 128, 0)\"],[0.8888888888888888,\"rgb(251, 128, 114)\"],[1.0,\"rgb(128, 177, 211)\"]],\"x\":[0,1,2,3,4],\"y\":[\"x\",\"y\",\"z\"],\"z\":[[1,2,3,4,5],[12,20,30,20,10],[5,4,3,2,1]],\"type\":\"surface\"}],                        {\"legend\":{\"bgcolor\":\"#F5F6F9\",\"font\":{\"color\":\"#4D5663\"}},\"paper_bgcolor\":\"#F5F6F9\",\"plot_bgcolor\":\"#F5F6F9\",\"template\":{\"data\":{\"barpolar\":[{\"marker\":{\"line\":{\"color\":\"#E5ECF6\",\"width\":0.5},\"pattern\":{\"fillmode\":\"overlay\",\"size\":10,\"solidity\":0.2}},\"type\":\"barpolar\"}],\"bar\":[{\"error_x\":{\"color\":\"#2a3f5f\"},\"error_y\":{\"color\":\"#2a3f5f\"},\"marker\":{\"line\":{\"color\":\"#E5ECF6\",\"width\":0.5},\"pattern\":{\"fillmode\":\"overlay\",\"size\":10,\"solidity\":0.2}},\"type\":\"bar\"}],\"carpet\":[{\"aaxis\":{\"endlinecolor\":\"#2a3f5f\",\"gridcolor\":\"white\",\"linecolor\":\"white\",\"minorgridcolor\":\"white\",\"startlinecolor\":\"#2a3f5f\"},\"baxis\":{\"endlinecolor\":\"#2a3f5f\",\"gridcolor\":\"white\",\"linecolor\":\"white\",\"minorgridcolor\":\"white\",\"startlinecolor\":\"#2a3f5f\"},\"type\":\"carpet\"}],\"choropleth\":[{\"colorbar\":{\"outlinewidth\":0,\"ticks\":\"\"},\"type\":\"choropleth\"}],\"contourcarpet\":[{\"colorbar\":{\"outlinewidth\":0,\"ticks\":\"\"},\"type\":\"contourcarpet\"}],\"contour\":[{\"colorbar\":{\"outlinewidth\":0,\"ticks\":\"\"},\"colorscale\":[[0.0,\"#0d0887\"],[0.1111111111111111,\"#46039f\"],[0.2222222222222222,\"#7201a8\"],[0.3333333333333333,\"#9c179e\"],[0.4444444444444444,\"#bd3786\"],[0.5555555555555556,\"#d8576b\"],[0.6666666666666666,\"#ed7953\"],[0.7777777777777778,\"#fb9f3a\"],[0.8888888888888888,\"#fdca26\"],[1.0,\"#f0f921\"]],\"type\":\"contour\"}],\"heatmapgl\":[{\"colorbar\":{\"outlinewidth\":0,\"ticks\":\"\"},\"colorscale\":[[0.0,\"#0d0887\"],[0.1111111111111111,\"#46039f\"],[0.2222222222222222,\"#7201a8\"],[0.3333333333333333,\"#9c179e\"],[0.4444444444444444,\"#bd3786\"],[0.5555555555555556,\"#d8576b\"],[0.6666666666666666,\"#ed7953\"],[0.7777777777777778,\"#fb9f3a\"],[0.8888888888888888,\"#fdca26\"],[1.0,\"#f0f921\"]],\"type\":\"heatmapgl\"}],\"heatmap\":[{\"colorbar\":{\"outlinewidth\":0,\"ticks\":\"\"},\"colorscale\":[[0.0,\"#0d0887\"],[0.1111111111111111,\"#46039f\"],[0.2222222222222222,\"#7201a8\"],[0.3333333333333333,\"#9c179e\"],[0.4444444444444444,\"#bd3786\"],[0.5555555555555556,\"#d8576b\"],[0.6666666666666666,\"#ed7953\"],[0.7777777777777778,\"#fb9f3a\"],[0.8888888888888888,\"#fdca26\"],[1.0,\"#f0f921\"]],\"type\":\"heatmap\"}],\"histogram2dcontour\":[{\"colorbar\":{\"outlinewidth\":0,\"ticks\":\"\"},\"colorscale\":[[0.0,\"#0d0887\"],[0.1111111111111111,\"#46039f\"],[0.2222222222222222,\"#7201a8\"],[0.3333333333333333,\"#9c179e\"],[0.4444444444444444,\"#bd3786\"],[0.5555555555555556,\"#d8576b\"],[0.6666666666666666,\"#ed7953\"],[0.7777777777777778,\"#fb9f3a\"],[0.8888888888888888,\"#fdca26\"],[1.0,\"#f0f921\"]],\"type\":\"histogram2dcontour\"}],\"histogram2d\":[{\"colorbar\":{\"outlinewidth\":0,\"ticks\":\"\"},\"colorscale\":[[0.0,\"#0d0887\"],[0.1111111111111111,\"#46039f\"],[0.2222222222222222,\"#7201a8\"],[0.3333333333333333,\"#9c179e\"],[0.4444444444444444,\"#bd3786\"],[0.5555555555555556,\"#d8576b\"],[0.6666666666666666,\"#ed7953\"],[0.7777777777777778,\"#fb9f3a\"],[0.8888888888888888,\"#fdca26\"],[1.0,\"#f0f921\"]],\"type\":\"histogram2d\"}],\"histogram\":[{\"marker\":{\"pattern\":{\"fillmode\":\"overlay\",\"size\":10,\"solidity\":0.2}},\"type\":\"histogram\"}],\"mesh3d\":[{\"colorbar\":{\"outlinewidth\":0,\"ticks\":\"\"},\"type\":\"mesh3d\"}],\"parcoords\":[{\"line\":{\"colorbar\":{\"outlinewidth\":0,\"ticks\":\"\"}},\"type\":\"parcoords\"}],\"pie\":[{\"automargin\":true,\"type\":\"pie\"}],\"scatter3d\":[{\"line\":{\"colorbar\":{\"outlinewidth\":0,\"ticks\":\"\"}},\"marker\":{\"colorbar\":{\"outlinewidth\":0,\"ticks\":\"\"}},\"type\":\"scatter3d\"}],\"scattercarpet\":[{\"marker\":{\"colorbar\":{\"outlinewidth\":0,\"ticks\":\"\"}},\"type\":\"scattercarpet\"}],\"scattergeo\":[{\"marker\":{\"colorbar\":{\"outlinewidth\":0,\"ticks\":\"\"}},\"type\":\"scattergeo\"}],\"scattergl\":[{\"marker\":{\"colorbar\":{\"outlinewidth\":0,\"ticks\":\"\"}},\"type\":\"scattergl\"}],\"scattermapbox\":[{\"marker\":{\"colorbar\":{\"outlinewidth\":0,\"ticks\":\"\"}},\"type\":\"scattermapbox\"}],\"scatterpolargl\":[{\"marker\":{\"colorbar\":{\"outlinewidth\":0,\"ticks\":\"\"}},\"type\":\"scatterpolargl\"}],\"scatterpolar\":[{\"marker\":{\"colorbar\":{\"outlinewidth\":0,\"ticks\":\"\"}},\"type\":\"scatterpolar\"}],\"scatter\":[{\"fillpattern\":{\"fillmode\":\"overlay\",\"size\":10,\"solidity\":0.2},\"type\":\"scatter\"}],\"scatterternary\":[{\"marker\":{\"colorbar\":{\"outlinewidth\":0,\"ticks\":\"\"}},\"type\":\"scatterternary\"}],\"surface\":[{\"colorbar\":{\"outlinewidth\":0,\"ticks\":\"\"},\"colorscale\":[[0.0,\"#0d0887\"],[0.1111111111111111,\"#46039f\"],[0.2222222222222222,\"#7201a8\"],[0.3333333333333333,\"#9c179e\"],[0.4444444444444444,\"#bd3786\"],[0.5555555555555556,\"#d8576b\"],[0.6666666666666666,\"#ed7953\"],[0.7777777777777778,\"#fb9f3a\"],[0.8888888888888888,\"#fdca26\"],[1.0,\"#f0f921\"]],\"type\":\"surface\"}],\"table\":[{\"cells\":{\"fill\":{\"color\":\"#EBF0F8\"},\"line\":{\"color\":\"white\"}},\"header\":{\"fill\":{\"color\":\"#C8D4E3\"},\"line\":{\"color\":\"white\"}},\"type\":\"table\"}]},\"layout\":{\"annotationdefaults\":{\"arrowcolor\":\"#2a3f5f\",\"arrowhead\":0,\"arrowwidth\":1},\"autotypenumbers\":\"strict\",\"coloraxis\":{\"colorbar\":{\"outlinewidth\":0,\"ticks\":\"\"}},\"colorscale\":{\"diverging\":[[0,\"#8e0152\"],[0.1,\"#c51b7d\"],[0.2,\"#de77ae\"],[0.3,\"#f1b6da\"],[0.4,\"#fde0ef\"],[0.5,\"#f7f7f7\"],[0.6,\"#e6f5d0\"],[0.7,\"#b8e186\"],[0.8,\"#7fbc41\"],[0.9,\"#4d9221\"],[1,\"#276419\"]],\"sequential\":[[0.0,\"#0d0887\"],[0.1111111111111111,\"#46039f\"],[0.2222222222222222,\"#7201a8\"],[0.3333333333333333,\"#9c179e\"],[0.4444444444444444,\"#bd3786\"],[0.5555555555555556,\"#d8576b\"],[0.6666666666666666,\"#ed7953\"],[0.7777777777777778,\"#fb9f3a\"],[0.8888888888888888,\"#fdca26\"],[1.0,\"#f0f921\"]],\"sequentialminus\":[[0.0,\"#0d0887\"],[0.1111111111111111,\"#46039f\"],[0.2222222222222222,\"#7201a8\"],[0.3333333333333333,\"#9c179e\"],[0.4444444444444444,\"#bd3786\"],[0.5555555555555556,\"#d8576b\"],[0.6666666666666666,\"#ed7953\"],[0.7777777777777778,\"#fb9f3a\"],[0.8888888888888888,\"#fdca26\"],[1.0,\"#f0f921\"]]},\"colorway\":[\"#636efa\",\"#EF553B\",\"#00cc96\",\"#ab63fa\",\"#FFA15A\",\"#19d3f3\",\"#FF6692\",\"#B6E880\",\"#FF97FF\",\"#FECB52\"],\"font\":{\"color\":\"#2a3f5f\"},\"geo\":{\"bgcolor\":\"white\",\"lakecolor\":\"white\",\"landcolor\":\"#E5ECF6\",\"showlakes\":true,\"showland\":true,\"subunitcolor\":\"white\"},\"hoverlabel\":{\"align\":\"left\"},\"hovermode\":\"closest\",\"mapbox\":{\"style\":\"light\"},\"paper_bgcolor\":\"white\",\"plot_bgcolor\":\"#E5ECF6\",\"polar\":{\"angularaxis\":{\"gridcolor\":\"white\",\"linecolor\":\"white\",\"ticks\":\"\"},\"bgcolor\":\"#E5ECF6\",\"radialaxis\":{\"gridcolor\":\"white\",\"linecolor\":\"white\",\"ticks\":\"\"}},\"scene\":{\"xaxis\":{\"backgroundcolor\":\"#E5ECF6\",\"gridcolor\":\"white\",\"gridwidth\":2,\"linecolor\":\"white\",\"showbackground\":true,\"ticks\":\"\",\"zerolinecolor\":\"white\"},\"yaxis\":{\"backgroundcolor\":\"#E5ECF6\",\"gridcolor\":\"white\",\"gridwidth\":2,\"linecolor\":\"white\",\"showbackground\":true,\"ticks\":\"\",\"zerolinecolor\":\"white\"},\"zaxis\":{\"backgroundcolor\":\"#E5ECF6\",\"gridcolor\":\"white\",\"gridwidth\":2,\"linecolor\":\"white\",\"showbackground\":true,\"ticks\":\"\",\"zerolinecolor\":\"white\"}},\"shapedefaults\":{\"line\":{\"color\":\"#2a3f5f\"}},\"ternary\":{\"aaxis\":{\"gridcolor\":\"white\",\"linecolor\":\"white\",\"ticks\":\"\"},\"baxis\":{\"gridcolor\":\"white\",\"linecolor\":\"white\",\"ticks\":\"\"},\"bgcolor\":\"#E5ECF6\",\"caxis\":{\"gridcolor\":\"white\",\"linecolor\":\"white\",\"ticks\":\"\"}},\"title\":{\"x\":0.05},\"xaxis\":{\"automargin\":true,\"gridcolor\":\"white\",\"linecolor\":\"white\",\"ticks\":\"\",\"title\":{\"standoff\":15},\"zerolinecolor\":\"white\",\"zerolinewidth\":2},\"yaxis\":{\"automargin\":true,\"gridcolor\":\"white\",\"linecolor\":\"white\",\"ticks\":\"\",\"title\":{\"standoff\":15},\"zerolinecolor\":\"white\",\"zerolinewidth\":2}}},\"title\":{\"font\":{\"color\":\"#4D5663\"}},\"xaxis\":{\"gridcolor\":\"#E1E5ED\",\"showgrid\":true,\"tickfont\":{\"color\":\"#4D5663\"},\"title\":{\"font\":{\"color\":\"#4D5663\"},\"text\":\"\"},\"zerolinecolor\":\"#E1E5ED\"},\"yaxis\":{\"gridcolor\":\"#E1E5ED\",\"showgrid\":true,\"tickfont\":{\"color\":\"#4D5663\"},\"title\":{\"font\":{\"color\":\"#4D5663\"},\"text\":\"\"},\"zerolinecolor\":\"#E1E5ED\"}},                        {\"showLink\": true, \"linkText\": \"Export to plot.ly\", \"plotlyServerURL\": \"https://plot.ly\", \"responsive\": true}                    ).then(function(){\n",
       "                            \n",
       "var gd = document.getElementById('ca31e9d8-cf99-485f-a924-607cdca546f1');\n",
       "var x = new MutationObserver(function (mutations, observer) {{\n",
       "        var display = window.getComputedStyle(gd).display;\n",
       "        if (!display || display === 'none') {{\n",
       "            console.log([gd, 'removed!']);\n",
       "            Plotly.purge(gd);\n",
       "            observer.disconnect();\n",
       "        }}\n",
       "}});\n",
       "\n",
       "// Listen for the removal of the full notebook cells\n",
       "var notebookContainer = gd.closest('#notebook-container');\n",
       "if (notebookContainer) {{\n",
       "    x.observe(notebookContainer, {childList: true});\n",
       "}}\n",
       "\n",
       "// Listen for the clearing of the current output cell\n",
       "var outputEl = gd.closest('.output');\n",
       "if (outputEl) {{\n",
       "    x.observe(outputEl, {childList: true});\n",
       "}}\n",
       "\n",
       "                        })                };                });            </script>        </div>"
      ]
     },
     "metadata": {},
     "output_type": "display_data"
    }
   ],
   "source": [
    "df3.iplot(kind='surface')"
   ]
  },
  {
   "cell_type": "code",
   "execution_count": 23,
   "metadata": {},
   "outputs": [
    {
     "data": {
      "application/vnd.plotly.v1+json": {
       "config": {
        "linkText": "Export to plot.ly",
        "plotlyServerURL": "https://plot.ly",
        "showLink": true
       },
       "data": [
        {
         "colorscale": [
          [
           0,
           "rgb(165,0,38)"
          ],
          [
           0.1,
           "rgb(215,48,39)"
          ],
          [
           0.2,
           "rgb(244,109,67)"
          ],
          [
           0.3,
           "rgb(253,174,97)"
          ],
          [
           0.4,
           "rgb(254,224,144)"
          ],
          [
           0.5,
           "rgb(255,255,191)"
          ],
          [
           0.6,
           "rgb(224,243,248)"
          ],
          [
           0.7,
           "rgb(171,217,233)"
          ],
          [
           0.8,
           "rgb(116,173,209)"
          ],
          [
           0.9,
           "rgb(69,117,180)"
          ],
          [
           1,
           "rgb(49,54,149)"
          ]
         ],
         "type": "surface",
         "x": [
          0,
          1,
          2,
          3,
          4
         ],
         "y": [
          "x",
          "y",
          "z"
         ],
         "z": [
          [
           1,
           2,
           3,
           4,
           5
          ],
          [
           12,
           20,
           30,
           20,
           10
          ],
          [
           5,
           4,
           3,
           2,
           1
          ]
         ]
        }
       ],
       "layout": {
        "legend": {
         "bgcolor": "#F5F6F9",
         "font": {
          "color": "#4D5663"
         }
        },
        "paper_bgcolor": "#F5F6F9",
        "plot_bgcolor": "#F5F6F9",
        "template": {
         "data": {
          "bar": [
           {
            "error_x": {
             "color": "#2a3f5f"
            },
            "error_y": {
             "color": "#2a3f5f"
            },
            "marker": {
             "line": {
              "color": "#E5ECF6",
              "width": 0.5
             },
             "pattern": {
              "fillmode": "overlay",
              "size": 10,
              "solidity": 0.2
             }
            },
            "type": "bar"
           }
          ],
          "barpolar": [
           {
            "marker": {
             "line": {
              "color": "#E5ECF6",
              "width": 0.5
             },
             "pattern": {
              "fillmode": "overlay",
              "size": 10,
              "solidity": 0.2
             }
            },
            "type": "barpolar"
           }
          ],
          "carpet": [
           {
            "aaxis": {
             "endlinecolor": "#2a3f5f",
             "gridcolor": "white",
             "linecolor": "white",
             "minorgridcolor": "white",
             "startlinecolor": "#2a3f5f"
            },
            "baxis": {
             "endlinecolor": "#2a3f5f",
             "gridcolor": "white",
             "linecolor": "white",
             "minorgridcolor": "white",
             "startlinecolor": "#2a3f5f"
            },
            "type": "carpet"
           }
          ],
          "choropleth": [
           {
            "colorbar": {
             "outlinewidth": 0,
             "ticks": ""
            },
            "type": "choropleth"
           }
          ],
          "contour": [
           {
            "colorbar": {
             "outlinewidth": 0,
             "ticks": ""
            },
            "colorscale": [
             [
              0,
              "#0d0887"
             ],
             [
              0.1111111111111111,
              "#46039f"
             ],
             [
              0.2222222222222222,
              "#7201a8"
             ],
             [
              0.3333333333333333,
              "#9c179e"
             ],
             [
              0.4444444444444444,
              "#bd3786"
             ],
             [
              0.5555555555555556,
              "#d8576b"
             ],
             [
              0.6666666666666666,
              "#ed7953"
             ],
             [
              0.7777777777777778,
              "#fb9f3a"
             ],
             [
              0.8888888888888888,
              "#fdca26"
             ],
             [
              1,
              "#f0f921"
             ]
            ],
            "type": "contour"
           }
          ],
          "contourcarpet": [
           {
            "colorbar": {
             "outlinewidth": 0,
             "ticks": ""
            },
            "type": "contourcarpet"
           }
          ],
          "heatmap": [
           {
            "colorbar": {
             "outlinewidth": 0,
             "ticks": ""
            },
            "colorscale": [
             [
              0,
              "#0d0887"
             ],
             [
              0.1111111111111111,
              "#46039f"
             ],
             [
              0.2222222222222222,
              "#7201a8"
             ],
             [
              0.3333333333333333,
              "#9c179e"
             ],
             [
              0.4444444444444444,
              "#bd3786"
             ],
             [
              0.5555555555555556,
              "#d8576b"
             ],
             [
              0.6666666666666666,
              "#ed7953"
             ],
             [
              0.7777777777777778,
              "#fb9f3a"
             ],
             [
              0.8888888888888888,
              "#fdca26"
             ],
             [
              1,
              "#f0f921"
             ]
            ],
            "type": "heatmap"
           }
          ],
          "heatmapgl": [
           {
            "colorbar": {
             "outlinewidth": 0,
             "ticks": ""
            },
            "colorscale": [
             [
              0,
              "#0d0887"
             ],
             [
              0.1111111111111111,
              "#46039f"
             ],
             [
              0.2222222222222222,
              "#7201a8"
             ],
             [
              0.3333333333333333,
              "#9c179e"
             ],
             [
              0.4444444444444444,
              "#bd3786"
             ],
             [
              0.5555555555555556,
              "#d8576b"
             ],
             [
              0.6666666666666666,
              "#ed7953"
             ],
             [
              0.7777777777777778,
              "#fb9f3a"
             ],
             [
              0.8888888888888888,
              "#fdca26"
             ],
             [
              1,
              "#f0f921"
             ]
            ],
            "type": "heatmapgl"
           }
          ],
          "histogram": [
           {
            "marker": {
             "pattern": {
              "fillmode": "overlay",
              "size": 10,
              "solidity": 0.2
             }
            },
            "type": "histogram"
           }
          ],
          "histogram2d": [
           {
            "colorbar": {
             "outlinewidth": 0,
             "ticks": ""
            },
            "colorscale": [
             [
              0,
              "#0d0887"
             ],
             [
              0.1111111111111111,
              "#46039f"
             ],
             [
              0.2222222222222222,
              "#7201a8"
             ],
             [
              0.3333333333333333,
              "#9c179e"
             ],
             [
              0.4444444444444444,
              "#bd3786"
             ],
             [
              0.5555555555555556,
              "#d8576b"
             ],
             [
              0.6666666666666666,
              "#ed7953"
             ],
             [
              0.7777777777777778,
              "#fb9f3a"
             ],
             [
              0.8888888888888888,
              "#fdca26"
             ],
             [
              1,
              "#f0f921"
             ]
            ],
            "type": "histogram2d"
           }
          ],
          "histogram2dcontour": [
           {
            "colorbar": {
             "outlinewidth": 0,
             "ticks": ""
            },
            "colorscale": [
             [
              0,
              "#0d0887"
             ],
             [
              0.1111111111111111,
              "#46039f"
             ],
             [
              0.2222222222222222,
              "#7201a8"
             ],
             [
              0.3333333333333333,
              "#9c179e"
             ],
             [
              0.4444444444444444,
              "#bd3786"
             ],
             [
              0.5555555555555556,
              "#d8576b"
             ],
             [
              0.6666666666666666,
              "#ed7953"
             ],
             [
              0.7777777777777778,
              "#fb9f3a"
             ],
             [
              0.8888888888888888,
              "#fdca26"
             ],
             [
              1,
              "#f0f921"
             ]
            ],
            "type": "histogram2dcontour"
           }
          ],
          "mesh3d": [
           {
            "colorbar": {
             "outlinewidth": 0,
             "ticks": ""
            },
            "type": "mesh3d"
           }
          ],
          "parcoords": [
           {
            "line": {
             "colorbar": {
              "outlinewidth": 0,
              "ticks": ""
             }
            },
            "type": "parcoords"
           }
          ],
          "pie": [
           {
            "automargin": true,
            "type": "pie"
           }
          ],
          "scatter": [
           {
            "fillpattern": {
             "fillmode": "overlay",
             "size": 10,
             "solidity": 0.2
            },
            "type": "scatter"
           }
          ],
          "scatter3d": [
           {
            "line": {
             "colorbar": {
              "outlinewidth": 0,
              "ticks": ""
             }
            },
            "marker": {
             "colorbar": {
              "outlinewidth": 0,
              "ticks": ""
             }
            },
            "type": "scatter3d"
           }
          ],
          "scattercarpet": [
           {
            "marker": {
             "colorbar": {
              "outlinewidth": 0,
              "ticks": ""
             }
            },
            "type": "scattercarpet"
           }
          ],
          "scattergeo": [
           {
            "marker": {
             "colorbar": {
              "outlinewidth": 0,
              "ticks": ""
             }
            },
            "type": "scattergeo"
           }
          ],
          "scattergl": [
           {
            "marker": {
             "colorbar": {
              "outlinewidth": 0,
              "ticks": ""
             }
            },
            "type": "scattergl"
           }
          ],
          "scattermapbox": [
           {
            "marker": {
             "colorbar": {
              "outlinewidth": 0,
              "ticks": ""
             }
            },
            "type": "scattermapbox"
           }
          ],
          "scatterpolar": [
           {
            "marker": {
             "colorbar": {
              "outlinewidth": 0,
              "ticks": ""
             }
            },
            "type": "scatterpolar"
           }
          ],
          "scatterpolargl": [
           {
            "marker": {
             "colorbar": {
              "outlinewidth": 0,
              "ticks": ""
             }
            },
            "type": "scatterpolargl"
           }
          ],
          "scatterternary": [
           {
            "marker": {
             "colorbar": {
              "outlinewidth": 0,
              "ticks": ""
             }
            },
            "type": "scatterternary"
           }
          ],
          "surface": [
           {
            "colorbar": {
             "outlinewidth": 0,
             "ticks": ""
            },
            "colorscale": [
             [
              0,
              "#0d0887"
             ],
             [
              0.1111111111111111,
              "#46039f"
             ],
             [
              0.2222222222222222,
              "#7201a8"
             ],
             [
              0.3333333333333333,
              "#9c179e"
             ],
             [
              0.4444444444444444,
              "#bd3786"
             ],
             [
              0.5555555555555556,
              "#d8576b"
             ],
             [
              0.6666666666666666,
              "#ed7953"
             ],
             [
              0.7777777777777778,
              "#fb9f3a"
             ],
             [
              0.8888888888888888,
              "#fdca26"
             ],
             [
              1,
              "#f0f921"
             ]
            ],
            "type": "surface"
           }
          ],
          "table": [
           {
            "cells": {
             "fill": {
              "color": "#EBF0F8"
             },
             "line": {
              "color": "white"
             }
            },
            "header": {
             "fill": {
              "color": "#C8D4E3"
             },
             "line": {
              "color": "white"
             }
            },
            "type": "table"
           }
          ]
         },
         "layout": {
          "annotationdefaults": {
           "arrowcolor": "#2a3f5f",
           "arrowhead": 0,
           "arrowwidth": 1
          },
          "autotypenumbers": "strict",
          "coloraxis": {
           "colorbar": {
            "outlinewidth": 0,
            "ticks": ""
           }
          },
          "colorscale": {
           "diverging": [
            [
             0,
             "#8e0152"
            ],
            [
             0.1,
             "#c51b7d"
            ],
            [
             0.2,
             "#de77ae"
            ],
            [
             0.3,
             "#f1b6da"
            ],
            [
             0.4,
             "#fde0ef"
            ],
            [
             0.5,
             "#f7f7f7"
            ],
            [
             0.6,
             "#e6f5d0"
            ],
            [
             0.7,
             "#b8e186"
            ],
            [
             0.8,
             "#7fbc41"
            ],
            [
             0.9,
             "#4d9221"
            ],
            [
             1,
             "#276419"
            ]
           ],
           "sequential": [
            [
             0,
             "#0d0887"
            ],
            [
             0.1111111111111111,
             "#46039f"
            ],
            [
             0.2222222222222222,
             "#7201a8"
            ],
            [
             0.3333333333333333,
             "#9c179e"
            ],
            [
             0.4444444444444444,
             "#bd3786"
            ],
            [
             0.5555555555555556,
             "#d8576b"
            ],
            [
             0.6666666666666666,
             "#ed7953"
            ],
            [
             0.7777777777777778,
             "#fb9f3a"
            ],
            [
             0.8888888888888888,
             "#fdca26"
            ],
            [
             1,
             "#f0f921"
            ]
           ],
           "sequentialminus": [
            [
             0,
             "#0d0887"
            ],
            [
             0.1111111111111111,
             "#46039f"
            ],
            [
             0.2222222222222222,
             "#7201a8"
            ],
            [
             0.3333333333333333,
             "#9c179e"
            ],
            [
             0.4444444444444444,
             "#bd3786"
            ],
            [
             0.5555555555555556,
             "#d8576b"
            ],
            [
             0.6666666666666666,
             "#ed7953"
            ],
            [
             0.7777777777777778,
             "#fb9f3a"
            ],
            [
             0.8888888888888888,
             "#fdca26"
            ],
            [
             1,
             "#f0f921"
            ]
           ]
          },
          "colorway": [
           "#636efa",
           "#EF553B",
           "#00cc96",
           "#ab63fa",
           "#FFA15A",
           "#19d3f3",
           "#FF6692",
           "#B6E880",
           "#FF97FF",
           "#FECB52"
          ],
          "font": {
           "color": "#2a3f5f"
          },
          "geo": {
           "bgcolor": "white",
           "lakecolor": "white",
           "landcolor": "#E5ECF6",
           "showlakes": true,
           "showland": true,
           "subunitcolor": "white"
          },
          "hoverlabel": {
           "align": "left"
          },
          "hovermode": "closest",
          "mapbox": {
           "style": "light"
          },
          "paper_bgcolor": "white",
          "plot_bgcolor": "#E5ECF6",
          "polar": {
           "angularaxis": {
            "gridcolor": "white",
            "linecolor": "white",
            "ticks": ""
           },
           "bgcolor": "#E5ECF6",
           "radialaxis": {
            "gridcolor": "white",
            "linecolor": "white",
            "ticks": ""
           }
          },
          "scene": {
           "xaxis": {
            "backgroundcolor": "#E5ECF6",
            "gridcolor": "white",
            "gridwidth": 2,
            "linecolor": "white",
            "showbackground": true,
            "ticks": "",
            "zerolinecolor": "white"
           },
           "yaxis": {
            "backgroundcolor": "#E5ECF6",
            "gridcolor": "white",
            "gridwidth": 2,
            "linecolor": "white",
            "showbackground": true,
            "ticks": "",
            "zerolinecolor": "white"
           },
           "zaxis": {
            "backgroundcolor": "#E5ECF6",
            "gridcolor": "white",
            "gridwidth": 2,
            "linecolor": "white",
            "showbackground": true,
            "ticks": "",
            "zerolinecolor": "white"
           }
          },
          "shapedefaults": {
           "line": {
            "color": "#2a3f5f"
           }
          },
          "ternary": {
           "aaxis": {
            "gridcolor": "white",
            "linecolor": "white",
            "ticks": ""
           },
           "baxis": {
            "gridcolor": "white",
            "linecolor": "white",
            "ticks": ""
           },
           "bgcolor": "#E5ECF6",
           "caxis": {
            "gridcolor": "white",
            "linecolor": "white",
            "ticks": ""
           }
          },
          "title": {
           "x": 0.05
          },
          "xaxis": {
           "automargin": true,
           "gridcolor": "white",
           "linecolor": "white",
           "ticks": "",
           "title": {
            "standoff": 15
           },
           "zerolinecolor": "white",
           "zerolinewidth": 2
          },
          "yaxis": {
           "automargin": true,
           "gridcolor": "white",
           "linecolor": "white",
           "ticks": "",
           "title": {
            "standoff": 15
           },
           "zerolinecolor": "white",
           "zerolinewidth": 2
          }
         }
        },
        "title": {
         "font": {
          "color": "#4D5663"
         }
        },
        "xaxis": {
         "gridcolor": "#E1E5ED",
         "showgrid": true,
         "tickfont": {
          "color": "#4D5663"
         },
         "title": {
          "font": {
           "color": "#4D5663"
          },
          "text": ""
         },
         "zerolinecolor": "#E1E5ED"
        },
        "yaxis": {
         "gridcolor": "#E1E5ED",
         "showgrid": true,
         "tickfont": {
          "color": "#4D5663"
         },
         "title": {
          "font": {
           "color": "#4D5663"
          },
          "text": ""
         },
         "zerolinecolor": "#E1E5ED"
        }
       }
      },
      "text/html": [
       "<div>                            <div id=\"39984e80-0847-4058-a253-ac08d280fb56\" class=\"plotly-graph-div\" style=\"height:525px; width:100%;\"></div>            <script type=\"text/javascript\">                require([\"plotly\"], function(Plotly) {                    window.PLOTLYENV=window.PLOTLYENV || {};\n",
       "                    window.PLOTLYENV.BASE_URL='https://plot.ly';                                    if (document.getElementById(\"39984e80-0847-4058-a253-ac08d280fb56\")) {                    Plotly.newPlot(                        \"39984e80-0847-4058-a253-ac08d280fb56\",                        [{\"colorscale\":[[0.0,\"rgb(165,0,38)\"],[0.1,\"rgb(215,48,39)\"],[0.2,\"rgb(244,109,67)\"],[0.3,\"rgb(253,174,97)\"],[0.4,\"rgb(254,224,144)\"],[0.5,\"rgb(255,255,191)\"],[0.6,\"rgb(224,243,248)\"],[0.7,\"rgb(171,217,233)\"],[0.8,\"rgb(116,173,209)\"],[0.9,\"rgb(69,117,180)\"],[1.0,\"rgb(49,54,149)\"]],\"x\":[0,1,2,3,4],\"y\":[\"x\",\"y\",\"z\"],\"z\":[[1,2,3,4,5],[12,20,30,20,10],[5,4,3,2,1]],\"type\":\"surface\"}],                        {\"legend\":{\"bgcolor\":\"#F5F6F9\",\"font\":{\"color\":\"#4D5663\"}},\"paper_bgcolor\":\"#F5F6F9\",\"plot_bgcolor\":\"#F5F6F9\",\"template\":{\"data\":{\"barpolar\":[{\"marker\":{\"line\":{\"color\":\"#E5ECF6\",\"width\":0.5},\"pattern\":{\"fillmode\":\"overlay\",\"size\":10,\"solidity\":0.2}},\"type\":\"barpolar\"}],\"bar\":[{\"error_x\":{\"color\":\"#2a3f5f\"},\"error_y\":{\"color\":\"#2a3f5f\"},\"marker\":{\"line\":{\"color\":\"#E5ECF6\",\"width\":0.5},\"pattern\":{\"fillmode\":\"overlay\",\"size\":10,\"solidity\":0.2}},\"type\":\"bar\"}],\"carpet\":[{\"aaxis\":{\"endlinecolor\":\"#2a3f5f\",\"gridcolor\":\"white\",\"linecolor\":\"white\",\"minorgridcolor\":\"white\",\"startlinecolor\":\"#2a3f5f\"},\"baxis\":{\"endlinecolor\":\"#2a3f5f\",\"gridcolor\":\"white\",\"linecolor\":\"white\",\"minorgridcolor\":\"white\",\"startlinecolor\":\"#2a3f5f\"},\"type\":\"carpet\"}],\"choropleth\":[{\"colorbar\":{\"outlinewidth\":0,\"ticks\":\"\"},\"type\":\"choropleth\"}],\"contourcarpet\":[{\"colorbar\":{\"outlinewidth\":0,\"ticks\":\"\"},\"type\":\"contourcarpet\"}],\"contour\":[{\"colorbar\":{\"outlinewidth\":0,\"ticks\":\"\"},\"colorscale\":[[0.0,\"#0d0887\"],[0.1111111111111111,\"#46039f\"],[0.2222222222222222,\"#7201a8\"],[0.3333333333333333,\"#9c179e\"],[0.4444444444444444,\"#bd3786\"],[0.5555555555555556,\"#d8576b\"],[0.6666666666666666,\"#ed7953\"],[0.7777777777777778,\"#fb9f3a\"],[0.8888888888888888,\"#fdca26\"],[1.0,\"#f0f921\"]],\"type\":\"contour\"}],\"heatmapgl\":[{\"colorbar\":{\"outlinewidth\":0,\"ticks\":\"\"},\"colorscale\":[[0.0,\"#0d0887\"],[0.1111111111111111,\"#46039f\"],[0.2222222222222222,\"#7201a8\"],[0.3333333333333333,\"#9c179e\"],[0.4444444444444444,\"#bd3786\"],[0.5555555555555556,\"#d8576b\"],[0.6666666666666666,\"#ed7953\"],[0.7777777777777778,\"#fb9f3a\"],[0.8888888888888888,\"#fdca26\"],[1.0,\"#f0f921\"]],\"type\":\"heatmapgl\"}],\"heatmap\":[{\"colorbar\":{\"outlinewidth\":0,\"ticks\":\"\"},\"colorscale\":[[0.0,\"#0d0887\"],[0.1111111111111111,\"#46039f\"],[0.2222222222222222,\"#7201a8\"],[0.3333333333333333,\"#9c179e\"],[0.4444444444444444,\"#bd3786\"],[0.5555555555555556,\"#d8576b\"],[0.6666666666666666,\"#ed7953\"],[0.7777777777777778,\"#fb9f3a\"],[0.8888888888888888,\"#fdca26\"],[1.0,\"#f0f921\"]],\"type\":\"heatmap\"}],\"histogram2dcontour\":[{\"colorbar\":{\"outlinewidth\":0,\"ticks\":\"\"},\"colorscale\":[[0.0,\"#0d0887\"],[0.1111111111111111,\"#46039f\"],[0.2222222222222222,\"#7201a8\"],[0.3333333333333333,\"#9c179e\"],[0.4444444444444444,\"#bd3786\"],[0.5555555555555556,\"#d8576b\"],[0.6666666666666666,\"#ed7953\"],[0.7777777777777778,\"#fb9f3a\"],[0.8888888888888888,\"#fdca26\"],[1.0,\"#f0f921\"]],\"type\":\"histogram2dcontour\"}],\"histogram2d\":[{\"colorbar\":{\"outlinewidth\":0,\"ticks\":\"\"},\"colorscale\":[[0.0,\"#0d0887\"],[0.1111111111111111,\"#46039f\"],[0.2222222222222222,\"#7201a8\"],[0.3333333333333333,\"#9c179e\"],[0.4444444444444444,\"#bd3786\"],[0.5555555555555556,\"#d8576b\"],[0.6666666666666666,\"#ed7953\"],[0.7777777777777778,\"#fb9f3a\"],[0.8888888888888888,\"#fdca26\"],[1.0,\"#f0f921\"]],\"type\":\"histogram2d\"}],\"histogram\":[{\"marker\":{\"pattern\":{\"fillmode\":\"overlay\",\"size\":10,\"solidity\":0.2}},\"type\":\"histogram\"}],\"mesh3d\":[{\"colorbar\":{\"outlinewidth\":0,\"ticks\":\"\"},\"type\":\"mesh3d\"}],\"parcoords\":[{\"line\":{\"colorbar\":{\"outlinewidth\":0,\"ticks\":\"\"}},\"type\":\"parcoords\"}],\"pie\":[{\"automargin\":true,\"type\":\"pie\"}],\"scatter3d\":[{\"line\":{\"colorbar\":{\"outlinewidth\":0,\"ticks\":\"\"}},\"marker\":{\"colorbar\":{\"outlinewidth\":0,\"ticks\":\"\"}},\"type\":\"scatter3d\"}],\"scattercarpet\":[{\"marker\":{\"colorbar\":{\"outlinewidth\":0,\"ticks\":\"\"}},\"type\":\"scattercarpet\"}],\"scattergeo\":[{\"marker\":{\"colorbar\":{\"outlinewidth\":0,\"ticks\":\"\"}},\"type\":\"scattergeo\"}],\"scattergl\":[{\"marker\":{\"colorbar\":{\"outlinewidth\":0,\"ticks\":\"\"}},\"type\":\"scattergl\"}],\"scattermapbox\":[{\"marker\":{\"colorbar\":{\"outlinewidth\":0,\"ticks\":\"\"}},\"type\":\"scattermapbox\"}],\"scatterpolargl\":[{\"marker\":{\"colorbar\":{\"outlinewidth\":0,\"ticks\":\"\"}},\"type\":\"scatterpolargl\"}],\"scatterpolar\":[{\"marker\":{\"colorbar\":{\"outlinewidth\":0,\"ticks\":\"\"}},\"type\":\"scatterpolar\"}],\"scatter\":[{\"fillpattern\":{\"fillmode\":\"overlay\",\"size\":10,\"solidity\":0.2},\"type\":\"scatter\"}],\"scatterternary\":[{\"marker\":{\"colorbar\":{\"outlinewidth\":0,\"ticks\":\"\"}},\"type\":\"scatterternary\"}],\"surface\":[{\"colorbar\":{\"outlinewidth\":0,\"ticks\":\"\"},\"colorscale\":[[0.0,\"#0d0887\"],[0.1111111111111111,\"#46039f\"],[0.2222222222222222,\"#7201a8\"],[0.3333333333333333,\"#9c179e\"],[0.4444444444444444,\"#bd3786\"],[0.5555555555555556,\"#d8576b\"],[0.6666666666666666,\"#ed7953\"],[0.7777777777777778,\"#fb9f3a\"],[0.8888888888888888,\"#fdca26\"],[1.0,\"#f0f921\"]],\"type\":\"surface\"}],\"table\":[{\"cells\":{\"fill\":{\"color\":\"#EBF0F8\"},\"line\":{\"color\":\"white\"}},\"header\":{\"fill\":{\"color\":\"#C8D4E3\"},\"line\":{\"color\":\"white\"}},\"type\":\"table\"}]},\"layout\":{\"annotationdefaults\":{\"arrowcolor\":\"#2a3f5f\",\"arrowhead\":0,\"arrowwidth\":1},\"autotypenumbers\":\"strict\",\"coloraxis\":{\"colorbar\":{\"outlinewidth\":0,\"ticks\":\"\"}},\"colorscale\":{\"diverging\":[[0,\"#8e0152\"],[0.1,\"#c51b7d\"],[0.2,\"#de77ae\"],[0.3,\"#f1b6da\"],[0.4,\"#fde0ef\"],[0.5,\"#f7f7f7\"],[0.6,\"#e6f5d0\"],[0.7,\"#b8e186\"],[0.8,\"#7fbc41\"],[0.9,\"#4d9221\"],[1,\"#276419\"]],\"sequential\":[[0.0,\"#0d0887\"],[0.1111111111111111,\"#46039f\"],[0.2222222222222222,\"#7201a8\"],[0.3333333333333333,\"#9c179e\"],[0.4444444444444444,\"#bd3786\"],[0.5555555555555556,\"#d8576b\"],[0.6666666666666666,\"#ed7953\"],[0.7777777777777778,\"#fb9f3a\"],[0.8888888888888888,\"#fdca26\"],[1.0,\"#f0f921\"]],\"sequentialminus\":[[0.0,\"#0d0887\"],[0.1111111111111111,\"#46039f\"],[0.2222222222222222,\"#7201a8\"],[0.3333333333333333,\"#9c179e\"],[0.4444444444444444,\"#bd3786\"],[0.5555555555555556,\"#d8576b\"],[0.6666666666666666,\"#ed7953\"],[0.7777777777777778,\"#fb9f3a\"],[0.8888888888888888,\"#fdca26\"],[1.0,\"#f0f921\"]]},\"colorway\":[\"#636efa\",\"#EF553B\",\"#00cc96\",\"#ab63fa\",\"#FFA15A\",\"#19d3f3\",\"#FF6692\",\"#B6E880\",\"#FF97FF\",\"#FECB52\"],\"font\":{\"color\":\"#2a3f5f\"},\"geo\":{\"bgcolor\":\"white\",\"lakecolor\":\"white\",\"landcolor\":\"#E5ECF6\",\"showlakes\":true,\"showland\":true,\"subunitcolor\":\"white\"},\"hoverlabel\":{\"align\":\"left\"},\"hovermode\":\"closest\",\"mapbox\":{\"style\":\"light\"},\"paper_bgcolor\":\"white\",\"plot_bgcolor\":\"#E5ECF6\",\"polar\":{\"angularaxis\":{\"gridcolor\":\"white\",\"linecolor\":\"white\",\"ticks\":\"\"},\"bgcolor\":\"#E5ECF6\",\"radialaxis\":{\"gridcolor\":\"white\",\"linecolor\":\"white\",\"ticks\":\"\"}},\"scene\":{\"xaxis\":{\"backgroundcolor\":\"#E5ECF6\",\"gridcolor\":\"white\",\"gridwidth\":2,\"linecolor\":\"white\",\"showbackground\":true,\"ticks\":\"\",\"zerolinecolor\":\"white\"},\"yaxis\":{\"backgroundcolor\":\"#E5ECF6\",\"gridcolor\":\"white\",\"gridwidth\":2,\"linecolor\":\"white\",\"showbackground\":true,\"ticks\":\"\",\"zerolinecolor\":\"white\"},\"zaxis\":{\"backgroundcolor\":\"#E5ECF6\",\"gridcolor\":\"white\",\"gridwidth\":2,\"linecolor\":\"white\",\"showbackground\":true,\"ticks\":\"\",\"zerolinecolor\":\"white\"}},\"shapedefaults\":{\"line\":{\"color\":\"#2a3f5f\"}},\"ternary\":{\"aaxis\":{\"gridcolor\":\"white\",\"linecolor\":\"white\",\"ticks\":\"\"},\"baxis\":{\"gridcolor\":\"white\",\"linecolor\":\"white\",\"ticks\":\"\"},\"bgcolor\":\"#E5ECF6\",\"caxis\":{\"gridcolor\":\"white\",\"linecolor\":\"white\",\"ticks\":\"\"}},\"title\":{\"x\":0.05},\"xaxis\":{\"automargin\":true,\"gridcolor\":\"white\",\"linecolor\":\"white\",\"ticks\":\"\",\"title\":{\"standoff\":15},\"zerolinecolor\":\"white\",\"zerolinewidth\":2},\"yaxis\":{\"automargin\":true,\"gridcolor\":\"white\",\"linecolor\":\"white\",\"ticks\":\"\",\"title\":{\"standoff\":15},\"zerolinecolor\":\"white\",\"zerolinewidth\":2}}},\"title\":{\"font\":{\"color\":\"#4D5663\"}},\"xaxis\":{\"gridcolor\":\"#E1E5ED\",\"showgrid\":true,\"tickfont\":{\"color\":\"#4D5663\"},\"title\":{\"font\":{\"color\":\"#4D5663\"},\"text\":\"\"},\"zerolinecolor\":\"#E1E5ED\"},\"yaxis\":{\"gridcolor\":\"#E1E5ED\",\"showgrid\":true,\"tickfont\":{\"color\":\"#4D5663\"},\"title\":{\"font\":{\"color\":\"#4D5663\"},\"text\":\"\"},\"zerolinecolor\":\"#E1E5ED\"}},                        {\"showLink\": true, \"linkText\": \"Export to plot.ly\", \"plotlyServerURL\": \"https://plot.ly\", \"responsive\": true}                    ).then(function(){\n",
       "                            \n",
       "var gd = document.getElementById('39984e80-0847-4058-a253-ac08d280fb56');\n",
       "var x = new MutationObserver(function (mutations, observer) {{\n",
       "        var display = window.getComputedStyle(gd).display;\n",
       "        if (!display || display === 'none') {{\n",
       "            console.log([gd, 'removed!']);\n",
       "            Plotly.purge(gd);\n",
       "            observer.disconnect();\n",
       "        }}\n",
       "}});\n",
       "\n",
       "// Listen for the removal of the full notebook cells\n",
       "var notebookContainer = gd.closest('#notebook-container');\n",
       "if (notebookContainer) {{\n",
       "    x.observe(notebookContainer, {childList: true});\n",
       "}}\n",
       "\n",
       "// Listen for the clearing of the current output cell\n",
       "var outputEl = gd.closest('.output');\n",
       "if (outputEl) {{\n",
       "    x.observe(outputEl, {childList: true});\n",
       "}}\n",
       "\n",
       "                        })                };                });            </script>        </div>"
      ]
     },
     "metadata": {},
     "output_type": "display_data"
    }
   ],
   "source": [
    "df3.iplot(kind='surface',colorscale='rdylbu')"
   ]
  },
  {
   "cell_type": "code",
   "execution_count": 25,
   "metadata": {},
   "outputs": [
    {
     "data": {
      "application/vnd.plotly.v1+json": {
       "config": {
        "linkText": "Export to plot.ly",
        "plotlyServerURL": "https://plot.ly",
        "showLink": true
       },
       "data": [
        {
         "histfunc": "count",
         "histnorm": "",
         "marker": {
          "color": "rgba(255, 153, 51, 1.0)",
          "line": {
           "color": "#4D5663",
           "width": 1.3
          }
         },
         "name": "A",
         "nbinsx": 20,
         "opacity": 0.8,
         "orientation": "v",
         "type": "histogram",
         "x": [
          1.2379579215557721,
          -0.5005184725982377,
          -1.8230450427793612,
          0.06842502309955707,
          0.4254384314514911,
          1.1763052359239257,
          -0.11214271908475447,
          1.1059753615356682,
          0.22346118664892053,
          -3.0955008897822682,
          -1.4517744954104537,
          1.0800716683559,
          0.7541959355429521,
          -0.19781466988496854,
          0.8027711878115771,
          0.32235289207845674,
          -1.407064449126228,
          0.5813815157192956,
          -0.4203924036852652,
          0.5355956630247433,
          1.0206309013545645,
          0.7384385770882846,
          -0.2900868329082115,
          0.3829461322814965,
          0.4611215018331621,
          -1.3790825150179762,
          1.2819328381644517,
          -1.134352798171451,
          0.5205979181212208,
          1.3157399184969396,
          0.784109751385838,
          -0.2788739329905516,
          2.8096183045496717,
          -0.2308271549045375,
          1.3964084344569843,
          0.01831236818373684,
          0.827571000150851,
          -0.7590395468795416,
          -0.16238163174865078,
          0.2572099021763275,
          -0.1498663201241084,
          2.0530119786117687,
          -0.03723847683954049,
          0.41757657681991633,
          0.9672215524108312,
          1.964130099188044,
          -0.9148020760659852,
          -0.7067367751252867,
          -0.46258169228107315,
          0.6395101035312151,
          0.614656019091725,
          1.6970454877439154,
          0.09192463941462742,
          1.541224196386175,
          1.1495442914166665,
          1.4773844447931597,
          1.7621437230813883,
          0.46693142325967285,
          1.419824486490099,
          0.8120024374923902,
          -1.0954528503558223,
          0.0407775353196377,
          0.42850511111267753,
          1.9275505103817203,
          -1.3431683970134831,
          0.796264215695926,
          -1.9127758508775747,
          1.2854170397536104,
          -0.29109585036885166,
          0.7387637394372951,
          0.1864707079105069,
          -1.2500559744599842,
          1.2676856772130243,
          -0.16842033667773443,
          0.05579077525029771,
          -0.3262741971013337,
          0.023869859254569244,
          0.24314462754504315,
          -0.1535936724579839,
          1.0697246004611893,
          -0.9083408958560282,
          0.23825984450463622,
          0.6387576608046327,
          -0.5069686294885749,
          0.951703871558809,
          -0.5131593778854479,
          -0.06489118914025865,
          -1.6708061688797646,
          -0.8107835190282477,
          -1.181205795352084,
          -0.813756681394152,
          0.12899794573478857,
          -0.3690930111001821,
          1.015706364161616,
          -1.5316143343754245,
          -0.5312137078010556,
          -0.9267416426601521,
          0.800610799926069,
          -1.3397198536182306,
          -0.39168708430114446
         ]
        }
       ],
       "layout": {
        "barmode": "overlay",
        "legend": {
         "bgcolor": "#F5F6F9",
         "font": {
          "color": "#4D5663"
         }
        },
        "paper_bgcolor": "#F5F6F9",
        "plot_bgcolor": "#F5F6F9",
        "template": {
         "data": {
          "bar": [
           {
            "error_x": {
             "color": "#2a3f5f"
            },
            "error_y": {
             "color": "#2a3f5f"
            },
            "marker": {
             "line": {
              "color": "#E5ECF6",
              "width": 0.5
             },
             "pattern": {
              "fillmode": "overlay",
              "size": 10,
              "solidity": 0.2
             }
            },
            "type": "bar"
           }
          ],
          "barpolar": [
           {
            "marker": {
             "line": {
              "color": "#E5ECF6",
              "width": 0.5
             },
             "pattern": {
              "fillmode": "overlay",
              "size": 10,
              "solidity": 0.2
             }
            },
            "type": "barpolar"
           }
          ],
          "carpet": [
           {
            "aaxis": {
             "endlinecolor": "#2a3f5f",
             "gridcolor": "white",
             "linecolor": "white",
             "minorgridcolor": "white",
             "startlinecolor": "#2a3f5f"
            },
            "baxis": {
             "endlinecolor": "#2a3f5f",
             "gridcolor": "white",
             "linecolor": "white",
             "minorgridcolor": "white",
             "startlinecolor": "#2a3f5f"
            },
            "type": "carpet"
           }
          ],
          "choropleth": [
           {
            "colorbar": {
             "outlinewidth": 0,
             "ticks": ""
            },
            "type": "choropleth"
           }
          ],
          "contour": [
           {
            "colorbar": {
             "outlinewidth": 0,
             "ticks": ""
            },
            "colorscale": [
             [
              0,
              "#0d0887"
             ],
             [
              0.1111111111111111,
              "#46039f"
             ],
             [
              0.2222222222222222,
              "#7201a8"
             ],
             [
              0.3333333333333333,
              "#9c179e"
             ],
             [
              0.4444444444444444,
              "#bd3786"
             ],
             [
              0.5555555555555556,
              "#d8576b"
             ],
             [
              0.6666666666666666,
              "#ed7953"
             ],
             [
              0.7777777777777778,
              "#fb9f3a"
             ],
             [
              0.8888888888888888,
              "#fdca26"
             ],
             [
              1,
              "#f0f921"
             ]
            ],
            "type": "contour"
           }
          ],
          "contourcarpet": [
           {
            "colorbar": {
             "outlinewidth": 0,
             "ticks": ""
            },
            "type": "contourcarpet"
           }
          ],
          "heatmap": [
           {
            "colorbar": {
             "outlinewidth": 0,
             "ticks": ""
            },
            "colorscale": [
             [
              0,
              "#0d0887"
             ],
             [
              0.1111111111111111,
              "#46039f"
             ],
             [
              0.2222222222222222,
              "#7201a8"
             ],
             [
              0.3333333333333333,
              "#9c179e"
             ],
             [
              0.4444444444444444,
              "#bd3786"
             ],
             [
              0.5555555555555556,
              "#d8576b"
             ],
             [
              0.6666666666666666,
              "#ed7953"
             ],
             [
              0.7777777777777778,
              "#fb9f3a"
             ],
             [
              0.8888888888888888,
              "#fdca26"
             ],
             [
              1,
              "#f0f921"
             ]
            ],
            "type": "heatmap"
           }
          ],
          "heatmapgl": [
           {
            "colorbar": {
             "outlinewidth": 0,
             "ticks": ""
            },
            "colorscale": [
             [
              0,
              "#0d0887"
             ],
             [
              0.1111111111111111,
              "#46039f"
             ],
             [
              0.2222222222222222,
              "#7201a8"
             ],
             [
              0.3333333333333333,
              "#9c179e"
             ],
             [
              0.4444444444444444,
              "#bd3786"
             ],
             [
              0.5555555555555556,
              "#d8576b"
             ],
             [
              0.6666666666666666,
              "#ed7953"
             ],
             [
              0.7777777777777778,
              "#fb9f3a"
             ],
             [
              0.8888888888888888,
              "#fdca26"
             ],
             [
              1,
              "#f0f921"
             ]
            ],
            "type": "heatmapgl"
           }
          ],
          "histogram": [
           {
            "marker": {
             "pattern": {
              "fillmode": "overlay",
              "size": 10,
              "solidity": 0.2
             }
            },
            "type": "histogram"
           }
          ],
          "histogram2d": [
           {
            "colorbar": {
             "outlinewidth": 0,
             "ticks": ""
            },
            "colorscale": [
             [
              0,
              "#0d0887"
             ],
             [
              0.1111111111111111,
              "#46039f"
             ],
             [
              0.2222222222222222,
              "#7201a8"
             ],
             [
              0.3333333333333333,
              "#9c179e"
             ],
             [
              0.4444444444444444,
              "#bd3786"
             ],
             [
              0.5555555555555556,
              "#d8576b"
             ],
             [
              0.6666666666666666,
              "#ed7953"
             ],
             [
              0.7777777777777778,
              "#fb9f3a"
             ],
             [
              0.8888888888888888,
              "#fdca26"
             ],
             [
              1,
              "#f0f921"
             ]
            ],
            "type": "histogram2d"
           }
          ],
          "histogram2dcontour": [
           {
            "colorbar": {
             "outlinewidth": 0,
             "ticks": ""
            },
            "colorscale": [
             [
              0,
              "#0d0887"
             ],
             [
              0.1111111111111111,
              "#46039f"
             ],
             [
              0.2222222222222222,
              "#7201a8"
             ],
             [
              0.3333333333333333,
              "#9c179e"
             ],
             [
              0.4444444444444444,
              "#bd3786"
             ],
             [
              0.5555555555555556,
              "#d8576b"
             ],
             [
              0.6666666666666666,
              "#ed7953"
             ],
             [
              0.7777777777777778,
              "#fb9f3a"
             ],
             [
              0.8888888888888888,
              "#fdca26"
             ],
             [
              1,
              "#f0f921"
             ]
            ],
            "type": "histogram2dcontour"
           }
          ],
          "mesh3d": [
           {
            "colorbar": {
             "outlinewidth": 0,
             "ticks": ""
            },
            "type": "mesh3d"
           }
          ],
          "parcoords": [
           {
            "line": {
             "colorbar": {
              "outlinewidth": 0,
              "ticks": ""
             }
            },
            "type": "parcoords"
           }
          ],
          "pie": [
           {
            "automargin": true,
            "type": "pie"
           }
          ],
          "scatter": [
           {
            "fillpattern": {
             "fillmode": "overlay",
             "size": 10,
             "solidity": 0.2
            },
            "type": "scatter"
           }
          ],
          "scatter3d": [
           {
            "line": {
             "colorbar": {
              "outlinewidth": 0,
              "ticks": ""
             }
            },
            "marker": {
             "colorbar": {
              "outlinewidth": 0,
              "ticks": ""
             }
            },
            "type": "scatter3d"
           }
          ],
          "scattercarpet": [
           {
            "marker": {
             "colorbar": {
              "outlinewidth": 0,
              "ticks": ""
             }
            },
            "type": "scattercarpet"
           }
          ],
          "scattergeo": [
           {
            "marker": {
             "colorbar": {
              "outlinewidth": 0,
              "ticks": ""
             }
            },
            "type": "scattergeo"
           }
          ],
          "scattergl": [
           {
            "marker": {
             "colorbar": {
              "outlinewidth": 0,
              "ticks": ""
             }
            },
            "type": "scattergl"
           }
          ],
          "scattermapbox": [
           {
            "marker": {
             "colorbar": {
              "outlinewidth": 0,
              "ticks": ""
             }
            },
            "type": "scattermapbox"
           }
          ],
          "scatterpolar": [
           {
            "marker": {
             "colorbar": {
              "outlinewidth": 0,
              "ticks": ""
             }
            },
            "type": "scatterpolar"
           }
          ],
          "scatterpolargl": [
           {
            "marker": {
             "colorbar": {
              "outlinewidth": 0,
              "ticks": ""
             }
            },
            "type": "scatterpolargl"
           }
          ],
          "scatterternary": [
           {
            "marker": {
             "colorbar": {
              "outlinewidth": 0,
              "ticks": ""
             }
            },
            "type": "scatterternary"
           }
          ],
          "surface": [
           {
            "colorbar": {
             "outlinewidth": 0,
             "ticks": ""
            },
            "colorscale": [
             [
              0,
              "#0d0887"
             ],
             [
              0.1111111111111111,
              "#46039f"
             ],
             [
              0.2222222222222222,
              "#7201a8"
             ],
             [
              0.3333333333333333,
              "#9c179e"
             ],
             [
              0.4444444444444444,
              "#bd3786"
             ],
             [
              0.5555555555555556,
              "#d8576b"
             ],
             [
              0.6666666666666666,
              "#ed7953"
             ],
             [
              0.7777777777777778,
              "#fb9f3a"
             ],
             [
              0.8888888888888888,
              "#fdca26"
             ],
             [
              1,
              "#f0f921"
             ]
            ],
            "type": "surface"
           }
          ],
          "table": [
           {
            "cells": {
             "fill": {
              "color": "#EBF0F8"
             },
             "line": {
              "color": "white"
             }
            },
            "header": {
             "fill": {
              "color": "#C8D4E3"
             },
             "line": {
              "color": "white"
             }
            },
            "type": "table"
           }
          ]
         },
         "layout": {
          "annotationdefaults": {
           "arrowcolor": "#2a3f5f",
           "arrowhead": 0,
           "arrowwidth": 1
          },
          "autotypenumbers": "strict",
          "coloraxis": {
           "colorbar": {
            "outlinewidth": 0,
            "ticks": ""
           }
          },
          "colorscale": {
           "diverging": [
            [
             0,
             "#8e0152"
            ],
            [
             0.1,
             "#c51b7d"
            ],
            [
             0.2,
             "#de77ae"
            ],
            [
             0.3,
             "#f1b6da"
            ],
            [
             0.4,
             "#fde0ef"
            ],
            [
             0.5,
             "#f7f7f7"
            ],
            [
             0.6,
             "#e6f5d0"
            ],
            [
             0.7,
             "#b8e186"
            ],
            [
             0.8,
             "#7fbc41"
            ],
            [
             0.9,
             "#4d9221"
            ],
            [
             1,
             "#276419"
            ]
           ],
           "sequential": [
            [
             0,
             "#0d0887"
            ],
            [
             0.1111111111111111,
             "#46039f"
            ],
            [
             0.2222222222222222,
             "#7201a8"
            ],
            [
             0.3333333333333333,
             "#9c179e"
            ],
            [
             0.4444444444444444,
             "#bd3786"
            ],
            [
             0.5555555555555556,
             "#d8576b"
            ],
            [
             0.6666666666666666,
             "#ed7953"
            ],
            [
             0.7777777777777778,
             "#fb9f3a"
            ],
            [
             0.8888888888888888,
             "#fdca26"
            ],
            [
             1,
             "#f0f921"
            ]
           ],
           "sequentialminus": [
            [
             0,
             "#0d0887"
            ],
            [
             0.1111111111111111,
             "#46039f"
            ],
            [
             0.2222222222222222,
             "#7201a8"
            ],
            [
             0.3333333333333333,
             "#9c179e"
            ],
            [
             0.4444444444444444,
             "#bd3786"
            ],
            [
             0.5555555555555556,
             "#d8576b"
            ],
            [
             0.6666666666666666,
             "#ed7953"
            ],
            [
             0.7777777777777778,
             "#fb9f3a"
            ],
            [
             0.8888888888888888,
             "#fdca26"
            ],
            [
             1,
             "#f0f921"
            ]
           ]
          },
          "colorway": [
           "#636efa",
           "#EF553B",
           "#00cc96",
           "#ab63fa",
           "#FFA15A",
           "#19d3f3",
           "#FF6692",
           "#B6E880",
           "#FF97FF",
           "#FECB52"
          ],
          "font": {
           "color": "#2a3f5f"
          },
          "geo": {
           "bgcolor": "white",
           "lakecolor": "white",
           "landcolor": "#E5ECF6",
           "showlakes": true,
           "showland": true,
           "subunitcolor": "white"
          },
          "hoverlabel": {
           "align": "left"
          },
          "hovermode": "closest",
          "mapbox": {
           "style": "light"
          },
          "paper_bgcolor": "white",
          "plot_bgcolor": "#E5ECF6",
          "polar": {
           "angularaxis": {
            "gridcolor": "white",
            "linecolor": "white",
            "ticks": ""
           },
           "bgcolor": "#E5ECF6",
           "radialaxis": {
            "gridcolor": "white",
            "linecolor": "white",
            "ticks": ""
           }
          },
          "scene": {
           "xaxis": {
            "backgroundcolor": "#E5ECF6",
            "gridcolor": "white",
            "gridwidth": 2,
            "linecolor": "white",
            "showbackground": true,
            "ticks": "",
            "zerolinecolor": "white"
           },
           "yaxis": {
            "backgroundcolor": "#E5ECF6",
            "gridcolor": "white",
            "gridwidth": 2,
            "linecolor": "white",
            "showbackground": true,
            "ticks": "",
            "zerolinecolor": "white"
           },
           "zaxis": {
            "backgroundcolor": "#E5ECF6",
            "gridcolor": "white",
            "gridwidth": 2,
            "linecolor": "white",
            "showbackground": true,
            "ticks": "",
            "zerolinecolor": "white"
           }
          },
          "shapedefaults": {
           "line": {
            "color": "#2a3f5f"
           }
          },
          "ternary": {
           "aaxis": {
            "gridcolor": "white",
            "linecolor": "white",
            "ticks": ""
           },
           "baxis": {
            "gridcolor": "white",
            "linecolor": "white",
            "ticks": ""
           },
           "bgcolor": "#E5ECF6",
           "caxis": {
            "gridcolor": "white",
            "linecolor": "white",
            "ticks": ""
           }
          },
          "title": {
           "x": 0.05
          },
          "xaxis": {
           "automargin": true,
           "gridcolor": "white",
           "linecolor": "white",
           "ticks": "",
           "title": {
            "standoff": 15
           },
           "zerolinecolor": "white",
           "zerolinewidth": 2
          },
          "yaxis": {
           "automargin": true,
           "gridcolor": "white",
           "linecolor": "white",
           "ticks": "",
           "title": {
            "standoff": 15
           },
           "zerolinecolor": "white",
           "zerolinewidth": 2
          }
         }
        },
        "title": {
         "font": {
          "color": "#4D5663"
         }
        },
        "xaxis": {
         "gridcolor": "#E1E5ED",
         "showgrid": true,
         "tickfont": {
          "color": "#4D5663"
         },
         "title": {
          "font": {
           "color": "#4D5663"
          },
          "text": ""
         },
         "zerolinecolor": "#E1E5ED"
        },
        "yaxis": {
         "gridcolor": "#E1E5ED",
         "showgrid": true,
         "tickfont": {
          "color": "#4D5663"
         },
         "title": {
          "font": {
           "color": "#4D5663"
          },
          "text": ""
         },
         "zerolinecolor": "#E1E5ED"
        }
       }
      },
      "text/html": [
       "<div>                            <div id=\"89279903-6b69-4d3c-959b-98a3842ff006\" class=\"plotly-graph-div\" style=\"height:525px; width:100%;\"></div>            <script type=\"text/javascript\">                require([\"plotly\"], function(Plotly) {                    window.PLOTLYENV=window.PLOTLYENV || {};\n",
       "                    window.PLOTLYENV.BASE_URL='https://plot.ly';                                    if (document.getElementById(\"89279903-6b69-4d3c-959b-98a3842ff006\")) {                    Plotly.newPlot(                        \"89279903-6b69-4d3c-959b-98a3842ff006\",                        [{\"histfunc\":\"count\",\"histnorm\":\"\",\"marker\":{\"color\":\"rgba(255, 153, 51, 1.0)\",\"line\":{\"color\":\"#4D5663\",\"width\":1.3}},\"name\":\"A\",\"nbinsx\":20,\"opacity\":0.8,\"orientation\":\"v\",\"x\":[1.2379579215557721,-0.5005184725982377,-1.8230450427793612,0.06842502309955707,0.4254384314514911,1.1763052359239257,-0.11214271908475447,1.1059753615356682,0.22346118664892053,-3.0955008897822682,-1.4517744954104537,1.0800716683559,0.7541959355429521,-0.19781466988496854,0.8027711878115771,0.32235289207845674,-1.407064449126228,0.5813815157192956,-0.4203924036852652,0.5355956630247433,1.0206309013545645,0.7384385770882846,-0.2900868329082115,0.3829461322814965,0.4611215018331621,-1.3790825150179762,1.2819328381644517,-1.134352798171451,0.5205979181212208,1.3157399184969396,0.784109751385838,-0.2788739329905516,2.8096183045496717,-0.2308271549045375,1.3964084344569843,0.01831236818373684,0.827571000150851,-0.7590395468795416,-0.16238163174865078,0.2572099021763275,-0.1498663201241084,2.0530119786117687,-0.03723847683954049,0.41757657681991633,0.9672215524108312,1.964130099188044,-0.9148020760659852,-0.7067367751252867,-0.46258169228107315,0.6395101035312151,0.614656019091725,1.6970454877439154,0.09192463941462742,1.541224196386175,1.1495442914166665,1.4773844447931597,1.7621437230813883,0.46693142325967285,1.419824486490099,0.8120024374923902,-1.0954528503558223,0.0407775353196377,0.42850511111267753,1.9275505103817203,-1.3431683970134831,0.796264215695926,-1.9127758508775747,1.2854170397536104,-0.29109585036885166,0.7387637394372951,0.1864707079105069,-1.2500559744599842,1.2676856772130243,-0.16842033667773443,0.05579077525029771,-0.3262741971013337,0.023869859254569244,0.24314462754504315,-0.1535936724579839,1.0697246004611893,-0.9083408958560282,0.23825984450463622,0.6387576608046327,-0.5069686294885749,0.951703871558809,-0.5131593778854479,-0.06489118914025865,-1.6708061688797646,-0.8107835190282477,-1.181205795352084,-0.813756681394152,0.12899794573478857,-0.3690930111001821,1.015706364161616,-1.5316143343754245,-0.5312137078010556,-0.9267416426601521,0.800610799926069,-1.3397198536182306,-0.39168708430114446],\"type\":\"histogram\"}],                        {\"barmode\":\"overlay\",\"legend\":{\"bgcolor\":\"#F5F6F9\",\"font\":{\"color\":\"#4D5663\"}},\"paper_bgcolor\":\"#F5F6F9\",\"plot_bgcolor\":\"#F5F6F9\",\"template\":{\"data\":{\"barpolar\":[{\"marker\":{\"line\":{\"color\":\"#E5ECF6\",\"width\":0.5},\"pattern\":{\"fillmode\":\"overlay\",\"size\":10,\"solidity\":0.2}},\"type\":\"barpolar\"}],\"bar\":[{\"error_x\":{\"color\":\"#2a3f5f\"},\"error_y\":{\"color\":\"#2a3f5f\"},\"marker\":{\"line\":{\"color\":\"#E5ECF6\",\"width\":0.5},\"pattern\":{\"fillmode\":\"overlay\",\"size\":10,\"solidity\":0.2}},\"type\":\"bar\"}],\"carpet\":[{\"aaxis\":{\"endlinecolor\":\"#2a3f5f\",\"gridcolor\":\"white\",\"linecolor\":\"white\",\"minorgridcolor\":\"white\",\"startlinecolor\":\"#2a3f5f\"},\"baxis\":{\"endlinecolor\":\"#2a3f5f\",\"gridcolor\":\"white\",\"linecolor\":\"white\",\"minorgridcolor\":\"white\",\"startlinecolor\":\"#2a3f5f\"},\"type\":\"carpet\"}],\"choropleth\":[{\"colorbar\":{\"outlinewidth\":0,\"ticks\":\"\"},\"type\":\"choropleth\"}],\"contourcarpet\":[{\"colorbar\":{\"outlinewidth\":0,\"ticks\":\"\"},\"type\":\"contourcarpet\"}],\"contour\":[{\"colorbar\":{\"outlinewidth\":0,\"ticks\":\"\"},\"colorscale\":[[0.0,\"#0d0887\"],[0.1111111111111111,\"#46039f\"],[0.2222222222222222,\"#7201a8\"],[0.3333333333333333,\"#9c179e\"],[0.4444444444444444,\"#bd3786\"],[0.5555555555555556,\"#d8576b\"],[0.6666666666666666,\"#ed7953\"],[0.7777777777777778,\"#fb9f3a\"],[0.8888888888888888,\"#fdca26\"],[1.0,\"#f0f921\"]],\"type\":\"contour\"}],\"heatmapgl\":[{\"colorbar\":{\"outlinewidth\":0,\"ticks\":\"\"},\"colorscale\":[[0.0,\"#0d0887\"],[0.1111111111111111,\"#46039f\"],[0.2222222222222222,\"#7201a8\"],[0.3333333333333333,\"#9c179e\"],[0.4444444444444444,\"#bd3786\"],[0.5555555555555556,\"#d8576b\"],[0.6666666666666666,\"#ed7953\"],[0.7777777777777778,\"#fb9f3a\"],[0.8888888888888888,\"#fdca26\"],[1.0,\"#f0f921\"]],\"type\":\"heatmapgl\"}],\"heatmap\":[{\"colorbar\":{\"outlinewidth\":0,\"ticks\":\"\"},\"colorscale\":[[0.0,\"#0d0887\"],[0.1111111111111111,\"#46039f\"],[0.2222222222222222,\"#7201a8\"],[0.3333333333333333,\"#9c179e\"],[0.4444444444444444,\"#bd3786\"],[0.5555555555555556,\"#d8576b\"],[0.6666666666666666,\"#ed7953\"],[0.7777777777777778,\"#fb9f3a\"],[0.8888888888888888,\"#fdca26\"],[1.0,\"#f0f921\"]],\"type\":\"heatmap\"}],\"histogram2dcontour\":[{\"colorbar\":{\"outlinewidth\":0,\"ticks\":\"\"},\"colorscale\":[[0.0,\"#0d0887\"],[0.1111111111111111,\"#46039f\"],[0.2222222222222222,\"#7201a8\"],[0.3333333333333333,\"#9c179e\"],[0.4444444444444444,\"#bd3786\"],[0.5555555555555556,\"#d8576b\"],[0.6666666666666666,\"#ed7953\"],[0.7777777777777778,\"#fb9f3a\"],[0.8888888888888888,\"#fdca26\"],[1.0,\"#f0f921\"]],\"type\":\"histogram2dcontour\"}],\"histogram2d\":[{\"colorbar\":{\"outlinewidth\":0,\"ticks\":\"\"},\"colorscale\":[[0.0,\"#0d0887\"],[0.1111111111111111,\"#46039f\"],[0.2222222222222222,\"#7201a8\"],[0.3333333333333333,\"#9c179e\"],[0.4444444444444444,\"#bd3786\"],[0.5555555555555556,\"#d8576b\"],[0.6666666666666666,\"#ed7953\"],[0.7777777777777778,\"#fb9f3a\"],[0.8888888888888888,\"#fdca26\"],[1.0,\"#f0f921\"]],\"type\":\"histogram2d\"}],\"histogram\":[{\"marker\":{\"pattern\":{\"fillmode\":\"overlay\",\"size\":10,\"solidity\":0.2}},\"type\":\"histogram\"}],\"mesh3d\":[{\"colorbar\":{\"outlinewidth\":0,\"ticks\":\"\"},\"type\":\"mesh3d\"}],\"parcoords\":[{\"line\":{\"colorbar\":{\"outlinewidth\":0,\"ticks\":\"\"}},\"type\":\"parcoords\"}],\"pie\":[{\"automargin\":true,\"type\":\"pie\"}],\"scatter3d\":[{\"line\":{\"colorbar\":{\"outlinewidth\":0,\"ticks\":\"\"}},\"marker\":{\"colorbar\":{\"outlinewidth\":0,\"ticks\":\"\"}},\"type\":\"scatter3d\"}],\"scattercarpet\":[{\"marker\":{\"colorbar\":{\"outlinewidth\":0,\"ticks\":\"\"}},\"type\":\"scattercarpet\"}],\"scattergeo\":[{\"marker\":{\"colorbar\":{\"outlinewidth\":0,\"ticks\":\"\"}},\"type\":\"scattergeo\"}],\"scattergl\":[{\"marker\":{\"colorbar\":{\"outlinewidth\":0,\"ticks\":\"\"}},\"type\":\"scattergl\"}],\"scattermapbox\":[{\"marker\":{\"colorbar\":{\"outlinewidth\":0,\"ticks\":\"\"}},\"type\":\"scattermapbox\"}],\"scatterpolargl\":[{\"marker\":{\"colorbar\":{\"outlinewidth\":0,\"ticks\":\"\"}},\"type\":\"scatterpolargl\"}],\"scatterpolar\":[{\"marker\":{\"colorbar\":{\"outlinewidth\":0,\"ticks\":\"\"}},\"type\":\"scatterpolar\"}],\"scatter\":[{\"fillpattern\":{\"fillmode\":\"overlay\",\"size\":10,\"solidity\":0.2},\"type\":\"scatter\"}],\"scatterternary\":[{\"marker\":{\"colorbar\":{\"outlinewidth\":0,\"ticks\":\"\"}},\"type\":\"scatterternary\"}],\"surface\":[{\"colorbar\":{\"outlinewidth\":0,\"ticks\":\"\"},\"colorscale\":[[0.0,\"#0d0887\"],[0.1111111111111111,\"#46039f\"],[0.2222222222222222,\"#7201a8\"],[0.3333333333333333,\"#9c179e\"],[0.4444444444444444,\"#bd3786\"],[0.5555555555555556,\"#d8576b\"],[0.6666666666666666,\"#ed7953\"],[0.7777777777777778,\"#fb9f3a\"],[0.8888888888888888,\"#fdca26\"],[1.0,\"#f0f921\"]],\"type\":\"surface\"}],\"table\":[{\"cells\":{\"fill\":{\"color\":\"#EBF0F8\"},\"line\":{\"color\":\"white\"}},\"header\":{\"fill\":{\"color\":\"#C8D4E3\"},\"line\":{\"color\":\"white\"}},\"type\":\"table\"}]},\"layout\":{\"annotationdefaults\":{\"arrowcolor\":\"#2a3f5f\",\"arrowhead\":0,\"arrowwidth\":1},\"autotypenumbers\":\"strict\",\"coloraxis\":{\"colorbar\":{\"outlinewidth\":0,\"ticks\":\"\"}},\"colorscale\":{\"diverging\":[[0,\"#8e0152\"],[0.1,\"#c51b7d\"],[0.2,\"#de77ae\"],[0.3,\"#f1b6da\"],[0.4,\"#fde0ef\"],[0.5,\"#f7f7f7\"],[0.6,\"#e6f5d0\"],[0.7,\"#b8e186\"],[0.8,\"#7fbc41\"],[0.9,\"#4d9221\"],[1,\"#276419\"]],\"sequential\":[[0.0,\"#0d0887\"],[0.1111111111111111,\"#46039f\"],[0.2222222222222222,\"#7201a8\"],[0.3333333333333333,\"#9c179e\"],[0.4444444444444444,\"#bd3786\"],[0.5555555555555556,\"#d8576b\"],[0.6666666666666666,\"#ed7953\"],[0.7777777777777778,\"#fb9f3a\"],[0.8888888888888888,\"#fdca26\"],[1.0,\"#f0f921\"]],\"sequentialminus\":[[0.0,\"#0d0887\"],[0.1111111111111111,\"#46039f\"],[0.2222222222222222,\"#7201a8\"],[0.3333333333333333,\"#9c179e\"],[0.4444444444444444,\"#bd3786\"],[0.5555555555555556,\"#d8576b\"],[0.6666666666666666,\"#ed7953\"],[0.7777777777777778,\"#fb9f3a\"],[0.8888888888888888,\"#fdca26\"],[1.0,\"#f0f921\"]]},\"colorway\":[\"#636efa\",\"#EF553B\",\"#00cc96\",\"#ab63fa\",\"#FFA15A\",\"#19d3f3\",\"#FF6692\",\"#B6E880\",\"#FF97FF\",\"#FECB52\"],\"font\":{\"color\":\"#2a3f5f\"},\"geo\":{\"bgcolor\":\"white\",\"lakecolor\":\"white\",\"landcolor\":\"#E5ECF6\",\"showlakes\":true,\"showland\":true,\"subunitcolor\":\"white\"},\"hoverlabel\":{\"align\":\"left\"},\"hovermode\":\"closest\",\"mapbox\":{\"style\":\"light\"},\"paper_bgcolor\":\"white\",\"plot_bgcolor\":\"#E5ECF6\",\"polar\":{\"angularaxis\":{\"gridcolor\":\"white\",\"linecolor\":\"white\",\"ticks\":\"\"},\"bgcolor\":\"#E5ECF6\",\"radialaxis\":{\"gridcolor\":\"white\",\"linecolor\":\"white\",\"ticks\":\"\"}},\"scene\":{\"xaxis\":{\"backgroundcolor\":\"#E5ECF6\",\"gridcolor\":\"white\",\"gridwidth\":2,\"linecolor\":\"white\",\"showbackground\":true,\"ticks\":\"\",\"zerolinecolor\":\"white\"},\"yaxis\":{\"backgroundcolor\":\"#E5ECF6\",\"gridcolor\":\"white\",\"gridwidth\":2,\"linecolor\":\"white\",\"showbackground\":true,\"ticks\":\"\",\"zerolinecolor\":\"white\"},\"zaxis\":{\"backgroundcolor\":\"#E5ECF6\",\"gridcolor\":\"white\",\"gridwidth\":2,\"linecolor\":\"white\",\"showbackground\":true,\"ticks\":\"\",\"zerolinecolor\":\"white\"}},\"shapedefaults\":{\"line\":{\"color\":\"#2a3f5f\"}},\"ternary\":{\"aaxis\":{\"gridcolor\":\"white\",\"linecolor\":\"white\",\"ticks\":\"\"},\"baxis\":{\"gridcolor\":\"white\",\"linecolor\":\"white\",\"ticks\":\"\"},\"bgcolor\":\"#E5ECF6\",\"caxis\":{\"gridcolor\":\"white\",\"linecolor\":\"white\",\"ticks\":\"\"}},\"title\":{\"x\":0.05},\"xaxis\":{\"automargin\":true,\"gridcolor\":\"white\",\"linecolor\":\"white\",\"ticks\":\"\",\"title\":{\"standoff\":15},\"zerolinecolor\":\"white\",\"zerolinewidth\":2},\"yaxis\":{\"automargin\":true,\"gridcolor\":\"white\",\"linecolor\":\"white\",\"ticks\":\"\",\"title\":{\"standoff\":15},\"zerolinecolor\":\"white\",\"zerolinewidth\":2}}},\"title\":{\"font\":{\"color\":\"#4D5663\"}},\"xaxis\":{\"gridcolor\":\"#E1E5ED\",\"showgrid\":true,\"tickfont\":{\"color\":\"#4D5663\"},\"title\":{\"font\":{\"color\":\"#4D5663\"},\"text\":\"\"},\"zerolinecolor\":\"#E1E5ED\"},\"yaxis\":{\"gridcolor\":\"#E1E5ED\",\"showgrid\":true,\"tickfont\":{\"color\":\"#4D5663\"},\"title\":{\"font\":{\"color\":\"#4D5663\"},\"text\":\"\"},\"zerolinecolor\":\"#E1E5ED\"}},                        {\"showLink\": true, \"linkText\": \"Export to plot.ly\", \"plotlyServerURL\": \"https://plot.ly\", \"responsive\": true}                    ).then(function(){\n",
       "                            \n",
       "var gd = document.getElementById('89279903-6b69-4d3c-959b-98a3842ff006');\n",
       "var x = new MutationObserver(function (mutations, observer) {{\n",
       "        var display = window.getComputedStyle(gd).display;\n",
       "        if (!display || display === 'none') {{\n",
       "            console.log([gd, 'removed!']);\n",
       "            Plotly.purge(gd);\n",
       "            observer.disconnect();\n",
       "        }}\n",
       "}});\n",
       "\n",
       "// Listen for the removal of the full notebook cells\n",
       "var notebookContainer = gd.closest('#notebook-container');\n",
       "if (notebookContainer) {{\n",
       "    x.observe(notebookContainer, {childList: true});\n",
       "}}\n",
       "\n",
       "// Listen for the clearing of the current output cell\n",
       "var outputEl = gd.closest('.output');\n",
       "if (outputEl) {{\n",
       "    x.observe(outputEl, {childList: true});\n",
       "}}\n",
       "\n",
       "                        })                };                });            </script>        </div>"
      ]
     },
     "metadata": {},
     "output_type": "display_data"
    }
   ],
   "source": [
    "df['A'].iplot(kind='hist',bins=20)"
   ]
  },
  {
   "cell_type": "code",
   "execution_count": 26,
   "metadata": {},
   "outputs": [
    {
     "data": {
      "application/vnd.plotly.v1+json": {
       "config": {
        "linkText": "Export to plot.ly",
        "plotlyServerURL": "https://plot.ly",
        "showLink": true
       },
       "data": [
        {
         "histfunc": "count",
         "histnorm": "",
         "marker": {
          "color": "rgba(255, 153, 51, 1.0)",
          "line": {
           "color": "#4D5663",
           "width": 1.3
          }
         },
         "name": "A",
         "opacity": 0.8,
         "orientation": "v",
         "type": "histogram",
         "x": [
          1.2379579215557721,
          -0.5005184725982377,
          -1.8230450427793612,
          0.06842502309955707,
          0.4254384314514911,
          1.1763052359239257,
          -0.11214271908475447,
          1.1059753615356682,
          0.22346118664892053,
          -3.0955008897822682,
          -1.4517744954104537,
          1.0800716683559,
          0.7541959355429521,
          -0.19781466988496854,
          0.8027711878115771,
          0.32235289207845674,
          -1.407064449126228,
          0.5813815157192956,
          -0.4203924036852652,
          0.5355956630247433,
          1.0206309013545645,
          0.7384385770882846,
          -0.2900868329082115,
          0.3829461322814965,
          0.4611215018331621,
          -1.3790825150179762,
          1.2819328381644517,
          -1.134352798171451,
          0.5205979181212208,
          1.3157399184969396,
          0.784109751385838,
          -0.2788739329905516,
          2.8096183045496717,
          -0.2308271549045375,
          1.3964084344569843,
          0.01831236818373684,
          0.827571000150851,
          -0.7590395468795416,
          -0.16238163174865078,
          0.2572099021763275,
          -0.1498663201241084,
          2.0530119786117687,
          -0.03723847683954049,
          0.41757657681991633,
          0.9672215524108312,
          1.964130099188044,
          -0.9148020760659852,
          -0.7067367751252867,
          -0.46258169228107315,
          0.6395101035312151,
          0.614656019091725,
          1.6970454877439154,
          0.09192463941462742,
          1.541224196386175,
          1.1495442914166665,
          1.4773844447931597,
          1.7621437230813883,
          0.46693142325967285,
          1.419824486490099,
          0.8120024374923902,
          -1.0954528503558223,
          0.0407775353196377,
          0.42850511111267753,
          1.9275505103817203,
          -1.3431683970134831,
          0.796264215695926,
          -1.9127758508775747,
          1.2854170397536104,
          -0.29109585036885166,
          0.7387637394372951,
          0.1864707079105069,
          -1.2500559744599842,
          1.2676856772130243,
          -0.16842033667773443,
          0.05579077525029771,
          -0.3262741971013337,
          0.023869859254569244,
          0.24314462754504315,
          -0.1535936724579839,
          1.0697246004611893,
          -0.9083408958560282,
          0.23825984450463622,
          0.6387576608046327,
          -0.5069686294885749,
          0.951703871558809,
          -0.5131593778854479,
          -0.06489118914025865,
          -1.6708061688797646,
          -0.8107835190282477,
          -1.181205795352084,
          -0.813756681394152,
          0.12899794573478857,
          -0.3690930111001821,
          1.015706364161616,
          -1.5316143343754245,
          -0.5312137078010556,
          -0.9267416426601521,
          0.800610799926069,
          -1.3397198536182306,
          -0.39168708430114446
         ]
        },
        {
         "histfunc": "count",
         "histnorm": "",
         "marker": {
          "color": "rgba(55, 128, 191, 1.0)",
          "line": {
           "color": "#4D5663",
           "width": 1.3
          }
         },
         "name": "B",
         "opacity": 0.8,
         "orientation": "v",
         "type": "histogram",
         "x": [
          0.02001560917781522,
          -1.0891731935032625,
          1.117115278451909,
          0.40002640297342607,
          0.6788225994148674,
          -1.0464508327499304,
          1.753186397555937,
          0.4553153584280742,
          1.9267772772513023,
          0.36761632757654483,
          0.3354221156945639,
          -1.3975971007794514,
          -0.8288799184866059,
          -1.4694617838267692,
          0.38071369841281305,
          0.5873705484639964,
          -1.3368556819937818,
          1.4991333888708165,
          0.5813807231497642,
          -0.5527128990216509,
          -0.09761952261295645,
          -0.28166161146952456,
          0.7142778405665612,
          0.6293793918294663,
          -2.123446302387997,
          -0.1383482546425122,
          0.0893175440277195,
          -1.3223609989772662,
          -1.4742353228376357,
          2.3557586879361794,
          0.6407860071334618,
          -1.6723162335483108,
          0.010739496078409847,
          -0.8404641217846549,
          -0.37170568055098224,
          1.8912657465336102,
          0.18598631691892653,
          -0.5051875454241069,
          0.20307885101154383,
          -0.1892760143690366,
          1.0627125177800432,
          0.00576008208656999,
          1.4018256061331034,
          0.21525579076981813,
          0.9108216767100435,
          -0.09179782052924047,
          -0.8190698523389677,
          0.5656749663533622,
          1.01457085362219,
          -1.3907851791904955,
          0.09853552198020779,
          1.7139266832774738,
          -0.34554016715977387,
          2.2656738435005725,
          0.48749200482362615,
          0.7508919362554308,
          -0.5490445283005263,
          1.353420063225845,
          -0.3316233300195538,
          0.6405398483347998,
          -0.2463538808502654,
          -0.7363662270746788,
          -0.680425364174238,
          0.05553101197713513,
          1.6033590272505436,
          0.10504078713367834,
          2.080793389318112,
          -0.24229773712897296,
          -1.0333677171102167,
          0.4132352687474129,
          -0.02609569212262343,
          0.4517671856431499,
          -0.844903742341376,
          -1.117027526113431,
          0.20431018641555201,
          0.1887560681516722,
          -0.8661853113814597,
          -1.3997834715565687,
          1.293875546610676,
          0.12507506231115692,
          1.4813260456365591,
          1.2799752422469581,
          -1.873280502909398,
          -1.1616794539335047,
          -0.7297439373845849,
          0.3172723549807555,
          0.02191631673027781,
          1.763692690956398,
          -0.8702349417220633,
          1.63676868925836,
          -0.6512863117971823,
          0.5600399577030546,
          1.234716383944129,
          -1.0610391550838316,
          -0.31963888274136043,
          2.159961437255129,
          0.5231537525093585,
          -0.6452848760271948,
          0.9483151450214008,
          0.3273184835628279
         ]
        },
        {
         "histfunc": "count",
         "histnorm": "",
         "marker": {
          "color": "rgba(50, 171, 96, 1.0)",
          "line": {
           "color": "#4D5663",
           "width": 1.3
          }
         },
         "name": "C",
         "opacity": 0.8,
         "orientation": "v",
         "type": "histogram",
         "x": [
          -0.3308678283499978,
          1.2102869885680758,
          0.16165666886283267,
          -0.05014626976914914,
          -1.7041310004861954,
          2.024235238513975,
          -0.09134465405958134,
          -1.6844924497820224,
          0.9163296026413046,
          2.0794659045860073,
          0.9924934578875237,
          0.5873707456348409,
          1.2905227319405057,
          0.46820678032260965,
          1.1206849052535683,
          1.341070631482998,
          -0.9920483075572034,
          -0.37702169423272214,
          0.46126090421413385,
          -0.4546029067221703,
          0.4026763795390725,
          -0.7561975897647178,
          0.14441673856184556,
          0.8211975728390191,
          0.6788870276756361,
          1.1182546437714418,
          0.9490176518954572,
          -1.154782531524615,
          0.38181427290559194,
          0.33793396035602163,
          -0.7751405834311564,
          -0.5529730769082326,
          0.05647916438691906,
          0.10192405603420507,
          -2.5162833330941545,
          -0.7951372011661051,
          -0.3646860211475907,
          0.40531580458811517,
          1.1926397744105726,
          -0.29028992462203845,
          1.3583231215828995,
          0.07781708033642254,
          2.0736040373947846,
          -0.8696821561479623,
          0.12043740731758966,
          -0.03629497239265656,
          0.3053570205331342,
          0.18029122773894382,
          0.13354900391709607,
          -0.17334299637084163,
          1.441867436897421,
          1.4636153646305592,
          0.26550864279774633,
          -0.7738813937949514,
          -1.2303692250124292,
          0.838200091267915,
          -0.38617909861518657,
          0.7352581128330348,
          -0.4019180535632065,
          0.20708486170988621,
          -0.7159667677135855,
          0.8368946666471312,
          -0.7160851600715328,
          0.6010705536057844,
          0.2030736188503543,
          0.5921507478620754,
          0.7574792167617637,
          0.4842234648942265,
          0.5773379515467608,
          1.670424691479897,
          0.9266799668186261,
          -1.403877587672895,
          1.2038809660012877,
          0.3452384281513092,
          0.44303880229347764,
          0.8719181744286881,
          -1.2329183855895733,
          0.9236240777143699,
          -0.24448714149810596,
          -1.0261859997751288,
          -0.21321537760757056,
          -1.5737984069401019,
          -0.18240254216565702,
          -0.6234118074730078,
          -1.4485033427600447,
          0.5503312905497174,
          -1.8692148240880035,
          0.2651111144391633,
          -0.4259951764634556,
          -0.8599050611922008,
          -0.14029638457586968,
          -1.3003551328791512,
          2.2322790534052537,
          -0.29450300839930077,
          -1.0470733402417887,
          -1.0307516059120065,
          0.21920184356692302,
          -0.42602690198949716,
          1.0245308766574683,
          -1.9089173419853969
         ]
        },
        {
         "histfunc": "count",
         "histnorm": "",
         "marker": {
          "color": "rgba(128, 0, 128, 1.0)",
          "line": {
           "color": "#4D5663",
           "width": 1.3
          }
         },
         "name": "D",
         "opacity": 0.8,
         "orientation": "v",
         "type": "histogram",
         "x": [
          -1.3310222068170523,
          -1.7096392690646527,
          -1.2912551841487887,
          -0.7020206211106352,
          -0.2875650554311028,
          0.19299137551135742,
          -0.3318021907267024,
          0.554407437903143,
          -1.6027514483438141,
          -0.5583374457996408,
          -1.1909155900979693,
          -0.16799969304505857,
          1.1076547382907063,
          -0.08899211740101358,
          -1.1449527400822357,
          1.6959826727319578,
          1.3670266110405185,
          -0.8405936593803466,
          -0.1929076216496946,
          0.8789932032389244,
          -0.4698205311769827,
          -0.398356752332882,
          1.0561635988235853,
          -0.3706603855536645,
          -0.277764072335064,
          -1.0785627100616377,
          -0.18152225999466887,
          0.5276844224501354,
          1.1561194606045417,
          1.1106954550163752,
          1.0627416146217996,
          -0.1260928931598106,
          -0.4598332651987356,
          0.6411437776042059,
          -1.041951477817779,
          0.6691217962214827,
          1.6296666424666046,
          -0.44574977222849377,
          -0.23281014979912887,
          -0.8639938660683446,
          0.27319588799445926,
          0.37558781089225113,
          -0.5534460166278362,
          -0.5364730092304173,
          0.9362697464962008,
          -0.37548380330025893,
          -0.6509652667464869,
          0.8970401589650328,
          -0.5009942063842345,
          -0.44467857541875516,
          0.09353221011102655,
          -0.11262393269507838,
          0.7625100864753245,
          2.3613592187384107,
          1.029644115872112,
          -0.2242940367590926,
          0.5824917337235999,
          -2.6652205073890047,
          0.012729101381596683,
          -0.22203396772971987,
          0.09131735780368261,
          1.6016833144812963,
          -0.5474491875501178,
          -0.21470432358028996,
          0.8304930555147175,
          0.08789297532799611,
          -0.7104857063861766,
          2.0978491190720696,
          0.4547763828312598,
          0.020660494156799884,
          0.9137750695744344,
          -0.2524765883552448,
          0.18743883654481444,
          -0.27695411625325256,
          1.0623044063581735,
          0.0847298230681404,
          -2.402239634495088,
          0.6097433415482213,
          1.0828561134806167,
          0.30931683484609324,
          0.1278116765466919,
          -0.784658364858415,
          -0.06854681415485908,
          0.24234831106758858,
          -0.317327955941285,
          -0.5732783164792783,
          -0.1794450666813971,
          0.5751584951505719,
          -1.5956776053935104,
          -1.3413271641328415,
          -0.411489813959892,
          0.037151516689043845,
          1.4482132720076988,
          0.06431614118783856,
          -1.3208101075105647,
          1.1178702087130916,
          -0.9365522791504914,
          -0.7876891468081865,
          2.0388487442797953,
          -0.950333941501925
         ]
        }
       ],
       "layout": {
        "barmode": "overlay",
        "legend": {
         "bgcolor": "#F5F6F9",
         "font": {
          "color": "#4D5663"
         }
        },
        "paper_bgcolor": "#F5F6F9",
        "plot_bgcolor": "#F5F6F9",
        "template": {
         "data": {
          "bar": [
           {
            "error_x": {
             "color": "#2a3f5f"
            },
            "error_y": {
             "color": "#2a3f5f"
            },
            "marker": {
             "line": {
              "color": "#E5ECF6",
              "width": 0.5
             },
             "pattern": {
              "fillmode": "overlay",
              "size": 10,
              "solidity": 0.2
             }
            },
            "type": "bar"
           }
          ],
          "barpolar": [
           {
            "marker": {
             "line": {
              "color": "#E5ECF6",
              "width": 0.5
             },
             "pattern": {
              "fillmode": "overlay",
              "size": 10,
              "solidity": 0.2
             }
            },
            "type": "barpolar"
           }
          ],
          "carpet": [
           {
            "aaxis": {
             "endlinecolor": "#2a3f5f",
             "gridcolor": "white",
             "linecolor": "white",
             "minorgridcolor": "white",
             "startlinecolor": "#2a3f5f"
            },
            "baxis": {
             "endlinecolor": "#2a3f5f",
             "gridcolor": "white",
             "linecolor": "white",
             "minorgridcolor": "white",
             "startlinecolor": "#2a3f5f"
            },
            "type": "carpet"
           }
          ],
          "choropleth": [
           {
            "colorbar": {
             "outlinewidth": 0,
             "ticks": ""
            },
            "type": "choropleth"
           }
          ],
          "contour": [
           {
            "colorbar": {
             "outlinewidth": 0,
             "ticks": ""
            },
            "colorscale": [
             [
              0,
              "#0d0887"
             ],
             [
              0.1111111111111111,
              "#46039f"
             ],
             [
              0.2222222222222222,
              "#7201a8"
             ],
             [
              0.3333333333333333,
              "#9c179e"
             ],
             [
              0.4444444444444444,
              "#bd3786"
             ],
             [
              0.5555555555555556,
              "#d8576b"
             ],
             [
              0.6666666666666666,
              "#ed7953"
             ],
             [
              0.7777777777777778,
              "#fb9f3a"
             ],
             [
              0.8888888888888888,
              "#fdca26"
             ],
             [
              1,
              "#f0f921"
             ]
            ],
            "type": "contour"
           }
          ],
          "contourcarpet": [
           {
            "colorbar": {
             "outlinewidth": 0,
             "ticks": ""
            },
            "type": "contourcarpet"
           }
          ],
          "heatmap": [
           {
            "colorbar": {
             "outlinewidth": 0,
             "ticks": ""
            },
            "colorscale": [
             [
              0,
              "#0d0887"
             ],
             [
              0.1111111111111111,
              "#46039f"
             ],
             [
              0.2222222222222222,
              "#7201a8"
             ],
             [
              0.3333333333333333,
              "#9c179e"
             ],
             [
              0.4444444444444444,
              "#bd3786"
             ],
             [
              0.5555555555555556,
              "#d8576b"
             ],
             [
              0.6666666666666666,
              "#ed7953"
             ],
             [
              0.7777777777777778,
              "#fb9f3a"
             ],
             [
              0.8888888888888888,
              "#fdca26"
             ],
             [
              1,
              "#f0f921"
             ]
            ],
            "type": "heatmap"
           }
          ],
          "heatmapgl": [
           {
            "colorbar": {
             "outlinewidth": 0,
             "ticks": ""
            },
            "colorscale": [
             [
              0,
              "#0d0887"
             ],
             [
              0.1111111111111111,
              "#46039f"
             ],
             [
              0.2222222222222222,
              "#7201a8"
             ],
             [
              0.3333333333333333,
              "#9c179e"
             ],
             [
              0.4444444444444444,
              "#bd3786"
             ],
             [
              0.5555555555555556,
              "#d8576b"
             ],
             [
              0.6666666666666666,
              "#ed7953"
             ],
             [
              0.7777777777777778,
              "#fb9f3a"
             ],
             [
              0.8888888888888888,
              "#fdca26"
             ],
             [
              1,
              "#f0f921"
             ]
            ],
            "type": "heatmapgl"
           }
          ],
          "histogram": [
           {
            "marker": {
             "pattern": {
              "fillmode": "overlay",
              "size": 10,
              "solidity": 0.2
             }
            },
            "type": "histogram"
           }
          ],
          "histogram2d": [
           {
            "colorbar": {
             "outlinewidth": 0,
             "ticks": ""
            },
            "colorscale": [
             [
              0,
              "#0d0887"
             ],
             [
              0.1111111111111111,
              "#46039f"
             ],
             [
              0.2222222222222222,
              "#7201a8"
             ],
             [
              0.3333333333333333,
              "#9c179e"
             ],
             [
              0.4444444444444444,
              "#bd3786"
             ],
             [
              0.5555555555555556,
              "#d8576b"
             ],
             [
              0.6666666666666666,
              "#ed7953"
             ],
             [
              0.7777777777777778,
              "#fb9f3a"
             ],
             [
              0.8888888888888888,
              "#fdca26"
             ],
             [
              1,
              "#f0f921"
             ]
            ],
            "type": "histogram2d"
           }
          ],
          "histogram2dcontour": [
           {
            "colorbar": {
             "outlinewidth": 0,
             "ticks": ""
            },
            "colorscale": [
             [
              0,
              "#0d0887"
             ],
             [
              0.1111111111111111,
              "#46039f"
             ],
             [
              0.2222222222222222,
              "#7201a8"
             ],
             [
              0.3333333333333333,
              "#9c179e"
             ],
             [
              0.4444444444444444,
              "#bd3786"
             ],
             [
              0.5555555555555556,
              "#d8576b"
             ],
             [
              0.6666666666666666,
              "#ed7953"
             ],
             [
              0.7777777777777778,
              "#fb9f3a"
             ],
             [
              0.8888888888888888,
              "#fdca26"
             ],
             [
              1,
              "#f0f921"
             ]
            ],
            "type": "histogram2dcontour"
           }
          ],
          "mesh3d": [
           {
            "colorbar": {
             "outlinewidth": 0,
             "ticks": ""
            },
            "type": "mesh3d"
           }
          ],
          "parcoords": [
           {
            "line": {
             "colorbar": {
              "outlinewidth": 0,
              "ticks": ""
             }
            },
            "type": "parcoords"
           }
          ],
          "pie": [
           {
            "automargin": true,
            "type": "pie"
           }
          ],
          "scatter": [
           {
            "fillpattern": {
             "fillmode": "overlay",
             "size": 10,
             "solidity": 0.2
            },
            "type": "scatter"
           }
          ],
          "scatter3d": [
           {
            "line": {
             "colorbar": {
              "outlinewidth": 0,
              "ticks": ""
             }
            },
            "marker": {
             "colorbar": {
              "outlinewidth": 0,
              "ticks": ""
             }
            },
            "type": "scatter3d"
           }
          ],
          "scattercarpet": [
           {
            "marker": {
             "colorbar": {
              "outlinewidth": 0,
              "ticks": ""
             }
            },
            "type": "scattercarpet"
           }
          ],
          "scattergeo": [
           {
            "marker": {
             "colorbar": {
              "outlinewidth": 0,
              "ticks": ""
             }
            },
            "type": "scattergeo"
           }
          ],
          "scattergl": [
           {
            "marker": {
             "colorbar": {
              "outlinewidth": 0,
              "ticks": ""
             }
            },
            "type": "scattergl"
           }
          ],
          "scattermapbox": [
           {
            "marker": {
             "colorbar": {
              "outlinewidth": 0,
              "ticks": ""
             }
            },
            "type": "scattermapbox"
           }
          ],
          "scatterpolar": [
           {
            "marker": {
             "colorbar": {
              "outlinewidth": 0,
              "ticks": ""
             }
            },
            "type": "scatterpolar"
           }
          ],
          "scatterpolargl": [
           {
            "marker": {
             "colorbar": {
              "outlinewidth": 0,
              "ticks": ""
             }
            },
            "type": "scatterpolargl"
           }
          ],
          "scatterternary": [
           {
            "marker": {
             "colorbar": {
              "outlinewidth": 0,
              "ticks": ""
             }
            },
            "type": "scatterternary"
           }
          ],
          "surface": [
           {
            "colorbar": {
             "outlinewidth": 0,
             "ticks": ""
            },
            "colorscale": [
             [
              0,
              "#0d0887"
             ],
             [
              0.1111111111111111,
              "#46039f"
             ],
             [
              0.2222222222222222,
              "#7201a8"
             ],
             [
              0.3333333333333333,
              "#9c179e"
             ],
             [
              0.4444444444444444,
              "#bd3786"
             ],
             [
              0.5555555555555556,
              "#d8576b"
             ],
             [
              0.6666666666666666,
              "#ed7953"
             ],
             [
              0.7777777777777778,
              "#fb9f3a"
             ],
             [
              0.8888888888888888,
              "#fdca26"
             ],
             [
              1,
              "#f0f921"
             ]
            ],
            "type": "surface"
           }
          ],
          "table": [
           {
            "cells": {
             "fill": {
              "color": "#EBF0F8"
             },
             "line": {
              "color": "white"
             }
            },
            "header": {
             "fill": {
              "color": "#C8D4E3"
             },
             "line": {
              "color": "white"
             }
            },
            "type": "table"
           }
          ]
         },
         "layout": {
          "annotationdefaults": {
           "arrowcolor": "#2a3f5f",
           "arrowhead": 0,
           "arrowwidth": 1
          },
          "autotypenumbers": "strict",
          "coloraxis": {
           "colorbar": {
            "outlinewidth": 0,
            "ticks": ""
           }
          },
          "colorscale": {
           "diverging": [
            [
             0,
             "#8e0152"
            ],
            [
             0.1,
             "#c51b7d"
            ],
            [
             0.2,
             "#de77ae"
            ],
            [
             0.3,
             "#f1b6da"
            ],
            [
             0.4,
             "#fde0ef"
            ],
            [
             0.5,
             "#f7f7f7"
            ],
            [
             0.6,
             "#e6f5d0"
            ],
            [
             0.7,
             "#b8e186"
            ],
            [
             0.8,
             "#7fbc41"
            ],
            [
             0.9,
             "#4d9221"
            ],
            [
             1,
             "#276419"
            ]
           ],
           "sequential": [
            [
             0,
             "#0d0887"
            ],
            [
             0.1111111111111111,
             "#46039f"
            ],
            [
             0.2222222222222222,
             "#7201a8"
            ],
            [
             0.3333333333333333,
             "#9c179e"
            ],
            [
             0.4444444444444444,
             "#bd3786"
            ],
            [
             0.5555555555555556,
             "#d8576b"
            ],
            [
             0.6666666666666666,
             "#ed7953"
            ],
            [
             0.7777777777777778,
             "#fb9f3a"
            ],
            [
             0.8888888888888888,
             "#fdca26"
            ],
            [
             1,
             "#f0f921"
            ]
           ],
           "sequentialminus": [
            [
             0,
             "#0d0887"
            ],
            [
             0.1111111111111111,
             "#46039f"
            ],
            [
             0.2222222222222222,
             "#7201a8"
            ],
            [
             0.3333333333333333,
             "#9c179e"
            ],
            [
             0.4444444444444444,
             "#bd3786"
            ],
            [
             0.5555555555555556,
             "#d8576b"
            ],
            [
             0.6666666666666666,
             "#ed7953"
            ],
            [
             0.7777777777777778,
             "#fb9f3a"
            ],
            [
             0.8888888888888888,
             "#fdca26"
            ],
            [
             1,
             "#f0f921"
            ]
           ]
          },
          "colorway": [
           "#636efa",
           "#EF553B",
           "#00cc96",
           "#ab63fa",
           "#FFA15A",
           "#19d3f3",
           "#FF6692",
           "#B6E880",
           "#FF97FF",
           "#FECB52"
          ],
          "font": {
           "color": "#2a3f5f"
          },
          "geo": {
           "bgcolor": "white",
           "lakecolor": "white",
           "landcolor": "#E5ECF6",
           "showlakes": true,
           "showland": true,
           "subunitcolor": "white"
          },
          "hoverlabel": {
           "align": "left"
          },
          "hovermode": "closest",
          "mapbox": {
           "style": "light"
          },
          "paper_bgcolor": "white",
          "plot_bgcolor": "#E5ECF6",
          "polar": {
           "angularaxis": {
            "gridcolor": "white",
            "linecolor": "white",
            "ticks": ""
           },
           "bgcolor": "#E5ECF6",
           "radialaxis": {
            "gridcolor": "white",
            "linecolor": "white",
            "ticks": ""
           }
          },
          "scene": {
           "xaxis": {
            "backgroundcolor": "#E5ECF6",
            "gridcolor": "white",
            "gridwidth": 2,
            "linecolor": "white",
            "showbackground": true,
            "ticks": "",
            "zerolinecolor": "white"
           },
           "yaxis": {
            "backgroundcolor": "#E5ECF6",
            "gridcolor": "white",
            "gridwidth": 2,
            "linecolor": "white",
            "showbackground": true,
            "ticks": "",
            "zerolinecolor": "white"
           },
           "zaxis": {
            "backgroundcolor": "#E5ECF6",
            "gridcolor": "white",
            "gridwidth": 2,
            "linecolor": "white",
            "showbackground": true,
            "ticks": "",
            "zerolinecolor": "white"
           }
          },
          "shapedefaults": {
           "line": {
            "color": "#2a3f5f"
           }
          },
          "ternary": {
           "aaxis": {
            "gridcolor": "white",
            "linecolor": "white",
            "ticks": ""
           },
           "baxis": {
            "gridcolor": "white",
            "linecolor": "white",
            "ticks": ""
           },
           "bgcolor": "#E5ECF6",
           "caxis": {
            "gridcolor": "white",
            "linecolor": "white",
            "ticks": ""
           }
          },
          "title": {
           "x": 0.05
          },
          "xaxis": {
           "automargin": true,
           "gridcolor": "white",
           "linecolor": "white",
           "ticks": "",
           "title": {
            "standoff": 15
           },
           "zerolinecolor": "white",
           "zerolinewidth": 2
          },
          "yaxis": {
           "automargin": true,
           "gridcolor": "white",
           "linecolor": "white",
           "ticks": "",
           "title": {
            "standoff": 15
           },
           "zerolinecolor": "white",
           "zerolinewidth": 2
          }
         }
        },
        "title": {
         "font": {
          "color": "#4D5663"
         }
        },
        "xaxis": {
         "gridcolor": "#E1E5ED",
         "showgrid": true,
         "tickfont": {
          "color": "#4D5663"
         },
         "title": {
          "font": {
           "color": "#4D5663"
          },
          "text": ""
         },
         "zerolinecolor": "#E1E5ED"
        },
        "yaxis": {
         "gridcolor": "#E1E5ED",
         "showgrid": true,
         "tickfont": {
          "color": "#4D5663"
         },
         "title": {
          "font": {
           "color": "#4D5663"
          },
          "text": ""
         },
         "zerolinecolor": "#E1E5ED"
        }
       }
      },
      "text/html": [
       "<div>                            <div id=\"c97ea0c5-17f1-4f41-b97e-e4eee2ce6491\" class=\"plotly-graph-div\" style=\"height:525px; width:100%;\"></div>            <script type=\"text/javascript\">                require([\"plotly\"], function(Plotly) {                    window.PLOTLYENV=window.PLOTLYENV || {};\n",
       "                    window.PLOTLYENV.BASE_URL='https://plot.ly';                                    if (document.getElementById(\"c97ea0c5-17f1-4f41-b97e-e4eee2ce6491\")) {                    Plotly.newPlot(                        \"c97ea0c5-17f1-4f41-b97e-e4eee2ce6491\",                        [{\"histfunc\":\"count\",\"histnorm\":\"\",\"marker\":{\"color\":\"rgba(255, 153, 51, 1.0)\",\"line\":{\"color\":\"#4D5663\",\"width\":1.3}},\"name\":\"A\",\"opacity\":0.8,\"orientation\":\"v\",\"x\":[1.2379579215557721,-0.5005184725982377,-1.8230450427793612,0.06842502309955707,0.4254384314514911,1.1763052359239257,-0.11214271908475447,1.1059753615356682,0.22346118664892053,-3.0955008897822682,-1.4517744954104537,1.0800716683559,0.7541959355429521,-0.19781466988496854,0.8027711878115771,0.32235289207845674,-1.407064449126228,0.5813815157192956,-0.4203924036852652,0.5355956630247433,1.0206309013545645,0.7384385770882846,-0.2900868329082115,0.3829461322814965,0.4611215018331621,-1.3790825150179762,1.2819328381644517,-1.134352798171451,0.5205979181212208,1.3157399184969396,0.784109751385838,-0.2788739329905516,2.8096183045496717,-0.2308271549045375,1.3964084344569843,0.01831236818373684,0.827571000150851,-0.7590395468795416,-0.16238163174865078,0.2572099021763275,-0.1498663201241084,2.0530119786117687,-0.03723847683954049,0.41757657681991633,0.9672215524108312,1.964130099188044,-0.9148020760659852,-0.7067367751252867,-0.46258169228107315,0.6395101035312151,0.614656019091725,1.6970454877439154,0.09192463941462742,1.541224196386175,1.1495442914166665,1.4773844447931597,1.7621437230813883,0.46693142325967285,1.419824486490099,0.8120024374923902,-1.0954528503558223,0.0407775353196377,0.42850511111267753,1.9275505103817203,-1.3431683970134831,0.796264215695926,-1.9127758508775747,1.2854170397536104,-0.29109585036885166,0.7387637394372951,0.1864707079105069,-1.2500559744599842,1.2676856772130243,-0.16842033667773443,0.05579077525029771,-0.3262741971013337,0.023869859254569244,0.24314462754504315,-0.1535936724579839,1.0697246004611893,-0.9083408958560282,0.23825984450463622,0.6387576608046327,-0.5069686294885749,0.951703871558809,-0.5131593778854479,-0.06489118914025865,-1.6708061688797646,-0.8107835190282477,-1.181205795352084,-0.813756681394152,0.12899794573478857,-0.3690930111001821,1.015706364161616,-1.5316143343754245,-0.5312137078010556,-0.9267416426601521,0.800610799926069,-1.3397198536182306,-0.39168708430114446],\"type\":\"histogram\"},{\"histfunc\":\"count\",\"histnorm\":\"\",\"marker\":{\"color\":\"rgba(55, 128, 191, 1.0)\",\"line\":{\"color\":\"#4D5663\",\"width\":1.3}},\"name\":\"B\",\"opacity\":0.8,\"orientation\":\"v\",\"x\":[0.02001560917781522,-1.0891731935032625,1.117115278451909,0.40002640297342607,0.6788225994148674,-1.0464508327499304,1.753186397555937,0.4553153584280742,1.9267772772513023,0.36761632757654483,0.3354221156945639,-1.3975971007794514,-0.8288799184866059,-1.4694617838267692,0.38071369841281305,0.5873705484639964,-1.3368556819937818,1.4991333888708165,0.5813807231497642,-0.5527128990216509,-0.09761952261295645,-0.28166161146952456,0.7142778405665612,0.6293793918294663,-2.123446302387997,-0.1383482546425122,0.0893175440277195,-1.3223609989772662,-1.4742353228376357,2.3557586879361794,0.6407860071334618,-1.6723162335483108,0.010739496078409847,-0.8404641217846549,-0.37170568055098224,1.8912657465336102,0.18598631691892653,-0.5051875454241069,0.20307885101154383,-0.1892760143690366,1.0627125177800432,0.00576008208656999,1.4018256061331034,0.21525579076981813,0.9108216767100435,-0.09179782052924047,-0.8190698523389677,0.5656749663533622,1.01457085362219,-1.3907851791904955,0.09853552198020779,1.7139266832774738,-0.34554016715977387,2.2656738435005725,0.48749200482362615,0.7508919362554308,-0.5490445283005263,1.353420063225845,-0.3316233300195538,0.6405398483347998,-0.2463538808502654,-0.7363662270746788,-0.680425364174238,0.05553101197713513,1.6033590272505436,0.10504078713367834,2.080793389318112,-0.24229773712897296,-1.0333677171102167,0.4132352687474129,-0.02609569212262343,0.4517671856431499,-0.844903742341376,-1.117027526113431,0.20431018641555201,0.1887560681516722,-0.8661853113814597,-1.3997834715565687,1.293875546610676,0.12507506231115692,1.4813260456365591,1.2799752422469581,-1.873280502909398,-1.1616794539335047,-0.7297439373845849,0.3172723549807555,0.02191631673027781,1.763692690956398,-0.8702349417220633,1.63676868925836,-0.6512863117971823,0.5600399577030546,1.234716383944129,-1.0610391550838316,-0.31963888274136043,2.159961437255129,0.5231537525093585,-0.6452848760271948,0.9483151450214008,0.3273184835628279],\"type\":\"histogram\"},{\"histfunc\":\"count\",\"histnorm\":\"\",\"marker\":{\"color\":\"rgba(50, 171, 96, 1.0)\",\"line\":{\"color\":\"#4D5663\",\"width\":1.3}},\"name\":\"C\",\"opacity\":0.8,\"orientation\":\"v\",\"x\":[-0.3308678283499978,1.2102869885680758,0.16165666886283267,-0.05014626976914914,-1.7041310004861954,2.024235238513975,-0.09134465405958134,-1.6844924497820224,0.9163296026413046,2.0794659045860073,0.9924934578875237,0.5873707456348409,1.2905227319405057,0.46820678032260965,1.1206849052535683,1.341070631482998,-0.9920483075572034,-0.37702169423272214,0.46126090421413385,-0.4546029067221703,0.4026763795390725,-0.7561975897647178,0.14441673856184556,0.8211975728390191,0.6788870276756361,1.1182546437714418,0.9490176518954572,-1.154782531524615,0.38181427290559194,0.33793396035602163,-0.7751405834311564,-0.5529730769082326,0.05647916438691906,0.10192405603420507,-2.5162833330941545,-0.7951372011661051,-0.3646860211475907,0.40531580458811517,1.1926397744105726,-0.29028992462203845,1.3583231215828995,0.07781708033642254,2.0736040373947846,-0.8696821561479623,0.12043740731758966,-0.03629497239265656,0.3053570205331342,0.18029122773894382,0.13354900391709607,-0.17334299637084163,1.441867436897421,1.4636153646305592,0.26550864279774633,-0.7738813937949514,-1.2303692250124292,0.838200091267915,-0.38617909861518657,0.7352581128330348,-0.4019180535632065,0.20708486170988621,-0.7159667677135855,0.8368946666471312,-0.7160851600715328,0.6010705536057844,0.2030736188503543,0.5921507478620754,0.7574792167617637,0.4842234648942265,0.5773379515467608,1.670424691479897,0.9266799668186261,-1.403877587672895,1.2038809660012877,0.3452384281513092,0.44303880229347764,0.8719181744286881,-1.2329183855895733,0.9236240777143699,-0.24448714149810596,-1.0261859997751288,-0.21321537760757056,-1.5737984069401019,-0.18240254216565702,-0.6234118074730078,-1.4485033427600447,0.5503312905497174,-1.8692148240880035,0.2651111144391633,-0.4259951764634556,-0.8599050611922008,-0.14029638457586968,-1.3003551328791512,2.2322790534052537,-0.29450300839930077,-1.0470733402417887,-1.0307516059120065,0.21920184356692302,-0.42602690198949716,1.0245308766574683,-1.9089173419853969],\"type\":\"histogram\"},{\"histfunc\":\"count\",\"histnorm\":\"\",\"marker\":{\"color\":\"rgba(128, 0, 128, 1.0)\",\"line\":{\"color\":\"#4D5663\",\"width\":1.3}},\"name\":\"D\",\"opacity\":0.8,\"orientation\":\"v\",\"x\":[-1.3310222068170523,-1.7096392690646527,-1.2912551841487887,-0.7020206211106352,-0.2875650554311028,0.19299137551135742,-0.3318021907267024,0.554407437903143,-1.6027514483438141,-0.5583374457996408,-1.1909155900979693,-0.16799969304505857,1.1076547382907063,-0.08899211740101358,-1.1449527400822357,1.6959826727319578,1.3670266110405185,-0.8405936593803466,-0.1929076216496946,0.8789932032389244,-0.4698205311769827,-0.398356752332882,1.0561635988235853,-0.3706603855536645,-0.277764072335064,-1.0785627100616377,-0.18152225999466887,0.5276844224501354,1.1561194606045417,1.1106954550163752,1.0627416146217996,-0.1260928931598106,-0.4598332651987356,0.6411437776042059,-1.041951477817779,0.6691217962214827,1.6296666424666046,-0.44574977222849377,-0.23281014979912887,-0.8639938660683446,0.27319588799445926,0.37558781089225113,-0.5534460166278362,-0.5364730092304173,0.9362697464962008,-0.37548380330025893,-0.6509652667464869,0.8970401589650328,-0.5009942063842345,-0.44467857541875516,0.09353221011102655,-0.11262393269507838,0.7625100864753245,2.3613592187384107,1.029644115872112,-0.2242940367590926,0.5824917337235999,-2.6652205073890047,0.012729101381596683,-0.22203396772971987,0.09131735780368261,1.6016833144812963,-0.5474491875501178,-0.21470432358028996,0.8304930555147175,0.08789297532799611,-0.7104857063861766,2.0978491190720696,0.4547763828312598,0.020660494156799884,0.9137750695744344,-0.2524765883552448,0.18743883654481444,-0.27695411625325256,1.0623044063581735,0.0847298230681404,-2.402239634495088,0.6097433415482213,1.0828561134806167,0.30931683484609324,0.1278116765466919,-0.784658364858415,-0.06854681415485908,0.24234831106758858,-0.317327955941285,-0.5732783164792783,-0.1794450666813971,0.5751584951505719,-1.5956776053935104,-1.3413271641328415,-0.411489813959892,0.037151516689043845,1.4482132720076988,0.06431614118783856,-1.3208101075105647,1.1178702087130916,-0.9365522791504914,-0.7876891468081865,2.0388487442797953,-0.950333941501925],\"type\":\"histogram\"}],                        {\"barmode\":\"overlay\",\"legend\":{\"bgcolor\":\"#F5F6F9\",\"font\":{\"color\":\"#4D5663\"}},\"paper_bgcolor\":\"#F5F6F9\",\"plot_bgcolor\":\"#F5F6F9\",\"template\":{\"data\":{\"barpolar\":[{\"marker\":{\"line\":{\"color\":\"#E5ECF6\",\"width\":0.5},\"pattern\":{\"fillmode\":\"overlay\",\"size\":10,\"solidity\":0.2}},\"type\":\"barpolar\"}],\"bar\":[{\"error_x\":{\"color\":\"#2a3f5f\"},\"error_y\":{\"color\":\"#2a3f5f\"},\"marker\":{\"line\":{\"color\":\"#E5ECF6\",\"width\":0.5},\"pattern\":{\"fillmode\":\"overlay\",\"size\":10,\"solidity\":0.2}},\"type\":\"bar\"}],\"carpet\":[{\"aaxis\":{\"endlinecolor\":\"#2a3f5f\",\"gridcolor\":\"white\",\"linecolor\":\"white\",\"minorgridcolor\":\"white\",\"startlinecolor\":\"#2a3f5f\"},\"baxis\":{\"endlinecolor\":\"#2a3f5f\",\"gridcolor\":\"white\",\"linecolor\":\"white\",\"minorgridcolor\":\"white\",\"startlinecolor\":\"#2a3f5f\"},\"type\":\"carpet\"}],\"choropleth\":[{\"colorbar\":{\"outlinewidth\":0,\"ticks\":\"\"},\"type\":\"choropleth\"}],\"contourcarpet\":[{\"colorbar\":{\"outlinewidth\":0,\"ticks\":\"\"},\"type\":\"contourcarpet\"}],\"contour\":[{\"colorbar\":{\"outlinewidth\":0,\"ticks\":\"\"},\"colorscale\":[[0.0,\"#0d0887\"],[0.1111111111111111,\"#46039f\"],[0.2222222222222222,\"#7201a8\"],[0.3333333333333333,\"#9c179e\"],[0.4444444444444444,\"#bd3786\"],[0.5555555555555556,\"#d8576b\"],[0.6666666666666666,\"#ed7953\"],[0.7777777777777778,\"#fb9f3a\"],[0.8888888888888888,\"#fdca26\"],[1.0,\"#f0f921\"]],\"type\":\"contour\"}],\"heatmapgl\":[{\"colorbar\":{\"outlinewidth\":0,\"ticks\":\"\"},\"colorscale\":[[0.0,\"#0d0887\"],[0.1111111111111111,\"#46039f\"],[0.2222222222222222,\"#7201a8\"],[0.3333333333333333,\"#9c179e\"],[0.4444444444444444,\"#bd3786\"],[0.5555555555555556,\"#d8576b\"],[0.6666666666666666,\"#ed7953\"],[0.7777777777777778,\"#fb9f3a\"],[0.8888888888888888,\"#fdca26\"],[1.0,\"#f0f921\"]],\"type\":\"heatmapgl\"}],\"heatmap\":[{\"colorbar\":{\"outlinewidth\":0,\"ticks\":\"\"},\"colorscale\":[[0.0,\"#0d0887\"],[0.1111111111111111,\"#46039f\"],[0.2222222222222222,\"#7201a8\"],[0.3333333333333333,\"#9c179e\"],[0.4444444444444444,\"#bd3786\"],[0.5555555555555556,\"#d8576b\"],[0.6666666666666666,\"#ed7953\"],[0.7777777777777778,\"#fb9f3a\"],[0.8888888888888888,\"#fdca26\"],[1.0,\"#f0f921\"]],\"type\":\"heatmap\"}],\"histogram2dcontour\":[{\"colorbar\":{\"outlinewidth\":0,\"ticks\":\"\"},\"colorscale\":[[0.0,\"#0d0887\"],[0.1111111111111111,\"#46039f\"],[0.2222222222222222,\"#7201a8\"],[0.3333333333333333,\"#9c179e\"],[0.4444444444444444,\"#bd3786\"],[0.5555555555555556,\"#d8576b\"],[0.6666666666666666,\"#ed7953\"],[0.7777777777777778,\"#fb9f3a\"],[0.8888888888888888,\"#fdca26\"],[1.0,\"#f0f921\"]],\"type\":\"histogram2dcontour\"}],\"histogram2d\":[{\"colorbar\":{\"outlinewidth\":0,\"ticks\":\"\"},\"colorscale\":[[0.0,\"#0d0887\"],[0.1111111111111111,\"#46039f\"],[0.2222222222222222,\"#7201a8\"],[0.3333333333333333,\"#9c179e\"],[0.4444444444444444,\"#bd3786\"],[0.5555555555555556,\"#d8576b\"],[0.6666666666666666,\"#ed7953\"],[0.7777777777777778,\"#fb9f3a\"],[0.8888888888888888,\"#fdca26\"],[1.0,\"#f0f921\"]],\"type\":\"histogram2d\"}],\"histogram\":[{\"marker\":{\"pattern\":{\"fillmode\":\"overlay\",\"size\":10,\"solidity\":0.2}},\"type\":\"histogram\"}],\"mesh3d\":[{\"colorbar\":{\"outlinewidth\":0,\"ticks\":\"\"},\"type\":\"mesh3d\"}],\"parcoords\":[{\"line\":{\"colorbar\":{\"outlinewidth\":0,\"ticks\":\"\"}},\"type\":\"parcoords\"}],\"pie\":[{\"automargin\":true,\"type\":\"pie\"}],\"scatter3d\":[{\"line\":{\"colorbar\":{\"outlinewidth\":0,\"ticks\":\"\"}},\"marker\":{\"colorbar\":{\"outlinewidth\":0,\"ticks\":\"\"}},\"type\":\"scatter3d\"}],\"scattercarpet\":[{\"marker\":{\"colorbar\":{\"outlinewidth\":0,\"ticks\":\"\"}},\"type\":\"scattercarpet\"}],\"scattergeo\":[{\"marker\":{\"colorbar\":{\"outlinewidth\":0,\"ticks\":\"\"}},\"type\":\"scattergeo\"}],\"scattergl\":[{\"marker\":{\"colorbar\":{\"outlinewidth\":0,\"ticks\":\"\"}},\"type\":\"scattergl\"}],\"scattermapbox\":[{\"marker\":{\"colorbar\":{\"outlinewidth\":0,\"ticks\":\"\"}},\"type\":\"scattermapbox\"}],\"scatterpolargl\":[{\"marker\":{\"colorbar\":{\"outlinewidth\":0,\"ticks\":\"\"}},\"type\":\"scatterpolargl\"}],\"scatterpolar\":[{\"marker\":{\"colorbar\":{\"outlinewidth\":0,\"ticks\":\"\"}},\"type\":\"scatterpolar\"}],\"scatter\":[{\"fillpattern\":{\"fillmode\":\"overlay\",\"size\":10,\"solidity\":0.2},\"type\":\"scatter\"}],\"scatterternary\":[{\"marker\":{\"colorbar\":{\"outlinewidth\":0,\"ticks\":\"\"}},\"type\":\"scatterternary\"}],\"surface\":[{\"colorbar\":{\"outlinewidth\":0,\"ticks\":\"\"},\"colorscale\":[[0.0,\"#0d0887\"],[0.1111111111111111,\"#46039f\"],[0.2222222222222222,\"#7201a8\"],[0.3333333333333333,\"#9c179e\"],[0.4444444444444444,\"#bd3786\"],[0.5555555555555556,\"#d8576b\"],[0.6666666666666666,\"#ed7953\"],[0.7777777777777778,\"#fb9f3a\"],[0.8888888888888888,\"#fdca26\"],[1.0,\"#f0f921\"]],\"type\":\"surface\"}],\"table\":[{\"cells\":{\"fill\":{\"color\":\"#EBF0F8\"},\"line\":{\"color\":\"white\"}},\"header\":{\"fill\":{\"color\":\"#C8D4E3\"},\"line\":{\"color\":\"white\"}},\"type\":\"table\"}]},\"layout\":{\"annotationdefaults\":{\"arrowcolor\":\"#2a3f5f\",\"arrowhead\":0,\"arrowwidth\":1},\"autotypenumbers\":\"strict\",\"coloraxis\":{\"colorbar\":{\"outlinewidth\":0,\"ticks\":\"\"}},\"colorscale\":{\"diverging\":[[0,\"#8e0152\"],[0.1,\"#c51b7d\"],[0.2,\"#de77ae\"],[0.3,\"#f1b6da\"],[0.4,\"#fde0ef\"],[0.5,\"#f7f7f7\"],[0.6,\"#e6f5d0\"],[0.7,\"#b8e186\"],[0.8,\"#7fbc41\"],[0.9,\"#4d9221\"],[1,\"#276419\"]],\"sequential\":[[0.0,\"#0d0887\"],[0.1111111111111111,\"#46039f\"],[0.2222222222222222,\"#7201a8\"],[0.3333333333333333,\"#9c179e\"],[0.4444444444444444,\"#bd3786\"],[0.5555555555555556,\"#d8576b\"],[0.6666666666666666,\"#ed7953\"],[0.7777777777777778,\"#fb9f3a\"],[0.8888888888888888,\"#fdca26\"],[1.0,\"#f0f921\"]],\"sequentialminus\":[[0.0,\"#0d0887\"],[0.1111111111111111,\"#46039f\"],[0.2222222222222222,\"#7201a8\"],[0.3333333333333333,\"#9c179e\"],[0.4444444444444444,\"#bd3786\"],[0.5555555555555556,\"#d8576b\"],[0.6666666666666666,\"#ed7953\"],[0.7777777777777778,\"#fb9f3a\"],[0.8888888888888888,\"#fdca26\"],[1.0,\"#f0f921\"]]},\"colorway\":[\"#636efa\",\"#EF553B\",\"#00cc96\",\"#ab63fa\",\"#FFA15A\",\"#19d3f3\",\"#FF6692\",\"#B6E880\",\"#FF97FF\",\"#FECB52\"],\"font\":{\"color\":\"#2a3f5f\"},\"geo\":{\"bgcolor\":\"white\",\"lakecolor\":\"white\",\"landcolor\":\"#E5ECF6\",\"showlakes\":true,\"showland\":true,\"subunitcolor\":\"white\"},\"hoverlabel\":{\"align\":\"left\"},\"hovermode\":\"closest\",\"mapbox\":{\"style\":\"light\"},\"paper_bgcolor\":\"white\",\"plot_bgcolor\":\"#E5ECF6\",\"polar\":{\"angularaxis\":{\"gridcolor\":\"white\",\"linecolor\":\"white\",\"ticks\":\"\"},\"bgcolor\":\"#E5ECF6\",\"radialaxis\":{\"gridcolor\":\"white\",\"linecolor\":\"white\",\"ticks\":\"\"}},\"scene\":{\"xaxis\":{\"backgroundcolor\":\"#E5ECF6\",\"gridcolor\":\"white\",\"gridwidth\":2,\"linecolor\":\"white\",\"showbackground\":true,\"ticks\":\"\",\"zerolinecolor\":\"white\"},\"yaxis\":{\"backgroundcolor\":\"#E5ECF6\",\"gridcolor\":\"white\",\"gridwidth\":2,\"linecolor\":\"white\",\"showbackground\":true,\"ticks\":\"\",\"zerolinecolor\":\"white\"},\"zaxis\":{\"backgroundcolor\":\"#E5ECF6\",\"gridcolor\":\"white\",\"gridwidth\":2,\"linecolor\":\"white\",\"showbackground\":true,\"ticks\":\"\",\"zerolinecolor\":\"white\"}},\"shapedefaults\":{\"line\":{\"color\":\"#2a3f5f\"}},\"ternary\":{\"aaxis\":{\"gridcolor\":\"white\",\"linecolor\":\"white\",\"ticks\":\"\"},\"baxis\":{\"gridcolor\":\"white\",\"linecolor\":\"white\",\"ticks\":\"\"},\"bgcolor\":\"#E5ECF6\",\"caxis\":{\"gridcolor\":\"white\",\"linecolor\":\"white\",\"ticks\":\"\"}},\"title\":{\"x\":0.05},\"xaxis\":{\"automargin\":true,\"gridcolor\":\"white\",\"linecolor\":\"white\",\"ticks\":\"\",\"title\":{\"standoff\":15},\"zerolinecolor\":\"white\",\"zerolinewidth\":2},\"yaxis\":{\"automargin\":true,\"gridcolor\":\"white\",\"linecolor\":\"white\",\"ticks\":\"\",\"title\":{\"standoff\":15},\"zerolinecolor\":\"white\",\"zerolinewidth\":2}}},\"title\":{\"font\":{\"color\":\"#4D5663\"}},\"xaxis\":{\"gridcolor\":\"#E1E5ED\",\"showgrid\":true,\"tickfont\":{\"color\":\"#4D5663\"},\"title\":{\"font\":{\"color\":\"#4D5663\"},\"text\":\"\"},\"zerolinecolor\":\"#E1E5ED\"},\"yaxis\":{\"gridcolor\":\"#E1E5ED\",\"showgrid\":true,\"tickfont\":{\"color\":\"#4D5663\"},\"title\":{\"font\":{\"color\":\"#4D5663\"},\"text\":\"\"},\"zerolinecolor\":\"#E1E5ED\"}},                        {\"showLink\": true, \"linkText\": \"Export to plot.ly\", \"plotlyServerURL\": \"https://plot.ly\", \"responsive\": true}                    ).then(function(){\n",
       "                            \n",
       "var gd = document.getElementById('c97ea0c5-17f1-4f41-b97e-e4eee2ce6491');\n",
       "var x = new MutationObserver(function (mutations, observer) {{\n",
       "        var display = window.getComputedStyle(gd).display;\n",
       "        if (!display || display === 'none') {{\n",
       "            console.log([gd, 'removed!']);\n",
       "            Plotly.purge(gd);\n",
       "            observer.disconnect();\n",
       "        }}\n",
       "}});\n",
       "\n",
       "// Listen for the removal of the full notebook cells\n",
       "var notebookContainer = gd.closest('#notebook-container');\n",
       "if (notebookContainer) {{\n",
       "    x.observe(notebookContainer, {childList: true});\n",
       "}}\n",
       "\n",
       "// Listen for the clearing of the current output cell\n",
       "var outputEl = gd.closest('.output');\n",
       "if (outputEl) {{\n",
       "    x.observe(outputEl, {childList: true});\n",
       "}}\n",
       "\n",
       "                        })                };                });            </script>        </div>"
      ]
     },
     "metadata": {},
     "output_type": "display_data"
    }
   ],
   "source": [
    "df.iplot(kind='hist')"
   ]
  },
  {
   "cell_type": "code",
   "execution_count": 27,
   "metadata": {},
   "outputs": [
    {
     "name": "stderr",
     "output_type": "stream",
     "text": [
      "/Users/ammoa380/.pyenv/versions/3.7.16/lib/python3.7/site-packages/cufflinks/plotlytools.py:849: FutureWarning:\n",
      "\n",
      "The pandas.np module is deprecated and will be removed from pandas in a future version. Import numpy directly instead\n",
      "\n",
      "/Users/ammoa380/.pyenv/versions/3.7.16/lib/python3.7/site-packages/cufflinks/plotlytools.py:850: FutureWarning:\n",
      "\n",
      "The pandas.np module is deprecated and will be removed from pandas in a future version. Import numpy directly instead\n",
      "\n"
     ]
    },
    {
     "data": {
      "application/vnd.plotly.v1+json": {
       "config": {
        "linkText": "Export to plot.ly",
        "plotlyServerURL": "https://plot.ly",
        "showLink": true
       },
       "data": [
        {
         "line": {
          "color": "rgba(255, 153, 51, 1.0)",
          "dash": "solid",
          "shape": "linear",
          "width": 1.3
         },
         "mode": "lines",
         "name": "A",
         "text": "",
         "type": "scatter",
         "x": [
          0,
          1,
          2,
          3,
          4,
          5,
          6,
          7,
          8,
          9,
          10,
          11,
          12,
          13,
          14,
          15,
          16,
          17,
          18,
          19,
          20,
          21,
          22,
          23,
          24,
          25,
          26,
          27,
          28,
          29,
          30,
          31,
          32,
          33,
          34,
          35,
          36,
          37,
          38,
          39,
          40,
          41,
          42,
          43,
          44,
          45,
          46,
          47,
          48,
          49,
          50,
          51,
          52,
          53,
          54,
          55,
          56,
          57,
          58,
          59,
          60,
          61,
          62,
          63,
          64,
          65,
          66,
          67,
          68,
          69,
          70,
          71,
          72,
          73,
          74,
          75,
          76,
          77,
          78,
          79,
          80,
          81,
          82,
          83,
          84,
          85,
          86,
          87,
          88,
          89,
          90,
          91,
          92,
          93,
          94,
          95,
          96,
          97,
          98,
          99
         ],
         "y": [
          1.2379579215557721,
          -0.5005184725982377,
          -1.8230450427793612,
          0.06842502309955707,
          0.4254384314514911,
          1.1763052359239257,
          -0.11214271908475447,
          1.1059753615356682,
          0.22346118664892053,
          -3.0955008897822682,
          -1.4517744954104537,
          1.0800716683559,
          0.7541959355429521,
          -0.19781466988496854,
          0.8027711878115771,
          0.32235289207845674,
          -1.407064449126228,
          0.5813815157192956,
          -0.4203924036852652,
          0.5355956630247433,
          1.0206309013545645,
          0.7384385770882846,
          -0.2900868329082115,
          0.3829461322814965,
          0.4611215018331621,
          -1.3790825150179762,
          1.2819328381644517,
          -1.134352798171451,
          0.5205979181212208,
          1.3157399184969396,
          0.784109751385838,
          -0.2788739329905516,
          2.8096183045496717,
          -0.2308271549045375,
          1.3964084344569843,
          0.01831236818373684,
          0.827571000150851,
          -0.7590395468795416,
          -0.16238163174865078,
          0.2572099021763275,
          -0.1498663201241084,
          2.0530119786117687,
          -0.03723847683954049,
          0.41757657681991633,
          0.9672215524108312,
          1.964130099188044,
          -0.9148020760659852,
          -0.7067367751252867,
          -0.46258169228107315,
          0.6395101035312151,
          0.614656019091725,
          1.6970454877439154,
          0.09192463941462742,
          1.541224196386175,
          1.1495442914166665,
          1.4773844447931597,
          1.7621437230813883,
          0.46693142325967285,
          1.419824486490099,
          0.8120024374923902,
          -1.0954528503558223,
          0.0407775353196377,
          0.42850511111267753,
          1.9275505103817203,
          -1.3431683970134831,
          0.796264215695926,
          -1.9127758508775747,
          1.2854170397536104,
          -0.29109585036885166,
          0.7387637394372951,
          0.1864707079105069,
          -1.2500559744599842,
          1.2676856772130243,
          -0.16842033667773443,
          0.05579077525029771,
          -0.3262741971013337,
          0.023869859254569244,
          0.24314462754504315,
          -0.1535936724579839,
          1.0697246004611893,
          -0.9083408958560282,
          0.23825984450463622,
          0.6387576608046327,
          -0.5069686294885749,
          0.951703871558809,
          -0.5131593778854479,
          -0.06489118914025865,
          -1.6708061688797646,
          -0.8107835190282477,
          -1.181205795352084,
          -0.813756681394152,
          0.12899794573478857,
          -0.3690930111001821,
          1.015706364161616,
          -1.5316143343754245,
          -0.5312137078010556,
          -0.9267416426601521,
          0.800610799926069,
          -1.3397198536182306,
          -0.39168708430114446
         ]
        },
        {
         "line": {
          "color": "rgba(55, 128, 191, 1.0)",
          "dash": "solid",
          "shape": "linear",
          "width": 1.3
         },
         "mode": "lines",
         "name": "B",
         "text": "",
         "type": "scatter",
         "x": [
          0,
          1,
          2,
          3,
          4,
          5,
          6,
          7,
          8,
          9,
          10,
          11,
          12,
          13,
          14,
          15,
          16,
          17,
          18,
          19,
          20,
          21,
          22,
          23,
          24,
          25,
          26,
          27,
          28,
          29,
          30,
          31,
          32,
          33,
          34,
          35,
          36,
          37,
          38,
          39,
          40,
          41,
          42,
          43,
          44,
          45,
          46,
          47,
          48,
          49,
          50,
          51,
          52,
          53,
          54,
          55,
          56,
          57,
          58,
          59,
          60,
          61,
          62,
          63,
          64,
          65,
          66,
          67,
          68,
          69,
          70,
          71,
          72,
          73,
          74,
          75,
          76,
          77,
          78,
          79,
          80,
          81,
          82,
          83,
          84,
          85,
          86,
          87,
          88,
          89,
          90,
          91,
          92,
          93,
          94,
          95,
          96,
          97,
          98,
          99
         ],
         "y": [
          0.02001560917781522,
          -1.0891731935032625,
          1.117115278451909,
          0.40002640297342607,
          0.6788225994148674,
          -1.0464508327499304,
          1.753186397555937,
          0.4553153584280742,
          1.9267772772513023,
          0.36761632757654483,
          0.3354221156945639,
          -1.3975971007794514,
          -0.8288799184866059,
          -1.4694617838267692,
          0.38071369841281305,
          0.5873705484639964,
          -1.3368556819937818,
          1.4991333888708165,
          0.5813807231497642,
          -0.5527128990216509,
          -0.09761952261295645,
          -0.28166161146952456,
          0.7142778405665612,
          0.6293793918294663,
          -2.123446302387997,
          -0.1383482546425122,
          0.0893175440277195,
          -1.3223609989772662,
          -1.4742353228376357,
          2.3557586879361794,
          0.6407860071334618,
          -1.6723162335483108,
          0.010739496078409847,
          -0.8404641217846549,
          -0.37170568055098224,
          1.8912657465336102,
          0.18598631691892653,
          -0.5051875454241069,
          0.20307885101154383,
          -0.1892760143690366,
          1.0627125177800432,
          0.00576008208656999,
          1.4018256061331034,
          0.21525579076981813,
          0.9108216767100435,
          -0.09179782052924047,
          -0.8190698523389677,
          0.5656749663533622,
          1.01457085362219,
          -1.3907851791904955,
          0.09853552198020779,
          1.7139266832774738,
          -0.34554016715977387,
          2.2656738435005725,
          0.48749200482362615,
          0.7508919362554308,
          -0.5490445283005263,
          1.353420063225845,
          -0.3316233300195538,
          0.6405398483347998,
          -0.2463538808502654,
          -0.7363662270746788,
          -0.680425364174238,
          0.05553101197713513,
          1.6033590272505436,
          0.10504078713367834,
          2.080793389318112,
          -0.24229773712897296,
          -1.0333677171102167,
          0.4132352687474129,
          -0.02609569212262343,
          0.4517671856431499,
          -0.844903742341376,
          -1.117027526113431,
          0.20431018641555201,
          0.1887560681516722,
          -0.8661853113814597,
          -1.3997834715565687,
          1.293875546610676,
          0.12507506231115692,
          1.4813260456365591,
          1.2799752422469581,
          -1.873280502909398,
          -1.1616794539335047,
          -0.7297439373845849,
          0.3172723549807555,
          0.02191631673027781,
          1.763692690956398,
          -0.8702349417220633,
          1.63676868925836,
          -0.6512863117971823,
          0.5600399577030546,
          1.234716383944129,
          -1.0610391550838316,
          -0.31963888274136043,
          2.159961437255129,
          0.5231537525093585,
          -0.6452848760271948,
          0.9483151450214008,
          0.3273184835628279
         ]
        },
        {
         "connectgaps": false,
         "fill": "tozeroy",
         "line": {
          "color": "green",
          "dash": "solid",
          "shape": "linear",
          "width": 0.5
         },
         "mode": "lines",
         "name": "Spread",
         "showlegend": false,
         "type": "scatter",
         "x": [
          0,
          1,
          2,
          3,
          4,
          5,
          6,
          7,
          8,
          9,
          10,
          11,
          12,
          13,
          14,
          15,
          16,
          17,
          18,
          19,
          20,
          21,
          22,
          23,
          24,
          25,
          26,
          27,
          28,
          29,
          30,
          31,
          32,
          33,
          34,
          35,
          36,
          37,
          38,
          39,
          40,
          41,
          42,
          43,
          44,
          45,
          46,
          47,
          48,
          49,
          50,
          51,
          52,
          53,
          54,
          55,
          56,
          57,
          58,
          59,
          60,
          61,
          62,
          63,
          64,
          65,
          66,
          67,
          68,
          69,
          70,
          71,
          72,
          73,
          74,
          75,
          76,
          77,
          78,
          79,
          80,
          81,
          82,
          83,
          84,
          85,
          86,
          87,
          88,
          89,
          90,
          91,
          92,
          93,
          94,
          95,
          96,
          97,
          98,
          99
         ],
         "xaxis": "x2",
         "y": [
          1.217942312377957,
          0.5886547209050248,
          "",
          "",
          "",
          2.2227560686738563,
          "",
          0.650660003107594,
          "",
          "",
          "",
          2.4776687691353514,
          1.583075854029558,
          1.2716471139418006,
          0.42205748939876403,
          "",
          "",
          "",
          "",
          1.0883085620463941,
          1.1182504239675208,
          1.0201001885578092,
          "",
          "",
          2.584567804221159,
          "",
          1.1926152941367323,
          0.18800820080581526,
          1.9948332409588565,
          "",
          0.14332374425237626,
          1.3934423005577592,
          2.7988788084712617,
          0.6096369668801174,
          1.7681141150079664,
          "",
          0.6415846832319245,
          "",
          "",
          0.44648591654536407,
          "",
          2.0472518965251987,
          "",
          0.2023207860500982,
          0.05639987570078764,
          2.0559279197172846,
          "",
          "",
          "",
          2.0302952827217107,
          0.5161204971115172,
          "",
          0.4374648065744013,
          "",
          0.6620522865930403,
          0.7264925085377288,
          2.311188251381915,
          "",
          1.751447816509653,
          0.17146258915759038,
          "",
          0.7771437623943165,
          1.1089304752869156,
          1.8720194984045853,
          "",
          0.6912234285622476,
          "",
          1.5277147768825834,
          0.742271866741365,
          0.3255284706898822,
          0.21256640003313032,
          "",
          2.1125894195544004,
          0.9486071894356967,
          "",
          "",
          0.8900551706360289,
          1.6429280991016117,
          "",
          0.9446495381500324,
          "",
          "",
          2.5120381637140308,
          0.6547108244449298,
          1.681447808943394,
          "",
          "",
          "",
          0.05945142269381554,
          "",
          "",
          "",
          "",
          2.0767455192454474,
          "",
          "",
          "",
          1.4458956759532637,
          "",
          ""
         ],
         "yaxis": "y2"
        },
        {
         "connectgaps": false,
         "fill": "tozeroy",
         "line": {
          "color": "red",
          "dash": "solid",
          "shape": "linear",
          "width": 0.5
         },
         "mode": "lines",
         "name": "Spread",
         "showlegend": false,
         "type": "scatter",
         "x": [
          0,
          1,
          2,
          3,
          4,
          5,
          6,
          7,
          8,
          9,
          10,
          11,
          12,
          13,
          14,
          15,
          16,
          17,
          18,
          19,
          20,
          21,
          22,
          23,
          24,
          25,
          26,
          27,
          28,
          29,
          30,
          31,
          32,
          33,
          34,
          35,
          36,
          37,
          38,
          39,
          40,
          41,
          42,
          43,
          44,
          45,
          46,
          47,
          48,
          49,
          50,
          51,
          52,
          53,
          54,
          55,
          56,
          57,
          58,
          59,
          60,
          61,
          62,
          63,
          64,
          65,
          66,
          67,
          68,
          69,
          70,
          71,
          72,
          73,
          74,
          75,
          76,
          77,
          78,
          79,
          80,
          81,
          82,
          83,
          84,
          85,
          86,
          87,
          88,
          89,
          90,
          91,
          92,
          93,
          94,
          95,
          96,
          97,
          98,
          99
         ],
         "xaxis": "x2",
         "y": [
          "",
          "",
          -2.94016032123127,
          -0.331601379873869,
          -0.25338416796337637,
          "",
          -1.8653291166406913,
          "",
          -1.7033160906023819,
          -3.463117217358813,
          -1.7871966111050175,
          "",
          "",
          "",
          "",
          -0.26501765638553965,
          -0.07020876713244628,
          -0.9177518731515208,
          -1.0017731268350294,
          "",
          "",
          "",
          -1.0043646734747727,
          -0.24643325954796985,
          "",
          -1.240734260375464,
          "",
          "",
          "",
          -1.0400187694392398,
          "",
          "",
          "",
          "",
          "",
          -1.8729533783498733,
          "",
          -0.25385200145543463,
          -0.3654604827601946,
          "",
          -1.2125788379041516,
          "",
          -1.4390640829726438,
          "",
          "",
          "",
          -0.0957322237270175,
          -1.2724117414786489,
          -1.4771525459032633,
          "",
          "",
          -0.01688119553355838,
          "",
          -0.7244496471143975,
          "",
          "",
          "",
          -0.8864886399661722,
          "",
          "",
          -0.8490989695055569,
          "",
          "",
          "",
          -2.9465274242640267,
          "",
          -3.9935692401956864,
          "",
          "",
          "",
          "",
          -1.701823160103134,
          "",
          "",
          -0.1485194111652543,
          -0.5150302652530059,
          "",
          "",
          -1.4474692190686598,
          "",
          -2.389666941492587,
          -1.041715397742322,
          "",
          "",
          "",
          -0.8304317328662034,
          -0.08680750587053646,
          -3.4344988598361628,
          "",
          -2.8179744846104438,
          -0.1624703695969697,
          -0.431042011968266,
          -1.603809395044311,
          "",
          -1.2119754516340642,
          -2.6911751450561847,
          -1.4498953951695106,
          "",
          -2.2880349986396316,
          -0.7190055678639724
         ],
         "yaxis": "y2"
        }
       ],
       "layout": {
        "hovermode": "x",
        "legend": {
         "bgcolor": "#F5F6F9",
         "font": {
          "color": "#4D5663"
         }
        },
        "paper_bgcolor": "#F5F6F9",
        "plot_bgcolor": "#F5F6F9",
        "template": {
         "data": {
          "bar": [
           {
            "error_x": {
             "color": "#2a3f5f"
            },
            "error_y": {
             "color": "#2a3f5f"
            },
            "marker": {
             "line": {
              "color": "#E5ECF6",
              "width": 0.5
             },
             "pattern": {
              "fillmode": "overlay",
              "size": 10,
              "solidity": 0.2
             }
            },
            "type": "bar"
           }
          ],
          "barpolar": [
           {
            "marker": {
             "line": {
              "color": "#E5ECF6",
              "width": 0.5
             },
             "pattern": {
              "fillmode": "overlay",
              "size": 10,
              "solidity": 0.2
             }
            },
            "type": "barpolar"
           }
          ],
          "carpet": [
           {
            "aaxis": {
             "endlinecolor": "#2a3f5f",
             "gridcolor": "white",
             "linecolor": "white",
             "minorgridcolor": "white",
             "startlinecolor": "#2a3f5f"
            },
            "baxis": {
             "endlinecolor": "#2a3f5f",
             "gridcolor": "white",
             "linecolor": "white",
             "minorgridcolor": "white",
             "startlinecolor": "#2a3f5f"
            },
            "type": "carpet"
           }
          ],
          "choropleth": [
           {
            "colorbar": {
             "outlinewidth": 0,
             "ticks": ""
            },
            "type": "choropleth"
           }
          ],
          "contour": [
           {
            "colorbar": {
             "outlinewidth": 0,
             "ticks": ""
            },
            "colorscale": [
             [
              0,
              "#0d0887"
             ],
             [
              0.1111111111111111,
              "#46039f"
             ],
             [
              0.2222222222222222,
              "#7201a8"
             ],
             [
              0.3333333333333333,
              "#9c179e"
             ],
             [
              0.4444444444444444,
              "#bd3786"
             ],
             [
              0.5555555555555556,
              "#d8576b"
             ],
             [
              0.6666666666666666,
              "#ed7953"
             ],
             [
              0.7777777777777778,
              "#fb9f3a"
             ],
             [
              0.8888888888888888,
              "#fdca26"
             ],
             [
              1,
              "#f0f921"
             ]
            ],
            "type": "contour"
           }
          ],
          "contourcarpet": [
           {
            "colorbar": {
             "outlinewidth": 0,
             "ticks": ""
            },
            "type": "contourcarpet"
           }
          ],
          "heatmap": [
           {
            "colorbar": {
             "outlinewidth": 0,
             "ticks": ""
            },
            "colorscale": [
             [
              0,
              "#0d0887"
             ],
             [
              0.1111111111111111,
              "#46039f"
             ],
             [
              0.2222222222222222,
              "#7201a8"
             ],
             [
              0.3333333333333333,
              "#9c179e"
             ],
             [
              0.4444444444444444,
              "#bd3786"
             ],
             [
              0.5555555555555556,
              "#d8576b"
             ],
             [
              0.6666666666666666,
              "#ed7953"
             ],
             [
              0.7777777777777778,
              "#fb9f3a"
             ],
             [
              0.8888888888888888,
              "#fdca26"
             ],
             [
              1,
              "#f0f921"
             ]
            ],
            "type": "heatmap"
           }
          ],
          "heatmapgl": [
           {
            "colorbar": {
             "outlinewidth": 0,
             "ticks": ""
            },
            "colorscale": [
             [
              0,
              "#0d0887"
             ],
             [
              0.1111111111111111,
              "#46039f"
             ],
             [
              0.2222222222222222,
              "#7201a8"
             ],
             [
              0.3333333333333333,
              "#9c179e"
             ],
             [
              0.4444444444444444,
              "#bd3786"
             ],
             [
              0.5555555555555556,
              "#d8576b"
             ],
             [
              0.6666666666666666,
              "#ed7953"
             ],
             [
              0.7777777777777778,
              "#fb9f3a"
             ],
             [
              0.8888888888888888,
              "#fdca26"
             ],
             [
              1,
              "#f0f921"
             ]
            ],
            "type": "heatmapgl"
           }
          ],
          "histogram": [
           {
            "marker": {
             "pattern": {
              "fillmode": "overlay",
              "size": 10,
              "solidity": 0.2
             }
            },
            "type": "histogram"
           }
          ],
          "histogram2d": [
           {
            "colorbar": {
             "outlinewidth": 0,
             "ticks": ""
            },
            "colorscale": [
             [
              0,
              "#0d0887"
             ],
             [
              0.1111111111111111,
              "#46039f"
             ],
             [
              0.2222222222222222,
              "#7201a8"
             ],
             [
              0.3333333333333333,
              "#9c179e"
             ],
             [
              0.4444444444444444,
              "#bd3786"
             ],
             [
              0.5555555555555556,
              "#d8576b"
             ],
             [
              0.6666666666666666,
              "#ed7953"
             ],
             [
              0.7777777777777778,
              "#fb9f3a"
             ],
             [
              0.8888888888888888,
              "#fdca26"
             ],
             [
              1,
              "#f0f921"
             ]
            ],
            "type": "histogram2d"
           }
          ],
          "histogram2dcontour": [
           {
            "colorbar": {
             "outlinewidth": 0,
             "ticks": ""
            },
            "colorscale": [
             [
              0,
              "#0d0887"
             ],
             [
              0.1111111111111111,
              "#46039f"
             ],
             [
              0.2222222222222222,
              "#7201a8"
             ],
             [
              0.3333333333333333,
              "#9c179e"
             ],
             [
              0.4444444444444444,
              "#bd3786"
             ],
             [
              0.5555555555555556,
              "#d8576b"
             ],
             [
              0.6666666666666666,
              "#ed7953"
             ],
             [
              0.7777777777777778,
              "#fb9f3a"
             ],
             [
              0.8888888888888888,
              "#fdca26"
             ],
             [
              1,
              "#f0f921"
             ]
            ],
            "type": "histogram2dcontour"
           }
          ],
          "mesh3d": [
           {
            "colorbar": {
             "outlinewidth": 0,
             "ticks": ""
            },
            "type": "mesh3d"
           }
          ],
          "parcoords": [
           {
            "line": {
             "colorbar": {
              "outlinewidth": 0,
              "ticks": ""
             }
            },
            "type": "parcoords"
           }
          ],
          "pie": [
           {
            "automargin": true,
            "type": "pie"
           }
          ],
          "scatter": [
           {
            "fillpattern": {
             "fillmode": "overlay",
             "size": 10,
             "solidity": 0.2
            },
            "type": "scatter"
           }
          ],
          "scatter3d": [
           {
            "line": {
             "colorbar": {
              "outlinewidth": 0,
              "ticks": ""
             }
            },
            "marker": {
             "colorbar": {
              "outlinewidth": 0,
              "ticks": ""
             }
            },
            "type": "scatter3d"
           }
          ],
          "scattercarpet": [
           {
            "marker": {
             "colorbar": {
              "outlinewidth": 0,
              "ticks": ""
             }
            },
            "type": "scattercarpet"
           }
          ],
          "scattergeo": [
           {
            "marker": {
             "colorbar": {
              "outlinewidth": 0,
              "ticks": ""
             }
            },
            "type": "scattergeo"
           }
          ],
          "scattergl": [
           {
            "marker": {
             "colorbar": {
              "outlinewidth": 0,
              "ticks": ""
             }
            },
            "type": "scattergl"
           }
          ],
          "scattermapbox": [
           {
            "marker": {
             "colorbar": {
              "outlinewidth": 0,
              "ticks": ""
             }
            },
            "type": "scattermapbox"
           }
          ],
          "scatterpolar": [
           {
            "marker": {
             "colorbar": {
              "outlinewidth": 0,
              "ticks": ""
             }
            },
            "type": "scatterpolar"
           }
          ],
          "scatterpolargl": [
           {
            "marker": {
             "colorbar": {
              "outlinewidth": 0,
              "ticks": ""
             }
            },
            "type": "scatterpolargl"
           }
          ],
          "scatterternary": [
           {
            "marker": {
             "colorbar": {
              "outlinewidth": 0,
              "ticks": ""
             }
            },
            "type": "scatterternary"
           }
          ],
          "surface": [
           {
            "colorbar": {
             "outlinewidth": 0,
             "ticks": ""
            },
            "colorscale": [
             [
              0,
              "#0d0887"
             ],
             [
              0.1111111111111111,
              "#46039f"
             ],
             [
              0.2222222222222222,
              "#7201a8"
             ],
             [
              0.3333333333333333,
              "#9c179e"
             ],
             [
              0.4444444444444444,
              "#bd3786"
             ],
             [
              0.5555555555555556,
              "#d8576b"
             ],
             [
              0.6666666666666666,
              "#ed7953"
             ],
             [
              0.7777777777777778,
              "#fb9f3a"
             ],
             [
              0.8888888888888888,
              "#fdca26"
             ],
             [
              1,
              "#f0f921"
             ]
            ],
            "type": "surface"
           }
          ],
          "table": [
           {
            "cells": {
             "fill": {
              "color": "#EBF0F8"
             },
             "line": {
              "color": "white"
             }
            },
            "header": {
             "fill": {
              "color": "#C8D4E3"
             },
             "line": {
              "color": "white"
             }
            },
            "type": "table"
           }
          ]
         },
         "layout": {
          "annotationdefaults": {
           "arrowcolor": "#2a3f5f",
           "arrowhead": 0,
           "arrowwidth": 1
          },
          "autotypenumbers": "strict",
          "coloraxis": {
           "colorbar": {
            "outlinewidth": 0,
            "ticks": ""
           }
          },
          "colorscale": {
           "diverging": [
            [
             0,
             "#8e0152"
            ],
            [
             0.1,
             "#c51b7d"
            ],
            [
             0.2,
             "#de77ae"
            ],
            [
             0.3,
             "#f1b6da"
            ],
            [
             0.4,
             "#fde0ef"
            ],
            [
             0.5,
             "#f7f7f7"
            ],
            [
             0.6,
             "#e6f5d0"
            ],
            [
             0.7,
             "#b8e186"
            ],
            [
             0.8,
             "#7fbc41"
            ],
            [
             0.9,
             "#4d9221"
            ],
            [
             1,
             "#276419"
            ]
           ],
           "sequential": [
            [
             0,
             "#0d0887"
            ],
            [
             0.1111111111111111,
             "#46039f"
            ],
            [
             0.2222222222222222,
             "#7201a8"
            ],
            [
             0.3333333333333333,
             "#9c179e"
            ],
            [
             0.4444444444444444,
             "#bd3786"
            ],
            [
             0.5555555555555556,
             "#d8576b"
            ],
            [
             0.6666666666666666,
             "#ed7953"
            ],
            [
             0.7777777777777778,
             "#fb9f3a"
            ],
            [
             0.8888888888888888,
             "#fdca26"
            ],
            [
             1,
             "#f0f921"
            ]
           ],
           "sequentialminus": [
            [
             0,
             "#0d0887"
            ],
            [
             0.1111111111111111,
             "#46039f"
            ],
            [
             0.2222222222222222,
             "#7201a8"
            ],
            [
             0.3333333333333333,
             "#9c179e"
            ],
            [
             0.4444444444444444,
             "#bd3786"
            ],
            [
             0.5555555555555556,
             "#d8576b"
            ],
            [
             0.6666666666666666,
             "#ed7953"
            ],
            [
             0.7777777777777778,
             "#fb9f3a"
            ],
            [
             0.8888888888888888,
             "#fdca26"
            ],
            [
             1,
             "#f0f921"
            ]
           ]
          },
          "colorway": [
           "#636efa",
           "#EF553B",
           "#00cc96",
           "#ab63fa",
           "#FFA15A",
           "#19d3f3",
           "#FF6692",
           "#B6E880",
           "#FF97FF",
           "#FECB52"
          ],
          "font": {
           "color": "#2a3f5f"
          },
          "geo": {
           "bgcolor": "white",
           "lakecolor": "white",
           "landcolor": "#E5ECF6",
           "showlakes": true,
           "showland": true,
           "subunitcolor": "white"
          },
          "hoverlabel": {
           "align": "left"
          },
          "hovermode": "closest",
          "mapbox": {
           "style": "light"
          },
          "paper_bgcolor": "white",
          "plot_bgcolor": "#E5ECF6",
          "polar": {
           "angularaxis": {
            "gridcolor": "white",
            "linecolor": "white",
            "ticks": ""
           },
           "bgcolor": "#E5ECF6",
           "radialaxis": {
            "gridcolor": "white",
            "linecolor": "white",
            "ticks": ""
           }
          },
          "scene": {
           "xaxis": {
            "backgroundcolor": "#E5ECF6",
            "gridcolor": "white",
            "gridwidth": 2,
            "linecolor": "white",
            "showbackground": true,
            "ticks": "",
            "zerolinecolor": "white"
           },
           "yaxis": {
            "backgroundcolor": "#E5ECF6",
            "gridcolor": "white",
            "gridwidth": 2,
            "linecolor": "white",
            "showbackground": true,
            "ticks": "",
            "zerolinecolor": "white"
           },
           "zaxis": {
            "backgroundcolor": "#E5ECF6",
            "gridcolor": "white",
            "gridwidth": 2,
            "linecolor": "white",
            "showbackground": true,
            "ticks": "",
            "zerolinecolor": "white"
           }
          },
          "shapedefaults": {
           "line": {
            "color": "#2a3f5f"
           }
          },
          "ternary": {
           "aaxis": {
            "gridcolor": "white",
            "linecolor": "white",
            "ticks": ""
           },
           "baxis": {
            "gridcolor": "white",
            "linecolor": "white",
            "ticks": ""
           },
           "bgcolor": "#E5ECF6",
           "caxis": {
            "gridcolor": "white",
            "linecolor": "white",
            "ticks": ""
           }
          },
          "title": {
           "x": 0.05
          },
          "xaxis": {
           "automargin": true,
           "gridcolor": "white",
           "linecolor": "white",
           "ticks": "",
           "title": {
            "standoff": 15
           },
           "zerolinecolor": "white",
           "zerolinewidth": 2
          },
          "yaxis": {
           "automargin": true,
           "gridcolor": "white",
           "linecolor": "white",
           "ticks": "",
           "title": {
            "standoff": 15
           },
           "zerolinecolor": "white",
           "zerolinewidth": 2
          }
         }
        },
        "title": {
         "font": {
          "color": "#4D5663"
         }
        },
        "xaxis": {
         "gridcolor": "#E1E5ED",
         "showgrid": true,
         "tickfont": {
          "color": "#4D5663"
         },
         "title": {
          "font": {
           "color": "#4D5663"
          },
          "text": ""
         },
         "zerolinecolor": "#E1E5ED"
        },
        "xaxis2": {
         "anchor": "y2",
         "gridcolor": "#E1E5ED",
         "showgrid": true,
         "showticklabels": false,
         "tickfont": {
          "color": "#4D5663"
         },
         "title": {
          "font": {
           "color": "#4D5663"
          },
          "text": ""
         },
         "zerolinecolor": "#E1E5ED"
        },
        "yaxis": {
         "domain": [
          0.3,
          1
         ],
         "gridcolor": "#E1E5ED",
         "showgrid": true,
         "tickfont": {
          "color": "#4D5663"
         },
         "title": {
          "font": {
           "color": "#4D5663"
          },
          "text": ""
         },
         "zerolinecolor": "#E1E5ED"
        },
        "yaxis2": {
         "domain": [
          0,
          0.25
         ],
         "gridcolor": "#E1E5ED",
         "showgrid": true,
         "tickfont": {
          "color": "#4D5663"
         },
         "title": {
          "font": {
           "color": "#4D5663"
          },
          "text": "Spread"
         },
         "zerolinecolor": "#E1E5ED"
        }
       }
      },
      "text/html": [
       "<div>                            <div id=\"89d9ed96-9c55-4541-b045-5916e3910208\" class=\"plotly-graph-div\" style=\"height:525px; width:100%;\"></div>            <script type=\"text/javascript\">                require([\"plotly\"], function(Plotly) {                    window.PLOTLYENV=window.PLOTLYENV || {};\n",
       "                    window.PLOTLYENV.BASE_URL='https://plot.ly';                                    if (document.getElementById(\"89d9ed96-9c55-4541-b045-5916e3910208\")) {                    Plotly.newPlot(                        \"89d9ed96-9c55-4541-b045-5916e3910208\",                        [{\"line\":{\"color\":\"rgba(255, 153, 51, 1.0)\",\"dash\":\"solid\",\"shape\":\"linear\",\"width\":1.3},\"mode\":\"lines\",\"name\":\"A\",\"text\":\"\",\"x\":[0,1,2,3,4,5,6,7,8,9,10,11,12,13,14,15,16,17,18,19,20,21,22,23,24,25,26,27,28,29,30,31,32,33,34,35,36,37,38,39,40,41,42,43,44,45,46,47,48,49,50,51,52,53,54,55,56,57,58,59,60,61,62,63,64,65,66,67,68,69,70,71,72,73,74,75,76,77,78,79,80,81,82,83,84,85,86,87,88,89,90,91,92,93,94,95,96,97,98,99],\"y\":[1.2379579215557721,-0.5005184725982377,-1.8230450427793612,0.06842502309955707,0.4254384314514911,1.1763052359239257,-0.11214271908475447,1.1059753615356682,0.22346118664892053,-3.0955008897822682,-1.4517744954104537,1.0800716683559,0.7541959355429521,-0.19781466988496854,0.8027711878115771,0.32235289207845674,-1.407064449126228,0.5813815157192956,-0.4203924036852652,0.5355956630247433,1.0206309013545645,0.7384385770882846,-0.2900868329082115,0.3829461322814965,0.4611215018331621,-1.3790825150179762,1.2819328381644517,-1.134352798171451,0.5205979181212208,1.3157399184969396,0.784109751385838,-0.2788739329905516,2.8096183045496717,-0.2308271549045375,1.3964084344569843,0.01831236818373684,0.827571000150851,-0.7590395468795416,-0.16238163174865078,0.2572099021763275,-0.1498663201241084,2.0530119786117687,-0.03723847683954049,0.41757657681991633,0.9672215524108312,1.964130099188044,-0.9148020760659852,-0.7067367751252867,-0.46258169228107315,0.6395101035312151,0.614656019091725,1.6970454877439154,0.09192463941462742,1.541224196386175,1.1495442914166665,1.4773844447931597,1.7621437230813883,0.46693142325967285,1.419824486490099,0.8120024374923902,-1.0954528503558223,0.0407775353196377,0.42850511111267753,1.9275505103817203,-1.3431683970134831,0.796264215695926,-1.9127758508775747,1.2854170397536104,-0.29109585036885166,0.7387637394372951,0.1864707079105069,-1.2500559744599842,1.2676856772130243,-0.16842033667773443,0.05579077525029771,-0.3262741971013337,0.023869859254569244,0.24314462754504315,-0.1535936724579839,1.0697246004611893,-0.9083408958560282,0.23825984450463622,0.6387576608046327,-0.5069686294885749,0.951703871558809,-0.5131593778854479,-0.06489118914025865,-1.6708061688797646,-0.8107835190282477,-1.181205795352084,-0.813756681394152,0.12899794573478857,-0.3690930111001821,1.015706364161616,-1.5316143343754245,-0.5312137078010556,-0.9267416426601521,0.800610799926069,-1.3397198536182306,-0.39168708430114446],\"type\":\"scatter\"},{\"line\":{\"color\":\"rgba(55, 128, 191, 1.0)\",\"dash\":\"solid\",\"shape\":\"linear\",\"width\":1.3},\"mode\":\"lines\",\"name\":\"B\",\"text\":\"\",\"x\":[0,1,2,3,4,5,6,7,8,9,10,11,12,13,14,15,16,17,18,19,20,21,22,23,24,25,26,27,28,29,30,31,32,33,34,35,36,37,38,39,40,41,42,43,44,45,46,47,48,49,50,51,52,53,54,55,56,57,58,59,60,61,62,63,64,65,66,67,68,69,70,71,72,73,74,75,76,77,78,79,80,81,82,83,84,85,86,87,88,89,90,91,92,93,94,95,96,97,98,99],\"y\":[0.02001560917781522,-1.0891731935032625,1.117115278451909,0.40002640297342607,0.6788225994148674,-1.0464508327499304,1.753186397555937,0.4553153584280742,1.9267772772513023,0.36761632757654483,0.3354221156945639,-1.3975971007794514,-0.8288799184866059,-1.4694617838267692,0.38071369841281305,0.5873705484639964,-1.3368556819937818,1.4991333888708165,0.5813807231497642,-0.5527128990216509,-0.09761952261295645,-0.28166161146952456,0.7142778405665612,0.6293793918294663,-2.123446302387997,-0.1383482546425122,0.0893175440277195,-1.3223609989772662,-1.4742353228376357,2.3557586879361794,0.6407860071334618,-1.6723162335483108,0.010739496078409847,-0.8404641217846549,-0.37170568055098224,1.8912657465336102,0.18598631691892653,-0.5051875454241069,0.20307885101154383,-0.1892760143690366,1.0627125177800432,0.00576008208656999,1.4018256061331034,0.21525579076981813,0.9108216767100435,-0.09179782052924047,-0.8190698523389677,0.5656749663533622,1.01457085362219,-1.3907851791904955,0.09853552198020779,1.7139266832774738,-0.34554016715977387,2.2656738435005725,0.48749200482362615,0.7508919362554308,-0.5490445283005263,1.353420063225845,-0.3316233300195538,0.6405398483347998,-0.2463538808502654,-0.7363662270746788,-0.680425364174238,0.05553101197713513,1.6033590272505436,0.10504078713367834,2.080793389318112,-0.24229773712897296,-1.0333677171102167,0.4132352687474129,-0.02609569212262343,0.4517671856431499,-0.844903742341376,-1.117027526113431,0.20431018641555201,0.1887560681516722,-0.8661853113814597,-1.3997834715565687,1.293875546610676,0.12507506231115692,1.4813260456365591,1.2799752422469581,-1.873280502909398,-1.1616794539335047,-0.7297439373845849,0.3172723549807555,0.02191631673027781,1.763692690956398,-0.8702349417220633,1.63676868925836,-0.6512863117971823,0.5600399577030546,1.234716383944129,-1.0610391550838316,-0.31963888274136043,2.159961437255129,0.5231537525093585,-0.6452848760271948,0.9483151450214008,0.3273184835628279],\"type\":\"scatter\"},{\"connectgaps\":false,\"fill\":\"tozeroy\",\"line\":{\"color\":\"green\",\"dash\":\"solid\",\"shape\":\"linear\",\"width\":0.5},\"mode\":\"lines\",\"name\":\"Spread\",\"showlegend\":false,\"x\":[0,1,2,3,4,5,6,7,8,9,10,11,12,13,14,15,16,17,18,19,20,21,22,23,24,25,26,27,28,29,30,31,32,33,34,35,36,37,38,39,40,41,42,43,44,45,46,47,48,49,50,51,52,53,54,55,56,57,58,59,60,61,62,63,64,65,66,67,68,69,70,71,72,73,74,75,76,77,78,79,80,81,82,83,84,85,86,87,88,89,90,91,92,93,94,95,96,97,98,99],\"xaxis\":\"x2\",\"y\":[1.217942312377957,0.5886547209050248,\"\",\"\",\"\",2.2227560686738563,\"\",0.650660003107594,\"\",\"\",\"\",2.4776687691353514,1.583075854029558,1.2716471139418006,0.42205748939876403,\"\",\"\",\"\",\"\",1.0883085620463941,1.1182504239675208,1.0201001885578092,\"\",\"\",2.584567804221159,\"\",1.1926152941367323,0.18800820080581526,1.9948332409588565,\"\",0.14332374425237626,1.3934423005577592,2.7988788084712617,0.6096369668801174,1.7681141150079664,\"\",0.6415846832319245,\"\",\"\",0.44648591654536407,\"\",2.0472518965251987,\"\",0.2023207860500982,0.05639987570078764,2.0559279197172846,\"\",\"\",\"\",2.0302952827217107,0.5161204971115172,\"\",0.4374648065744013,\"\",0.6620522865930403,0.7264925085377288,2.311188251381915,\"\",1.751447816509653,0.17146258915759038,\"\",0.7771437623943165,1.1089304752869156,1.8720194984045853,\"\",0.6912234285622476,\"\",1.5277147768825834,0.742271866741365,0.3255284706898822,0.21256640003313032,\"\",2.1125894195544004,0.9486071894356967,\"\",\"\",0.8900551706360289,1.6429280991016117,\"\",0.9446495381500324,\"\",\"\",2.5120381637140308,0.6547108244449298,1.681447808943394,\"\",\"\",\"\",0.05945142269381554,\"\",\"\",\"\",\"\",2.0767455192454474,\"\",\"\",\"\",1.4458956759532637,\"\",\"\"],\"yaxis\":\"y2\",\"type\":\"scatter\"},{\"connectgaps\":false,\"fill\":\"tozeroy\",\"line\":{\"color\":\"red\",\"dash\":\"solid\",\"shape\":\"linear\",\"width\":0.5},\"mode\":\"lines\",\"name\":\"Spread\",\"showlegend\":false,\"x\":[0,1,2,3,4,5,6,7,8,9,10,11,12,13,14,15,16,17,18,19,20,21,22,23,24,25,26,27,28,29,30,31,32,33,34,35,36,37,38,39,40,41,42,43,44,45,46,47,48,49,50,51,52,53,54,55,56,57,58,59,60,61,62,63,64,65,66,67,68,69,70,71,72,73,74,75,76,77,78,79,80,81,82,83,84,85,86,87,88,89,90,91,92,93,94,95,96,97,98,99],\"xaxis\":\"x2\",\"y\":[\"\",\"\",-2.94016032123127,-0.331601379873869,-0.25338416796337637,\"\",-1.8653291166406913,\"\",-1.7033160906023819,-3.463117217358813,-1.7871966111050175,\"\",\"\",\"\",\"\",-0.26501765638553965,-0.07020876713244628,-0.9177518731515208,-1.0017731268350294,\"\",\"\",\"\",-1.0043646734747727,-0.24643325954796985,\"\",-1.240734260375464,\"\",\"\",\"\",-1.0400187694392398,\"\",\"\",\"\",\"\",\"\",-1.8729533783498733,\"\",-0.25385200145543463,-0.3654604827601946,\"\",-1.2125788379041516,\"\",-1.4390640829726438,\"\",\"\",\"\",-0.0957322237270175,-1.2724117414786489,-1.4771525459032633,\"\",\"\",-0.01688119553355838,\"\",-0.7244496471143975,\"\",\"\",\"\",-0.8864886399661722,\"\",\"\",-0.8490989695055569,\"\",\"\",\"\",-2.9465274242640267,\"\",-3.9935692401956864,\"\",\"\",\"\",\"\",-1.701823160103134,\"\",\"\",-0.1485194111652543,-0.5150302652530059,\"\",\"\",-1.4474692190686598,\"\",-2.389666941492587,-1.041715397742322,\"\",\"\",\"\",-0.8304317328662034,-0.08680750587053646,-3.4344988598361628,\"\",-2.8179744846104438,-0.1624703695969697,-0.431042011968266,-1.603809395044311,\"\",-1.2119754516340642,-2.6911751450561847,-1.4498953951695106,\"\",-2.2880349986396316,-0.7190055678639724],\"yaxis\":\"y2\",\"type\":\"scatter\"}],                        {\"hovermode\":\"x\",\"legend\":{\"bgcolor\":\"#F5F6F9\",\"font\":{\"color\":\"#4D5663\"}},\"paper_bgcolor\":\"#F5F6F9\",\"plot_bgcolor\":\"#F5F6F9\",\"template\":{\"data\":{\"barpolar\":[{\"marker\":{\"line\":{\"color\":\"#E5ECF6\",\"width\":0.5},\"pattern\":{\"fillmode\":\"overlay\",\"size\":10,\"solidity\":0.2}},\"type\":\"barpolar\"}],\"bar\":[{\"error_x\":{\"color\":\"#2a3f5f\"},\"error_y\":{\"color\":\"#2a3f5f\"},\"marker\":{\"line\":{\"color\":\"#E5ECF6\",\"width\":0.5},\"pattern\":{\"fillmode\":\"overlay\",\"size\":10,\"solidity\":0.2}},\"type\":\"bar\"}],\"carpet\":[{\"aaxis\":{\"endlinecolor\":\"#2a3f5f\",\"gridcolor\":\"white\",\"linecolor\":\"white\",\"minorgridcolor\":\"white\",\"startlinecolor\":\"#2a3f5f\"},\"baxis\":{\"endlinecolor\":\"#2a3f5f\",\"gridcolor\":\"white\",\"linecolor\":\"white\",\"minorgridcolor\":\"white\",\"startlinecolor\":\"#2a3f5f\"},\"type\":\"carpet\"}],\"choropleth\":[{\"colorbar\":{\"outlinewidth\":0,\"ticks\":\"\"},\"type\":\"choropleth\"}],\"contourcarpet\":[{\"colorbar\":{\"outlinewidth\":0,\"ticks\":\"\"},\"type\":\"contourcarpet\"}],\"contour\":[{\"colorbar\":{\"outlinewidth\":0,\"ticks\":\"\"},\"colorscale\":[[0.0,\"#0d0887\"],[0.1111111111111111,\"#46039f\"],[0.2222222222222222,\"#7201a8\"],[0.3333333333333333,\"#9c179e\"],[0.4444444444444444,\"#bd3786\"],[0.5555555555555556,\"#d8576b\"],[0.6666666666666666,\"#ed7953\"],[0.7777777777777778,\"#fb9f3a\"],[0.8888888888888888,\"#fdca26\"],[1.0,\"#f0f921\"]],\"type\":\"contour\"}],\"heatmapgl\":[{\"colorbar\":{\"outlinewidth\":0,\"ticks\":\"\"},\"colorscale\":[[0.0,\"#0d0887\"],[0.1111111111111111,\"#46039f\"],[0.2222222222222222,\"#7201a8\"],[0.3333333333333333,\"#9c179e\"],[0.4444444444444444,\"#bd3786\"],[0.5555555555555556,\"#d8576b\"],[0.6666666666666666,\"#ed7953\"],[0.7777777777777778,\"#fb9f3a\"],[0.8888888888888888,\"#fdca26\"],[1.0,\"#f0f921\"]],\"type\":\"heatmapgl\"}],\"heatmap\":[{\"colorbar\":{\"outlinewidth\":0,\"ticks\":\"\"},\"colorscale\":[[0.0,\"#0d0887\"],[0.1111111111111111,\"#46039f\"],[0.2222222222222222,\"#7201a8\"],[0.3333333333333333,\"#9c179e\"],[0.4444444444444444,\"#bd3786\"],[0.5555555555555556,\"#d8576b\"],[0.6666666666666666,\"#ed7953\"],[0.7777777777777778,\"#fb9f3a\"],[0.8888888888888888,\"#fdca26\"],[1.0,\"#f0f921\"]],\"type\":\"heatmap\"}],\"histogram2dcontour\":[{\"colorbar\":{\"outlinewidth\":0,\"ticks\":\"\"},\"colorscale\":[[0.0,\"#0d0887\"],[0.1111111111111111,\"#46039f\"],[0.2222222222222222,\"#7201a8\"],[0.3333333333333333,\"#9c179e\"],[0.4444444444444444,\"#bd3786\"],[0.5555555555555556,\"#d8576b\"],[0.6666666666666666,\"#ed7953\"],[0.7777777777777778,\"#fb9f3a\"],[0.8888888888888888,\"#fdca26\"],[1.0,\"#f0f921\"]],\"type\":\"histogram2dcontour\"}],\"histogram2d\":[{\"colorbar\":{\"outlinewidth\":0,\"ticks\":\"\"},\"colorscale\":[[0.0,\"#0d0887\"],[0.1111111111111111,\"#46039f\"],[0.2222222222222222,\"#7201a8\"],[0.3333333333333333,\"#9c179e\"],[0.4444444444444444,\"#bd3786\"],[0.5555555555555556,\"#d8576b\"],[0.6666666666666666,\"#ed7953\"],[0.7777777777777778,\"#fb9f3a\"],[0.8888888888888888,\"#fdca26\"],[1.0,\"#f0f921\"]],\"type\":\"histogram2d\"}],\"histogram\":[{\"marker\":{\"pattern\":{\"fillmode\":\"overlay\",\"size\":10,\"solidity\":0.2}},\"type\":\"histogram\"}],\"mesh3d\":[{\"colorbar\":{\"outlinewidth\":0,\"ticks\":\"\"},\"type\":\"mesh3d\"}],\"parcoords\":[{\"line\":{\"colorbar\":{\"outlinewidth\":0,\"ticks\":\"\"}},\"type\":\"parcoords\"}],\"pie\":[{\"automargin\":true,\"type\":\"pie\"}],\"scatter3d\":[{\"line\":{\"colorbar\":{\"outlinewidth\":0,\"ticks\":\"\"}},\"marker\":{\"colorbar\":{\"outlinewidth\":0,\"ticks\":\"\"}},\"type\":\"scatter3d\"}],\"scattercarpet\":[{\"marker\":{\"colorbar\":{\"outlinewidth\":0,\"ticks\":\"\"}},\"type\":\"scattercarpet\"}],\"scattergeo\":[{\"marker\":{\"colorbar\":{\"outlinewidth\":0,\"ticks\":\"\"}},\"type\":\"scattergeo\"}],\"scattergl\":[{\"marker\":{\"colorbar\":{\"outlinewidth\":0,\"ticks\":\"\"}},\"type\":\"scattergl\"}],\"scattermapbox\":[{\"marker\":{\"colorbar\":{\"outlinewidth\":0,\"ticks\":\"\"}},\"type\":\"scattermapbox\"}],\"scatterpolargl\":[{\"marker\":{\"colorbar\":{\"outlinewidth\":0,\"ticks\":\"\"}},\"type\":\"scatterpolargl\"}],\"scatterpolar\":[{\"marker\":{\"colorbar\":{\"outlinewidth\":0,\"ticks\":\"\"}},\"type\":\"scatterpolar\"}],\"scatter\":[{\"fillpattern\":{\"fillmode\":\"overlay\",\"size\":10,\"solidity\":0.2},\"type\":\"scatter\"}],\"scatterternary\":[{\"marker\":{\"colorbar\":{\"outlinewidth\":0,\"ticks\":\"\"}},\"type\":\"scatterternary\"}],\"surface\":[{\"colorbar\":{\"outlinewidth\":0,\"ticks\":\"\"},\"colorscale\":[[0.0,\"#0d0887\"],[0.1111111111111111,\"#46039f\"],[0.2222222222222222,\"#7201a8\"],[0.3333333333333333,\"#9c179e\"],[0.4444444444444444,\"#bd3786\"],[0.5555555555555556,\"#d8576b\"],[0.6666666666666666,\"#ed7953\"],[0.7777777777777778,\"#fb9f3a\"],[0.8888888888888888,\"#fdca26\"],[1.0,\"#f0f921\"]],\"type\":\"surface\"}],\"table\":[{\"cells\":{\"fill\":{\"color\":\"#EBF0F8\"},\"line\":{\"color\":\"white\"}},\"header\":{\"fill\":{\"color\":\"#C8D4E3\"},\"line\":{\"color\":\"white\"}},\"type\":\"table\"}]},\"layout\":{\"annotationdefaults\":{\"arrowcolor\":\"#2a3f5f\",\"arrowhead\":0,\"arrowwidth\":1},\"autotypenumbers\":\"strict\",\"coloraxis\":{\"colorbar\":{\"outlinewidth\":0,\"ticks\":\"\"}},\"colorscale\":{\"diverging\":[[0,\"#8e0152\"],[0.1,\"#c51b7d\"],[0.2,\"#de77ae\"],[0.3,\"#f1b6da\"],[0.4,\"#fde0ef\"],[0.5,\"#f7f7f7\"],[0.6,\"#e6f5d0\"],[0.7,\"#b8e186\"],[0.8,\"#7fbc41\"],[0.9,\"#4d9221\"],[1,\"#276419\"]],\"sequential\":[[0.0,\"#0d0887\"],[0.1111111111111111,\"#46039f\"],[0.2222222222222222,\"#7201a8\"],[0.3333333333333333,\"#9c179e\"],[0.4444444444444444,\"#bd3786\"],[0.5555555555555556,\"#d8576b\"],[0.6666666666666666,\"#ed7953\"],[0.7777777777777778,\"#fb9f3a\"],[0.8888888888888888,\"#fdca26\"],[1.0,\"#f0f921\"]],\"sequentialminus\":[[0.0,\"#0d0887\"],[0.1111111111111111,\"#46039f\"],[0.2222222222222222,\"#7201a8\"],[0.3333333333333333,\"#9c179e\"],[0.4444444444444444,\"#bd3786\"],[0.5555555555555556,\"#d8576b\"],[0.6666666666666666,\"#ed7953\"],[0.7777777777777778,\"#fb9f3a\"],[0.8888888888888888,\"#fdca26\"],[1.0,\"#f0f921\"]]},\"colorway\":[\"#636efa\",\"#EF553B\",\"#00cc96\",\"#ab63fa\",\"#FFA15A\",\"#19d3f3\",\"#FF6692\",\"#B6E880\",\"#FF97FF\",\"#FECB52\"],\"font\":{\"color\":\"#2a3f5f\"},\"geo\":{\"bgcolor\":\"white\",\"lakecolor\":\"white\",\"landcolor\":\"#E5ECF6\",\"showlakes\":true,\"showland\":true,\"subunitcolor\":\"white\"},\"hoverlabel\":{\"align\":\"left\"},\"hovermode\":\"closest\",\"mapbox\":{\"style\":\"light\"},\"paper_bgcolor\":\"white\",\"plot_bgcolor\":\"#E5ECF6\",\"polar\":{\"angularaxis\":{\"gridcolor\":\"white\",\"linecolor\":\"white\",\"ticks\":\"\"},\"bgcolor\":\"#E5ECF6\",\"radialaxis\":{\"gridcolor\":\"white\",\"linecolor\":\"white\",\"ticks\":\"\"}},\"scene\":{\"xaxis\":{\"backgroundcolor\":\"#E5ECF6\",\"gridcolor\":\"white\",\"gridwidth\":2,\"linecolor\":\"white\",\"showbackground\":true,\"ticks\":\"\",\"zerolinecolor\":\"white\"},\"yaxis\":{\"backgroundcolor\":\"#E5ECF6\",\"gridcolor\":\"white\",\"gridwidth\":2,\"linecolor\":\"white\",\"showbackground\":true,\"ticks\":\"\",\"zerolinecolor\":\"white\"},\"zaxis\":{\"backgroundcolor\":\"#E5ECF6\",\"gridcolor\":\"white\",\"gridwidth\":2,\"linecolor\":\"white\",\"showbackground\":true,\"ticks\":\"\",\"zerolinecolor\":\"white\"}},\"shapedefaults\":{\"line\":{\"color\":\"#2a3f5f\"}},\"ternary\":{\"aaxis\":{\"gridcolor\":\"white\",\"linecolor\":\"white\",\"ticks\":\"\"},\"baxis\":{\"gridcolor\":\"white\",\"linecolor\":\"white\",\"ticks\":\"\"},\"bgcolor\":\"#E5ECF6\",\"caxis\":{\"gridcolor\":\"white\",\"linecolor\":\"white\",\"ticks\":\"\"}},\"title\":{\"x\":0.05},\"xaxis\":{\"automargin\":true,\"gridcolor\":\"white\",\"linecolor\":\"white\",\"ticks\":\"\",\"title\":{\"standoff\":15},\"zerolinecolor\":\"white\",\"zerolinewidth\":2},\"yaxis\":{\"automargin\":true,\"gridcolor\":\"white\",\"linecolor\":\"white\",\"ticks\":\"\",\"title\":{\"standoff\":15},\"zerolinecolor\":\"white\",\"zerolinewidth\":2}}},\"title\":{\"font\":{\"color\":\"#4D5663\"}},\"xaxis\":{\"gridcolor\":\"#E1E5ED\",\"showgrid\":true,\"tickfont\":{\"color\":\"#4D5663\"},\"title\":{\"font\":{\"color\":\"#4D5663\"},\"text\":\"\"},\"zerolinecolor\":\"#E1E5ED\"},\"yaxis\":{\"domain\":[0.3,1],\"gridcolor\":\"#E1E5ED\",\"showgrid\":true,\"tickfont\":{\"color\":\"#4D5663\"},\"title\":{\"font\":{\"color\":\"#4D5663\"},\"text\":\"\"},\"zerolinecolor\":\"#E1E5ED\"},\"yaxis2\":{\"domain\":[0,0.25],\"gridcolor\":\"#E1E5ED\",\"showgrid\":true,\"tickfont\":{\"color\":\"#4D5663\"},\"title\":{\"font\":{\"color\":\"#4D5663\"},\"text\":\"Spread\"},\"zerolinecolor\":\"#E1E5ED\"},\"xaxis2\":{\"anchor\":\"y2\",\"gridcolor\":\"#E1E5ED\",\"showgrid\":true,\"showticklabels\":false,\"tickfont\":{\"color\":\"#4D5663\"},\"title\":{\"font\":{\"color\":\"#4D5663\"},\"text\":\"\"},\"zerolinecolor\":\"#E1E5ED\"}},                        {\"showLink\": true, \"linkText\": \"Export to plot.ly\", \"plotlyServerURL\": \"https://plot.ly\", \"responsive\": true}                    ).then(function(){\n",
       "                            \n",
       "var gd = document.getElementById('89d9ed96-9c55-4541-b045-5916e3910208');\n",
       "var x = new MutationObserver(function (mutations, observer) {{\n",
       "        var display = window.getComputedStyle(gd).display;\n",
       "        if (!display || display === 'none') {{\n",
       "            console.log([gd, 'removed!']);\n",
       "            Plotly.purge(gd);\n",
       "            observer.disconnect();\n",
       "        }}\n",
       "}});\n",
       "\n",
       "// Listen for the removal of the full notebook cells\n",
       "var notebookContainer = gd.closest('#notebook-container');\n",
       "if (notebookContainer) {{\n",
       "    x.observe(notebookContainer, {childList: true});\n",
       "}}\n",
       "\n",
       "// Listen for the clearing of the current output cell\n",
       "var outputEl = gd.closest('.output');\n",
       "if (outputEl) {{\n",
       "    x.observe(outputEl, {childList: true});\n",
       "}}\n",
       "\n",
       "                        })                };                });            </script>        </div>"
      ]
     },
     "metadata": {},
     "output_type": "display_data"
    }
   ],
   "source": [
    "#spread visualisations: used to compare two stocks\n",
    "df[['A','B']].iplot(kind='spread')"
   ]
  },
  {
   "cell_type": "code",
   "execution_count": 29,
   "metadata": {},
   "outputs": [
    {
     "data": {
      "application/vnd.plotly.v1+json": {
       "config": {
        "linkText": "Export to plot.ly",
        "plotlyServerURL": "https://plot.ly",
        "showLink": true
       },
       "data": [
        {
         "marker": {
          "color": [
           "rgb(255, 153, 51)",
           "rgb(55, 128, 191)",
           "rgb(50, 171, 96)",
           "rgb(128, 0, 128)",
           "rgb(219, 64, 82)",
           "rgb(0, 128, 128)",
           "rgb(255, 255, 51)",
           "rgb(128, 128, 0)",
           "rgb(251, 128, 114)",
           "rgb(128, 177, 211)"
          ],
          "line": {
           "width": 1.3
          },
          "size": [
           58,
           90,
           68,
           63,
           29,
           107,
           63,
           29,
           84,
           108,
           85,
           77,
           92,
           74,
           88,
           93,
           44,
           57,
           74,
           55,
           73,
           49,
           68,
           82,
           79,
           88,
           84,
           40,
           73,
           72,
           48,
           53,
           66,
           67,
           12,
           48,
           57,
           73,
           90,
           58,
           93,
           66,
           108,
           46,
           67,
           64,
           71,
           68,
           67,
           61,
           95,
           95,
           70,
           48,
           39,
           82,
           56,
           80,
           56,
           69,
           49,
           82,
           49,
           77,
           69,
           77,
           80,
           75,
           77,
           100,
           84,
           35,
           90,
           72,
           74,
           83,
           39,
           84,
           59,
           43,
           60,
           31,
           61,
           51,
           34,
           76,
           25,
           70,
           56,
           46,
           62,
           37,
           112,
           58,
           42,
           43,
           69,
           56,
           86,
           24
          ],
          "symbol": "circle"
         },
         "mode": "markers",
         "text": "",
         "type": "scatter",
         "x": [
          1.2379579215557721,
          -0.5005184725982377,
          -1.8230450427793612,
          0.06842502309955707,
          0.4254384314514911,
          1.1763052359239257,
          -0.11214271908475447,
          1.1059753615356682,
          0.22346118664892053,
          -3.0955008897822682,
          -1.4517744954104537,
          1.0800716683559,
          0.7541959355429521,
          -0.19781466988496854,
          0.8027711878115771,
          0.32235289207845674,
          -1.407064449126228,
          0.5813815157192956,
          -0.4203924036852652,
          0.5355956630247433,
          1.0206309013545645,
          0.7384385770882846,
          -0.2900868329082115,
          0.3829461322814965,
          0.4611215018331621,
          -1.3790825150179762,
          1.2819328381644517,
          -1.134352798171451,
          0.5205979181212208,
          1.3157399184969396,
          0.784109751385838,
          -0.2788739329905516,
          2.8096183045496717,
          -0.2308271549045375,
          1.3964084344569843,
          0.01831236818373684,
          0.827571000150851,
          -0.7590395468795416,
          -0.16238163174865078,
          0.2572099021763275,
          -0.1498663201241084,
          2.0530119786117687,
          -0.03723847683954049,
          0.41757657681991633,
          0.9672215524108312,
          1.964130099188044,
          -0.9148020760659852,
          -0.7067367751252867,
          -0.46258169228107315,
          0.6395101035312151,
          0.614656019091725,
          1.6970454877439154,
          0.09192463941462742,
          1.541224196386175,
          1.1495442914166665,
          1.4773844447931597,
          1.7621437230813883,
          0.46693142325967285,
          1.419824486490099,
          0.8120024374923902,
          -1.0954528503558223,
          0.0407775353196377,
          0.42850511111267753,
          1.9275505103817203,
          -1.3431683970134831,
          0.796264215695926,
          -1.9127758508775747,
          1.2854170397536104,
          -0.29109585036885166,
          0.7387637394372951,
          0.1864707079105069,
          -1.2500559744599842,
          1.2676856772130243,
          -0.16842033667773443,
          0.05579077525029771,
          -0.3262741971013337,
          0.023869859254569244,
          0.24314462754504315,
          -0.1535936724579839,
          1.0697246004611893,
          -0.9083408958560282,
          0.23825984450463622,
          0.6387576608046327,
          -0.5069686294885749,
          0.951703871558809,
          -0.5131593778854479,
          -0.06489118914025865,
          -1.6708061688797646,
          -0.8107835190282477,
          -1.181205795352084,
          -0.813756681394152,
          0.12899794573478857,
          -0.3690930111001821,
          1.015706364161616,
          -1.5316143343754245,
          -0.5312137078010556,
          -0.9267416426601521,
          0.800610799926069,
          -1.3397198536182306,
          -0.39168708430114446
         ],
         "y": [
          0.02001560917781522,
          -1.0891731935032625,
          1.117115278451909,
          0.40002640297342607,
          0.6788225994148674,
          -1.0464508327499304,
          1.753186397555937,
          0.4553153584280742,
          1.9267772772513023,
          0.36761632757654483,
          0.3354221156945639,
          -1.3975971007794514,
          -0.8288799184866059,
          -1.4694617838267692,
          0.38071369841281305,
          0.5873705484639964,
          -1.3368556819937818,
          1.4991333888708165,
          0.5813807231497642,
          -0.5527128990216509,
          -0.09761952261295645,
          -0.28166161146952456,
          0.7142778405665612,
          0.6293793918294663,
          -2.123446302387997,
          -0.1383482546425122,
          0.0893175440277195,
          -1.3223609989772662,
          -1.4742353228376357,
          2.3557586879361794,
          0.6407860071334618,
          -1.6723162335483108,
          0.010739496078409847,
          -0.8404641217846549,
          -0.37170568055098224,
          1.8912657465336102,
          0.18598631691892653,
          -0.5051875454241069,
          0.20307885101154383,
          -0.1892760143690366,
          1.0627125177800432,
          0.00576008208656999,
          1.4018256061331034,
          0.21525579076981813,
          0.9108216767100435,
          -0.09179782052924047,
          -0.8190698523389677,
          0.5656749663533622,
          1.01457085362219,
          -1.3907851791904955,
          0.09853552198020779,
          1.7139266832774738,
          -0.34554016715977387,
          2.2656738435005725,
          0.48749200482362615,
          0.7508919362554308,
          -0.5490445283005263,
          1.353420063225845,
          -0.3316233300195538,
          0.6405398483347998,
          -0.2463538808502654,
          -0.7363662270746788,
          -0.680425364174238,
          0.05553101197713513,
          1.6033590272505436,
          0.10504078713367834,
          2.080793389318112,
          -0.24229773712897296,
          -1.0333677171102167,
          0.4132352687474129,
          -0.02609569212262343,
          0.4517671856431499,
          -0.844903742341376,
          -1.117027526113431,
          0.20431018641555201,
          0.1887560681516722,
          -0.8661853113814597,
          -1.3997834715565687,
          1.293875546610676,
          0.12507506231115692,
          1.4813260456365591,
          1.2799752422469581,
          -1.873280502909398,
          -1.1616794539335047,
          -0.7297439373845849,
          0.3172723549807555,
          0.02191631673027781,
          1.763692690956398,
          -0.8702349417220633,
          1.63676868925836,
          -0.6512863117971823,
          0.5600399577030546,
          1.234716383944129,
          -1.0610391550838316,
          -0.31963888274136043,
          2.159961437255129,
          0.5231537525093585,
          -0.6452848760271948,
          0.9483151450214008,
          0.3273184835628279
         ]
        }
       ],
       "layout": {
        "legend": {
         "bgcolor": "#F5F6F9",
         "font": {
          "color": "#4D5663"
         }
        },
        "paper_bgcolor": "#F5F6F9",
        "plot_bgcolor": "#F5F6F9",
        "template": {
         "data": {
          "bar": [
           {
            "error_x": {
             "color": "#2a3f5f"
            },
            "error_y": {
             "color": "#2a3f5f"
            },
            "marker": {
             "line": {
              "color": "#E5ECF6",
              "width": 0.5
             },
             "pattern": {
              "fillmode": "overlay",
              "size": 10,
              "solidity": 0.2
             }
            },
            "type": "bar"
           }
          ],
          "barpolar": [
           {
            "marker": {
             "line": {
              "color": "#E5ECF6",
              "width": 0.5
             },
             "pattern": {
              "fillmode": "overlay",
              "size": 10,
              "solidity": 0.2
             }
            },
            "type": "barpolar"
           }
          ],
          "carpet": [
           {
            "aaxis": {
             "endlinecolor": "#2a3f5f",
             "gridcolor": "white",
             "linecolor": "white",
             "minorgridcolor": "white",
             "startlinecolor": "#2a3f5f"
            },
            "baxis": {
             "endlinecolor": "#2a3f5f",
             "gridcolor": "white",
             "linecolor": "white",
             "minorgridcolor": "white",
             "startlinecolor": "#2a3f5f"
            },
            "type": "carpet"
           }
          ],
          "choropleth": [
           {
            "colorbar": {
             "outlinewidth": 0,
             "ticks": ""
            },
            "type": "choropleth"
           }
          ],
          "contour": [
           {
            "colorbar": {
             "outlinewidth": 0,
             "ticks": ""
            },
            "colorscale": [
             [
              0,
              "#0d0887"
             ],
             [
              0.1111111111111111,
              "#46039f"
             ],
             [
              0.2222222222222222,
              "#7201a8"
             ],
             [
              0.3333333333333333,
              "#9c179e"
             ],
             [
              0.4444444444444444,
              "#bd3786"
             ],
             [
              0.5555555555555556,
              "#d8576b"
             ],
             [
              0.6666666666666666,
              "#ed7953"
             ],
             [
              0.7777777777777778,
              "#fb9f3a"
             ],
             [
              0.8888888888888888,
              "#fdca26"
             ],
             [
              1,
              "#f0f921"
             ]
            ],
            "type": "contour"
           }
          ],
          "contourcarpet": [
           {
            "colorbar": {
             "outlinewidth": 0,
             "ticks": ""
            },
            "type": "contourcarpet"
           }
          ],
          "heatmap": [
           {
            "colorbar": {
             "outlinewidth": 0,
             "ticks": ""
            },
            "colorscale": [
             [
              0,
              "#0d0887"
             ],
             [
              0.1111111111111111,
              "#46039f"
             ],
             [
              0.2222222222222222,
              "#7201a8"
             ],
             [
              0.3333333333333333,
              "#9c179e"
             ],
             [
              0.4444444444444444,
              "#bd3786"
             ],
             [
              0.5555555555555556,
              "#d8576b"
             ],
             [
              0.6666666666666666,
              "#ed7953"
             ],
             [
              0.7777777777777778,
              "#fb9f3a"
             ],
             [
              0.8888888888888888,
              "#fdca26"
             ],
             [
              1,
              "#f0f921"
             ]
            ],
            "type": "heatmap"
           }
          ],
          "heatmapgl": [
           {
            "colorbar": {
             "outlinewidth": 0,
             "ticks": ""
            },
            "colorscale": [
             [
              0,
              "#0d0887"
             ],
             [
              0.1111111111111111,
              "#46039f"
             ],
             [
              0.2222222222222222,
              "#7201a8"
             ],
             [
              0.3333333333333333,
              "#9c179e"
             ],
             [
              0.4444444444444444,
              "#bd3786"
             ],
             [
              0.5555555555555556,
              "#d8576b"
             ],
             [
              0.6666666666666666,
              "#ed7953"
             ],
             [
              0.7777777777777778,
              "#fb9f3a"
             ],
             [
              0.8888888888888888,
              "#fdca26"
             ],
             [
              1,
              "#f0f921"
             ]
            ],
            "type": "heatmapgl"
           }
          ],
          "histogram": [
           {
            "marker": {
             "pattern": {
              "fillmode": "overlay",
              "size": 10,
              "solidity": 0.2
             }
            },
            "type": "histogram"
           }
          ],
          "histogram2d": [
           {
            "colorbar": {
             "outlinewidth": 0,
             "ticks": ""
            },
            "colorscale": [
             [
              0,
              "#0d0887"
             ],
             [
              0.1111111111111111,
              "#46039f"
             ],
             [
              0.2222222222222222,
              "#7201a8"
             ],
             [
              0.3333333333333333,
              "#9c179e"
             ],
             [
              0.4444444444444444,
              "#bd3786"
             ],
             [
              0.5555555555555556,
              "#d8576b"
             ],
             [
              0.6666666666666666,
              "#ed7953"
             ],
             [
              0.7777777777777778,
              "#fb9f3a"
             ],
             [
              0.8888888888888888,
              "#fdca26"
             ],
             [
              1,
              "#f0f921"
             ]
            ],
            "type": "histogram2d"
           }
          ],
          "histogram2dcontour": [
           {
            "colorbar": {
             "outlinewidth": 0,
             "ticks": ""
            },
            "colorscale": [
             [
              0,
              "#0d0887"
             ],
             [
              0.1111111111111111,
              "#46039f"
             ],
             [
              0.2222222222222222,
              "#7201a8"
             ],
             [
              0.3333333333333333,
              "#9c179e"
             ],
             [
              0.4444444444444444,
              "#bd3786"
             ],
             [
              0.5555555555555556,
              "#d8576b"
             ],
             [
              0.6666666666666666,
              "#ed7953"
             ],
             [
              0.7777777777777778,
              "#fb9f3a"
             ],
             [
              0.8888888888888888,
              "#fdca26"
             ],
             [
              1,
              "#f0f921"
             ]
            ],
            "type": "histogram2dcontour"
           }
          ],
          "mesh3d": [
           {
            "colorbar": {
             "outlinewidth": 0,
             "ticks": ""
            },
            "type": "mesh3d"
           }
          ],
          "parcoords": [
           {
            "line": {
             "colorbar": {
              "outlinewidth": 0,
              "ticks": ""
             }
            },
            "type": "parcoords"
           }
          ],
          "pie": [
           {
            "automargin": true,
            "type": "pie"
           }
          ],
          "scatter": [
           {
            "fillpattern": {
             "fillmode": "overlay",
             "size": 10,
             "solidity": 0.2
            },
            "type": "scatter"
           }
          ],
          "scatter3d": [
           {
            "line": {
             "colorbar": {
              "outlinewidth": 0,
              "ticks": ""
             }
            },
            "marker": {
             "colorbar": {
              "outlinewidth": 0,
              "ticks": ""
             }
            },
            "type": "scatter3d"
           }
          ],
          "scattercarpet": [
           {
            "marker": {
             "colorbar": {
              "outlinewidth": 0,
              "ticks": ""
             }
            },
            "type": "scattercarpet"
           }
          ],
          "scattergeo": [
           {
            "marker": {
             "colorbar": {
              "outlinewidth": 0,
              "ticks": ""
             }
            },
            "type": "scattergeo"
           }
          ],
          "scattergl": [
           {
            "marker": {
             "colorbar": {
              "outlinewidth": 0,
              "ticks": ""
             }
            },
            "type": "scattergl"
           }
          ],
          "scattermapbox": [
           {
            "marker": {
             "colorbar": {
              "outlinewidth": 0,
              "ticks": ""
             }
            },
            "type": "scattermapbox"
           }
          ],
          "scatterpolar": [
           {
            "marker": {
             "colorbar": {
              "outlinewidth": 0,
              "ticks": ""
             }
            },
            "type": "scatterpolar"
           }
          ],
          "scatterpolargl": [
           {
            "marker": {
             "colorbar": {
              "outlinewidth": 0,
              "ticks": ""
             }
            },
            "type": "scatterpolargl"
           }
          ],
          "scatterternary": [
           {
            "marker": {
             "colorbar": {
              "outlinewidth": 0,
              "ticks": ""
             }
            },
            "type": "scatterternary"
           }
          ],
          "surface": [
           {
            "colorbar": {
             "outlinewidth": 0,
             "ticks": ""
            },
            "colorscale": [
             [
              0,
              "#0d0887"
             ],
             [
              0.1111111111111111,
              "#46039f"
             ],
             [
              0.2222222222222222,
              "#7201a8"
             ],
             [
              0.3333333333333333,
              "#9c179e"
             ],
             [
              0.4444444444444444,
              "#bd3786"
             ],
             [
              0.5555555555555556,
              "#d8576b"
             ],
             [
              0.6666666666666666,
              "#ed7953"
             ],
             [
              0.7777777777777778,
              "#fb9f3a"
             ],
             [
              0.8888888888888888,
              "#fdca26"
             ],
             [
              1,
              "#f0f921"
             ]
            ],
            "type": "surface"
           }
          ],
          "table": [
           {
            "cells": {
             "fill": {
              "color": "#EBF0F8"
             },
             "line": {
              "color": "white"
             }
            },
            "header": {
             "fill": {
              "color": "#C8D4E3"
             },
             "line": {
              "color": "white"
             }
            },
            "type": "table"
           }
          ]
         },
         "layout": {
          "annotationdefaults": {
           "arrowcolor": "#2a3f5f",
           "arrowhead": 0,
           "arrowwidth": 1
          },
          "autotypenumbers": "strict",
          "coloraxis": {
           "colorbar": {
            "outlinewidth": 0,
            "ticks": ""
           }
          },
          "colorscale": {
           "diverging": [
            [
             0,
             "#8e0152"
            ],
            [
             0.1,
             "#c51b7d"
            ],
            [
             0.2,
             "#de77ae"
            ],
            [
             0.3,
             "#f1b6da"
            ],
            [
             0.4,
             "#fde0ef"
            ],
            [
             0.5,
             "#f7f7f7"
            ],
            [
             0.6,
             "#e6f5d0"
            ],
            [
             0.7,
             "#b8e186"
            ],
            [
             0.8,
             "#7fbc41"
            ],
            [
             0.9,
             "#4d9221"
            ],
            [
             1,
             "#276419"
            ]
           ],
           "sequential": [
            [
             0,
             "#0d0887"
            ],
            [
             0.1111111111111111,
             "#46039f"
            ],
            [
             0.2222222222222222,
             "#7201a8"
            ],
            [
             0.3333333333333333,
             "#9c179e"
            ],
            [
             0.4444444444444444,
             "#bd3786"
            ],
            [
             0.5555555555555556,
             "#d8576b"
            ],
            [
             0.6666666666666666,
             "#ed7953"
            ],
            [
             0.7777777777777778,
             "#fb9f3a"
            ],
            [
             0.8888888888888888,
             "#fdca26"
            ],
            [
             1,
             "#f0f921"
            ]
           ],
           "sequentialminus": [
            [
             0,
             "#0d0887"
            ],
            [
             0.1111111111111111,
             "#46039f"
            ],
            [
             0.2222222222222222,
             "#7201a8"
            ],
            [
             0.3333333333333333,
             "#9c179e"
            ],
            [
             0.4444444444444444,
             "#bd3786"
            ],
            [
             0.5555555555555556,
             "#d8576b"
            ],
            [
             0.6666666666666666,
             "#ed7953"
            ],
            [
             0.7777777777777778,
             "#fb9f3a"
            ],
            [
             0.8888888888888888,
             "#fdca26"
            ],
            [
             1,
             "#f0f921"
            ]
           ]
          },
          "colorway": [
           "#636efa",
           "#EF553B",
           "#00cc96",
           "#ab63fa",
           "#FFA15A",
           "#19d3f3",
           "#FF6692",
           "#B6E880",
           "#FF97FF",
           "#FECB52"
          ],
          "font": {
           "color": "#2a3f5f"
          },
          "geo": {
           "bgcolor": "white",
           "lakecolor": "white",
           "landcolor": "#E5ECF6",
           "showlakes": true,
           "showland": true,
           "subunitcolor": "white"
          },
          "hoverlabel": {
           "align": "left"
          },
          "hovermode": "closest",
          "mapbox": {
           "style": "light"
          },
          "paper_bgcolor": "white",
          "plot_bgcolor": "#E5ECF6",
          "polar": {
           "angularaxis": {
            "gridcolor": "white",
            "linecolor": "white",
            "ticks": ""
           },
           "bgcolor": "#E5ECF6",
           "radialaxis": {
            "gridcolor": "white",
            "linecolor": "white",
            "ticks": ""
           }
          },
          "scene": {
           "xaxis": {
            "backgroundcolor": "#E5ECF6",
            "gridcolor": "white",
            "gridwidth": 2,
            "linecolor": "white",
            "showbackground": true,
            "ticks": "",
            "zerolinecolor": "white"
           },
           "yaxis": {
            "backgroundcolor": "#E5ECF6",
            "gridcolor": "white",
            "gridwidth": 2,
            "linecolor": "white",
            "showbackground": true,
            "ticks": "",
            "zerolinecolor": "white"
           },
           "zaxis": {
            "backgroundcolor": "#E5ECF6",
            "gridcolor": "white",
            "gridwidth": 2,
            "linecolor": "white",
            "showbackground": true,
            "ticks": "",
            "zerolinecolor": "white"
           }
          },
          "shapedefaults": {
           "line": {
            "color": "#2a3f5f"
           }
          },
          "ternary": {
           "aaxis": {
            "gridcolor": "white",
            "linecolor": "white",
            "ticks": ""
           },
           "baxis": {
            "gridcolor": "white",
            "linecolor": "white",
            "ticks": ""
           },
           "bgcolor": "#E5ECF6",
           "caxis": {
            "gridcolor": "white",
            "linecolor": "white",
            "ticks": ""
           }
          },
          "title": {
           "x": 0.05
          },
          "xaxis": {
           "automargin": true,
           "gridcolor": "white",
           "linecolor": "white",
           "ticks": "",
           "title": {
            "standoff": 15
           },
           "zerolinecolor": "white",
           "zerolinewidth": 2
          },
          "yaxis": {
           "automargin": true,
           "gridcolor": "white",
           "linecolor": "white",
           "ticks": "",
           "title": {
            "standoff": 15
           },
           "zerolinecolor": "white",
           "zerolinewidth": 2
          }
         }
        },
        "title": {
         "font": {
          "color": "#4D5663"
         }
        },
        "xaxis": {
         "gridcolor": "#E1E5ED",
         "showgrid": true,
         "tickfont": {
          "color": "#4D5663"
         },
         "title": {
          "font": {
           "color": "#4D5663"
          },
          "text": ""
         },
         "zerolinecolor": "#E1E5ED"
        },
        "yaxis": {
         "gridcolor": "#E1E5ED",
         "showgrid": true,
         "tickfont": {
          "color": "#4D5663"
         },
         "title": {
          "font": {
           "color": "#4D5663"
          },
          "text": ""
         },
         "zerolinecolor": "#E1E5ED"
        }
       }
      },
      "text/html": [
       "<div>                            <div id=\"7ac81108-1883-4f1e-a6cd-05eb1f0cb111\" class=\"plotly-graph-div\" style=\"height:525px; width:100%;\"></div>            <script type=\"text/javascript\">                require([\"plotly\"], function(Plotly) {                    window.PLOTLYENV=window.PLOTLYENV || {};\n",
       "                    window.PLOTLYENV.BASE_URL='https://plot.ly';                                    if (document.getElementById(\"7ac81108-1883-4f1e-a6cd-05eb1f0cb111\")) {                    Plotly.newPlot(                        \"7ac81108-1883-4f1e-a6cd-05eb1f0cb111\",                        [{\"marker\":{\"color\":[\"rgb(255, 153, 51)\",\"rgb(55, 128, 191)\",\"rgb(50, 171, 96)\",\"rgb(128, 0, 128)\",\"rgb(219, 64, 82)\",\"rgb(0, 128, 128)\",\"rgb(255, 255, 51)\",\"rgb(128, 128, 0)\",\"rgb(251, 128, 114)\",\"rgb(128, 177, 211)\"],\"line\":{\"width\":1.3},\"size\":[58,90,68,63,29,107,63,29,84,108,85,77,92,74,88,93,44,57,74,55,73,49,68,82,79,88,84,40,73,72,48,53,66,67,12,48,57,73,90,58,93,66,108,46,67,64,71,68,67,61,95,95,70,48,39,82,56,80,56,69,49,82,49,77,69,77,80,75,77,100,84,35,90,72,74,83,39,84,59,43,60,31,61,51,34,76,25,70,56,46,62,37,112,58,42,43,69,56,86,24],\"symbol\":\"circle\"},\"mode\":\"markers\",\"text\":\"\",\"x\":[1.2379579215557721,-0.5005184725982377,-1.8230450427793612,0.06842502309955707,0.4254384314514911,1.1763052359239257,-0.11214271908475447,1.1059753615356682,0.22346118664892053,-3.0955008897822682,-1.4517744954104537,1.0800716683559,0.7541959355429521,-0.19781466988496854,0.8027711878115771,0.32235289207845674,-1.407064449126228,0.5813815157192956,-0.4203924036852652,0.5355956630247433,1.0206309013545645,0.7384385770882846,-0.2900868329082115,0.3829461322814965,0.4611215018331621,-1.3790825150179762,1.2819328381644517,-1.134352798171451,0.5205979181212208,1.3157399184969396,0.784109751385838,-0.2788739329905516,2.8096183045496717,-0.2308271549045375,1.3964084344569843,0.01831236818373684,0.827571000150851,-0.7590395468795416,-0.16238163174865078,0.2572099021763275,-0.1498663201241084,2.0530119786117687,-0.03723847683954049,0.41757657681991633,0.9672215524108312,1.964130099188044,-0.9148020760659852,-0.7067367751252867,-0.46258169228107315,0.6395101035312151,0.614656019091725,1.6970454877439154,0.09192463941462742,1.541224196386175,1.1495442914166665,1.4773844447931597,1.7621437230813883,0.46693142325967285,1.419824486490099,0.8120024374923902,-1.0954528503558223,0.0407775353196377,0.42850511111267753,1.9275505103817203,-1.3431683970134831,0.796264215695926,-1.9127758508775747,1.2854170397536104,-0.29109585036885166,0.7387637394372951,0.1864707079105069,-1.2500559744599842,1.2676856772130243,-0.16842033667773443,0.05579077525029771,-0.3262741971013337,0.023869859254569244,0.24314462754504315,-0.1535936724579839,1.0697246004611893,-0.9083408958560282,0.23825984450463622,0.6387576608046327,-0.5069686294885749,0.951703871558809,-0.5131593778854479,-0.06489118914025865,-1.6708061688797646,-0.8107835190282477,-1.181205795352084,-0.813756681394152,0.12899794573478857,-0.3690930111001821,1.015706364161616,-1.5316143343754245,-0.5312137078010556,-0.9267416426601521,0.800610799926069,-1.3397198536182306,-0.39168708430114446],\"y\":[0.02001560917781522,-1.0891731935032625,1.117115278451909,0.40002640297342607,0.6788225994148674,-1.0464508327499304,1.753186397555937,0.4553153584280742,1.9267772772513023,0.36761632757654483,0.3354221156945639,-1.3975971007794514,-0.8288799184866059,-1.4694617838267692,0.38071369841281305,0.5873705484639964,-1.3368556819937818,1.4991333888708165,0.5813807231497642,-0.5527128990216509,-0.09761952261295645,-0.28166161146952456,0.7142778405665612,0.6293793918294663,-2.123446302387997,-0.1383482546425122,0.0893175440277195,-1.3223609989772662,-1.4742353228376357,2.3557586879361794,0.6407860071334618,-1.6723162335483108,0.010739496078409847,-0.8404641217846549,-0.37170568055098224,1.8912657465336102,0.18598631691892653,-0.5051875454241069,0.20307885101154383,-0.1892760143690366,1.0627125177800432,0.00576008208656999,1.4018256061331034,0.21525579076981813,0.9108216767100435,-0.09179782052924047,-0.8190698523389677,0.5656749663533622,1.01457085362219,-1.3907851791904955,0.09853552198020779,1.7139266832774738,-0.34554016715977387,2.2656738435005725,0.48749200482362615,0.7508919362554308,-0.5490445283005263,1.353420063225845,-0.3316233300195538,0.6405398483347998,-0.2463538808502654,-0.7363662270746788,-0.680425364174238,0.05553101197713513,1.6033590272505436,0.10504078713367834,2.080793389318112,-0.24229773712897296,-1.0333677171102167,0.4132352687474129,-0.02609569212262343,0.4517671856431499,-0.844903742341376,-1.117027526113431,0.20431018641555201,0.1887560681516722,-0.8661853113814597,-1.3997834715565687,1.293875546610676,0.12507506231115692,1.4813260456365591,1.2799752422469581,-1.873280502909398,-1.1616794539335047,-0.7297439373845849,0.3172723549807555,0.02191631673027781,1.763692690956398,-0.8702349417220633,1.63676868925836,-0.6512863117971823,0.5600399577030546,1.234716383944129,-1.0610391550838316,-0.31963888274136043,2.159961437255129,0.5231537525093585,-0.6452848760271948,0.9483151450214008,0.3273184835628279],\"type\":\"scatter\"}],                        {\"legend\":{\"bgcolor\":\"#F5F6F9\",\"font\":{\"color\":\"#4D5663\"}},\"paper_bgcolor\":\"#F5F6F9\",\"plot_bgcolor\":\"#F5F6F9\",\"template\":{\"data\":{\"barpolar\":[{\"marker\":{\"line\":{\"color\":\"#E5ECF6\",\"width\":0.5},\"pattern\":{\"fillmode\":\"overlay\",\"size\":10,\"solidity\":0.2}},\"type\":\"barpolar\"}],\"bar\":[{\"error_x\":{\"color\":\"#2a3f5f\"},\"error_y\":{\"color\":\"#2a3f5f\"},\"marker\":{\"line\":{\"color\":\"#E5ECF6\",\"width\":0.5},\"pattern\":{\"fillmode\":\"overlay\",\"size\":10,\"solidity\":0.2}},\"type\":\"bar\"}],\"carpet\":[{\"aaxis\":{\"endlinecolor\":\"#2a3f5f\",\"gridcolor\":\"white\",\"linecolor\":\"white\",\"minorgridcolor\":\"white\",\"startlinecolor\":\"#2a3f5f\"},\"baxis\":{\"endlinecolor\":\"#2a3f5f\",\"gridcolor\":\"white\",\"linecolor\":\"white\",\"minorgridcolor\":\"white\",\"startlinecolor\":\"#2a3f5f\"},\"type\":\"carpet\"}],\"choropleth\":[{\"colorbar\":{\"outlinewidth\":0,\"ticks\":\"\"},\"type\":\"choropleth\"}],\"contourcarpet\":[{\"colorbar\":{\"outlinewidth\":0,\"ticks\":\"\"},\"type\":\"contourcarpet\"}],\"contour\":[{\"colorbar\":{\"outlinewidth\":0,\"ticks\":\"\"},\"colorscale\":[[0.0,\"#0d0887\"],[0.1111111111111111,\"#46039f\"],[0.2222222222222222,\"#7201a8\"],[0.3333333333333333,\"#9c179e\"],[0.4444444444444444,\"#bd3786\"],[0.5555555555555556,\"#d8576b\"],[0.6666666666666666,\"#ed7953\"],[0.7777777777777778,\"#fb9f3a\"],[0.8888888888888888,\"#fdca26\"],[1.0,\"#f0f921\"]],\"type\":\"contour\"}],\"heatmapgl\":[{\"colorbar\":{\"outlinewidth\":0,\"ticks\":\"\"},\"colorscale\":[[0.0,\"#0d0887\"],[0.1111111111111111,\"#46039f\"],[0.2222222222222222,\"#7201a8\"],[0.3333333333333333,\"#9c179e\"],[0.4444444444444444,\"#bd3786\"],[0.5555555555555556,\"#d8576b\"],[0.6666666666666666,\"#ed7953\"],[0.7777777777777778,\"#fb9f3a\"],[0.8888888888888888,\"#fdca26\"],[1.0,\"#f0f921\"]],\"type\":\"heatmapgl\"}],\"heatmap\":[{\"colorbar\":{\"outlinewidth\":0,\"ticks\":\"\"},\"colorscale\":[[0.0,\"#0d0887\"],[0.1111111111111111,\"#46039f\"],[0.2222222222222222,\"#7201a8\"],[0.3333333333333333,\"#9c179e\"],[0.4444444444444444,\"#bd3786\"],[0.5555555555555556,\"#d8576b\"],[0.6666666666666666,\"#ed7953\"],[0.7777777777777778,\"#fb9f3a\"],[0.8888888888888888,\"#fdca26\"],[1.0,\"#f0f921\"]],\"type\":\"heatmap\"}],\"histogram2dcontour\":[{\"colorbar\":{\"outlinewidth\":0,\"ticks\":\"\"},\"colorscale\":[[0.0,\"#0d0887\"],[0.1111111111111111,\"#46039f\"],[0.2222222222222222,\"#7201a8\"],[0.3333333333333333,\"#9c179e\"],[0.4444444444444444,\"#bd3786\"],[0.5555555555555556,\"#d8576b\"],[0.6666666666666666,\"#ed7953\"],[0.7777777777777778,\"#fb9f3a\"],[0.8888888888888888,\"#fdca26\"],[1.0,\"#f0f921\"]],\"type\":\"histogram2dcontour\"}],\"histogram2d\":[{\"colorbar\":{\"outlinewidth\":0,\"ticks\":\"\"},\"colorscale\":[[0.0,\"#0d0887\"],[0.1111111111111111,\"#46039f\"],[0.2222222222222222,\"#7201a8\"],[0.3333333333333333,\"#9c179e\"],[0.4444444444444444,\"#bd3786\"],[0.5555555555555556,\"#d8576b\"],[0.6666666666666666,\"#ed7953\"],[0.7777777777777778,\"#fb9f3a\"],[0.8888888888888888,\"#fdca26\"],[1.0,\"#f0f921\"]],\"type\":\"histogram2d\"}],\"histogram\":[{\"marker\":{\"pattern\":{\"fillmode\":\"overlay\",\"size\":10,\"solidity\":0.2}},\"type\":\"histogram\"}],\"mesh3d\":[{\"colorbar\":{\"outlinewidth\":0,\"ticks\":\"\"},\"type\":\"mesh3d\"}],\"parcoords\":[{\"line\":{\"colorbar\":{\"outlinewidth\":0,\"ticks\":\"\"}},\"type\":\"parcoords\"}],\"pie\":[{\"automargin\":true,\"type\":\"pie\"}],\"scatter3d\":[{\"line\":{\"colorbar\":{\"outlinewidth\":0,\"ticks\":\"\"}},\"marker\":{\"colorbar\":{\"outlinewidth\":0,\"ticks\":\"\"}},\"type\":\"scatter3d\"}],\"scattercarpet\":[{\"marker\":{\"colorbar\":{\"outlinewidth\":0,\"ticks\":\"\"}},\"type\":\"scattercarpet\"}],\"scattergeo\":[{\"marker\":{\"colorbar\":{\"outlinewidth\":0,\"ticks\":\"\"}},\"type\":\"scattergeo\"}],\"scattergl\":[{\"marker\":{\"colorbar\":{\"outlinewidth\":0,\"ticks\":\"\"}},\"type\":\"scattergl\"}],\"scattermapbox\":[{\"marker\":{\"colorbar\":{\"outlinewidth\":0,\"ticks\":\"\"}},\"type\":\"scattermapbox\"}],\"scatterpolargl\":[{\"marker\":{\"colorbar\":{\"outlinewidth\":0,\"ticks\":\"\"}},\"type\":\"scatterpolargl\"}],\"scatterpolar\":[{\"marker\":{\"colorbar\":{\"outlinewidth\":0,\"ticks\":\"\"}},\"type\":\"scatterpolar\"}],\"scatter\":[{\"fillpattern\":{\"fillmode\":\"overlay\",\"size\":10,\"solidity\":0.2},\"type\":\"scatter\"}],\"scatterternary\":[{\"marker\":{\"colorbar\":{\"outlinewidth\":0,\"ticks\":\"\"}},\"type\":\"scatterternary\"}],\"surface\":[{\"colorbar\":{\"outlinewidth\":0,\"ticks\":\"\"},\"colorscale\":[[0.0,\"#0d0887\"],[0.1111111111111111,\"#46039f\"],[0.2222222222222222,\"#7201a8\"],[0.3333333333333333,\"#9c179e\"],[0.4444444444444444,\"#bd3786\"],[0.5555555555555556,\"#d8576b\"],[0.6666666666666666,\"#ed7953\"],[0.7777777777777778,\"#fb9f3a\"],[0.8888888888888888,\"#fdca26\"],[1.0,\"#f0f921\"]],\"type\":\"surface\"}],\"table\":[{\"cells\":{\"fill\":{\"color\":\"#EBF0F8\"},\"line\":{\"color\":\"white\"}},\"header\":{\"fill\":{\"color\":\"#C8D4E3\"},\"line\":{\"color\":\"white\"}},\"type\":\"table\"}]},\"layout\":{\"annotationdefaults\":{\"arrowcolor\":\"#2a3f5f\",\"arrowhead\":0,\"arrowwidth\":1},\"autotypenumbers\":\"strict\",\"coloraxis\":{\"colorbar\":{\"outlinewidth\":0,\"ticks\":\"\"}},\"colorscale\":{\"diverging\":[[0,\"#8e0152\"],[0.1,\"#c51b7d\"],[0.2,\"#de77ae\"],[0.3,\"#f1b6da\"],[0.4,\"#fde0ef\"],[0.5,\"#f7f7f7\"],[0.6,\"#e6f5d0\"],[0.7,\"#b8e186\"],[0.8,\"#7fbc41\"],[0.9,\"#4d9221\"],[1,\"#276419\"]],\"sequential\":[[0.0,\"#0d0887\"],[0.1111111111111111,\"#46039f\"],[0.2222222222222222,\"#7201a8\"],[0.3333333333333333,\"#9c179e\"],[0.4444444444444444,\"#bd3786\"],[0.5555555555555556,\"#d8576b\"],[0.6666666666666666,\"#ed7953\"],[0.7777777777777778,\"#fb9f3a\"],[0.8888888888888888,\"#fdca26\"],[1.0,\"#f0f921\"]],\"sequentialminus\":[[0.0,\"#0d0887\"],[0.1111111111111111,\"#46039f\"],[0.2222222222222222,\"#7201a8\"],[0.3333333333333333,\"#9c179e\"],[0.4444444444444444,\"#bd3786\"],[0.5555555555555556,\"#d8576b\"],[0.6666666666666666,\"#ed7953\"],[0.7777777777777778,\"#fb9f3a\"],[0.8888888888888888,\"#fdca26\"],[1.0,\"#f0f921\"]]},\"colorway\":[\"#636efa\",\"#EF553B\",\"#00cc96\",\"#ab63fa\",\"#FFA15A\",\"#19d3f3\",\"#FF6692\",\"#B6E880\",\"#FF97FF\",\"#FECB52\"],\"font\":{\"color\":\"#2a3f5f\"},\"geo\":{\"bgcolor\":\"white\",\"lakecolor\":\"white\",\"landcolor\":\"#E5ECF6\",\"showlakes\":true,\"showland\":true,\"subunitcolor\":\"white\"},\"hoverlabel\":{\"align\":\"left\"},\"hovermode\":\"closest\",\"mapbox\":{\"style\":\"light\"},\"paper_bgcolor\":\"white\",\"plot_bgcolor\":\"#E5ECF6\",\"polar\":{\"angularaxis\":{\"gridcolor\":\"white\",\"linecolor\":\"white\",\"ticks\":\"\"},\"bgcolor\":\"#E5ECF6\",\"radialaxis\":{\"gridcolor\":\"white\",\"linecolor\":\"white\",\"ticks\":\"\"}},\"scene\":{\"xaxis\":{\"backgroundcolor\":\"#E5ECF6\",\"gridcolor\":\"white\",\"gridwidth\":2,\"linecolor\":\"white\",\"showbackground\":true,\"ticks\":\"\",\"zerolinecolor\":\"white\"},\"yaxis\":{\"backgroundcolor\":\"#E5ECF6\",\"gridcolor\":\"white\",\"gridwidth\":2,\"linecolor\":\"white\",\"showbackground\":true,\"ticks\":\"\",\"zerolinecolor\":\"white\"},\"zaxis\":{\"backgroundcolor\":\"#E5ECF6\",\"gridcolor\":\"white\",\"gridwidth\":2,\"linecolor\":\"white\",\"showbackground\":true,\"ticks\":\"\",\"zerolinecolor\":\"white\"}},\"shapedefaults\":{\"line\":{\"color\":\"#2a3f5f\"}},\"ternary\":{\"aaxis\":{\"gridcolor\":\"white\",\"linecolor\":\"white\",\"ticks\":\"\"},\"baxis\":{\"gridcolor\":\"white\",\"linecolor\":\"white\",\"ticks\":\"\"},\"bgcolor\":\"#E5ECF6\",\"caxis\":{\"gridcolor\":\"white\",\"linecolor\":\"white\",\"ticks\":\"\"}},\"title\":{\"x\":0.05},\"xaxis\":{\"automargin\":true,\"gridcolor\":\"white\",\"linecolor\":\"white\",\"ticks\":\"\",\"title\":{\"standoff\":15},\"zerolinecolor\":\"white\",\"zerolinewidth\":2},\"yaxis\":{\"automargin\":true,\"gridcolor\":\"white\",\"linecolor\":\"white\",\"ticks\":\"\",\"title\":{\"standoff\":15},\"zerolinecolor\":\"white\",\"zerolinewidth\":2}}},\"title\":{\"font\":{\"color\":\"#4D5663\"}},\"xaxis\":{\"gridcolor\":\"#E1E5ED\",\"showgrid\":true,\"tickfont\":{\"color\":\"#4D5663\"},\"title\":{\"font\":{\"color\":\"#4D5663\"},\"text\":\"\"},\"zerolinecolor\":\"#E1E5ED\"},\"yaxis\":{\"gridcolor\":\"#E1E5ED\",\"showgrid\":true,\"tickfont\":{\"color\":\"#4D5663\"},\"title\":{\"font\":{\"color\":\"#4D5663\"},\"text\":\"\"},\"zerolinecolor\":\"#E1E5ED\"}},                        {\"showLink\": true, \"linkText\": \"Export to plot.ly\", \"plotlyServerURL\": \"https://plot.ly\", \"responsive\": true}                    ).then(function(){\n",
       "                            \n",
       "var gd = document.getElementById('7ac81108-1883-4f1e-a6cd-05eb1f0cb111');\n",
       "var x = new MutationObserver(function (mutations, observer) {{\n",
       "        var display = window.getComputedStyle(gd).display;\n",
       "        if (!display || display === 'none') {{\n",
       "            console.log([gd, 'removed!']);\n",
       "            Plotly.purge(gd);\n",
       "            observer.disconnect();\n",
       "        }}\n",
       "}});\n",
       "\n",
       "// Listen for the removal of the full notebook cells\n",
       "var notebookContainer = gd.closest('#notebook-container');\n",
       "if (notebookContainer) {{\n",
       "    x.observe(notebookContainer, {childList: true});\n",
       "}}\n",
       "\n",
       "// Listen for the clearing of the current output cell\n",
       "var outputEl = gd.closest('.output');\n",
       "if (outputEl) {{\n",
       "    x.observe(outputEl, {childList: true});\n",
       "}}\n",
       "\n",
       "                        })                };                });            </script>        </div>"
      ]
     },
     "metadata": {},
     "output_type": "display_data"
    }
   ],
   "source": [
    "df.iplot(kind='bubble',x='A',y='B',size='C') #common for un reports"
   ]
  },
  {
   "cell_type": "code",
   "execution_count": 30,
   "metadata": {},
   "outputs": [
    {
     "data": {
      "application/vnd.plotly.v1+json": {
       "config": {
        "linkText": "Export to plot.ly",
        "plotlyServerURL": "https://plot.ly",
        "showLink": true
       },
       "data": [
        {
         "histfunc": "count",
         "histnorm": "",
         "marker": {
          "color": "rgba(255, 153, 51, 1.0)",
          "line": {
           "color": "#4D5663",
           "width": 1.3
          }
         },
         "name": "A",
         "nbinsx": 10,
         "opacity": 0.8,
         "orientation": "v",
         "type": "histogram",
         "x": [
          1.2379579215557721,
          -0.5005184725982377,
          -1.8230450427793612,
          0.06842502309955707,
          0.4254384314514911,
          1.1763052359239257,
          -0.11214271908475447,
          1.1059753615356682,
          0.22346118664892053,
          -3.0955008897822682,
          -1.4517744954104537,
          1.0800716683559,
          0.7541959355429521,
          -0.19781466988496854,
          0.8027711878115771,
          0.32235289207845674,
          -1.407064449126228,
          0.5813815157192956,
          -0.4203924036852652,
          0.5355956630247433,
          1.0206309013545645,
          0.7384385770882846,
          -0.2900868329082115,
          0.3829461322814965,
          0.4611215018331621,
          -1.3790825150179762,
          1.2819328381644517,
          -1.134352798171451,
          0.5205979181212208,
          1.3157399184969396,
          0.784109751385838,
          -0.2788739329905516,
          2.8096183045496717,
          -0.2308271549045375,
          1.3964084344569843,
          0.01831236818373684,
          0.827571000150851,
          -0.7590395468795416,
          -0.16238163174865078,
          0.2572099021763275,
          -0.1498663201241084,
          2.0530119786117687,
          -0.03723847683954049,
          0.41757657681991633,
          0.9672215524108312,
          1.964130099188044,
          -0.9148020760659852,
          -0.7067367751252867,
          -0.46258169228107315,
          0.6395101035312151,
          0.614656019091725,
          1.6970454877439154,
          0.09192463941462742,
          1.541224196386175,
          1.1495442914166665,
          1.4773844447931597,
          1.7621437230813883,
          0.46693142325967285,
          1.419824486490099,
          0.8120024374923902,
          -1.0954528503558223,
          0.0407775353196377,
          0.42850511111267753,
          1.9275505103817203,
          -1.3431683970134831,
          0.796264215695926,
          -1.9127758508775747,
          1.2854170397536104,
          -0.29109585036885166,
          0.7387637394372951,
          0.1864707079105069,
          -1.2500559744599842,
          1.2676856772130243,
          -0.16842033667773443,
          0.05579077525029771,
          -0.3262741971013337,
          0.023869859254569244,
          0.24314462754504315,
          -0.1535936724579839,
          1.0697246004611893,
          -0.9083408958560282,
          0.23825984450463622,
          0.6387576608046327,
          -0.5069686294885749,
          0.951703871558809,
          -0.5131593778854479,
          -0.06489118914025865,
          -1.6708061688797646,
          -0.8107835190282477,
          -1.181205795352084,
          -0.813756681394152,
          0.12899794573478857,
          -0.3690930111001821,
          1.015706364161616,
          -1.5316143343754245,
          -0.5312137078010556,
          -0.9267416426601521,
          0.800610799926069,
          -1.3397198536182306,
          -0.39168708430114446
         ],
         "xaxis": "x",
         "yaxis": "y"
        },
        {
         "line": {
          "color": "rgba(128, 128, 128, 1.0)",
          "dash": "solid",
          "shape": "linear",
          "width": 1.3
         },
         "marker": {
          "size": 2,
          "symbol": "circle"
         },
         "mode": "markers",
         "name": "A",
         "text": "",
         "type": "scatter",
         "x": [
          0.02001560917781522,
          -1.0891731935032625,
          1.117115278451909,
          0.40002640297342607,
          0.6788225994148674,
          -1.0464508327499304,
          1.753186397555937,
          0.4553153584280742,
          1.9267772772513023,
          0.36761632757654483,
          0.3354221156945639,
          -1.3975971007794514,
          -0.8288799184866059,
          -1.4694617838267692,
          0.38071369841281305,
          0.5873705484639964,
          -1.3368556819937818,
          1.4991333888708165,
          0.5813807231497642,
          -0.5527128990216509,
          -0.09761952261295645,
          -0.28166161146952456,
          0.7142778405665612,
          0.6293793918294663,
          -2.123446302387997,
          -0.1383482546425122,
          0.0893175440277195,
          -1.3223609989772662,
          -1.4742353228376357,
          2.3557586879361794,
          0.6407860071334618,
          -1.6723162335483108,
          0.010739496078409847,
          -0.8404641217846549,
          -0.37170568055098224,
          1.8912657465336102,
          0.18598631691892653,
          -0.5051875454241069,
          0.20307885101154383,
          -0.1892760143690366,
          1.0627125177800432,
          0.00576008208656999,
          1.4018256061331034,
          0.21525579076981813,
          0.9108216767100435,
          -0.09179782052924047,
          -0.8190698523389677,
          0.5656749663533622,
          1.01457085362219,
          -1.3907851791904955,
          0.09853552198020779,
          1.7139266832774738,
          -0.34554016715977387,
          2.2656738435005725,
          0.48749200482362615,
          0.7508919362554308,
          -0.5490445283005263,
          1.353420063225845,
          -0.3316233300195538,
          0.6405398483347998,
          -0.2463538808502654,
          -0.7363662270746788,
          -0.680425364174238,
          0.05553101197713513,
          1.6033590272505436,
          0.10504078713367834,
          2.080793389318112,
          -0.24229773712897296,
          -1.0333677171102167,
          0.4132352687474129,
          -0.02609569212262343,
          0.4517671856431499,
          -0.844903742341376,
          -1.117027526113431,
          0.20431018641555201,
          0.1887560681516722,
          -0.8661853113814597,
          -1.3997834715565687,
          1.293875546610676,
          0.12507506231115692,
          1.4813260456365591,
          1.2799752422469581,
          -1.873280502909398,
          -1.1616794539335047,
          -0.7297439373845849,
          0.3172723549807555,
          0.02191631673027781,
          1.763692690956398,
          -0.8702349417220633,
          1.63676868925836,
          -0.6512863117971823,
          0.5600399577030546,
          1.234716383944129,
          -1.0610391550838316,
          -0.31963888274136043,
          2.159961437255129,
          0.5231537525093585,
          -0.6452848760271948,
          0.9483151450214008,
          0.3273184835628279
         ],
         "xaxis": "x2",
         "y": [
          1.2379579215557721,
          -0.5005184725982377,
          -1.8230450427793612,
          0.06842502309955707,
          0.4254384314514911,
          1.1763052359239257,
          -0.11214271908475447,
          1.1059753615356682,
          0.22346118664892053,
          -3.0955008897822682,
          -1.4517744954104537,
          1.0800716683559,
          0.7541959355429521,
          -0.19781466988496854,
          0.8027711878115771,
          0.32235289207845674,
          -1.407064449126228,
          0.5813815157192956,
          -0.4203924036852652,
          0.5355956630247433,
          1.0206309013545645,
          0.7384385770882846,
          -0.2900868329082115,
          0.3829461322814965,
          0.4611215018331621,
          -1.3790825150179762,
          1.2819328381644517,
          -1.134352798171451,
          0.5205979181212208,
          1.3157399184969396,
          0.784109751385838,
          -0.2788739329905516,
          2.8096183045496717,
          -0.2308271549045375,
          1.3964084344569843,
          0.01831236818373684,
          0.827571000150851,
          -0.7590395468795416,
          -0.16238163174865078,
          0.2572099021763275,
          -0.1498663201241084,
          2.0530119786117687,
          -0.03723847683954049,
          0.41757657681991633,
          0.9672215524108312,
          1.964130099188044,
          -0.9148020760659852,
          -0.7067367751252867,
          -0.46258169228107315,
          0.6395101035312151,
          0.614656019091725,
          1.6970454877439154,
          0.09192463941462742,
          1.541224196386175,
          1.1495442914166665,
          1.4773844447931597,
          1.7621437230813883,
          0.46693142325967285,
          1.419824486490099,
          0.8120024374923902,
          -1.0954528503558223,
          0.0407775353196377,
          0.42850511111267753,
          1.9275505103817203,
          -1.3431683970134831,
          0.796264215695926,
          -1.9127758508775747,
          1.2854170397536104,
          -0.29109585036885166,
          0.7387637394372951,
          0.1864707079105069,
          -1.2500559744599842,
          1.2676856772130243,
          -0.16842033667773443,
          0.05579077525029771,
          -0.3262741971013337,
          0.023869859254569244,
          0.24314462754504315,
          -0.1535936724579839,
          1.0697246004611893,
          -0.9083408958560282,
          0.23825984450463622,
          0.6387576608046327,
          -0.5069686294885749,
          0.951703871558809,
          -0.5131593778854479,
          -0.06489118914025865,
          -1.6708061688797646,
          -0.8107835190282477,
          -1.181205795352084,
          -0.813756681394152,
          0.12899794573478857,
          -0.3690930111001821,
          1.015706364161616,
          -1.5316143343754245,
          -0.5312137078010556,
          -0.9267416426601521,
          0.800610799926069,
          -1.3397198536182306,
          -0.39168708430114446
         ],
         "yaxis": "y2"
        },
        {
         "line": {
          "color": "rgba(128, 128, 128, 1.0)",
          "dash": "solid",
          "shape": "linear",
          "width": 1.3
         },
         "marker": {
          "size": 2,
          "symbol": "circle"
         },
         "mode": "markers",
         "name": "A",
         "text": "",
         "type": "scatter",
         "x": [
          -0.3308678283499978,
          1.2102869885680758,
          0.16165666886283267,
          -0.05014626976914914,
          -1.7041310004861954,
          2.024235238513975,
          -0.09134465405958134,
          -1.6844924497820224,
          0.9163296026413046,
          2.0794659045860073,
          0.9924934578875237,
          0.5873707456348409,
          1.2905227319405057,
          0.46820678032260965,
          1.1206849052535683,
          1.341070631482998,
          -0.9920483075572034,
          -0.37702169423272214,
          0.46126090421413385,
          -0.4546029067221703,
          0.4026763795390725,
          -0.7561975897647178,
          0.14441673856184556,
          0.8211975728390191,
          0.6788870276756361,
          1.1182546437714418,
          0.9490176518954572,
          -1.154782531524615,
          0.38181427290559194,
          0.33793396035602163,
          -0.7751405834311564,
          -0.5529730769082326,
          0.05647916438691906,
          0.10192405603420507,
          -2.5162833330941545,
          -0.7951372011661051,
          -0.3646860211475907,
          0.40531580458811517,
          1.1926397744105726,
          -0.29028992462203845,
          1.3583231215828995,
          0.07781708033642254,
          2.0736040373947846,
          -0.8696821561479623,
          0.12043740731758966,
          -0.03629497239265656,
          0.3053570205331342,
          0.18029122773894382,
          0.13354900391709607,
          -0.17334299637084163,
          1.441867436897421,
          1.4636153646305592,
          0.26550864279774633,
          -0.7738813937949514,
          -1.2303692250124292,
          0.838200091267915,
          -0.38617909861518657,
          0.7352581128330348,
          -0.4019180535632065,
          0.20708486170988621,
          -0.7159667677135855,
          0.8368946666471312,
          -0.7160851600715328,
          0.6010705536057844,
          0.2030736188503543,
          0.5921507478620754,
          0.7574792167617637,
          0.4842234648942265,
          0.5773379515467608,
          1.670424691479897,
          0.9266799668186261,
          -1.403877587672895,
          1.2038809660012877,
          0.3452384281513092,
          0.44303880229347764,
          0.8719181744286881,
          -1.2329183855895733,
          0.9236240777143699,
          -0.24448714149810596,
          -1.0261859997751288,
          -0.21321537760757056,
          -1.5737984069401019,
          -0.18240254216565702,
          -0.6234118074730078,
          -1.4485033427600447,
          0.5503312905497174,
          -1.8692148240880035,
          0.2651111144391633,
          -0.4259951764634556,
          -0.8599050611922008,
          -0.14029638457586968,
          -1.3003551328791512,
          2.2322790534052537,
          -0.29450300839930077,
          -1.0470733402417887,
          -1.0307516059120065,
          0.21920184356692302,
          -0.42602690198949716,
          1.0245308766574683,
          -1.9089173419853969
         ],
         "xaxis": "x3",
         "y": [
          1.2379579215557721,
          -0.5005184725982377,
          -1.8230450427793612,
          0.06842502309955707,
          0.4254384314514911,
          1.1763052359239257,
          -0.11214271908475447,
          1.1059753615356682,
          0.22346118664892053,
          -3.0955008897822682,
          -1.4517744954104537,
          1.0800716683559,
          0.7541959355429521,
          -0.19781466988496854,
          0.8027711878115771,
          0.32235289207845674,
          -1.407064449126228,
          0.5813815157192956,
          -0.4203924036852652,
          0.5355956630247433,
          1.0206309013545645,
          0.7384385770882846,
          -0.2900868329082115,
          0.3829461322814965,
          0.4611215018331621,
          -1.3790825150179762,
          1.2819328381644517,
          -1.134352798171451,
          0.5205979181212208,
          1.3157399184969396,
          0.784109751385838,
          -0.2788739329905516,
          2.8096183045496717,
          -0.2308271549045375,
          1.3964084344569843,
          0.01831236818373684,
          0.827571000150851,
          -0.7590395468795416,
          -0.16238163174865078,
          0.2572099021763275,
          -0.1498663201241084,
          2.0530119786117687,
          -0.03723847683954049,
          0.41757657681991633,
          0.9672215524108312,
          1.964130099188044,
          -0.9148020760659852,
          -0.7067367751252867,
          -0.46258169228107315,
          0.6395101035312151,
          0.614656019091725,
          1.6970454877439154,
          0.09192463941462742,
          1.541224196386175,
          1.1495442914166665,
          1.4773844447931597,
          1.7621437230813883,
          0.46693142325967285,
          1.419824486490099,
          0.8120024374923902,
          -1.0954528503558223,
          0.0407775353196377,
          0.42850511111267753,
          1.9275505103817203,
          -1.3431683970134831,
          0.796264215695926,
          -1.9127758508775747,
          1.2854170397536104,
          -0.29109585036885166,
          0.7387637394372951,
          0.1864707079105069,
          -1.2500559744599842,
          1.2676856772130243,
          -0.16842033667773443,
          0.05579077525029771,
          -0.3262741971013337,
          0.023869859254569244,
          0.24314462754504315,
          -0.1535936724579839,
          1.0697246004611893,
          -0.9083408958560282,
          0.23825984450463622,
          0.6387576608046327,
          -0.5069686294885749,
          0.951703871558809,
          -0.5131593778854479,
          -0.06489118914025865,
          -1.6708061688797646,
          -0.8107835190282477,
          -1.181205795352084,
          -0.813756681394152,
          0.12899794573478857,
          -0.3690930111001821,
          1.015706364161616,
          -1.5316143343754245,
          -0.5312137078010556,
          -0.9267416426601521,
          0.800610799926069,
          -1.3397198536182306,
          -0.39168708430114446
         ],
         "yaxis": "y3"
        },
        {
         "line": {
          "color": "rgba(128, 128, 128, 1.0)",
          "dash": "solid",
          "shape": "linear",
          "width": 1.3
         },
         "marker": {
          "size": 2,
          "symbol": "circle"
         },
         "mode": "markers",
         "name": "A",
         "text": "",
         "type": "scatter",
         "x": [
          -1.3310222068170523,
          -1.7096392690646527,
          -1.2912551841487887,
          -0.7020206211106352,
          -0.2875650554311028,
          0.19299137551135742,
          -0.3318021907267024,
          0.554407437903143,
          -1.6027514483438141,
          -0.5583374457996408,
          -1.1909155900979693,
          -0.16799969304505857,
          1.1076547382907063,
          -0.08899211740101358,
          -1.1449527400822357,
          1.6959826727319578,
          1.3670266110405185,
          -0.8405936593803466,
          -0.1929076216496946,
          0.8789932032389244,
          -0.4698205311769827,
          -0.398356752332882,
          1.0561635988235853,
          -0.3706603855536645,
          -0.277764072335064,
          -1.0785627100616377,
          -0.18152225999466887,
          0.5276844224501354,
          1.1561194606045417,
          1.1106954550163752,
          1.0627416146217996,
          -0.1260928931598106,
          -0.4598332651987356,
          0.6411437776042059,
          -1.041951477817779,
          0.6691217962214827,
          1.6296666424666046,
          -0.44574977222849377,
          -0.23281014979912887,
          -0.8639938660683446,
          0.27319588799445926,
          0.37558781089225113,
          -0.5534460166278362,
          -0.5364730092304173,
          0.9362697464962008,
          -0.37548380330025893,
          -0.6509652667464869,
          0.8970401589650328,
          -0.5009942063842345,
          -0.44467857541875516,
          0.09353221011102655,
          -0.11262393269507838,
          0.7625100864753245,
          2.3613592187384107,
          1.029644115872112,
          -0.2242940367590926,
          0.5824917337235999,
          -2.6652205073890047,
          0.012729101381596683,
          -0.22203396772971987,
          0.09131735780368261,
          1.6016833144812963,
          -0.5474491875501178,
          -0.21470432358028996,
          0.8304930555147175,
          0.08789297532799611,
          -0.7104857063861766,
          2.0978491190720696,
          0.4547763828312598,
          0.020660494156799884,
          0.9137750695744344,
          -0.2524765883552448,
          0.18743883654481444,
          -0.27695411625325256,
          1.0623044063581735,
          0.0847298230681404,
          -2.402239634495088,
          0.6097433415482213,
          1.0828561134806167,
          0.30931683484609324,
          0.1278116765466919,
          -0.784658364858415,
          -0.06854681415485908,
          0.24234831106758858,
          -0.317327955941285,
          -0.5732783164792783,
          -0.1794450666813971,
          0.5751584951505719,
          -1.5956776053935104,
          -1.3413271641328415,
          -0.411489813959892,
          0.037151516689043845,
          1.4482132720076988,
          0.06431614118783856,
          -1.3208101075105647,
          1.1178702087130916,
          -0.9365522791504914,
          -0.7876891468081865,
          2.0388487442797953,
          -0.950333941501925
         ],
         "xaxis": "x4",
         "y": [
          1.2379579215557721,
          -0.5005184725982377,
          -1.8230450427793612,
          0.06842502309955707,
          0.4254384314514911,
          1.1763052359239257,
          -0.11214271908475447,
          1.1059753615356682,
          0.22346118664892053,
          -3.0955008897822682,
          -1.4517744954104537,
          1.0800716683559,
          0.7541959355429521,
          -0.19781466988496854,
          0.8027711878115771,
          0.32235289207845674,
          -1.407064449126228,
          0.5813815157192956,
          -0.4203924036852652,
          0.5355956630247433,
          1.0206309013545645,
          0.7384385770882846,
          -0.2900868329082115,
          0.3829461322814965,
          0.4611215018331621,
          -1.3790825150179762,
          1.2819328381644517,
          -1.134352798171451,
          0.5205979181212208,
          1.3157399184969396,
          0.784109751385838,
          -0.2788739329905516,
          2.8096183045496717,
          -0.2308271549045375,
          1.3964084344569843,
          0.01831236818373684,
          0.827571000150851,
          -0.7590395468795416,
          -0.16238163174865078,
          0.2572099021763275,
          -0.1498663201241084,
          2.0530119786117687,
          -0.03723847683954049,
          0.41757657681991633,
          0.9672215524108312,
          1.964130099188044,
          -0.9148020760659852,
          -0.7067367751252867,
          -0.46258169228107315,
          0.6395101035312151,
          0.614656019091725,
          1.6970454877439154,
          0.09192463941462742,
          1.541224196386175,
          1.1495442914166665,
          1.4773844447931597,
          1.7621437230813883,
          0.46693142325967285,
          1.419824486490099,
          0.8120024374923902,
          -1.0954528503558223,
          0.0407775353196377,
          0.42850511111267753,
          1.9275505103817203,
          -1.3431683970134831,
          0.796264215695926,
          -1.9127758508775747,
          1.2854170397536104,
          -0.29109585036885166,
          0.7387637394372951,
          0.1864707079105069,
          -1.2500559744599842,
          1.2676856772130243,
          -0.16842033667773443,
          0.05579077525029771,
          -0.3262741971013337,
          0.023869859254569244,
          0.24314462754504315,
          -0.1535936724579839,
          1.0697246004611893,
          -0.9083408958560282,
          0.23825984450463622,
          0.6387576608046327,
          -0.5069686294885749,
          0.951703871558809,
          -0.5131593778854479,
          -0.06489118914025865,
          -1.6708061688797646,
          -0.8107835190282477,
          -1.181205795352084,
          -0.813756681394152,
          0.12899794573478857,
          -0.3690930111001821,
          1.015706364161616,
          -1.5316143343754245,
          -0.5312137078010556,
          -0.9267416426601521,
          0.800610799926069,
          -1.3397198536182306,
          -0.39168708430114446
         ],
         "yaxis": "y4"
        },
        {
         "line": {
          "color": "rgba(128, 128, 128, 1.0)",
          "dash": "solid",
          "shape": "linear",
          "width": 1.3
         },
         "marker": {
          "size": 2,
          "symbol": "circle"
         },
         "mode": "markers",
         "name": "B",
         "text": "",
         "type": "scatter",
         "x": [
          1.2379579215557721,
          -0.5005184725982377,
          -1.8230450427793612,
          0.06842502309955707,
          0.4254384314514911,
          1.1763052359239257,
          -0.11214271908475447,
          1.1059753615356682,
          0.22346118664892053,
          -3.0955008897822682,
          -1.4517744954104537,
          1.0800716683559,
          0.7541959355429521,
          -0.19781466988496854,
          0.8027711878115771,
          0.32235289207845674,
          -1.407064449126228,
          0.5813815157192956,
          -0.4203924036852652,
          0.5355956630247433,
          1.0206309013545645,
          0.7384385770882846,
          -0.2900868329082115,
          0.3829461322814965,
          0.4611215018331621,
          -1.3790825150179762,
          1.2819328381644517,
          -1.134352798171451,
          0.5205979181212208,
          1.3157399184969396,
          0.784109751385838,
          -0.2788739329905516,
          2.8096183045496717,
          -0.2308271549045375,
          1.3964084344569843,
          0.01831236818373684,
          0.827571000150851,
          -0.7590395468795416,
          -0.16238163174865078,
          0.2572099021763275,
          -0.1498663201241084,
          2.0530119786117687,
          -0.03723847683954049,
          0.41757657681991633,
          0.9672215524108312,
          1.964130099188044,
          -0.9148020760659852,
          -0.7067367751252867,
          -0.46258169228107315,
          0.6395101035312151,
          0.614656019091725,
          1.6970454877439154,
          0.09192463941462742,
          1.541224196386175,
          1.1495442914166665,
          1.4773844447931597,
          1.7621437230813883,
          0.46693142325967285,
          1.419824486490099,
          0.8120024374923902,
          -1.0954528503558223,
          0.0407775353196377,
          0.42850511111267753,
          1.9275505103817203,
          -1.3431683970134831,
          0.796264215695926,
          -1.9127758508775747,
          1.2854170397536104,
          -0.29109585036885166,
          0.7387637394372951,
          0.1864707079105069,
          -1.2500559744599842,
          1.2676856772130243,
          -0.16842033667773443,
          0.05579077525029771,
          -0.3262741971013337,
          0.023869859254569244,
          0.24314462754504315,
          -0.1535936724579839,
          1.0697246004611893,
          -0.9083408958560282,
          0.23825984450463622,
          0.6387576608046327,
          -0.5069686294885749,
          0.951703871558809,
          -0.5131593778854479,
          -0.06489118914025865,
          -1.6708061688797646,
          -0.8107835190282477,
          -1.181205795352084,
          -0.813756681394152,
          0.12899794573478857,
          -0.3690930111001821,
          1.015706364161616,
          -1.5316143343754245,
          -0.5312137078010556,
          -0.9267416426601521,
          0.800610799926069,
          -1.3397198536182306,
          -0.39168708430114446
         ],
         "xaxis": "x5",
         "y": [
          0.02001560917781522,
          -1.0891731935032625,
          1.117115278451909,
          0.40002640297342607,
          0.6788225994148674,
          -1.0464508327499304,
          1.753186397555937,
          0.4553153584280742,
          1.9267772772513023,
          0.36761632757654483,
          0.3354221156945639,
          -1.3975971007794514,
          -0.8288799184866059,
          -1.4694617838267692,
          0.38071369841281305,
          0.5873705484639964,
          -1.3368556819937818,
          1.4991333888708165,
          0.5813807231497642,
          -0.5527128990216509,
          -0.09761952261295645,
          -0.28166161146952456,
          0.7142778405665612,
          0.6293793918294663,
          -2.123446302387997,
          -0.1383482546425122,
          0.0893175440277195,
          -1.3223609989772662,
          -1.4742353228376357,
          2.3557586879361794,
          0.6407860071334618,
          -1.6723162335483108,
          0.010739496078409847,
          -0.8404641217846549,
          -0.37170568055098224,
          1.8912657465336102,
          0.18598631691892653,
          -0.5051875454241069,
          0.20307885101154383,
          -0.1892760143690366,
          1.0627125177800432,
          0.00576008208656999,
          1.4018256061331034,
          0.21525579076981813,
          0.9108216767100435,
          -0.09179782052924047,
          -0.8190698523389677,
          0.5656749663533622,
          1.01457085362219,
          -1.3907851791904955,
          0.09853552198020779,
          1.7139266832774738,
          -0.34554016715977387,
          2.2656738435005725,
          0.48749200482362615,
          0.7508919362554308,
          -0.5490445283005263,
          1.353420063225845,
          -0.3316233300195538,
          0.6405398483347998,
          -0.2463538808502654,
          -0.7363662270746788,
          -0.680425364174238,
          0.05553101197713513,
          1.6033590272505436,
          0.10504078713367834,
          2.080793389318112,
          -0.24229773712897296,
          -1.0333677171102167,
          0.4132352687474129,
          -0.02609569212262343,
          0.4517671856431499,
          -0.844903742341376,
          -1.117027526113431,
          0.20431018641555201,
          0.1887560681516722,
          -0.8661853113814597,
          -1.3997834715565687,
          1.293875546610676,
          0.12507506231115692,
          1.4813260456365591,
          1.2799752422469581,
          -1.873280502909398,
          -1.1616794539335047,
          -0.7297439373845849,
          0.3172723549807555,
          0.02191631673027781,
          1.763692690956398,
          -0.8702349417220633,
          1.63676868925836,
          -0.6512863117971823,
          0.5600399577030546,
          1.234716383944129,
          -1.0610391550838316,
          -0.31963888274136043,
          2.159961437255129,
          0.5231537525093585,
          -0.6452848760271948,
          0.9483151450214008,
          0.3273184835628279
         ],
         "yaxis": "y5"
        },
        {
         "histfunc": "count",
         "histnorm": "",
         "marker": {
          "color": "rgba(55, 128, 191, 1.0)",
          "line": {
           "color": "#4D5663",
           "width": 1.3
          }
         },
         "name": "B",
         "nbinsx": 10,
         "opacity": 0.8,
         "orientation": "v",
         "type": "histogram",
         "x": [
          0.02001560917781522,
          -1.0891731935032625,
          1.117115278451909,
          0.40002640297342607,
          0.6788225994148674,
          -1.0464508327499304,
          1.753186397555937,
          0.4553153584280742,
          1.9267772772513023,
          0.36761632757654483,
          0.3354221156945639,
          -1.3975971007794514,
          -0.8288799184866059,
          -1.4694617838267692,
          0.38071369841281305,
          0.5873705484639964,
          -1.3368556819937818,
          1.4991333888708165,
          0.5813807231497642,
          -0.5527128990216509,
          -0.09761952261295645,
          -0.28166161146952456,
          0.7142778405665612,
          0.6293793918294663,
          -2.123446302387997,
          -0.1383482546425122,
          0.0893175440277195,
          -1.3223609989772662,
          -1.4742353228376357,
          2.3557586879361794,
          0.6407860071334618,
          -1.6723162335483108,
          0.010739496078409847,
          -0.8404641217846549,
          -0.37170568055098224,
          1.8912657465336102,
          0.18598631691892653,
          -0.5051875454241069,
          0.20307885101154383,
          -0.1892760143690366,
          1.0627125177800432,
          0.00576008208656999,
          1.4018256061331034,
          0.21525579076981813,
          0.9108216767100435,
          -0.09179782052924047,
          -0.8190698523389677,
          0.5656749663533622,
          1.01457085362219,
          -1.3907851791904955,
          0.09853552198020779,
          1.7139266832774738,
          -0.34554016715977387,
          2.2656738435005725,
          0.48749200482362615,
          0.7508919362554308,
          -0.5490445283005263,
          1.353420063225845,
          -0.3316233300195538,
          0.6405398483347998,
          -0.2463538808502654,
          -0.7363662270746788,
          -0.680425364174238,
          0.05553101197713513,
          1.6033590272505436,
          0.10504078713367834,
          2.080793389318112,
          -0.24229773712897296,
          -1.0333677171102167,
          0.4132352687474129,
          -0.02609569212262343,
          0.4517671856431499,
          -0.844903742341376,
          -1.117027526113431,
          0.20431018641555201,
          0.1887560681516722,
          -0.8661853113814597,
          -1.3997834715565687,
          1.293875546610676,
          0.12507506231115692,
          1.4813260456365591,
          1.2799752422469581,
          -1.873280502909398,
          -1.1616794539335047,
          -0.7297439373845849,
          0.3172723549807555,
          0.02191631673027781,
          1.763692690956398,
          -0.8702349417220633,
          1.63676868925836,
          -0.6512863117971823,
          0.5600399577030546,
          1.234716383944129,
          -1.0610391550838316,
          -0.31963888274136043,
          2.159961437255129,
          0.5231537525093585,
          -0.6452848760271948,
          0.9483151450214008,
          0.3273184835628279
         ],
         "xaxis": "x6",
         "yaxis": "y6"
        },
        {
         "line": {
          "color": "rgba(128, 128, 128, 1.0)",
          "dash": "solid",
          "shape": "linear",
          "width": 1.3
         },
         "marker": {
          "size": 2,
          "symbol": "circle"
         },
         "mode": "markers",
         "name": "B",
         "text": "",
         "type": "scatter",
         "x": [
          -0.3308678283499978,
          1.2102869885680758,
          0.16165666886283267,
          -0.05014626976914914,
          -1.7041310004861954,
          2.024235238513975,
          -0.09134465405958134,
          -1.6844924497820224,
          0.9163296026413046,
          2.0794659045860073,
          0.9924934578875237,
          0.5873707456348409,
          1.2905227319405057,
          0.46820678032260965,
          1.1206849052535683,
          1.341070631482998,
          -0.9920483075572034,
          -0.37702169423272214,
          0.46126090421413385,
          -0.4546029067221703,
          0.4026763795390725,
          -0.7561975897647178,
          0.14441673856184556,
          0.8211975728390191,
          0.6788870276756361,
          1.1182546437714418,
          0.9490176518954572,
          -1.154782531524615,
          0.38181427290559194,
          0.33793396035602163,
          -0.7751405834311564,
          -0.5529730769082326,
          0.05647916438691906,
          0.10192405603420507,
          -2.5162833330941545,
          -0.7951372011661051,
          -0.3646860211475907,
          0.40531580458811517,
          1.1926397744105726,
          -0.29028992462203845,
          1.3583231215828995,
          0.07781708033642254,
          2.0736040373947846,
          -0.8696821561479623,
          0.12043740731758966,
          -0.03629497239265656,
          0.3053570205331342,
          0.18029122773894382,
          0.13354900391709607,
          -0.17334299637084163,
          1.441867436897421,
          1.4636153646305592,
          0.26550864279774633,
          -0.7738813937949514,
          -1.2303692250124292,
          0.838200091267915,
          -0.38617909861518657,
          0.7352581128330348,
          -0.4019180535632065,
          0.20708486170988621,
          -0.7159667677135855,
          0.8368946666471312,
          -0.7160851600715328,
          0.6010705536057844,
          0.2030736188503543,
          0.5921507478620754,
          0.7574792167617637,
          0.4842234648942265,
          0.5773379515467608,
          1.670424691479897,
          0.9266799668186261,
          -1.403877587672895,
          1.2038809660012877,
          0.3452384281513092,
          0.44303880229347764,
          0.8719181744286881,
          -1.2329183855895733,
          0.9236240777143699,
          -0.24448714149810596,
          -1.0261859997751288,
          -0.21321537760757056,
          -1.5737984069401019,
          -0.18240254216565702,
          -0.6234118074730078,
          -1.4485033427600447,
          0.5503312905497174,
          -1.8692148240880035,
          0.2651111144391633,
          -0.4259951764634556,
          -0.8599050611922008,
          -0.14029638457586968,
          -1.3003551328791512,
          2.2322790534052537,
          -0.29450300839930077,
          -1.0470733402417887,
          -1.0307516059120065,
          0.21920184356692302,
          -0.42602690198949716,
          1.0245308766574683,
          -1.9089173419853969
         ],
         "xaxis": "x7",
         "y": [
          0.02001560917781522,
          -1.0891731935032625,
          1.117115278451909,
          0.40002640297342607,
          0.6788225994148674,
          -1.0464508327499304,
          1.753186397555937,
          0.4553153584280742,
          1.9267772772513023,
          0.36761632757654483,
          0.3354221156945639,
          -1.3975971007794514,
          -0.8288799184866059,
          -1.4694617838267692,
          0.38071369841281305,
          0.5873705484639964,
          -1.3368556819937818,
          1.4991333888708165,
          0.5813807231497642,
          -0.5527128990216509,
          -0.09761952261295645,
          -0.28166161146952456,
          0.7142778405665612,
          0.6293793918294663,
          -2.123446302387997,
          -0.1383482546425122,
          0.0893175440277195,
          -1.3223609989772662,
          -1.4742353228376357,
          2.3557586879361794,
          0.6407860071334618,
          -1.6723162335483108,
          0.010739496078409847,
          -0.8404641217846549,
          -0.37170568055098224,
          1.8912657465336102,
          0.18598631691892653,
          -0.5051875454241069,
          0.20307885101154383,
          -0.1892760143690366,
          1.0627125177800432,
          0.00576008208656999,
          1.4018256061331034,
          0.21525579076981813,
          0.9108216767100435,
          -0.09179782052924047,
          -0.8190698523389677,
          0.5656749663533622,
          1.01457085362219,
          -1.3907851791904955,
          0.09853552198020779,
          1.7139266832774738,
          -0.34554016715977387,
          2.2656738435005725,
          0.48749200482362615,
          0.7508919362554308,
          -0.5490445283005263,
          1.353420063225845,
          -0.3316233300195538,
          0.6405398483347998,
          -0.2463538808502654,
          -0.7363662270746788,
          -0.680425364174238,
          0.05553101197713513,
          1.6033590272505436,
          0.10504078713367834,
          2.080793389318112,
          -0.24229773712897296,
          -1.0333677171102167,
          0.4132352687474129,
          -0.02609569212262343,
          0.4517671856431499,
          -0.844903742341376,
          -1.117027526113431,
          0.20431018641555201,
          0.1887560681516722,
          -0.8661853113814597,
          -1.3997834715565687,
          1.293875546610676,
          0.12507506231115692,
          1.4813260456365591,
          1.2799752422469581,
          -1.873280502909398,
          -1.1616794539335047,
          -0.7297439373845849,
          0.3172723549807555,
          0.02191631673027781,
          1.763692690956398,
          -0.8702349417220633,
          1.63676868925836,
          -0.6512863117971823,
          0.5600399577030546,
          1.234716383944129,
          -1.0610391550838316,
          -0.31963888274136043,
          2.159961437255129,
          0.5231537525093585,
          -0.6452848760271948,
          0.9483151450214008,
          0.3273184835628279
         ],
         "yaxis": "y7"
        },
        {
         "line": {
          "color": "rgba(128, 128, 128, 1.0)",
          "dash": "solid",
          "shape": "linear",
          "width": 1.3
         },
         "marker": {
          "size": 2,
          "symbol": "circle"
         },
         "mode": "markers",
         "name": "B",
         "text": "",
         "type": "scatter",
         "x": [
          -1.3310222068170523,
          -1.7096392690646527,
          -1.2912551841487887,
          -0.7020206211106352,
          -0.2875650554311028,
          0.19299137551135742,
          -0.3318021907267024,
          0.554407437903143,
          -1.6027514483438141,
          -0.5583374457996408,
          -1.1909155900979693,
          -0.16799969304505857,
          1.1076547382907063,
          -0.08899211740101358,
          -1.1449527400822357,
          1.6959826727319578,
          1.3670266110405185,
          -0.8405936593803466,
          -0.1929076216496946,
          0.8789932032389244,
          -0.4698205311769827,
          -0.398356752332882,
          1.0561635988235853,
          -0.3706603855536645,
          -0.277764072335064,
          -1.0785627100616377,
          -0.18152225999466887,
          0.5276844224501354,
          1.1561194606045417,
          1.1106954550163752,
          1.0627416146217996,
          -0.1260928931598106,
          -0.4598332651987356,
          0.6411437776042059,
          -1.041951477817779,
          0.6691217962214827,
          1.6296666424666046,
          -0.44574977222849377,
          -0.23281014979912887,
          -0.8639938660683446,
          0.27319588799445926,
          0.37558781089225113,
          -0.5534460166278362,
          -0.5364730092304173,
          0.9362697464962008,
          -0.37548380330025893,
          -0.6509652667464869,
          0.8970401589650328,
          -0.5009942063842345,
          -0.44467857541875516,
          0.09353221011102655,
          -0.11262393269507838,
          0.7625100864753245,
          2.3613592187384107,
          1.029644115872112,
          -0.2242940367590926,
          0.5824917337235999,
          -2.6652205073890047,
          0.012729101381596683,
          -0.22203396772971987,
          0.09131735780368261,
          1.6016833144812963,
          -0.5474491875501178,
          -0.21470432358028996,
          0.8304930555147175,
          0.08789297532799611,
          -0.7104857063861766,
          2.0978491190720696,
          0.4547763828312598,
          0.020660494156799884,
          0.9137750695744344,
          -0.2524765883552448,
          0.18743883654481444,
          -0.27695411625325256,
          1.0623044063581735,
          0.0847298230681404,
          -2.402239634495088,
          0.6097433415482213,
          1.0828561134806167,
          0.30931683484609324,
          0.1278116765466919,
          -0.784658364858415,
          -0.06854681415485908,
          0.24234831106758858,
          -0.317327955941285,
          -0.5732783164792783,
          -0.1794450666813971,
          0.5751584951505719,
          -1.5956776053935104,
          -1.3413271641328415,
          -0.411489813959892,
          0.037151516689043845,
          1.4482132720076988,
          0.06431614118783856,
          -1.3208101075105647,
          1.1178702087130916,
          -0.9365522791504914,
          -0.7876891468081865,
          2.0388487442797953,
          -0.950333941501925
         ],
         "xaxis": "x8",
         "y": [
          0.02001560917781522,
          -1.0891731935032625,
          1.117115278451909,
          0.40002640297342607,
          0.6788225994148674,
          -1.0464508327499304,
          1.753186397555937,
          0.4553153584280742,
          1.9267772772513023,
          0.36761632757654483,
          0.3354221156945639,
          -1.3975971007794514,
          -0.8288799184866059,
          -1.4694617838267692,
          0.38071369841281305,
          0.5873705484639964,
          -1.3368556819937818,
          1.4991333888708165,
          0.5813807231497642,
          -0.5527128990216509,
          -0.09761952261295645,
          -0.28166161146952456,
          0.7142778405665612,
          0.6293793918294663,
          -2.123446302387997,
          -0.1383482546425122,
          0.0893175440277195,
          -1.3223609989772662,
          -1.4742353228376357,
          2.3557586879361794,
          0.6407860071334618,
          -1.6723162335483108,
          0.010739496078409847,
          -0.8404641217846549,
          -0.37170568055098224,
          1.8912657465336102,
          0.18598631691892653,
          -0.5051875454241069,
          0.20307885101154383,
          -0.1892760143690366,
          1.0627125177800432,
          0.00576008208656999,
          1.4018256061331034,
          0.21525579076981813,
          0.9108216767100435,
          -0.09179782052924047,
          -0.8190698523389677,
          0.5656749663533622,
          1.01457085362219,
          -1.3907851791904955,
          0.09853552198020779,
          1.7139266832774738,
          -0.34554016715977387,
          2.2656738435005725,
          0.48749200482362615,
          0.7508919362554308,
          -0.5490445283005263,
          1.353420063225845,
          -0.3316233300195538,
          0.6405398483347998,
          -0.2463538808502654,
          -0.7363662270746788,
          -0.680425364174238,
          0.05553101197713513,
          1.6033590272505436,
          0.10504078713367834,
          2.080793389318112,
          -0.24229773712897296,
          -1.0333677171102167,
          0.4132352687474129,
          -0.02609569212262343,
          0.4517671856431499,
          -0.844903742341376,
          -1.117027526113431,
          0.20431018641555201,
          0.1887560681516722,
          -0.8661853113814597,
          -1.3997834715565687,
          1.293875546610676,
          0.12507506231115692,
          1.4813260456365591,
          1.2799752422469581,
          -1.873280502909398,
          -1.1616794539335047,
          -0.7297439373845849,
          0.3172723549807555,
          0.02191631673027781,
          1.763692690956398,
          -0.8702349417220633,
          1.63676868925836,
          -0.6512863117971823,
          0.5600399577030546,
          1.234716383944129,
          -1.0610391550838316,
          -0.31963888274136043,
          2.159961437255129,
          0.5231537525093585,
          -0.6452848760271948,
          0.9483151450214008,
          0.3273184835628279
         ],
         "yaxis": "y8"
        },
        {
         "line": {
          "color": "rgba(128, 128, 128, 1.0)",
          "dash": "solid",
          "shape": "linear",
          "width": 1.3
         },
         "marker": {
          "size": 2,
          "symbol": "circle"
         },
         "mode": "markers",
         "name": "C",
         "text": "",
         "type": "scatter",
         "x": [
          1.2379579215557721,
          -0.5005184725982377,
          -1.8230450427793612,
          0.06842502309955707,
          0.4254384314514911,
          1.1763052359239257,
          -0.11214271908475447,
          1.1059753615356682,
          0.22346118664892053,
          -3.0955008897822682,
          -1.4517744954104537,
          1.0800716683559,
          0.7541959355429521,
          -0.19781466988496854,
          0.8027711878115771,
          0.32235289207845674,
          -1.407064449126228,
          0.5813815157192956,
          -0.4203924036852652,
          0.5355956630247433,
          1.0206309013545645,
          0.7384385770882846,
          -0.2900868329082115,
          0.3829461322814965,
          0.4611215018331621,
          -1.3790825150179762,
          1.2819328381644517,
          -1.134352798171451,
          0.5205979181212208,
          1.3157399184969396,
          0.784109751385838,
          -0.2788739329905516,
          2.8096183045496717,
          -0.2308271549045375,
          1.3964084344569843,
          0.01831236818373684,
          0.827571000150851,
          -0.7590395468795416,
          -0.16238163174865078,
          0.2572099021763275,
          -0.1498663201241084,
          2.0530119786117687,
          -0.03723847683954049,
          0.41757657681991633,
          0.9672215524108312,
          1.964130099188044,
          -0.9148020760659852,
          -0.7067367751252867,
          -0.46258169228107315,
          0.6395101035312151,
          0.614656019091725,
          1.6970454877439154,
          0.09192463941462742,
          1.541224196386175,
          1.1495442914166665,
          1.4773844447931597,
          1.7621437230813883,
          0.46693142325967285,
          1.419824486490099,
          0.8120024374923902,
          -1.0954528503558223,
          0.0407775353196377,
          0.42850511111267753,
          1.9275505103817203,
          -1.3431683970134831,
          0.796264215695926,
          -1.9127758508775747,
          1.2854170397536104,
          -0.29109585036885166,
          0.7387637394372951,
          0.1864707079105069,
          -1.2500559744599842,
          1.2676856772130243,
          -0.16842033667773443,
          0.05579077525029771,
          -0.3262741971013337,
          0.023869859254569244,
          0.24314462754504315,
          -0.1535936724579839,
          1.0697246004611893,
          -0.9083408958560282,
          0.23825984450463622,
          0.6387576608046327,
          -0.5069686294885749,
          0.951703871558809,
          -0.5131593778854479,
          -0.06489118914025865,
          -1.6708061688797646,
          -0.8107835190282477,
          -1.181205795352084,
          -0.813756681394152,
          0.12899794573478857,
          -0.3690930111001821,
          1.015706364161616,
          -1.5316143343754245,
          -0.5312137078010556,
          -0.9267416426601521,
          0.800610799926069,
          -1.3397198536182306,
          -0.39168708430114446
         ],
         "xaxis": "x9",
         "y": [
          -0.3308678283499978,
          1.2102869885680758,
          0.16165666886283267,
          -0.05014626976914914,
          -1.7041310004861954,
          2.024235238513975,
          -0.09134465405958134,
          -1.6844924497820224,
          0.9163296026413046,
          2.0794659045860073,
          0.9924934578875237,
          0.5873707456348409,
          1.2905227319405057,
          0.46820678032260965,
          1.1206849052535683,
          1.341070631482998,
          -0.9920483075572034,
          -0.37702169423272214,
          0.46126090421413385,
          -0.4546029067221703,
          0.4026763795390725,
          -0.7561975897647178,
          0.14441673856184556,
          0.8211975728390191,
          0.6788870276756361,
          1.1182546437714418,
          0.9490176518954572,
          -1.154782531524615,
          0.38181427290559194,
          0.33793396035602163,
          -0.7751405834311564,
          -0.5529730769082326,
          0.05647916438691906,
          0.10192405603420507,
          -2.5162833330941545,
          -0.7951372011661051,
          -0.3646860211475907,
          0.40531580458811517,
          1.1926397744105726,
          -0.29028992462203845,
          1.3583231215828995,
          0.07781708033642254,
          2.0736040373947846,
          -0.8696821561479623,
          0.12043740731758966,
          -0.03629497239265656,
          0.3053570205331342,
          0.18029122773894382,
          0.13354900391709607,
          -0.17334299637084163,
          1.441867436897421,
          1.4636153646305592,
          0.26550864279774633,
          -0.7738813937949514,
          -1.2303692250124292,
          0.838200091267915,
          -0.38617909861518657,
          0.7352581128330348,
          -0.4019180535632065,
          0.20708486170988621,
          -0.7159667677135855,
          0.8368946666471312,
          -0.7160851600715328,
          0.6010705536057844,
          0.2030736188503543,
          0.5921507478620754,
          0.7574792167617637,
          0.4842234648942265,
          0.5773379515467608,
          1.670424691479897,
          0.9266799668186261,
          -1.403877587672895,
          1.2038809660012877,
          0.3452384281513092,
          0.44303880229347764,
          0.8719181744286881,
          -1.2329183855895733,
          0.9236240777143699,
          -0.24448714149810596,
          -1.0261859997751288,
          -0.21321537760757056,
          -1.5737984069401019,
          -0.18240254216565702,
          -0.6234118074730078,
          -1.4485033427600447,
          0.5503312905497174,
          -1.8692148240880035,
          0.2651111144391633,
          -0.4259951764634556,
          -0.8599050611922008,
          -0.14029638457586968,
          -1.3003551328791512,
          2.2322790534052537,
          -0.29450300839930077,
          -1.0470733402417887,
          -1.0307516059120065,
          0.21920184356692302,
          -0.42602690198949716,
          1.0245308766574683,
          -1.9089173419853969
         ],
         "yaxis": "y9"
        },
        {
         "line": {
          "color": "rgba(128, 128, 128, 1.0)",
          "dash": "solid",
          "shape": "linear",
          "width": 1.3
         },
         "marker": {
          "size": 2,
          "symbol": "circle"
         },
         "mode": "markers",
         "name": "C",
         "text": "",
         "type": "scatter",
         "x": [
          0.02001560917781522,
          -1.0891731935032625,
          1.117115278451909,
          0.40002640297342607,
          0.6788225994148674,
          -1.0464508327499304,
          1.753186397555937,
          0.4553153584280742,
          1.9267772772513023,
          0.36761632757654483,
          0.3354221156945639,
          -1.3975971007794514,
          -0.8288799184866059,
          -1.4694617838267692,
          0.38071369841281305,
          0.5873705484639964,
          -1.3368556819937818,
          1.4991333888708165,
          0.5813807231497642,
          -0.5527128990216509,
          -0.09761952261295645,
          -0.28166161146952456,
          0.7142778405665612,
          0.6293793918294663,
          -2.123446302387997,
          -0.1383482546425122,
          0.0893175440277195,
          -1.3223609989772662,
          -1.4742353228376357,
          2.3557586879361794,
          0.6407860071334618,
          -1.6723162335483108,
          0.010739496078409847,
          -0.8404641217846549,
          -0.37170568055098224,
          1.8912657465336102,
          0.18598631691892653,
          -0.5051875454241069,
          0.20307885101154383,
          -0.1892760143690366,
          1.0627125177800432,
          0.00576008208656999,
          1.4018256061331034,
          0.21525579076981813,
          0.9108216767100435,
          -0.09179782052924047,
          -0.8190698523389677,
          0.5656749663533622,
          1.01457085362219,
          -1.3907851791904955,
          0.09853552198020779,
          1.7139266832774738,
          -0.34554016715977387,
          2.2656738435005725,
          0.48749200482362615,
          0.7508919362554308,
          -0.5490445283005263,
          1.353420063225845,
          -0.3316233300195538,
          0.6405398483347998,
          -0.2463538808502654,
          -0.7363662270746788,
          -0.680425364174238,
          0.05553101197713513,
          1.6033590272505436,
          0.10504078713367834,
          2.080793389318112,
          -0.24229773712897296,
          -1.0333677171102167,
          0.4132352687474129,
          -0.02609569212262343,
          0.4517671856431499,
          -0.844903742341376,
          -1.117027526113431,
          0.20431018641555201,
          0.1887560681516722,
          -0.8661853113814597,
          -1.3997834715565687,
          1.293875546610676,
          0.12507506231115692,
          1.4813260456365591,
          1.2799752422469581,
          -1.873280502909398,
          -1.1616794539335047,
          -0.7297439373845849,
          0.3172723549807555,
          0.02191631673027781,
          1.763692690956398,
          -0.8702349417220633,
          1.63676868925836,
          -0.6512863117971823,
          0.5600399577030546,
          1.234716383944129,
          -1.0610391550838316,
          -0.31963888274136043,
          2.159961437255129,
          0.5231537525093585,
          -0.6452848760271948,
          0.9483151450214008,
          0.3273184835628279
         ],
         "xaxis": "x10",
         "y": [
          -0.3308678283499978,
          1.2102869885680758,
          0.16165666886283267,
          -0.05014626976914914,
          -1.7041310004861954,
          2.024235238513975,
          -0.09134465405958134,
          -1.6844924497820224,
          0.9163296026413046,
          2.0794659045860073,
          0.9924934578875237,
          0.5873707456348409,
          1.2905227319405057,
          0.46820678032260965,
          1.1206849052535683,
          1.341070631482998,
          -0.9920483075572034,
          -0.37702169423272214,
          0.46126090421413385,
          -0.4546029067221703,
          0.4026763795390725,
          -0.7561975897647178,
          0.14441673856184556,
          0.8211975728390191,
          0.6788870276756361,
          1.1182546437714418,
          0.9490176518954572,
          -1.154782531524615,
          0.38181427290559194,
          0.33793396035602163,
          -0.7751405834311564,
          -0.5529730769082326,
          0.05647916438691906,
          0.10192405603420507,
          -2.5162833330941545,
          -0.7951372011661051,
          -0.3646860211475907,
          0.40531580458811517,
          1.1926397744105726,
          -0.29028992462203845,
          1.3583231215828995,
          0.07781708033642254,
          2.0736040373947846,
          -0.8696821561479623,
          0.12043740731758966,
          -0.03629497239265656,
          0.3053570205331342,
          0.18029122773894382,
          0.13354900391709607,
          -0.17334299637084163,
          1.441867436897421,
          1.4636153646305592,
          0.26550864279774633,
          -0.7738813937949514,
          -1.2303692250124292,
          0.838200091267915,
          -0.38617909861518657,
          0.7352581128330348,
          -0.4019180535632065,
          0.20708486170988621,
          -0.7159667677135855,
          0.8368946666471312,
          -0.7160851600715328,
          0.6010705536057844,
          0.2030736188503543,
          0.5921507478620754,
          0.7574792167617637,
          0.4842234648942265,
          0.5773379515467608,
          1.670424691479897,
          0.9266799668186261,
          -1.403877587672895,
          1.2038809660012877,
          0.3452384281513092,
          0.44303880229347764,
          0.8719181744286881,
          -1.2329183855895733,
          0.9236240777143699,
          -0.24448714149810596,
          -1.0261859997751288,
          -0.21321537760757056,
          -1.5737984069401019,
          -0.18240254216565702,
          -0.6234118074730078,
          -1.4485033427600447,
          0.5503312905497174,
          -1.8692148240880035,
          0.2651111144391633,
          -0.4259951764634556,
          -0.8599050611922008,
          -0.14029638457586968,
          -1.3003551328791512,
          2.2322790534052537,
          -0.29450300839930077,
          -1.0470733402417887,
          -1.0307516059120065,
          0.21920184356692302,
          -0.42602690198949716,
          1.0245308766574683,
          -1.9089173419853969
         ],
         "yaxis": "y10"
        },
        {
         "histfunc": "count",
         "histnorm": "",
         "marker": {
          "color": "rgba(50, 171, 96, 1.0)",
          "line": {
           "color": "#4D5663",
           "width": 1.3
          }
         },
         "name": "C",
         "nbinsx": 10,
         "opacity": 0.8,
         "orientation": "v",
         "type": "histogram",
         "x": [
          -0.3308678283499978,
          1.2102869885680758,
          0.16165666886283267,
          -0.05014626976914914,
          -1.7041310004861954,
          2.024235238513975,
          -0.09134465405958134,
          -1.6844924497820224,
          0.9163296026413046,
          2.0794659045860073,
          0.9924934578875237,
          0.5873707456348409,
          1.2905227319405057,
          0.46820678032260965,
          1.1206849052535683,
          1.341070631482998,
          -0.9920483075572034,
          -0.37702169423272214,
          0.46126090421413385,
          -0.4546029067221703,
          0.4026763795390725,
          -0.7561975897647178,
          0.14441673856184556,
          0.8211975728390191,
          0.6788870276756361,
          1.1182546437714418,
          0.9490176518954572,
          -1.154782531524615,
          0.38181427290559194,
          0.33793396035602163,
          -0.7751405834311564,
          -0.5529730769082326,
          0.05647916438691906,
          0.10192405603420507,
          -2.5162833330941545,
          -0.7951372011661051,
          -0.3646860211475907,
          0.40531580458811517,
          1.1926397744105726,
          -0.29028992462203845,
          1.3583231215828995,
          0.07781708033642254,
          2.0736040373947846,
          -0.8696821561479623,
          0.12043740731758966,
          -0.03629497239265656,
          0.3053570205331342,
          0.18029122773894382,
          0.13354900391709607,
          -0.17334299637084163,
          1.441867436897421,
          1.4636153646305592,
          0.26550864279774633,
          -0.7738813937949514,
          -1.2303692250124292,
          0.838200091267915,
          -0.38617909861518657,
          0.7352581128330348,
          -0.4019180535632065,
          0.20708486170988621,
          -0.7159667677135855,
          0.8368946666471312,
          -0.7160851600715328,
          0.6010705536057844,
          0.2030736188503543,
          0.5921507478620754,
          0.7574792167617637,
          0.4842234648942265,
          0.5773379515467608,
          1.670424691479897,
          0.9266799668186261,
          -1.403877587672895,
          1.2038809660012877,
          0.3452384281513092,
          0.44303880229347764,
          0.8719181744286881,
          -1.2329183855895733,
          0.9236240777143699,
          -0.24448714149810596,
          -1.0261859997751288,
          -0.21321537760757056,
          -1.5737984069401019,
          -0.18240254216565702,
          -0.6234118074730078,
          -1.4485033427600447,
          0.5503312905497174,
          -1.8692148240880035,
          0.2651111144391633,
          -0.4259951764634556,
          -0.8599050611922008,
          -0.14029638457586968,
          -1.3003551328791512,
          2.2322790534052537,
          -0.29450300839930077,
          -1.0470733402417887,
          -1.0307516059120065,
          0.21920184356692302,
          -0.42602690198949716,
          1.0245308766574683,
          -1.9089173419853969
         ],
         "xaxis": "x11",
         "yaxis": "y11"
        },
        {
         "line": {
          "color": "rgba(128, 128, 128, 1.0)",
          "dash": "solid",
          "shape": "linear",
          "width": 1.3
         },
         "marker": {
          "size": 2,
          "symbol": "circle"
         },
         "mode": "markers",
         "name": "C",
         "text": "",
         "type": "scatter",
         "x": [
          -1.3310222068170523,
          -1.7096392690646527,
          -1.2912551841487887,
          -0.7020206211106352,
          -0.2875650554311028,
          0.19299137551135742,
          -0.3318021907267024,
          0.554407437903143,
          -1.6027514483438141,
          -0.5583374457996408,
          -1.1909155900979693,
          -0.16799969304505857,
          1.1076547382907063,
          -0.08899211740101358,
          -1.1449527400822357,
          1.6959826727319578,
          1.3670266110405185,
          -0.8405936593803466,
          -0.1929076216496946,
          0.8789932032389244,
          -0.4698205311769827,
          -0.398356752332882,
          1.0561635988235853,
          -0.3706603855536645,
          -0.277764072335064,
          -1.0785627100616377,
          -0.18152225999466887,
          0.5276844224501354,
          1.1561194606045417,
          1.1106954550163752,
          1.0627416146217996,
          -0.1260928931598106,
          -0.4598332651987356,
          0.6411437776042059,
          -1.041951477817779,
          0.6691217962214827,
          1.6296666424666046,
          -0.44574977222849377,
          -0.23281014979912887,
          -0.8639938660683446,
          0.27319588799445926,
          0.37558781089225113,
          -0.5534460166278362,
          -0.5364730092304173,
          0.9362697464962008,
          -0.37548380330025893,
          -0.6509652667464869,
          0.8970401589650328,
          -0.5009942063842345,
          -0.44467857541875516,
          0.09353221011102655,
          -0.11262393269507838,
          0.7625100864753245,
          2.3613592187384107,
          1.029644115872112,
          -0.2242940367590926,
          0.5824917337235999,
          -2.6652205073890047,
          0.012729101381596683,
          -0.22203396772971987,
          0.09131735780368261,
          1.6016833144812963,
          -0.5474491875501178,
          -0.21470432358028996,
          0.8304930555147175,
          0.08789297532799611,
          -0.7104857063861766,
          2.0978491190720696,
          0.4547763828312598,
          0.020660494156799884,
          0.9137750695744344,
          -0.2524765883552448,
          0.18743883654481444,
          -0.27695411625325256,
          1.0623044063581735,
          0.0847298230681404,
          -2.402239634495088,
          0.6097433415482213,
          1.0828561134806167,
          0.30931683484609324,
          0.1278116765466919,
          -0.784658364858415,
          -0.06854681415485908,
          0.24234831106758858,
          -0.317327955941285,
          -0.5732783164792783,
          -0.1794450666813971,
          0.5751584951505719,
          -1.5956776053935104,
          -1.3413271641328415,
          -0.411489813959892,
          0.037151516689043845,
          1.4482132720076988,
          0.06431614118783856,
          -1.3208101075105647,
          1.1178702087130916,
          -0.9365522791504914,
          -0.7876891468081865,
          2.0388487442797953,
          -0.950333941501925
         ],
         "xaxis": "x12",
         "y": [
          -0.3308678283499978,
          1.2102869885680758,
          0.16165666886283267,
          -0.05014626976914914,
          -1.7041310004861954,
          2.024235238513975,
          -0.09134465405958134,
          -1.6844924497820224,
          0.9163296026413046,
          2.0794659045860073,
          0.9924934578875237,
          0.5873707456348409,
          1.2905227319405057,
          0.46820678032260965,
          1.1206849052535683,
          1.341070631482998,
          -0.9920483075572034,
          -0.37702169423272214,
          0.46126090421413385,
          -0.4546029067221703,
          0.4026763795390725,
          -0.7561975897647178,
          0.14441673856184556,
          0.8211975728390191,
          0.6788870276756361,
          1.1182546437714418,
          0.9490176518954572,
          -1.154782531524615,
          0.38181427290559194,
          0.33793396035602163,
          -0.7751405834311564,
          -0.5529730769082326,
          0.05647916438691906,
          0.10192405603420507,
          -2.5162833330941545,
          -0.7951372011661051,
          -0.3646860211475907,
          0.40531580458811517,
          1.1926397744105726,
          -0.29028992462203845,
          1.3583231215828995,
          0.07781708033642254,
          2.0736040373947846,
          -0.8696821561479623,
          0.12043740731758966,
          -0.03629497239265656,
          0.3053570205331342,
          0.18029122773894382,
          0.13354900391709607,
          -0.17334299637084163,
          1.441867436897421,
          1.4636153646305592,
          0.26550864279774633,
          -0.7738813937949514,
          -1.2303692250124292,
          0.838200091267915,
          -0.38617909861518657,
          0.7352581128330348,
          -0.4019180535632065,
          0.20708486170988621,
          -0.7159667677135855,
          0.8368946666471312,
          -0.7160851600715328,
          0.6010705536057844,
          0.2030736188503543,
          0.5921507478620754,
          0.7574792167617637,
          0.4842234648942265,
          0.5773379515467608,
          1.670424691479897,
          0.9266799668186261,
          -1.403877587672895,
          1.2038809660012877,
          0.3452384281513092,
          0.44303880229347764,
          0.8719181744286881,
          -1.2329183855895733,
          0.9236240777143699,
          -0.24448714149810596,
          -1.0261859997751288,
          -0.21321537760757056,
          -1.5737984069401019,
          -0.18240254216565702,
          -0.6234118074730078,
          -1.4485033427600447,
          0.5503312905497174,
          -1.8692148240880035,
          0.2651111144391633,
          -0.4259951764634556,
          -0.8599050611922008,
          -0.14029638457586968,
          -1.3003551328791512,
          2.2322790534052537,
          -0.29450300839930077,
          -1.0470733402417887,
          -1.0307516059120065,
          0.21920184356692302,
          -0.42602690198949716,
          1.0245308766574683,
          -1.9089173419853969
         ],
         "yaxis": "y12"
        },
        {
         "line": {
          "color": "rgba(128, 128, 128, 1.0)",
          "dash": "solid",
          "shape": "linear",
          "width": 1.3
         },
         "marker": {
          "size": 2,
          "symbol": "circle"
         },
         "mode": "markers",
         "name": "D",
         "text": "",
         "type": "scatter",
         "x": [
          1.2379579215557721,
          -0.5005184725982377,
          -1.8230450427793612,
          0.06842502309955707,
          0.4254384314514911,
          1.1763052359239257,
          -0.11214271908475447,
          1.1059753615356682,
          0.22346118664892053,
          -3.0955008897822682,
          -1.4517744954104537,
          1.0800716683559,
          0.7541959355429521,
          -0.19781466988496854,
          0.8027711878115771,
          0.32235289207845674,
          -1.407064449126228,
          0.5813815157192956,
          -0.4203924036852652,
          0.5355956630247433,
          1.0206309013545645,
          0.7384385770882846,
          -0.2900868329082115,
          0.3829461322814965,
          0.4611215018331621,
          -1.3790825150179762,
          1.2819328381644517,
          -1.134352798171451,
          0.5205979181212208,
          1.3157399184969396,
          0.784109751385838,
          -0.2788739329905516,
          2.8096183045496717,
          -0.2308271549045375,
          1.3964084344569843,
          0.01831236818373684,
          0.827571000150851,
          -0.7590395468795416,
          -0.16238163174865078,
          0.2572099021763275,
          -0.1498663201241084,
          2.0530119786117687,
          -0.03723847683954049,
          0.41757657681991633,
          0.9672215524108312,
          1.964130099188044,
          -0.9148020760659852,
          -0.7067367751252867,
          -0.46258169228107315,
          0.6395101035312151,
          0.614656019091725,
          1.6970454877439154,
          0.09192463941462742,
          1.541224196386175,
          1.1495442914166665,
          1.4773844447931597,
          1.7621437230813883,
          0.46693142325967285,
          1.419824486490099,
          0.8120024374923902,
          -1.0954528503558223,
          0.0407775353196377,
          0.42850511111267753,
          1.9275505103817203,
          -1.3431683970134831,
          0.796264215695926,
          -1.9127758508775747,
          1.2854170397536104,
          -0.29109585036885166,
          0.7387637394372951,
          0.1864707079105069,
          -1.2500559744599842,
          1.2676856772130243,
          -0.16842033667773443,
          0.05579077525029771,
          -0.3262741971013337,
          0.023869859254569244,
          0.24314462754504315,
          -0.1535936724579839,
          1.0697246004611893,
          -0.9083408958560282,
          0.23825984450463622,
          0.6387576608046327,
          -0.5069686294885749,
          0.951703871558809,
          -0.5131593778854479,
          -0.06489118914025865,
          -1.6708061688797646,
          -0.8107835190282477,
          -1.181205795352084,
          -0.813756681394152,
          0.12899794573478857,
          -0.3690930111001821,
          1.015706364161616,
          -1.5316143343754245,
          -0.5312137078010556,
          -0.9267416426601521,
          0.800610799926069,
          -1.3397198536182306,
          -0.39168708430114446
         ],
         "xaxis": "x13",
         "y": [
          -1.3310222068170523,
          -1.7096392690646527,
          -1.2912551841487887,
          -0.7020206211106352,
          -0.2875650554311028,
          0.19299137551135742,
          -0.3318021907267024,
          0.554407437903143,
          -1.6027514483438141,
          -0.5583374457996408,
          -1.1909155900979693,
          -0.16799969304505857,
          1.1076547382907063,
          -0.08899211740101358,
          -1.1449527400822357,
          1.6959826727319578,
          1.3670266110405185,
          -0.8405936593803466,
          -0.1929076216496946,
          0.8789932032389244,
          -0.4698205311769827,
          -0.398356752332882,
          1.0561635988235853,
          -0.3706603855536645,
          -0.277764072335064,
          -1.0785627100616377,
          -0.18152225999466887,
          0.5276844224501354,
          1.1561194606045417,
          1.1106954550163752,
          1.0627416146217996,
          -0.1260928931598106,
          -0.4598332651987356,
          0.6411437776042059,
          -1.041951477817779,
          0.6691217962214827,
          1.6296666424666046,
          -0.44574977222849377,
          -0.23281014979912887,
          -0.8639938660683446,
          0.27319588799445926,
          0.37558781089225113,
          -0.5534460166278362,
          -0.5364730092304173,
          0.9362697464962008,
          -0.37548380330025893,
          -0.6509652667464869,
          0.8970401589650328,
          -0.5009942063842345,
          -0.44467857541875516,
          0.09353221011102655,
          -0.11262393269507838,
          0.7625100864753245,
          2.3613592187384107,
          1.029644115872112,
          -0.2242940367590926,
          0.5824917337235999,
          -2.6652205073890047,
          0.012729101381596683,
          -0.22203396772971987,
          0.09131735780368261,
          1.6016833144812963,
          -0.5474491875501178,
          -0.21470432358028996,
          0.8304930555147175,
          0.08789297532799611,
          -0.7104857063861766,
          2.0978491190720696,
          0.4547763828312598,
          0.020660494156799884,
          0.9137750695744344,
          -0.2524765883552448,
          0.18743883654481444,
          -0.27695411625325256,
          1.0623044063581735,
          0.0847298230681404,
          -2.402239634495088,
          0.6097433415482213,
          1.0828561134806167,
          0.30931683484609324,
          0.1278116765466919,
          -0.784658364858415,
          -0.06854681415485908,
          0.24234831106758858,
          -0.317327955941285,
          -0.5732783164792783,
          -0.1794450666813971,
          0.5751584951505719,
          -1.5956776053935104,
          -1.3413271641328415,
          -0.411489813959892,
          0.037151516689043845,
          1.4482132720076988,
          0.06431614118783856,
          -1.3208101075105647,
          1.1178702087130916,
          -0.9365522791504914,
          -0.7876891468081865,
          2.0388487442797953,
          -0.950333941501925
         ],
         "yaxis": "y13"
        },
        {
         "line": {
          "color": "rgba(128, 128, 128, 1.0)",
          "dash": "solid",
          "shape": "linear",
          "width": 1.3
         },
         "marker": {
          "size": 2,
          "symbol": "circle"
         },
         "mode": "markers",
         "name": "D",
         "text": "",
         "type": "scatter",
         "x": [
          0.02001560917781522,
          -1.0891731935032625,
          1.117115278451909,
          0.40002640297342607,
          0.6788225994148674,
          -1.0464508327499304,
          1.753186397555937,
          0.4553153584280742,
          1.9267772772513023,
          0.36761632757654483,
          0.3354221156945639,
          -1.3975971007794514,
          -0.8288799184866059,
          -1.4694617838267692,
          0.38071369841281305,
          0.5873705484639964,
          -1.3368556819937818,
          1.4991333888708165,
          0.5813807231497642,
          -0.5527128990216509,
          -0.09761952261295645,
          -0.28166161146952456,
          0.7142778405665612,
          0.6293793918294663,
          -2.123446302387997,
          -0.1383482546425122,
          0.0893175440277195,
          -1.3223609989772662,
          -1.4742353228376357,
          2.3557586879361794,
          0.6407860071334618,
          -1.6723162335483108,
          0.010739496078409847,
          -0.8404641217846549,
          -0.37170568055098224,
          1.8912657465336102,
          0.18598631691892653,
          -0.5051875454241069,
          0.20307885101154383,
          -0.1892760143690366,
          1.0627125177800432,
          0.00576008208656999,
          1.4018256061331034,
          0.21525579076981813,
          0.9108216767100435,
          -0.09179782052924047,
          -0.8190698523389677,
          0.5656749663533622,
          1.01457085362219,
          -1.3907851791904955,
          0.09853552198020779,
          1.7139266832774738,
          -0.34554016715977387,
          2.2656738435005725,
          0.48749200482362615,
          0.7508919362554308,
          -0.5490445283005263,
          1.353420063225845,
          -0.3316233300195538,
          0.6405398483347998,
          -0.2463538808502654,
          -0.7363662270746788,
          -0.680425364174238,
          0.05553101197713513,
          1.6033590272505436,
          0.10504078713367834,
          2.080793389318112,
          -0.24229773712897296,
          -1.0333677171102167,
          0.4132352687474129,
          -0.02609569212262343,
          0.4517671856431499,
          -0.844903742341376,
          -1.117027526113431,
          0.20431018641555201,
          0.1887560681516722,
          -0.8661853113814597,
          -1.3997834715565687,
          1.293875546610676,
          0.12507506231115692,
          1.4813260456365591,
          1.2799752422469581,
          -1.873280502909398,
          -1.1616794539335047,
          -0.7297439373845849,
          0.3172723549807555,
          0.02191631673027781,
          1.763692690956398,
          -0.8702349417220633,
          1.63676868925836,
          -0.6512863117971823,
          0.5600399577030546,
          1.234716383944129,
          -1.0610391550838316,
          -0.31963888274136043,
          2.159961437255129,
          0.5231537525093585,
          -0.6452848760271948,
          0.9483151450214008,
          0.3273184835628279
         ],
         "xaxis": "x14",
         "y": [
          -1.3310222068170523,
          -1.7096392690646527,
          -1.2912551841487887,
          -0.7020206211106352,
          -0.2875650554311028,
          0.19299137551135742,
          -0.3318021907267024,
          0.554407437903143,
          -1.6027514483438141,
          -0.5583374457996408,
          -1.1909155900979693,
          -0.16799969304505857,
          1.1076547382907063,
          -0.08899211740101358,
          -1.1449527400822357,
          1.6959826727319578,
          1.3670266110405185,
          -0.8405936593803466,
          -0.1929076216496946,
          0.8789932032389244,
          -0.4698205311769827,
          -0.398356752332882,
          1.0561635988235853,
          -0.3706603855536645,
          -0.277764072335064,
          -1.0785627100616377,
          -0.18152225999466887,
          0.5276844224501354,
          1.1561194606045417,
          1.1106954550163752,
          1.0627416146217996,
          -0.1260928931598106,
          -0.4598332651987356,
          0.6411437776042059,
          -1.041951477817779,
          0.6691217962214827,
          1.6296666424666046,
          -0.44574977222849377,
          -0.23281014979912887,
          -0.8639938660683446,
          0.27319588799445926,
          0.37558781089225113,
          -0.5534460166278362,
          -0.5364730092304173,
          0.9362697464962008,
          -0.37548380330025893,
          -0.6509652667464869,
          0.8970401589650328,
          -0.5009942063842345,
          -0.44467857541875516,
          0.09353221011102655,
          -0.11262393269507838,
          0.7625100864753245,
          2.3613592187384107,
          1.029644115872112,
          -0.2242940367590926,
          0.5824917337235999,
          -2.6652205073890047,
          0.012729101381596683,
          -0.22203396772971987,
          0.09131735780368261,
          1.6016833144812963,
          -0.5474491875501178,
          -0.21470432358028996,
          0.8304930555147175,
          0.08789297532799611,
          -0.7104857063861766,
          2.0978491190720696,
          0.4547763828312598,
          0.020660494156799884,
          0.9137750695744344,
          -0.2524765883552448,
          0.18743883654481444,
          -0.27695411625325256,
          1.0623044063581735,
          0.0847298230681404,
          -2.402239634495088,
          0.6097433415482213,
          1.0828561134806167,
          0.30931683484609324,
          0.1278116765466919,
          -0.784658364858415,
          -0.06854681415485908,
          0.24234831106758858,
          -0.317327955941285,
          -0.5732783164792783,
          -0.1794450666813971,
          0.5751584951505719,
          -1.5956776053935104,
          -1.3413271641328415,
          -0.411489813959892,
          0.037151516689043845,
          1.4482132720076988,
          0.06431614118783856,
          -1.3208101075105647,
          1.1178702087130916,
          -0.9365522791504914,
          -0.7876891468081865,
          2.0388487442797953,
          -0.950333941501925
         ],
         "yaxis": "y14"
        },
        {
         "line": {
          "color": "rgba(128, 128, 128, 1.0)",
          "dash": "solid",
          "shape": "linear",
          "width": 1.3
         },
         "marker": {
          "size": 2,
          "symbol": "circle"
         },
         "mode": "markers",
         "name": "D",
         "text": "",
         "type": "scatter",
         "x": [
          -0.3308678283499978,
          1.2102869885680758,
          0.16165666886283267,
          -0.05014626976914914,
          -1.7041310004861954,
          2.024235238513975,
          -0.09134465405958134,
          -1.6844924497820224,
          0.9163296026413046,
          2.0794659045860073,
          0.9924934578875237,
          0.5873707456348409,
          1.2905227319405057,
          0.46820678032260965,
          1.1206849052535683,
          1.341070631482998,
          -0.9920483075572034,
          -0.37702169423272214,
          0.46126090421413385,
          -0.4546029067221703,
          0.4026763795390725,
          -0.7561975897647178,
          0.14441673856184556,
          0.8211975728390191,
          0.6788870276756361,
          1.1182546437714418,
          0.9490176518954572,
          -1.154782531524615,
          0.38181427290559194,
          0.33793396035602163,
          -0.7751405834311564,
          -0.5529730769082326,
          0.05647916438691906,
          0.10192405603420507,
          -2.5162833330941545,
          -0.7951372011661051,
          -0.3646860211475907,
          0.40531580458811517,
          1.1926397744105726,
          -0.29028992462203845,
          1.3583231215828995,
          0.07781708033642254,
          2.0736040373947846,
          -0.8696821561479623,
          0.12043740731758966,
          -0.03629497239265656,
          0.3053570205331342,
          0.18029122773894382,
          0.13354900391709607,
          -0.17334299637084163,
          1.441867436897421,
          1.4636153646305592,
          0.26550864279774633,
          -0.7738813937949514,
          -1.2303692250124292,
          0.838200091267915,
          -0.38617909861518657,
          0.7352581128330348,
          -0.4019180535632065,
          0.20708486170988621,
          -0.7159667677135855,
          0.8368946666471312,
          -0.7160851600715328,
          0.6010705536057844,
          0.2030736188503543,
          0.5921507478620754,
          0.7574792167617637,
          0.4842234648942265,
          0.5773379515467608,
          1.670424691479897,
          0.9266799668186261,
          -1.403877587672895,
          1.2038809660012877,
          0.3452384281513092,
          0.44303880229347764,
          0.8719181744286881,
          -1.2329183855895733,
          0.9236240777143699,
          -0.24448714149810596,
          -1.0261859997751288,
          -0.21321537760757056,
          -1.5737984069401019,
          -0.18240254216565702,
          -0.6234118074730078,
          -1.4485033427600447,
          0.5503312905497174,
          -1.8692148240880035,
          0.2651111144391633,
          -0.4259951764634556,
          -0.8599050611922008,
          -0.14029638457586968,
          -1.3003551328791512,
          2.2322790534052537,
          -0.29450300839930077,
          -1.0470733402417887,
          -1.0307516059120065,
          0.21920184356692302,
          -0.42602690198949716,
          1.0245308766574683,
          -1.9089173419853969
         ],
         "xaxis": "x15",
         "y": [
          -1.3310222068170523,
          -1.7096392690646527,
          -1.2912551841487887,
          -0.7020206211106352,
          -0.2875650554311028,
          0.19299137551135742,
          -0.3318021907267024,
          0.554407437903143,
          -1.6027514483438141,
          -0.5583374457996408,
          -1.1909155900979693,
          -0.16799969304505857,
          1.1076547382907063,
          -0.08899211740101358,
          -1.1449527400822357,
          1.6959826727319578,
          1.3670266110405185,
          -0.8405936593803466,
          -0.1929076216496946,
          0.8789932032389244,
          -0.4698205311769827,
          -0.398356752332882,
          1.0561635988235853,
          -0.3706603855536645,
          -0.277764072335064,
          -1.0785627100616377,
          -0.18152225999466887,
          0.5276844224501354,
          1.1561194606045417,
          1.1106954550163752,
          1.0627416146217996,
          -0.1260928931598106,
          -0.4598332651987356,
          0.6411437776042059,
          -1.041951477817779,
          0.6691217962214827,
          1.6296666424666046,
          -0.44574977222849377,
          -0.23281014979912887,
          -0.8639938660683446,
          0.27319588799445926,
          0.37558781089225113,
          -0.5534460166278362,
          -0.5364730092304173,
          0.9362697464962008,
          -0.37548380330025893,
          -0.6509652667464869,
          0.8970401589650328,
          -0.5009942063842345,
          -0.44467857541875516,
          0.09353221011102655,
          -0.11262393269507838,
          0.7625100864753245,
          2.3613592187384107,
          1.029644115872112,
          -0.2242940367590926,
          0.5824917337235999,
          -2.6652205073890047,
          0.012729101381596683,
          -0.22203396772971987,
          0.09131735780368261,
          1.6016833144812963,
          -0.5474491875501178,
          -0.21470432358028996,
          0.8304930555147175,
          0.08789297532799611,
          -0.7104857063861766,
          2.0978491190720696,
          0.4547763828312598,
          0.020660494156799884,
          0.9137750695744344,
          -0.2524765883552448,
          0.18743883654481444,
          -0.27695411625325256,
          1.0623044063581735,
          0.0847298230681404,
          -2.402239634495088,
          0.6097433415482213,
          1.0828561134806167,
          0.30931683484609324,
          0.1278116765466919,
          -0.784658364858415,
          -0.06854681415485908,
          0.24234831106758858,
          -0.317327955941285,
          -0.5732783164792783,
          -0.1794450666813971,
          0.5751584951505719,
          -1.5956776053935104,
          -1.3413271641328415,
          -0.411489813959892,
          0.037151516689043845,
          1.4482132720076988,
          0.06431614118783856,
          -1.3208101075105647,
          1.1178702087130916,
          -0.9365522791504914,
          -0.7876891468081865,
          2.0388487442797953,
          -0.950333941501925
         ],
         "yaxis": "y15"
        },
        {
         "histfunc": "count",
         "histnorm": "",
         "marker": {
          "color": "rgba(128, 0, 128, 1.0)",
          "line": {
           "color": "#4D5663",
           "width": 1.3
          }
         },
         "name": "D",
         "nbinsx": 10,
         "opacity": 0.8,
         "orientation": "v",
         "type": "histogram",
         "x": [
          -1.3310222068170523,
          -1.7096392690646527,
          -1.2912551841487887,
          -0.7020206211106352,
          -0.2875650554311028,
          0.19299137551135742,
          -0.3318021907267024,
          0.554407437903143,
          -1.6027514483438141,
          -0.5583374457996408,
          -1.1909155900979693,
          -0.16799969304505857,
          1.1076547382907063,
          -0.08899211740101358,
          -1.1449527400822357,
          1.6959826727319578,
          1.3670266110405185,
          -0.8405936593803466,
          -0.1929076216496946,
          0.8789932032389244,
          -0.4698205311769827,
          -0.398356752332882,
          1.0561635988235853,
          -0.3706603855536645,
          -0.277764072335064,
          -1.0785627100616377,
          -0.18152225999466887,
          0.5276844224501354,
          1.1561194606045417,
          1.1106954550163752,
          1.0627416146217996,
          -0.1260928931598106,
          -0.4598332651987356,
          0.6411437776042059,
          -1.041951477817779,
          0.6691217962214827,
          1.6296666424666046,
          -0.44574977222849377,
          -0.23281014979912887,
          -0.8639938660683446,
          0.27319588799445926,
          0.37558781089225113,
          -0.5534460166278362,
          -0.5364730092304173,
          0.9362697464962008,
          -0.37548380330025893,
          -0.6509652667464869,
          0.8970401589650328,
          -0.5009942063842345,
          -0.44467857541875516,
          0.09353221011102655,
          -0.11262393269507838,
          0.7625100864753245,
          2.3613592187384107,
          1.029644115872112,
          -0.2242940367590926,
          0.5824917337235999,
          -2.6652205073890047,
          0.012729101381596683,
          -0.22203396772971987,
          0.09131735780368261,
          1.6016833144812963,
          -0.5474491875501178,
          -0.21470432358028996,
          0.8304930555147175,
          0.08789297532799611,
          -0.7104857063861766,
          2.0978491190720696,
          0.4547763828312598,
          0.020660494156799884,
          0.9137750695744344,
          -0.2524765883552448,
          0.18743883654481444,
          -0.27695411625325256,
          1.0623044063581735,
          0.0847298230681404,
          -2.402239634495088,
          0.6097433415482213,
          1.0828561134806167,
          0.30931683484609324,
          0.1278116765466919,
          -0.784658364858415,
          -0.06854681415485908,
          0.24234831106758858,
          -0.317327955941285,
          -0.5732783164792783,
          -0.1794450666813971,
          0.5751584951505719,
          -1.5956776053935104,
          -1.3413271641328415,
          -0.411489813959892,
          0.037151516689043845,
          1.4482132720076988,
          0.06431614118783856,
          -1.3208101075105647,
          1.1178702087130916,
          -0.9365522791504914,
          -0.7876891468081865,
          2.0388487442797953,
          -0.950333941501925
         ],
         "xaxis": "x16",
         "yaxis": "y16"
        }
       ],
       "layout": {
        "bargap": 0.02,
        "legend": {
         "bgcolor": "#F5F6F9",
         "font": {
          "color": "#4D5663"
         }
        },
        "paper_bgcolor": "#F5F6F9",
        "plot_bgcolor": "#F5F6F9",
        "showlegend": false,
        "template": {
         "data": {
          "bar": [
           {
            "error_x": {
             "color": "#2a3f5f"
            },
            "error_y": {
             "color": "#2a3f5f"
            },
            "marker": {
             "line": {
              "color": "#E5ECF6",
              "width": 0.5
             },
             "pattern": {
              "fillmode": "overlay",
              "size": 10,
              "solidity": 0.2
             }
            },
            "type": "bar"
           }
          ],
          "barpolar": [
           {
            "marker": {
             "line": {
              "color": "#E5ECF6",
              "width": 0.5
             },
             "pattern": {
              "fillmode": "overlay",
              "size": 10,
              "solidity": 0.2
             }
            },
            "type": "barpolar"
           }
          ],
          "carpet": [
           {
            "aaxis": {
             "endlinecolor": "#2a3f5f",
             "gridcolor": "white",
             "linecolor": "white",
             "minorgridcolor": "white",
             "startlinecolor": "#2a3f5f"
            },
            "baxis": {
             "endlinecolor": "#2a3f5f",
             "gridcolor": "white",
             "linecolor": "white",
             "minorgridcolor": "white",
             "startlinecolor": "#2a3f5f"
            },
            "type": "carpet"
           }
          ],
          "choropleth": [
           {
            "colorbar": {
             "outlinewidth": 0,
             "ticks": ""
            },
            "type": "choropleth"
           }
          ],
          "contour": [
           {
            "colorbar": {
             "outlinewidth": 0,
             "ticks": ""
            },
            "colorscale": [
             [
              0,
              "#0d0887"
             ],
             [
              0.1111111111111111,
              "#46039f"
             ],
             [
              0.2222222222222222,
              "#7201a8"
             ],
             [
              0.3333333333333333,
              "#9c179e"
             ],
             [
              0.4444444444444444,
              "#bd3786"
             ],
             [
              0.5555555555555556,
              "#d8576b"
             ],
             [
              0.6666666666666666,
              "#ed7953"
             ],
             [
              0.7777777777777778,
              "#fb9f3a"
             ],
             [
              0.8888888888888888,
              "#fdca26"
             ],
             [
              1,
              "#f0f921"
             ]
            ],
            "type": "contour"
           }
          ],
          "contourcarpet": [
           {
            "colorbar": {
             "outlinewidth": 0,
             "ticks": ""
            },
            "type": "contourcarpet"
           }
          ],
          "heatmap": [
           {
            "colorbar": {
             "outlinewidth": 0,
             "ticks": ""
            },
            "colorscale": [
             [
              0,
              "#0d0887"
             ],
             [
              0.1111111111111111,
              "#46039f"
             ],
             [
              0.2222222222222222,
              "#7201a8"
             ],
             [
              0.3333333333333333,
              "#9c179e"
             ],
             [
              0.4444444444444444,
              "#bd3786"
             ],
             [
              0.5555555555555556,
              "#d8576b"
             ],
             [
              0.6666666666666666,
              "#ed7953"
             ],
             [
              0.7777777777777778,
              "#fb9f3a"
             ],
             [
              0.8888888888888888,
              "#fdca26"
             ],
             [
              1,
              "#f0f921"
             ]
            ],
            "type": "heatmap"
           }
          ],
          "heatmapgl": [
           {
            "colorbar": {
             "outlinewidth": 0,
             "ticks": ""
            },
            "colorscale": [
             [
              0,
              "#0d0887"
             ],
             [
              0.1111111111111111,
              "#46039f"
             ],
             [
              0.2222222222222222,
              "#7201a8"
             ],
             [
              0.3333333333333333,
              "#9c179e"
             ],
             [
              0.4444444444444444,
              "#bd3786"
             ],
             [
              0.5555555555555556,
              "#d8576b"
             ],
             [
              0.6666666666666666,
              "#ed7953"
             ],
             [
              0.7777777777777778,
              "#fb9f3a"
             ],
             [
              0.8888888888888888,
              "#fdca26"
             ],
             [
              1,
              "#f0f921"
             ]
            ],
            "type": "heatmapgl"
           }
          ],
          "histogram": [
           {
            "marker": {
             "pattern": {
              "fillmode": "overlay",
              "size": 10,
              "solidity": 0.2
             }
            },
            "type": "histogram"
           }
          ],
          "histogram2d": [
           {
            "colorbar": {
             "outlinewidth": 0,
             "ticks": ""
            },
            "colorscale": [
             [
              0,
              "#0d0887"
             ],
             [
              0.1111111111111111,
              "#46039f"
             ],
             [
              0.2222222222222222,
              "#7201a8"
             ],
             [
              0.3333333333333333,
              "#9c179e"
             ],
             [
              0.4444444444444444,
              "#bd3786"
             ],
             [
              0.5555555555555556,
              "#d8576b"
             ],
             [
              0.6666666666666666,
              "#ed7953"
             ],
             [
              0.7777777777777778,
              "#fb9f3a"
             ],
             [
              0.8888888888888888,
              "#fdca26"
             ],
             [
              1,
              "#f0f921"
             ]
            ],
            "type": "histogram2d"
           }
          ],
          "histogram2dcontour": [
           {
            "colorbar": {
             "outlinewidth": 0,
             "ticks": ""
            },
            "colorscale": [
             [
              0,
              "#0d0887"
             ],
             [
              0.1111111111111111,
              "#46039f"
             ],
             [
              0.2222222222222222,
              "#7201a8"
             ],
             [
              0.3333333333333333,
              "#9c179e"
             ],
             [
              0.4444444444444444,
              "#bd3786"
             ],
             [
              0.5555555555555556,
              "#d8576b"
             ],
             [
              0.6666666666666666,
              "#ed7953"
             ],
             [
              0.7777777777777778,
              "#fb9f3a"
             ],
             [
              0.8888888888888888,
              "#fdca26"
             ],
             [
              1,
              "#f0f921"
             ]
            ],
            "type": "histogram2dcontour"
           }
          ],
          "mesh3d": [
           {
            "colorbar": {
             "outlinewidth": 0,
             "ticks": ""
            },
            "type": "mesh3d"
           }
          ],
          "parcoords": [
           {
            "line": {
             "colorbar": {
              "outlinewidth": 0,
              "ticks": ""
             }
            },
            "type": "parcoords"
           }
          ],
          "pie": [
           {
            "automargin": true,
            "type": "pie"
           }
          ],
          "scatter": [
           {
            "fillpattern": {
             "fillmode": "overlay",
             "size": 10,
             "solidity": 0.2
            },
            "type": "scatter"
           }
          ],
          "scatter3d": [
           {
            "line": {
             "colorbar": {
              "outlinewidth": 0,
              "ticks": ""
             }
            },
            "marker": {
             "colorbar": {
              "outlinewidth": 0,
              "ticks": ""
             }
            },
            "type": "scatter3d"
           }
          ],
          "scattercarpet": [
           {
            "marker": {
             "colorbar": {
              "outlinewidth": 0,
              "ticks": ""
             }
            },
            "type": "scattercarpet"
           }
          ],
          "scattergeo": [
           {
            "marker": {
             "colorbar": {
              "outlinewidth": 0,
              "ticks": ""
             }
            },
            "type": "scattergeo"
           }
          ],
          "scattergl": [
           {
            "marker": {
             "colorbar": {
              "outlinewidth": 0,
              "ticks": ""
             }
            },
            "type": "scattergl"
           }
          ],
          "scattermapbox": [
           {
            "marker": {
             "colorbar": {
              "outlinewidth": 0,
              "ticks": ""
             }
            },
            "type": "scattermapbox"
           }
          ],
          "scatterpolar": [
           {
            "marker": {
             "colorbar": {
              "outlinewidth": 0,
              "ticks": ""
             }
            },
            "type": "scatterpolar"
           }
          ],
          "scatterpolargl": [
           {
            "marker": {
             "colorbar": {
              "outlinewidth": 0,
              "ticks": ""
             }
            },
            "type": "scatterpolargl"
           }
          ],
          "scatterternary": [
           {
            "marker": {
             "colorbar": {
              "outlinewidth": 0,
              "ticks": ""
             }
            },
            "type": "scatterternary"
           }
          ],
          "surface": [
           {
            "colorbar": {
             "outlinewidth": 0,
             "ticks": ""
            },
            "colorscale": [
             [
              0,
              "#0d0887"
             ],
             [
              0.1111111111111111,
              "#46039f"
             ],
             [
              0.2222222222222222,
              "#7201a8"
             ],
             [
              0.3333333333333333,
              "#9c179e"
             ],
             [
              0.4444444444444444,
              "#bd3786"
             ],
             [
              0.5555555555555556,
              "#d8576b"
             ],
             [
              0.6666666666666666,
              "#ed7953"
             ],
             [
              0.7777777777777778,
              "#fb9f3a"
             ],
             [
              0.8888888888888888,
              "#fdca26"
             ],
             [
              1,
              "#f0f921"
             ]
            ],
            "type": "surface"
           }
          ],
          "table": [
           {
            "cells": {
             "fill": {
              "color": "#EBF0F8"
             },
             "line": {
              "color": "white"
             }
            },
            "header": {
             "fill": {
              "color": "#C8D4E3"
             },
             "line": {
              "color": "white"
             }
            },
            "type": "table"
           }
          ]
         },
         "layout": {
          "annotationdefaults": {
           "arrowcolor": "#2a3f5f",
           "arrowhead": 0,
           "arrowwidth": 1
          },
          "autotypenumbers": "strict",
          "coloraxis": {
           "colorbar": {
            "outlinewidth": 0,
            "ticks": ""
           }
          },
          "colorscale": {
           "diverging": [
            [
             0,
             "#8e0152"
            ],
            [
             0.1,
             "#c51b7d"
            ],
            [
             0.2,
             "#de77ae"
            ],
            [
             0.3,
             "#f1b6da"
            ],
            [
             0.4,
             "#fde0ef"
            ],
            [
             0.5,
             "#f7f7f7"
            ],
            [
             0.6,
             "#e6f5d0"
            ],
            [
             0.7,
             "#b8e186"
            ],
            [
             0.8,
             "#7fbc41"
            ],
            [
             0.9,
             "#4d9221"
            ],
            [
             1,
             "#276419"
            ]
           ],
           "sequential": [
            [
             0,
             "#0d0887"
            ],
            [
             0.1111111111111111,
             "#46039f"
            ],
            [
             0.2222222222222222,
             "#7201a8"
            ],
            [
             0.3333333333333333,
             "#9c179e"
            ],
            [
             0.4444444444444444,
             "#bd3786"
            ],
            [
             0.5555555555555556,
             "#d8576b"
            ],
            [
             0.6666666666666666,
             "#ed7953"
            ],
            [
             0.7777777777777778,
             "#fb9f3a"
            ],
            [
             0.8888888888888888,
             "#fdca26"
            ],
            [
             1,
             "#f0f921"
            ]
           ],
           "sequentialminus": [
            [
             0,
             "#0d0887"
            ],
            [
             0.1111111111111111,
             "#46039f"
            ],
            [
             0.2222222222222222,
             "#7201a8"
            ],
            [
             0.3333333333333333,
             "#9c179e"
            ],
            [
             0.4444444444444444,
             "#bd3786"
            ],
            [
             0.5555555555555556,
             "#d8576b"
            ],
            [
             0.6666666666666666,
             "#ed7953"
            ],
            [
             0.7777777777777778,
             "#fb9f3a"
            ],
            [
             0.8888888888888888,
             "#fdca26"
            ],
            [
             1,
             "#f0f921"
            ]
           ]
          },
          "colorway": [
           "#636efa",
           "#EF553B",
           "#00cc96",
           "#ab63fa",
           "#FFA15A",
           "#19d3f3",
           "#FF6692",
           "#B6E880",
           "#FF97FF",
           "#FECB52"
          ],
          "font": {
           "color": "#2a3f5f"
          },
          "geo": {
           "bgcolor": "white",
           "lakecolor": "white",
           "landcolor": "#E5ECF6",
           "showlakes": true,
           "showland": true,
           "subunitcolor": "white"
          },
          "hoverlabel": {
           "align": "left"
          },
          "hovermode": "closest",
          "mapbox": {
           "style": "light"
          },
          "paper_bgcolor": "white",
          "plot_bgcolor": "#E5ECF6",
          "polar": {
           "angularaxis": {
            "gridcolor": "white",
            "linecolor": "white",
            "ticks": ""
           },
           "bgcolor": "#E5ECF6",
           "radialaxis": {
            "gridcolor": "white",
            "linecolor": "white",
            "ticks": ""
           }
          },
          "scene": {
           "xaxis": {
            "backgroundcolor": "#E5ECF6",
            "gridcolor": "white",
            "gridwidth": 2,
            "linecolor": "white",
            "showbackground": true,
            "ticks": "",
            "zerolinecolor": "white"
           },
           "yaxis": {
            "backgroundcolor": "#E5ECF6",
            "gridcolor": "white",
            "gridwidth": 2,
            "linecolor": "white",
            "showbackground": true,
            "ticks": "",
            "zerolinecolor": "white"
           },
           "zaxis": {
            "backgroundcolor": "#E5ECF6",
            "gridcolor": "white",
            "gridwidth": 2,
            "linecolor": "white",
            "showbackground": true,
            "ticks": "",
            "zerolinecolor": "white"
           }
          },
          "shapedefaults": {
           "line": {
            "color": "#2a3f5f"
           }
          },
          "ternary": {
           "aaxis": {
            "gridcolor": "white",
            "linecolor": "white",
            "ticks": ""
           },
           "baxis": {
            "gridcolor": "white",
            "linecolor": "white",
            "ticks": ""
           },
           "bgcolor": "#E5ECF6",
           "caxis": {
            "gridcolor": "white",
            "linecolor": "white",
            "ticks": ""
           }
          },
          "title": {
           "x": 0.05
          },
          "xaxis": {
           "automargin": true,
           "gridcolor": "white",
           "linecolor": "white",
           "ticks": "",
           "title": {
            "standoff": 15
           },
           "zerolinecolor": "white",
           "zerolinewidth": 2
          },
          "yaxis": {
           "automargin": true,
           "gridcolor": "white",
           "linecolor": "white",
           "ticks": "",
           "title": {
            "standoff": 15
           },
           "zerolinecolor": "white",
           "zerolinewidth": 2
          }
         }
        },
        "title": {
         "font": {
          "color": "#4D5663"
         }
        },
        "xaxis": {
         "anchor": "y",
         "domain": [
          0,
          0.2125
         ],
         "gridcolor": "#E1E5ED",
         "showgrid": false,
         "tickfont": {
          "color": "#4D5663"
         },
         "title": {
          "font": {
           "color": "#4D5663"
          },
          "text": ""
         },
         "zerolinecolor": "#E1E5ED"
        },
        "xaxis10": {
         "anchor": "y10",
         "domain": [
          0.2625,
          0.475
         ],
         "gridcolor": "#E1E5ED",
         "showgrid": false,
         "tickfont": {
          "color": "#4D5663"
         },
         "title": {
          "font": {
           "color": "#4D5663"
          },
          "text": ""
         },
         "zerolinecolor": "#E1E5ED"
        },
        "xaxis11": {
         "anchor": "y11",
         "domain": [
          0.525,
          0.7375
         ],
         "gridcolor": "#E1E5ED",
         "showgrid": false,
         "tickfont": {
          "color": "#4D5663"
         },
         "title": {
          "font": {
           "color": "#4D5663"
          },
          "text": ""
         },
         "zerolinecolor": "#E1E5ED"
        },
        "xaxis12": {
         "anchor": "y12",
         "domain": [
          0.7875,
          1
         ],
         "gridcolor": "#E1E5ED",
         "showgrid": false,
         "tickfont": {
          "color": "#4D5663"
         },
         "title": {
          "font": {
           "color": "#4D5663"
          },
          "text": ""
         },
         "zerolinecolor": "#E1E5ED"
        },
        "xaxis13": {
         "anchor": "y13",
         "domain": [
          0,
          0.2125
         ],
         "gridcolor": "#E1E5ED",
         "showgrid": false,
         "tickfont": {
          "color": "#4D5663"
         },
         "title": {
          "font": {
           "color": "#4D5663"
          },
          "text": ""
         },
         "zerolinecolor": "#E1E5ED"
        },
        "xaxis14": {
         "anchor": "y14",
         "domain": [
          0.2625,
          0.475
         ],
         "gridcolor": "#E1E5ED",
         "showgrid": false,
         "tickfont": {
          "color": "#4D5663"
         },
         "title": {
          "font": {
           "color": "#4D5663"
          },
          "text": ""
         },
         "zerolinecolor": "#E1E5ED"
        },
        "xaxis15": {
         "anchor": "y15",
         "domain": [
          0.525,
          0.7375
         ],
         "gridcolor": "#E1E5ED",
         "showgrid": false,
         "tickfont": {
          "color": "#4D5663"
         },
         "title": {
          "font": {
           "color": "#4D5663"
          },
          "text": ""
         },
         "zerolinecolor": "#E1E5ED"
        },
        "xaxis16": {
         "anchor": "y16",
         "domain": [
          0.7875,
          1
         ],
         "gridcolor": "#E1E5ED",
         "showgrid": false,
         "tickfont": {
          "color": "#4D5663"
         },
         "title": {
          "font": {
           "color": "#4D5663"
          },
          "text": ""
         },
         "zerolinecolor": "#E1E5ED"
        },
        "xaxis2": {
         "anchor": "y2",
         "domain": [
          0.2625,
          0.475
         ],
         "gridcolor": "#E1E5ED",
         "showgrid": false,
         "tickfont": {
          "color": "#4D5663"
         },
         "title": {
          "font": {
           "color": "#4D5663"
          },
          "text": ""
         },
         "zerolinecolor": "#E1E5ED"
        },
        "xaxis3": {
         "anchor": "y3",
         "domain": [
          0.525,
          0.7375
         ],
         "gridcolor": "#E1E5ED",
         "showgrid": false,
         "tickfont": {
          "color": "#4D5663"
         },
         "title": {
          "font": {
           "color": "#4D5663"
          },
          "text": ""
         },
         "zerolinecolor": "#E1E5ED"
        },
        "xaxis4": {
         "anchor": "y4",
         "domain": [
          0.7875,
          1
         ],
         "gridcolor": "#E1E5ED",
         "showgrid": false,
         "tickfont": {
          "color": "#4D5663"
         },
         "title": {
          "font": {
           "color": "#4D5663"
          },
          "text": ""
         },
         "zerolinecolor": "#E1E5ED"
        },
        "xaxis5": {
         "anchor": "y5",
         "domain": [
          0,
          0.2125
         ],
         "gridcolor": "#E1E5ED",
         "showgrid": false,
         "tickfont": {
          "color": "#4D5663"
         },
         "title": {
          "font": {
           "color": "#4D5663"
          },
          "text": ""
         },
         "zerolinecolor": "#E1E5ED"
        },
        "xaxis6": {
         "anchor": "y6",
         "domain": [
          0.2625,
          0.475
         ],
         "gridcolor": "#E1E5ED",
         "showgrid": false,
         "tickfont": {
          "color": "#4D5663"
         },
         "title": {
          "font": {
           "color": "#4D5663"
          },
          "text": ""
         },
         "zerolinecolor": "#E1E5ED"
        },
        "xaxis7": {
         "anchor": "y7",
         "domain": [
          0.525,
          0.7375
         ],
         "gridcolor": "#E1E5ED",
         "showgrid": false,
         "tickfont": {
          "color": "#4D5663"
         },
         "title": {
          "font": {
           "color": "#4D5663"
          },
          "text": ""
         },
         "zerolinecolor": "#E1E5ED"
        },
        "xaxis8": {
         "anchor": "y8",
         "domain": [
          0.7875,
          1
         ],
         "gridcolor": "#E1E5ED",
         "showgrid": false,
         "tickfont": {
          "color": "#4D5663"
         },
         "title": {
          "font": {
           "color": "#4D5663"
          },
          "text": ""
         },
         "zerolinecolor": "#E1E5ED"
        },
        "xaxis9": {
         "anchor": "y9",
         "domain": [
          0,
          0.2125
         ],
         "gridcolor": "#E1E5ED",
         "showgrid": false,
         "tickfont": {
          "color": "#4D5663"
         },
         "title": {
          "font": {
           "color": "#4D5663"
          },
          "text": ""
         },
         "zerolinecolor": "#E1E5ED"
        },
        "yaxis": {
         "anchor": "x",
         "domain": [
          0.8025,
          1
         ],
         "gridcolor": "#E1E5ED",
         "showgrid": false,
         "tickfont": {
          "color": "#4D5663"
         },
         "title": {
          "font": {
           "color": "#4D5663"
          },
          "text": ""
         },
         "zerolinecolor": "#E1E5ED"
        },
        "yaxis10": {
         "anchor": "x10",
         "domain": [
          0.2675,
          0.465
         ],
         "gridcolor": "#E1E5ED",
         "showgrid": false,
         "tickfont": {
          "color": "#4D5663"
         },
         "title": {
          "font": {
           "color": "#4D5663"
          },
          "text": ""
         },
         "zerolinecolor": "#E1E5ED"
        },
        "yaxis11": {
         "anchor": "x11",
         "domain": [
          0.2675,
          0.465
         ],
         "gridcolor": "#E1E5ED",
         "showgrid": false,
         "tickfont": {
          "color": "#4D5663"
         },
         "title": {
          "font": {
           "color": "#4D5663"
          },
          "text": ""
         },
         "zerolinecolor": "#E1E5ED"
        },
        "yaxis12": {
         "anchor": "x12",
         "domain": [
          0.2675,
          0.465
         ],
         "gridcolor": "#E1E5ED",
         "showgrid": false,
         "tickfont": {
          "color": "#4D5663"
         },
         "title": {
          "font": {
           "color": "#4D5663"
          },
          "text": ""
         },
         "zerolinecolor": "#E1E5ED"
        },
        "yaxis13": {
         "anchor": "x13",
         "domain": [
          0,
          0.1975
         ],
         "gridcolor": "#E1E5ED",
         "showgrid": false,
         "tickfont": {
          "color": "#4D5663"
         },
         "title": {
          "font": {
           "color": "#4D5663"
          },
          "text": ""
         },
         "zerolinecolor": "#E1E5ED"
        },
        "yaxis14": {
         "anchor": "x14",
         "domain": [
          0,
          0.1975
         ],
         "gridcolor": "#E1E5ED",
         "showgrid": false,
         "tickfont": {
          "color": "#4D5663"
         },
         "title": {
          "font": {
           "color": "#4D5663"
          },
          "text": ""
         },
         "zerolinecolor": "#E1E5ED"
        },
        "yaxis15": {
         "anchor": "x15",
         "domain": [
          0,
          0.1975
         ],
         "gridcolor": "#E1E5ED",
         "showgrid": false,
         "tickfont": {
          "color": "#4D5663"
         },
         "title": {
          "font": {
           "color": "#4D5663"
          },
          "text": ""
         },
         "zerolinecolor": "#E1E5ED"
        },
        "yaxis16": {
         "anchor": "x16",
         "domain": [
          0,
          0.1975
         ],
         "gridcolor": "#E1E5ED",
         "showgrid": false,
         "tickfont": {
          "color": "#4D5663"
         },
         "title": {
          "font": {
           "color": "#4D5663"
          },
          "text": ""
         },
         "zerolinecolor": "#E1E5ED"
        },
        "yaxis2": {
         "anchor": "x2",
         "domain": [
          0.8025,
          1
         ],
         "gridcolor": "#E1E5ED",
         "showgrid": false,
         "tickfont": {
          "color": "#4D5663"
         },
         "title": {
          "font": {
           "color": "#4D5663"
          },
          "text": ""
         },
         "zerolinecolor": "#E1E5ED"
        },
        "yaxis3": {
         "anchor": "x3",
         "domain": [
          0.8025,
          1
         ],
         "gridcolor": "#E1E5ED",
         "showgrid": false,
         "tickfont": {
          "color": "#4D5663"
         },
         "title": {
          "font": {
           "color": "#4D5663"
          },
          "text": ""
         },
         "zerolinecolor": "#E1E5ED"
        },
        "yaxis4": {
         "anchor": "x4",
         "domain": [
          0.8025,
          1
         ],
         "gridcolor": "#E1E5ED",
         "showgrid": false,
         "tickfont": {
          "color": "#4D5663"
         },
         "title": {
          "font": {
           "color": "#4D5663"
          },
          "text": ""
         },
         "zerolinecolor": "#E1E5ED"
        },
        "yaxis5": {
         "anchor": "x5",
         "domain": [
          0.535,
          0.7325
         ],
         "gridcolor": "#E1E5ED",
         "showgrid": false,
         "tickfont": {
          "color": "#4D5663"
         },
         "title": {
          "font": {
           "color": "#4D5663"
          },
          "text": ""
         },
         "zerolinecolor": "#E1E5ED"
        },
        "yaxis6": {
         "anchor": "x6",
         "domain": [
          0.535,
          0.7325
         ],
         "gridcolor": "#E1E5ED",
         "showgrid": false,
         "tickfont": {
          "color": "#4D5663"
         },
         "title": {
          "font": {
           "color": "#4D5663"
          },
          "text": ""
         },
         "zerolinecolor": "#E1E5ED"
        },
        "yaxis7": {
         "anchor": "x7",
         "domain": [
          0.535,
          0.7325
         ],
         "gridcolor": "#E1E5ED",
         "showgrid": false,
         "tickfont": {
          "color": "#4D5663"
         },
         "title": {
          "font": {
           "color": "#4D5663"
          },
          "text": ""
         },
         "zerolinecolor": "#E1E5ED"
        },
        "yaxis8": {
         "anchor": "x8",
         "domain": [
          0.535,
          0.7325
         ],
         "gridcolor": "#E1E5ED",
         "showgrid": false,
         "tickfont": {
          "color": "#4D5663"
         },
         "title": {
          "font": {
           "color": "#4D5663"
          },
          "text": ""
         },
         "zerolinecolor": "#E1E5ED"
        },
        "yaxis9": {
         "anchor": "x9",
         "domain": [
          0.2675,
          0.465
         ],
         "gridcolor": "#E1E5ED",
         "showgrid": false,
         "tickfont": {
          "color": "#4D5663"
         },
         "title": {
          "font": {
           "color": "#4D5663"
          },
          "text": ""
         },
         "zerolinecolor": "#E1E5ED"
        }
       }
      },
      "text/html": [
       "<div>                            <div id=\"e1213045-ec5a-42d5-ac17-4d7d4b3dc6c0\" class=\"plotly-graph-div\" style=\"height:525px; width:100%;\"></div>            <script type=\"text/javascript\">                require([\"plotly\"], function(Plotly) {                    window.PLOTLYENV=window.PLOTLYENV || {};\n",
       "                    window.PLOTLYENV.BASE_URL='https://plot.ly';                                    if (document.getElementById(\"e1213045-ec5a-42d5-ac17-4d7d4b3dc6c0\")) {                    Plotly.newPlot(                        \"e1213045-ec5a-42d5-ac17-4d7d4b3dc6c0\",                        [{\"histfunc\":\"count\",\"histnorm\":\"\",\"marker\":{\"color\":\"rgba(255, 153, 51, 1.0)\",\"line\":{\"color\":\"#4D5663\",\"width\":1.3}},\"name\":\"A\",\"nbinsx\":10,\"opacity\":0.8,\"orientation\":\"v\",\"x\":[1.2379579215557721,-0.5005184725982377,-1.8230450427793612,0.06842502309955707,0.4254384314514911,1.1763052359239257,-0.11214271908475447,1.1059753615356682,0.22346118664892053,-3.0955008897822682,-1.4517744954104537,1.0800716683559,0.7541959355429521,-0.19781466988496854,0.8027711878115771,0.32235289207845674,-1.407064449126228,0.5813815157192956,-0.4203924036852652,0.5355956630247433,1.0206309013545645,0.7384385770882846,-0.2900868329082115,0.3829461322814965,0.4611215018331621,-1.3790825150179762,1.2819328381644517,-1.134352798171451,0.5205979181212208,1.3157399184969396,0.784109751385838,-0.2788739329905516,2.8096183045496717,-0.2308271549045375,1.3964084344569843,0.01831236818373684,0.827571000150851,-0.7590395468795416,-0.16238163174865078,0.2572099021763275,-0.1498663201241084,2.0530119786117687,-0.03723847683954049,0.41757657681991633,0.9672215524108312,1.964130099188044,-0.9148020760659852,-0.7067367751252867,-0.46258169228107315,0.6395101035312151,0.614656019091725,1.6970454877439154,0.09192463941462742,1.541224196386175,1.1495442914166665,1.4773844447931597,1.7621437230813883,0.46693142325967285,1.419824486490099,0.8120024374923902,-1.0954528503558223,0.0407775353196377,0.42850511111267753,1.9275505103817203,-1.3431683970134831,0.796264215695926,-1.9127758508775747,1.2854170397536104,-0.29109585036885166,0.7387637394372951,0.1864707079105069,-1.2500559744599842,1.2676856772130243,-0.16842033667773443,0.05579077525029771,-0.3262741971013337,0.023869859254569244,0.24314462754504315,-0.1535936724579839,1.0697246004611893,-0.9083408958560282,0.23825984450463622,0.6387576608046327,-0.5069686294885749,0.951703871558809,-0.5131593778854479,-0.06489118914025865,-1.6708061688797646,-0.8107835190282477,-1.181205795352084,-0.813756681394152,0.12899794573478857,-0.3690930111001821,1.015706364161616,-1.5316143343754245,-0.5312137078010556,-0.9267416426601521,0.800610799926069,-1.3397198536182306,-0.39168708430114446],\"xaxis\":\"x\",\"yaxis\":\"y\",\"type\":\"histogram\"},{\"line\":{\"color\":\"rgba(128, 128, 128, 1.0)\",\"dash\":\"solid\",\"shape\":\"linear\",\"width\":1.3},\"marker\":{\"size\":2,\"symbol\":\"circle\"},\"mode\":\"markers\",\"name\":\"A\",\"text\":\"\",\"x\":[0.02001560917781522,-1.0891731935032625,1.117115278451909,0.40002640297342607,0.6788225994148674,-1.0464508327499304,1.753186397555937,0.4553153584280742,1.9267772772513023,0.36761632757654483,0.3354221156945639,-1.3975971007794514,-0.8288799184866059,-1.4694617838267692,0.38071369841281305,0.5873705484639964,-1.3368556819937818,1.4991333888708165,0.5813807231497642,-0.5527128990216509,-0.09761952261295645,-0.28166161146952456,0.7142778405665612,0.6293793918294663,-2.123446302387997,-0.1383482546425122,0.0893175440277195,-1.3223609989772662,-1.4742353228376357,2.3557586879361794,0.6407860071334618,-1.6723162335483108,0.010739496078409847,-0.8404641217846549,-0.37170568055098224,1.8912657465336102,0.18598631691892653,-0.5051875454241069,0.20307885101154383,-0.1892760143690366,1.0627125177800432,0.00576008208656999,1.4018256061331034,0.21525579076981813,0.9108216767100435,-0.09179782052924047,-0.8190698523389677,0.5656749663533622,1.01457085362219,-1.3907851791904955,0.09853552198020779,1.7139266832774738,-0.34554016715977387,2.2656738435005725,0.48749200482362615,0.7508919362554308,-0.5490445283005263,1.353420063225845,-0.3316233300195538,0.6405398483347998,-0.2463538808502654,-0.7363662270746788,-0.680425364174238,0.05553101197713513,1.6033590272505436,0.10504078713367834,2.080793389318112,-0.24229773712897296,-1.0333677171102167,0.4132352687474129,-0.02609569212262343,0.4517671856431499,-0.844903742341376,-1.117027526113431,0.20431018641555201,0.1887560681516722,-0.8661853113814597,-1.3997834715565687,1.293875546610676,0.12507506231115692,1.4813260456365591,1.2799752422469581,-1.873280502909398,-1.1616794539335047,-0.7297439373845849,0.3172723549807555,0.02191631673027781,1.763692690956398,-0.8702349417220633,1.63676868925836,-0.6512863117971823,0.5600399577030546,1.234716383944129,-1.0610391550838316,-0.31963888274136043,2.159961437255129,0.5231537525093585,-0.6452848760271948,0.9483151450214008,0.3273184835628279],\"xaxis\":\"x2\",\"y\":[1.2379579215557721,-0.5005184725982377,-1.8230450427793612,0.06842502309955707,0.4254384314514911,1.1763052359239257,-0.11214271908475447,1.1059753615356682,0.22346118664892053,-3.0955008897822682,-1.4517744954104537,1.0800716683559,0.7541959355429521,-0.19781466988496854,0.8027711878115771,0.32235289207845674,-1.407064449126228,0.5813815157192956,-0.4203924036852652,0.5355956630247433,1.0206309013545645,0.7384385770882846,-0.2900868329082115,0.3829461322814965,0.4611215018331621,-1.3790825150179762,1.2819328381644517,-1.134352798171451,0.5205979181212208,1.3157399184969396,0.784109751385838,-0.2788739329905516,2.8096183045496717,-0.2308271549045375,1.3964084344569843,0.01831236818373684,0.827571000150851,-0.7590395468795416,-0.16238163174865078,0.2572099021763275,-0.1498663201241084,2.0530119786117687,-0.03723847683954049,0.41757657681991633,0.9672215524108312,1.964130099188044,-0.9148020760659852,-0.7067367751252867,-0.46258169228107315,0.6395101035312151,0.614656019091725,1.6970454877439154,0.09192463941462742,1.541224196386175,1.1495442914166665,1.4773844447931597,1.7621437230813883,0.46693142325967285,1.419824486490099,0.8120024374923902,-1.0954528503558223,0.0407775353196377,0.42850511111267753,1.9275505103817203,-1.3431683970134831,0.796264215695926,-1.9127758508775747,1.2854170397536104,-0.29109585036885166,0.7387637394372951,0.1864707079105069,-1.2500559744599842,1.2676856772130243,-0.16842033667773443,0.05579077525029771,-0.3262741971013337,0.023869859254569244,0.24314462754504315,-0.1535936724579839,1.0697246004611893,-0.9083408958560282,0.23825984450463622,0.6387576608046327,-0.5069686294885749,0.951703871558809,-0.5131593778854479,-0.06489118914025865,-1.6708061688797646,-0.8107835190282477,-1.181205795352084,-0.813756681394152,0.12899794573478857,-0.3690930111001821,1.015706364161616,-1.5316143343754245,-0.5312137078010556,-0.9267416426601521,0.800610799926069,-1.3397198536182306,-0.39168708430114446],\"yaxis\":\"y2\",\"type\":\"scatter\"},{\"line\":{\"color\":\"rgba(128, 128, 128, 1.0)\",\"dash\":\"solid\",\"shape\":\"linear\",\"width\":1.3},\"marker\":{\"size\":2,\"symbol\":\"circle\"},\"mode\":\"markers\",\"name\":\"A\",\"text\":\"\",\"x\":[-0.3308678283499978,1.2102869885680758,0.16165666886283267,-0.05014626976914914,-1.7041310004861954,2.024235238513975,-0.09134465405958134,-1.6844924497820224,0.9163296026413046,2.0794659045860073,0.9924934578875237,0.5873707456348409,1.2905227319405057,0.46820678032260965,1.1206849052535683,1.341070631482998,-0.9920483075572034,-0.37702169423272214,0.46126090421413385,-0.4546029067221703,0.4026763795390725,-0.7561975897647178,0.14441673856184556,0.8211975728390191,0.6788870276756361,1.1182546437714418,0.9490176518954572,-1.154782531524615,0.38181427290559194,0.33793396035602163,-0.7751405834311564,-0.5529730769082326,0.05647916438691906,0.10192405603420507,-2.5162833330941545,-0.7951372011661051,-0.3646860211475907,0.40531580458811517,1.1926397744105726,-0.29028992462203845,1.3583231215828995,0.07781708033642254,2.0736040373947846,-0.8696821561479623,0.12043740731758966,-0.03629497239265656,0.3053570205331342,0.18029122773894382,0.13354900391709607,-0.17334299637084163,1.441867436897421,1.4636153646305592,0.26550864279774633,-0.7738813937949514,-1.2303692250124292,0.838200091267915,-0.38617909861518657,0.7352581128330348,-0.4019180535632065,0.20708486170988621,-0.7159667677135855,0.8368946666471312,-0.7160851600715328,0.6010705536057844,0.2030736188503543,0.5921507478620754,0.7574792167617637,0.4842234648942265,0.5773379515467608,1.670424691479897,0.9266799668186261,-1.403877587672895,1.2038809660012877,0.3452384281513092,0.44303880229347764,0.8719181744286881,-1.2329183855895733,0.9236240777143699,-0.24448714149810596,-1.0261859997751288,-0.21321537760757056,-1.5737984069401019,-0.18240254216565702,-0.6234118074730078,-1.4485033427600447,0.5503312905497174,-1.8692148240880035,0.2651111144391633,-0.4259951764634556,-0.8599050611922008,-0.14029638457586968,-1.3003551328791512,2.2322790534052537,-0.29450300839930077,-1.0470733402417887,-1.0307516059120065,0.21920184356692302,-0.42602690198949716,1.0245308766574683,-1.9089173419853969],\"xaxis\":\"x3\",\"y\":[1.2379579215557721,-0.5005184725982377,-1.8230450427793612,0.06842502309955707,0.4254384314514911,1.1763052359239257,-0.11214271908475447,1.1059753615356682,0.22346118664892053,-3.0955008897822682,-1.4517744954104537,1.0800716683559,0.7541959355429521,-0.19781466988496854,0.8027711878115771,0.32235289207845674,-1.407064449126228,0.5813815157192956,-0.4203924036852652,0.5355956630247433,1.0206309013545645,0.7384385770882846,-0.2900868329082115,0.3829461322814965,0.4611215018331621,-1.3790825150179762,1.2819328381644517,-1.134352798171451,0.5205979181212208,1.3157399184969396,0.784109751385838,-0.2788739329905516,2.8096183045496717,-0.2308271549045375,1.3964084344569843,0.01831236818373684,0.827571000150851,-0.7590395468795416,-0.16238163174865078,0.2572099021763275,-0.1498663201241084,2.0530119786117687,-0.03723847683954049,0.41757657681991633,0.9672215524108312,1.964130099188044,-0.9148020760659852,-0.7067367751252867,-0.46258169228107315,0.6395101035312151,0.614656019091725,1.6970454877439154,0.09192463941462742,1.541224196386175,1.1495442914166665,1.4773844447931597,1.7621437230813883,0.46693142325967285,1.419824486490099,0.8120024374923902,-1.0954528503558223,0.0407775353196377,0.42850511111267753,1.9275505103817203,-1.3431683970134831,0.796264215695926,-1.9127758508775747,1.2854170397536104,-0.29109585036885166,0.7387637394372951,0.1864707079105069,-1.2500559744599842,1.2676856772130243,-0.16842033667773443,0.05579077525029771,-0.3262741971013337,0.023869859254569244,0.24314462754504315,-0.1535936724579839,1.0697246004611893,-0.9083408958560282,0.23825984450463622,0.6387576608046327,-0.5069686294885749,0.951703871558809,-0.5131593778854479,-0.06489118914025865,-1.6708061688797646,-0.8107835190282477,-1.181205795352084,-0.813756681394152,0.12899794573478857,-0.3690930111001821,1.015706364161616,-1.5316143343754245,-0.5312137078010556,-0.9267416426601521,0.800610799926069,-1.3397198536182306,-0.39168708430114446],\"yaxis\":\"y3\",\"type\":\"scatter\"},{\"line\":{\"color\":\"rgba(128, 128, 128, 1.0)\",\"dash\":\"solid\",\"shape\":\"linear\",\"width\":1.3},\"marker\":{\"size\":2,\"symbol\":\"circle\"},\"mode\":\"markers\",\"name\":\"A\",\"text\":\"\",\"x\":[-1.3310222068170523,-1.7096392690646527,-1.2912551841487887,-0.7020206211106352,-0.2875650554311028,0.19299137551135742,-0.3318021907267024,0.554407437903143,-1.6027514483438141,-0.5583374457996408,-1.1909155900979693,-0.16799969304505857,1.1076547382907063,-0.08899211740101358,-1.1449527400822357,1.6959826727319578,1.3670266110405185,-0.8405936593803466,-0.1929076216496946,0.8789932032389244,-0.4698205311769827,-0.398356752332882,1.0561635988235853,-0.3706603855536645,-0.277764072335064,-1.0785627100616377,-0.18152225999466887,0.5276844224501354,1.1561194606045417,1.1106954550163752,1.0627416146217996,-0.1260928931598106,-0.4598332651987356,0.6411437776042059,-1.041951477817779,0.6691217962214827,1.6296666424666046,-0.44574977222849377,-0.23281014979912887,-0.8639938660683446,0.27319588799445926,0.37558781089225113,-0.5534460166278362,-0.5364730092304173,0.9362697464962008,-0.37548380330025893,-0.6509652667464869,0.8970401589650328,-0.5009942063842345,-0.44467857541875516,0.09353221011102655,-0.11262393269507838,0.7625100864753245,2.3613592187384107,1.029644115872112,-0.2242940367590926,0.5824917337235999,-2.6652205073890047,0.012729101381596683,-0.22203396772971987,0.09131735780368261,1.6016833144812963,-0.5474491875501178,-0.21470432358028996,0.8304930555147175,0.08789297532799611,-0.7104857063861766,2.0978491190720696,0.4547763828312598,0.020660494156799884,0.9137750695744344,-0.2524765883552448,0.18743883654481444,-0.27695411625325256,1.0623044063581735,0.0847298230681404,-2.402239634495088,0.6097433415482213,1.0828561134806167,0.30931683484609324,0.1278116765466919,-0.784658364858415,-0.06854681415485908,0.24234831106758858,-0.317327955941285,-0.5732783164792783,-0.1794450666813971,0.5751584951505719,-1.5956776053935104,-1.3413271641328415,-0.411489813959892,0.037151516689043845,1.4482132720076988,0.06431614118783856,-1.3208101075105647,1.1178702087130916,-0.9365522791504914,-0.7876891468081865,2.0388487442797953,-0.950333941501925],\"xaxis\":\"x4\",\"y\":[1.2379579215557721,-0.5005184725982377,-1.8230450427793612,0.06842502309955707,0.4254384314514911,1.1763052359239257,-0.11214271908475447,1.1059753615356682,0.22346118664892053,-3.0955008897822682,-1.4517744954104537,1.0800716683559,0.7541959355429521,-0.19781466988496854,0.8027711878115771,0.32235289207845674,-1.407064449126228,0.5813815157192956,-0.4203924036852652,0.5355956630247433,1.0206309013545645,0.7384385770882846,-0.2900868329082115,0.3829461322814965,0.4611215018331621,-1.3790825150179762,1.2819328381644517,-1.134352798171451,0.5205979181212208,1.3157399184969396,0.784109751385838,-0.2788739329905516,2.8096183045496717,-0.2308271549045375,1.3964084344569843,0.01831236818373684,0.827571000150851,-0.7590395468795416,-0.16238163174865078,0.2572099021763275,-0.1498663201241084,2.0530119786117687,-0.03723847683954049,0.41757657681991633,0.9672215524108312,1.964130099188044,-0.9148020760659852,-0.7067367751252867,-0.46258169228107315,0.6395101035312151,0.614656019091725,1.6970454877439154,0.09192463941462742,1.541224196386175,1.1495442914166665,1.4773844447931597,1.7621437230813883,0.46693142325967285,1.419824486490099,0.8120024374923902,-1.0954528503558223,0.0407775353196377,0.42850511111267753,1.9275505103817203,-1.3431683970134831,0.796264215695926,-1.9127758508775747,1.2854170397536104,-0.29109585036885166,0.7387637394372951,0.1864707079105069,-1.2500559744599842,1.2676856772130243,-0.16842033667773443,0.05579077525029771,-0.3262741971013337,0.023869859254569244,0.24314462754504315,-0.1535936724579839,1.0697246004611893,-0.9083408958560282,0.23825984450463622,0.6387576608046327,-0.5069686294885749,0.951703871558809,-0.5131593778854479,-0.06489118914025865,-1.6708061688797646,-0.8107835190282477,-1.181205795352084,-0.813756681394152,0.12899794573478857,-0.3690930111001821,1.015706364161616,-1.5316143343754245,-0.5312137078010556,-0.9267416426601521,0.800610799926069,-1.3397198536182306,-0.39168708430114446],\"yaxis\":\"y4\",\"type\":\"scatter\"},{\"line\":{\"color\":\"rgba(128, 128, 128, 1.0)\",\"dash\":\"solid\",\"shape\":\"linear\",\"width\":1.3},\"marker\":{\"size\":2,\"symbol\":\"circle\"},\"mode\":\"markers\",\"name\":\"B\",\"text\":\"\",\"x\":[1.2379579215557721,-0.5005184725982377,-1.8230450427793612,0.06842502309955707,0.4254384314514911,1.1763052359239257,-0.11214271908475447,1.1059753615356682,0.22346118664892053,-3.0955008897822682,-1.4517744954104537,1.0800716683559,0.7541959355429521,-0.19781466988496854,0.8027711878115771,0.32235289207845674,-1.407064449126228,0.5813815157192956,-0.4203924036852652,0.5355956630247433,1.0206309013545645,0.7384385770882846,-0.2900868329082115,0.3829461322814965,0.4611215018331621,-1.3790825150179762,1.2819328381644517,-1.134352798171451,0.5205979181212208,1.3157399184969396,0.784109751385838,-0.2788739329905516,2.8096183045496717,-0.2308271549045375,1.3964084344569843,0.01831236818373684,0.827571000150851,-0.7590395468795416,-0.16238163174865078,0.2572099021763275,-0.1498663201241084,2.0530119786117687,-0.03723847683954049,0.41757657681991633,0.9672215524108312,1.964130099188044,-0.9148020760659852,-0.7067367751252867,-0.46258169228107315,0.6395101035312151,0.614656019091725,1.6970454877439154,0.09192463941462742,1.541224196386175,1.1495442914166665,1.4773844447931597,1.7621437230813883,0.46693142325967285,1.419824486490099,0.8120024374923902,-1.0954528503558223,0.0407775353196377,0.42850511111267753,1.9275505103817203,-1.3431683970134831,0.796264215695926,-1.9127758508775747,1.2854170397536104,-0.29109585036885166,0.7387637394372951,0.1864707079105069,-1.2500559744599842,1.2676856772130243,-0.16842033667773443,0.05579077525029771,-0.3262741971013337,0.023869859254569244,0.24314462754504315,-0.1535936724579839,1.0697246004611893,-0.9083408958560282,0.23825984450463622,0.6387576608046327,-0.5069686294885749,0.951703871558809,-0.5131593778854479,-0.06489118914025865,-1.6708061688797646,-0.8107835190282477,-1.181205795352084,-0.813756681394152,0.12899794573478857,-0.3690930111001821,1.015706364161616,-1.5316143343754245,-0.5312137078010556,-0.9267416426601521,0.800610799926069,-1.3397198536182306,-0.39168708430114446],\"xaxis\":\"x5\",\"y\":[0.02001560917781522,-1.0891731935032625,1.117115278451909,0.40002640297342607,0.6788225994148674,-1.0464508327499304,1.753186397555937,0.4553153584280742,1.9267772772513023,0.36761632757654483,0.3354221156945639,-1.3975971007794514,-0.8288799184866059,-1.4694617838267692,0.38071369841281305,0.5873705484639964,-1.3368556819937818,1.4991333888708165,0.5813807231497642,-0.5527128990216509,-0.09761952261295645,-0.28166161146952456,0.7142778405665612,0.6293793918294663,-2.123446302387997,-0.1383482546425122,0.0893175440277195,-1.3223609989772662,-1.4742353228376357,2.3557586879361794,0.6407860071334618,-1.6723162335483108,0.010739496078409847,-0.8404641217846549,-0.37170568055098224,1.8912657465336102,0.18598631691892653,-0.5051875454241069,0.20307885101154383,-0.1892760143690366,1.0627125177800432,0.00576008208656999,1.4018256061331034,0.21525579076981813,0.9108216767100435,-0.09179782052924047,-0.8190698523389677,0.5656749663533622,1.01457085362219,-1.3907851791904955,0.09853552198020779,1.7139266832774738,-0.34554016715977387,2.2656738435005725,0.48749200482362615,0.7508919362554308,-0.5490445283005263,1.353420063225845,-0.3316233300195538,0.6405398483347998,-0.2463538808502654,-0.7363662270746788,-0.680425364174238,0.05553101197713513,1.6033590272505436,0.10504078713367834,2.080793389318112,-0.24229773712897296,-1.0333677171102167,0.4132352687474129,-0.02609569212262343,0.4517671856431499,-0.844903742341376,-1.117027526113431,0.20431018641555201,0.1887560681516722,-0.8661853113814597,-1.3997834715565687,1.293875546610676,0.12507506231115692,1.4813260456365591,1.2799752422469581,-1.873280502909398,-1.1616794539335047,-0.7297439373845849,0.3172723549807555,0.02191631673027781,1.763692690956398,-0.8702349417220633,1.63676868925836,-0.6512863117971823,0.5600399577030546,1.234716383944129,-1.0610391550838316,-0.31963888274136043,2.159961437255129,0.5231537525093585,-0.6452848760271948,0.9483151450214008,0.3273184835628279],\"yaxis\":\"y5\",\"type\":\"scatter\"},{\"histfunc\":\"count\",\"histnorm\":\"\",\"marker\":{\"color\":\"rgba(55, 128, 191, 1.0)\",\"line\":{\"color\":\"#4D5663\",\"width\":1.3}},\"name\":\"B\",\"nbinsx\":10,\"opacity\":0.8,\"orientation\":\"v\",\"x\":[0.02001560917781522,-1.0891731935032625,1.117115278451909,0.40002640297342607,0.6788225994148674,-1.0464508327499304,1.753186397555937,0.4553153584280742,1.9267772772513023,0.36761632757654483,0.3354221156945639,-1.3975971007794514,-0.8288799184866059,-1.4694617838267692,0.38071369841281305,0.5873705484639964,-1.3368556819937818,1.4991333888708165,0.5813807231497642,-0.5527128990216509,-0.09761952261295645,-0.28166161146952456,0.7142778405665612,0.6293793918294663,-2.123446302387997,-0.1383482546425122,0.0893175440277195,-1.3223609989772662,-1.4742353228376357,2.3557586879361794,0.6407860071334618,-1.6723162335483108,0.010739496078409847,-0.8404641217846549,-0.37170568055098224,1.8912657465336102,0.18598631691892653,-0.5051875454241069,0.20307885101154383,-0.1892760143690366,1.0627125177800432,0.00576008208656999,1.4018256061331034,0.21525579076981813,0.9108216767100435,-0.09179782052924047,-0.8190698523389677,0.5656749663533622,1.01457085362219,-1.3907851791904955,0.09853552198020779,1.7139266832774738,-0.34554016715977387,2.2656738435005725,0.48749200482362615,0.7508919362554308,-0.5490445283005263,1.353420063225845,-0.3316233300195538,0.6405398483347998,-0.2463538808502654,-0.7363662270746788,-0.680425364174238,0.05553101197713513,1.6033590272505436,0.10504078713367834,2.080793389318112,-0.24229773712897296,-1.0333677171102167,0.4132352687474129,-0.02609569212262343,0.4517671856431499,-0.844903742341376,-1.117027526113431,0.20431018641555201,0.1887560681516722,-0.8661853113814597,-1.3997834715565687,1.293875546610676,0.12507506231115692,1.4813260456365591,1.2799752422469581,-1.873280502909398,-1.1616794539335047,-0.7297439373845849,0.3172723549807555,0.02191631673027781,1.763692690956398,-0.8702349417220633,1.63676868925836,-0.6512863117971823,0.5600399577030546,1.234716383944129,-1.0610391550838316,-0.31963888274136043,2.159961437255129,0.5231537525093585,-0.6452848760271948,0.9483151450214008,0.3273184835628279],\"xaxis\":\"x6\",\"yaxis\":\"y6\",\"type\":\"histogram\"},{\"line\":{\"color\":\"rgba(128, 128, 128, 1.0)\",\"dash\":\"solid\",\"shape\":\"linear\",\"width\":1.3},\"marker\":{\"size\":2,\"symbol\":\"circle\"},\"mode\":\"markers\",\"name\":\"B\",\"text\":\"\",\"x\":[-0.3308678283499978,1.2102869885680758,0.16165666886283267,-0.05014626976914914,-1.7041310004861954,2.024235238513975,-0.09134465405958134,-1.6844924497820224,0.9163296026413046,2.0794659045860073,0.9924934578875237,0.5873707456348409,1.2905227319405057,0.46820678032260965,1.1206849052535683,1.341070631482998,-0.9920483075572034,-0.37702169423272214,0.46126090421413385,-0.4546029067221703,0.4026763795390725,-0.7561975897647178,0.14441673856184556,0.8211975728390191,0.6788870276756361,1.1182546437714418,0.9490176518954572,-1.154782531524615,0.38181427290559194,0.33793396035602163,-0.7751405834311564,-0.5529730769082326,0.05647916438691906,0.10192405603420507,-2.5162833330941545,-0.7951372011661051,-0.3646860211475907,0.40531580458811517,1.1926397744105726,-0.29028992462203845,1.3583231215828995,0.07781708033642254,2.0736040373947846,-0.8696821561479623,0.12043740731758966,-0.03629497239265656,0.3053570205331342,0.18029122773894382,0.13354900391709607,-0.17334299637084163,1.441867436897421,1.4636153646305592,0.26550864279774633,-0.7738813937949514,-1.2303692250124292,0.838200091267915,-0.38617909861518657,0.7352581128330348,-0.4019180535632065,0.20708486170988621,-0.7159667677135855,0.8368946666471312,-0.7160851600715328,0.6010705536057844,0.2030736188503543,0.5921507478620754,0.7574792167617637,0.4842234648942265,0.5773379515467608,1.670424691479897,0.9266799668186261,-1.403877587672895,1.2038809660012877,0.3452384281513092,0.44303880229347764,0.8719181744286881,-1.2329183855895733,0.9236240777143699,-0.24448714149810596,-1.0261859997751288,-0.21321537760757056,-1.5737984069401019,-0.18240254216565702,-0.6234118074730078,-1.4485033427600447,0.5503312905497174,-1.8692148240880035,0.2651111144391633,-0.4259951764634556,-0.8599050611922008,-0.14029638457586968,-1.3003551328791512,2.2322790534052537,-0.29450300839930077,-1.0470733402417887,-1.0307516059120065,0.21920184356692302,-0.42602690198949716,1.0245308766574683,-1.9089173419853969],\"xaxis\":\"x7\",\"y\":[0.02001560917781522,-1.0891731935032625,1.117115278451909,0.40002640297342607,0.6788225994148674,-1.0464508327499304,1.753186397555937,0.4553153584280742,1.9267772772513023,0.36761632757654483,0.3354221156945639,-1.3975971007794514,-0.8288799184866059,-1.4694617838267692,0.38071369841281305,0.5873705484639964,-1.3368556819937818,1.4991333888708165,0.5813807231497642,-0.5527128990216509,-0.09761952261295645,-0.28166161146952456,0.7142778405665612,0.6293793918294663,-2.123446302387997,-0.1383482546425122,0.0893175440277195,-1.3223609989772662,-1.4742353228376357,2.3557586879361794,0.6407860071334618,-1.6723162335483108,0.010739496078409847,-0.8404641217846549,-0.37170568055098224,1.8912657465336102,0.18598631691892653,-0.5051875454241069,0.20307885101154383,-0.1892760143690366,1.0627125177800432,0.00576008208656999,1.4018256061331034,0.21525579076981813,0.9108216767100435,-0.09179782052924047,-0.8190698523389677,0.5656749663533622,1.01457085362219,-1.3907851791904955,0.09853552198020779,1.7139266832774738,-0.34554016715977387,2.2656738435005725,0.48749200482362615,0.7508919362554308,-0.5490445283005263,1.353420063225845,-0.3316233300195538,0.6405398483347998,-0.2463538808502654,-0.7363662270746788,-0.680425364174238,0.05553101197713513,1.6033590272505436,0.10504078713367834,2.080793389318112,-0.24229773712897296,-1.0333677171102167,0.4132352687474129,-0.02609569212262343,0.4517671856431499,-0.844903742341376,-1.117027526113431,0.20431018641555201,0.1887560681516722,-0.8661853113814597,-1.3997834715565687,1.293875546610676,0.12507506231115692,1.4813260456365591,1.2799752422469581,-1.873280502909398,-1.1616794539335047,-0.7297439373845849,0.3172723549807555,0.02191631673027781,1.763692690956398,-0.8702349417220633,1.63676868925836,-0.6512863117971823,0.5600399577030546,1.234716383944129,-1.0610391550838316,-0.31963888274136043,2.159961437255129,0.5231537525093585,-0.6452848760271948,0.9483151450214008,0.3273184835628279],\"yaxis\":\"y7\",\"type\":\"scatter\"},{\"line\":{\"color\":\"rgba(128, 128, 128, 1.0)\",\"dash\":\"solid\",\"shape\":\"linear\",\"width\":1.3},\"marker\":{\"size\":2,\"symbol\":\"circle\"},\"mode\":\"markers\",\"name\":\"B\",\"text\":\"\",\"x\":[-1.3310222068170523,-1.7096392690646527,-1.2912551841487887,-0.7020206211106352,-0.2875650554311028,0.19299137551135742,-0.3318021907267024,0.554407437903143,-1.6027514483438141,-0.5583374457996408,-1.1909155900979693,-0.16799969304505857,1.1076547382907063,-0.08899211740101358,-1.1449527400822357,1.6959826727319578,1.3670266110405185,-0.8405936593803466,-0.1929076216496946,0.8789932032389244,-0.4698205311769827,-0.398356752332882,1.0561635988235853,-0.3706603855536645,-0.277764072335064,-1.0785627100616377,-0.18152225999466887,0.5276844224501354,1.1561194606045417,1.1106954550163752,1.0627416146217996,-0.1260928931598106,-0.4598332651987356,0.6411437776042059,-1.041951477817779,0.6691217962214827,1.6296666424666046,-0.44574977222849377,-0.23281014979912887,-0.8639938660683446,0.27319588799445926,0.37558781089225113,-0.5534460166278362,-0.5364730092304173,0.9362697464962008,-0.37548380330025893,-0.6509652667464869,0.8970401589650328,-0.5009942063842345,-0.44467857541875516,0.09353221011102655,-0.11262393269507838,0.7625100864753245,2.3613592187384107,1.029644115872112,-0.2242940367590926,0.5824917337235999,-2.6652205073890047,0.012729101381596683,-0.22203396772971987,0.09131735780368261,1.6016833144812963,-0.5474491875501178,-0.21470432358028996,0.8304930555147175,0.08789297532799611,-0.7104857063861766,2.0978491190720696,0.4547763828312598,0.020660494156799884,0.9137750695744344,-0.2524765883552448,0.18743883654481444,-0.27695411625325256,1.0623044063581735,0.0847298230681404,-2.402239634495088,0.6097433415482213,1.0828561134806167,0.30931683484609324,0.1278116765466919,-0.784658364858415,-0.06854681415485908,0.24234831106758858,-0.317327955941285,-0.5732783164792783,-0.1794450666813971,0.5751584951505719,-1.5956776053935104,-1.3413271641328415,-0.411489813959892,0.037151516689043845,1.4482132720076988,0.06431614118783856,-1.3208101075105647,1.1178702087130916,-0.9365522791504914,-0.7876891468081865,2.0388487442797953,-0.950333941501925],\"xaxis\":\"x8\",\"y\":[0.02001560917781522,-1.0891731935032625,1.117115278451909,0.40002640297342607,0.6788225994148674,-1.0464508327499304,1.753186397555937,0.4553153584280742,1.9267772772513023,0.36761632757654483,0.3354221156945639,-1.3975971007794514,-0.8288799184866059,-1.4694617838267692,0.38071369841281305,0.5873705484639964,-1.3368556819937818,1.4991333888708165,0.5813807231497642,-0.5527128990216509,-0.09761952261295645,-0.28166161146952456,0.7142778405665612,0.6293793918294663,-2.123446302387997,-0.1383482546425122,0.0893175440277195,-1.3223609989772662,-1.4742353228376357,2.3557586879361794,0.6407860071334618,-1.6723162335483108,0.010739496078409847,-0.8404641217846549,-0.37170568055098224,1.8912657465336102,0.18598631691892653,-0.5051875454241069,0.20307885101154383,-0.1892760143690366,1.0627125177800432,0.00576008208656999,1.4018256061331034,0.21525579076981813,0.9108216767100435,-0.09179782052924047,-0.8190698523389677,0.5656749663533622,1.01457085362219,-1.3907851791904955,0.09853552198020779,1.7139266832774738,-0.34554016715977387,2.2656738435005725,0.48749200482362615,0.7508919362554308,-0.5490445283005263,1.353420063225845,-0.3316233300195538,0.6405398483347998,-0.2463538808502654,-0.7363662270746788,-0.680425364174238,0.05553101197713513,1.6033590272505436,0.10504078713367834,2.080793389318112,-0.24229773712897296,-1.0333677171102167,0.4132352687474129,-0.02609569212262343,0.4517671856431499,-0.844903742341376,-1.117027526113431,0.20431018641555201,0.1887560681516722,-0.8661853113814597,-1.3997834715565687,1.293875546610676,0.12507506231115692,1.4813260456365591,1.2799752422469581,-1.873280502909398,-1.1616794539335047,-0.7297439373845849,0.3172723549807555,0.02191631673027781,1.763692690956398,-0.8702349417220633,1.63676868925836,-0.6512863117971823,0.5600399577030546,1.234716383944129,-1.0610391550838316,-0.31963888274136043,2.159961437255129,0.5231537525093585,-0.6452848760271948,0.9483151450214008,0.3273184835628279],\"yaxis\":\"y8\",\"type\":\"scatter\"},{\"line\":{\"color\":\"rgba(128, 128, 128, 1.0)\",\"dash\":\"solid\",\"shape\":\"linear\",\"width\":1.3},\"marker\":{\"size\":2,\"symbol\":\"circle\"},\"mode\":\"markers\",\"name\":\"C\",\"text\":\"\",\"x\":[1.2379579215557721,-0.5005184725982377,-1.8230450427793612,0.06842502309955707,0.4254384314514911,1.1763052359239257,-0.11214271908475447,1.1059753615356682,0.22346118664892053,-3.0955008897822682,-1.4517744954104537,1.0800716683559,0.7541959355429521,-0.19781466988496854,0.8027711878115771,0.32235289207845674,-1.407064449126228,0.5813815157192956,-0.4203924036852652,0.5355956630247433,1.0206309013545645,0.7384385770882846,-0.2900868329082115,0.3829461322814965,0.4611215018331621,-1.3790825150179762,1.2819328381644517,-1.134352798171451,0.5205979181212208,1.3157399184969396,0.784109751385838,-0.2788739329905516,2.8096183045496717,-0.2308271549045375,1.3964084344569843,0.01831236818373684,0.827571000150851,-0.7590395468795416,-0.16238163174865078,0.2572099021763275,-0.1498663201241084,2.0530119786117687,-0.03723847683954049,0.41757657681991633,0.9672215524108312,1.964130099188044,-0.9148020760659852,-0.7067367751252867,-0.46258169228107315,0.6395101035312151,0.614656019091725,1.6970454877439154,0.09192463941462742,1.541224196386175,1.1495442914166665,1.4773844447931597,1.7621437230813883,0.46693142325967285,1.419824486490099,0.8120024374923902,-1.0954528503558223,0.0407775353196377,0.42850511111267753,1.9275505103817203,-1.3431683970134831,0.796264215695926,-1.9127758508775747,1.2854170397536104,-0.29109585036885166,0.7387637394372951,0.1864707079105069,-1.2500559744599842,1.2676856772130243,-0.16842033667773443,0.05579077525029771,-0.3262741971013337,0.023869859254569244,0.24314462754504315,-0.1535936724579839,1.0697246004611893,-0.9083408958560282,0.23825984450463622,0.6387576608046327,-0.5069686294885749,0.951703871558809,-0.5131593778854479,-0.06489118914025865,-1.6708061688797646,-0.8107835190282477,-1.181205795352084,-0.813756681394152,0.12899794573478857,-0.3690930111001821,1.015706364161616,-1.5316143343754245,-0.5312137078010556,-0.9267416426601521,0.800610799926069,-1.3397198536182306,-0.39168708430114446],\"xaxis\":\"x9\",\"y\":[-0.3308678283499978,1.2102869885680758,0.16165666886283267,-0.05014626976914914,-1.7041310004861954,2.024235238513975,-0.09134465405958134,-1.6844924497820224,0.9163296026413046,2.0794659045860073,0.9924934578875237,0.5873707456348409,1.2905227319405057,0.46820678032260965,1.1206849052535683,1.341070631482998,-0.9920483075572034,-0.37702169423272214,0.46126090421413385,-0.4546029067221703,0.4026763795390725,-0.7561975897647178,0.14441673856184556,0.8211975728390191,0.6788870276756361,1.1182546437714418,0.9490176518954572,-1.154782531524615,0.38181427290559194,0.33793396035602163,-0.7751405834311564,-0.5529730769082326,0.05647916438691906,0.10192405603420507,-2.5162833330941545,-0.7951372011661051,-0.3646860211475907,0.40531580458811517,1.1926397744105726,-0.29028992462203845,1.3583231215828995,0.07781708033642254,2.0736040373947846,-0.8696821561479623,0.12043740731758966,-0.03629497239265656,0.3053570205331342,0.18029122773894382,0.13354900391709607,-0.17334299637084163,1.441867436897421,1.4636153646305592,0.26550864279774633,-0.7738813937949514,-1.2303692250124292,0.838200091267915,-0.38617909861518657,0.7352581128330348,-0.4019180535632065,0.20708486170988621,-0.7159667677135855,0.8368946666471312,-0.7160851600715328,0.6010705536057844,0.2030736188503543,0.5921507478620754,0.7574792167617637,0.4842234648942265,0.5773379515467608,1.670424691479897,0.9266799668186261,-1.403877587672895,1.2038809660012877,0.3452384281513092,0.44303880229347764,0.8719181744286881,-1.2329183855895733,0.9236240777143699,-0.24448714149810596,-1.0261859997751288,-0.21321537760757056,-1.5737984069401019,-0.18240254216565702,-0.6234118074730078,-1.4485033427600447,0.5503312905497174,-1.8692148240880035,0.2651111144391633,-0.4259951764634556,-0.8599050611922008,-0.14029638457586968,-1.3003551328791512,2.2322790534052537,-0.29450300839930077,-1.0470733402417887,-1.0307516059120065,0.21920184356692302,-0.42602690198949716,1.0245308766574683,-1.9089173419853969],\"yaxis\":\"y9\",\"type\":\"scatter\"},{\"line\":{\"color\":\"rgba(128, 128, 128, 1.0)\",\"dash\":\"solid\",\"shape\":\"linear\",\"width\":1.3},\"marker\":{\"size\":2,\"symbol\":\"circle\"},\"mode\":\"markers\",\"name\":\"C\",\"text\":\"\",\"x\":[0.02001560917781522,-1.0891731935032625,1.117115278451909,0.40002640297342607,0.6788225994148674,-1.0464508327499304,1.753186397555937,0.4553153584280742,1.9267772772513023,0.36761632757654483,0.3354221156945639,-1.3975971007794514,-0.8288799184866059,-1.4694617838267692,0.38071369841281305,0.5873705484639964,-1.3368556819937818,1.4991333888708165,0.5813807231497642,-0.5527128990216509,-0.09761952261295645,-0.28166161146952456,0.7142778405665612,0.6293793918294663,-2.123446302387997,-0.1383482546425122,0.0893175440277195,-1.3223609989772662,-1.4742353228376357,2.3557586879361794,0.6407860071334618,-1.6723162335483108,0.010739496078409847,-0.8404641217846549,-0.37170568055098224,1.8912657465336102,0.18598631691892653,-0.5051875454241069,0.20307885101154383,-0.1892760143690366,1.0627125177800432,0.00576008208656999,1.4018256061331034,0.21525579076981813,0.9108216767100435,-0.09179782052924047,-0.8190698523389677,0.5656749663533622,1.01457085362219,-1.3907851791904955,0.09853552198020779,1.7139266832774738,-0.34554016715977387,2.2656738435005725,0.48749200482362615,0.7508919362554308,-0.5490445283005263,1.353420063225845,-0.3316233300195538,0.6405398483347998,-0.2463538808502654,-0.7363662270746788,-0.680425364174238,0.05553101197713513,1.6033590272505436,0.10504078713367834,2.080793389318112,-0.24229773712897296,-1.0333677171102167,0.4132352687474129,-0.02609569212262343,0.4517671856431499,-0.844903742341376,-1.117027526113431,0.20431018641555201,0.1887560681516722,-0.8661853113814597,-1.3997834715565687,1.293875546610676,0.12507506231115692,1.4813260456365591,1.2799752422469581,-1.873280502909398,-1.1616794539335047,-0.7297439373845849,0.3172723549807555,0.02191631673027781,1.763692690956398,-0.8702349417220633,1.63676868925836,-0.6512863117971823,0.5600399577030546,1.234716383944129,-1.0610391550838316,-0.31963888274136043,2.159961437255129,0.5231537525093585,-0.6452848760271948,0.9483151450214008,0.3273184835628279],\"xaxis\":\"x10\",\"y\":[-0.3308678283499978,1.2102869885680758,0.16165666886283267,-0.05014626976914914,-1.7041310004861954,2.024235238513975,-0.09134465405958134,-1.6844924497820224,0.9163296026413046,2.0794659045860073,0.9924934578875237,0.5873707456348409,1.2905227319405057,0.46820678032260965,1.1206849052535683,1.341070631482998,-0.9920483075572034,-0.37702169423272214,0.46126090421413385,-0.4546029067221703,0.4026763795390725,-0.7561975897647178,0.14441673856184556,0.8211975728390191,0.6788870276756361,1.1182546437714418,0.9490176518954572,-1.154782531524615,0.38181427290559194,0.33793396035602163,-0.7751405834311564,-0.5529730769082326,0.05647916438691906,0.10192405603420507,-2.5162833330941545,-0.7951372011661051,-0.3646860211475907,0.40531580458811517,1.1926397744105726,-0.29028992462203845,1.3583231215828995,0.07781708033642254,2.0736040373947846,-0.8696821561479623,0.12043740731758966,-0.03629497239265656,0.3053570205331342,0.18029122773894382,0.13354900391709607,-0.17334299637084163,1.441867436897421,1.4636153646305592,0.26550864279774633,-0.7738813937949514,-1.2303692250124292,0.838200091267915,-0.38617909861518657,0.7352581128330348,-0.4019180535632065,0.20708486170988621,-0.7159667677135855,0.8368946666471312,-0.7160851600715328,0.6010705536057844,0.2030736188503543,0.5921507478620754,0.7574792167617637,0.4842234648942265,0.5773379515467608,1.670424691479897,0.9266799668186261,-1.403877587672895,1.2038809660012877,0.3452384281513092,0.44303880229347764,0.8719181744286881,-1.2329183855895733,0.9236240777143699,-0.24448714149810596,-1.0261859997751288,-0.21321537760757056,-1.5737984069401019,-0.18240254216565702,-0.6234118074730078,-1.4485033427600447,0.5503312905497174,-1.8692148240880035,0.2651111144391633,-0.4259951764634556,-0.8599050611922008,-0.14029638457586968,-1.3003551328791512,2.2322790534052537,-0.29450300839930077,-1.0470733402417887,-1.0307516059120065,0.21920184356692302,-0.42602690198949716,1.0245308766574683,-1.9089173419853969],\"yaxis\":\"y10\",\"type\":\"scatter\"},{\"histfunc\":\"count\",\"histnorm\":\"\",\"marker\":{\"color\":\"rgba(50, 171, 96, 1.0)\",\"line\":{\"color\":\"#4D5663\",\"width\":1.3}},\"name\":\"C\",\"nbinsx\":10,\"opacity\":0.8,\"orientation\":\"v\",\"x\":[-0.3308678283499978,1.2102869885680758,0.16165666886283267,-0.05014626976914914,-1.7041310004861954,2.024235238513975,-0.09134465405958134,-1.6844924497820224,0.9163296026413046,2.0794659045860073,0.9924934578875237,0.5873707456348409,1.2905227319405057,0.46820678032260965,1.1206849052535683,1.341070631482998,-0.9920483075572034,-0.37702169423272214,0.46126090421413385,-0.4546029067221703,0.4026763795390725,-0.7561975897647178,0.14441673856184556,0.8211975728390191,0.6788870276756361,1.1182546437714418,0.9490176518954572,-1.154782531524615,0.38181427290559194,0.33793396035602163,-0.7751405834311564,-0.5529730769082326,0.05647916438691906,0.10192405603420507,-2.5162833330941545,-0.7951372011661051,-0.3646860211475907,0.40531580458811517,1.1926397744105726,-0.29028992462203845,1.3583231215828995,0.07781708033642254,2.0736040373947846,-0.8696821561479623,0.12043740731758966,-0.03629497239265656,0.3053570205331342,0.18029122773894382,0.13354900391709607,-0.17334299637084163,1.441867436897421,1.4636153646305592,0.26550864279774633,-0.7738813937949514,-1.2303692250124292,0.838200091267915,-0.38617909861518657,0.7352581128330348,-0.4019180535632065,0.20708486170988621,-0.7159667677135855,0.8368946666471312,-0.7160851600715328,0.6010705536057844,0.2030736188503543,0.5921507478620754,0.7574792167617637,0.4842234648942265,0.5773379515467608,1.670424691479897,0.9266799668186261,-1.403877587672895,1.2038809660012877,0.3452384281513092,0.44303880229347764,0.8719181744286881,-1.2329183855895733,0.9236240777143699,-0.24448714149810596,-1.0261859997751288,-0.21321537760757056,-1.5737984069401019,-0.18240254216565702,-0.6234118074730078,-1.4485033427600447,0.5503312905497174,-1.8692148240880035,0.2651111144391633,-0.4259951764634556,-0.8599050611922008,-0.14029638457586968,-1.3003551328791512,2.2322790534052537,-0.29450300839930077,-1.0470733402417887,-1.0307516059120065,0.21920184356692302,-0.42602690198949716,1.0245308766574683,-1.9089173419853969],\"xaxis\":\"x11\",\"yaxis\":\"y11\",\"type\":\"histogram\"},{\"line\":{\"color\":\"rgba(128, 128, 128, 1.0)\",\"dash\":\"solid\",\"shape\":\"linear\",\"width\":1.3},\"marker\":{\"size\":2,\"symbol\":\"circle\"},\"mode\":\"markers\",\"name\":\"C\",\"text\":\"\",\"x\":[-1.3310222068170523,-1.7096392690646527,-1.2912551841487887,-0.7020206211106352,-0.2875650554311028,0.19299137551135742,-0.3318021907267024,0.554407437903143,-1.6027514483438141,-0.5583374457996408,-1.1909155900979693,-0.16799969304505857,1.1076547382907063,-0.08899211740101358,-1.1449527400822357,1.6959826727319578,1.3670266110405185,-0.8405936593803466,-0.1929076216496946,0.8789932032389244,-0.4698205311769827,-0.398356752332882,1.0561635988235853,-0.3706603855536645,-0.277764072335064,-1.0785627100616377,-0.18152225999466887,0.5276844224501354,1.1561194606045417,1.1106954550163752,1.0627416146217996,-0.1260928931598106,-0.4598332651987356,0.6411437776042059,-1.041951477817779,0.6691217962214827,1.6296666424666046,-0.44574977222849377,-0.23281014979912887,-0.8639938660683446,0.27319588799445926,0.37558781089225113,-0.5534460166278362,-0.5364730092304173,0.9362697464962008,-0.37548380330025893,-0.6509652667464869,0.8970401589650328,-0.5009942063842345,-0.44467857541875516,0.09353221011102655,-0.11262393269507838,0.7625100864753245,2.3613592187384107,1.029644115872112,-0.2242940367590926,0.5824917337235999,-2.6652205073890047,0.012729101381596683,-0.22203396772971987,0.09131735780368261,1.6016833144812963,-0.5474491875501178,-0.21470432358028996,0.8304930555147175,0.08789297532799611,-0.7104857063861766,2.0978491190720696,0.4547763828312598,0.020660494156799884,0.9137750695744344,-0.2524765883552448,0.18743883654481444,-0.27695411625325256,1.0623044063581735,0.0847298230681404,-2.402239634495088,0.6097433415482213,1.0828561134806167,0.30931683484609324,0.1278116765466919,-0.784658364858415,-0.06854681415485908,0.24234831106758858,-0.317327955941285,-0.5732783164792783,-0.1794450666813971,0.5751584951505719,-1.5956776053935104,-1.3413271641328415,-0.411489813959892,0.037151516689043845,1.4482132720076988,0.06431614118783856,-1.3208101075105647,1.1178702087130916,-0.9365522791504914,-0.7876891468081865,2.0388487442797953,-0.950333941501925],\"xaxis\":\"x12\",\"y\":[-0.3308678283499978,1.2102869885680758,0.16165666886283267,-0.05014626976914914,-1.7041310004861954,2.024235238513975,-0.09134465405958134,-1.6844924497820224,0.9163296026413046,2.0794659045860073,0.9924934578875237,0.5873707456348409,1.2905227319405057,0.46820678032260965,1.1206849052535683,1.341070631482998,-0.9920483075572034,-0.37702169423272214,0.46126090421413385,-0.4546029067221703,0.4026763795390725,-0.7561975897647178,0.14441673856184556,0.8211975728390191,0.6788870276756361,1.1182546437714418,0.9490176518954572,-1.154782531524615,0.38181427290559194,0.33793396035602163,-0.7751405834311564,-0.5529730769082326,0.05647916438691906,0.10192405603420507,-2.5162833330941545,-0.7951372011661051,-0.3646860211475907,0.40531580458811517,1.1926397744105726,-0.29028992462203845,1.3583231215828995,0.07781708033642254,2.0736040373947846,-0.8696821561479623,0.12043740731758966,-0.03629497239265656,0.3053570205331342,0.18029122773894382,0.13354900391709607,-0.17334299637084163,1.441867436897421,1.4636153646305592,0.26550864279774633,-0.7738813937949514,-1.2303692250124292,0.838200091267915,-0.38617909861518657,0.7352581128330348,-0.4019180535632065,0.20708486170988621,-0.7159667677135855,0.8368946666471312,-0.7160851600715328,0.6010705536057844,0.2030736188503543,0.5921507478620754,0.7574792167617637,0.4842234648942265,0.5773379515467608,1.670424691479897,0.9266799668186261,-1.403877587672895,1.2038809660012877,0.3452384281513092,0.44303880229347764,0.8719181744286881,-1.2329183855895733,0.9236240777143699,-0.24448714149810596,-1.0261859997751288,-0.21321537760757056,-1.5737984069401019,-0.18240254216565702,-0.6234118074730078,-1.4485033427600447,0.5503312905497174,-1.8692148240880035,0.2651111144391633,-0.4259951764634556,-0.8599050611922008,-0.14029638457586968,-1.3003551328791512,2.2322790534052537,-0.29450300839930077,-1.0470733402417887,-1.0307516059120065,0.21920184356692302,-0.42602690198949716,1.0245308766574683,-1.9089173419853969],\"yaxis\":\"y12\",\"type\":\"scatter\"},{\"line\":{\"color\":\"rgba(128, 128, 128, 1.0)\",\"dash\":\"solid\",\"shape\":\"linear\",\"width\":1.3},\"marker\":{\"size\":2,\"symbol\":\"circle\"},\"mode\":\"markers\",\"name\":\"D\",\"text\":\"\",\"x\":[1.2379579215557721,-0.5005184725982377,-1.8230450427793612,0.06842502309955707,0.4254384314514911,1.1763052359239257,-0.11214271908475447,1.1059753615356682,0.22346118664892053,-3.0955008897822682,-1.4517744954104537,1.0800716683559,0.7541959355429521,-0.19781466988496854,0.8027711878115771,0.32235289207845674,-1.407064449126228,0.5813815157192956,-0.4203924036852652,0.5355956630247433,1.0206309013545645,0.7384385770882846,-0.2900868329082115,0.3829461322814965,0.4611215018331621,-1.3790825150179762,1.2819328381644517,-1.134352798171451,0.5205979181212208,1.3157399184969396,0.784109751385838,-0.2788739329905516,2.8096183045496717,-0.2308271549045375,1.3964084344569843,0.01831236818373684,0.827571000150851,-0.7590395468795416,-0.16238163174865078,0.2572099021763275,-0.1498663201241084,2.0530119786117687,-0.03723847683954049,0.41757657681991633,0.9672215524108312,1.964130099188044,-0.9148020760659852,-0.7067367751252867,-0.46258169228107315,0.6395101035312151,0.614656019091725,1.6970454877439154,0.09192463941462742,1.541224196386175,1.1495442914166665,1.4773844447931597,1.7621437230813883,0.46693142325967285,1.419824486490099,0.8120024374923902,-1.0954528503558223,0.0407775353196377,0.42850511111267753,1.9275505103817203,-1.3431683970134831,0.796264215695926,-1.9127758508775747,1.2854170397536104,-0.29109585036885166,0.7387637394372951,0.1864707079105069,-1.2500559744599842,1.2676856772130243,-0.16842033667773443,0.05579077525029771,-0.3262741971013337,0.023869859254569244,0.24314462754504315,-0.1535936724579839,1.0697246004611893,-0.9083408958560282,0.23825984450463622,0.6387576608046327,-0.5069686294885749,0.951703871558809,-0.5131593778854479,-0.06489118914025865,-1.6708061688797646,-0.8107835190282477,-1.181205795352084,-0.813756681394152,0.12899794573478857,-0.3690930111001821,1.015706364161616,-1.5316143343754245,-0.5312137078010556,-0.9267416426601521,0.800610799926069,-1.3397198536182306,-0.39168708430114446],\"xaxis\":\"x13\",\"y\":[-1.3310222068170523,-1.7096392690646527,-1.2912551841487887,-0.7020206211106352,-0.2875650554311028,0.19299137551135742,-0.3318021907267024,0.554407437903143,-1.6027514483438141,-0.5583374457996408,-1.1909155900979693,-0.16799969304505857,1.1076547382907063,-0.08899211740101358,-1.1449527400822357,1.6959826727319578,1.3670266110405185,-0.8405936593803466,-0.1929076216496946,0.8789932032389244,-0.4698205311769827,-0.398356752332882,1.0561635988235853,-0.3706603855536645,-0.277764072335064,-1.0785627100616377,-0.18152225999466887,0.5276844224501354,1.1561194606045417,1.1106954550163752,1.0627416146217996,-0.1260928931598106,-0.4598332651987356,0.6411437776042059,-1.041951477817779,0.6691217962214827,1.6296666424666046,-0.44574977222849377,-0.23281014979912887,-0.8639938660683446,0.27319588799445926,0.37558781089225113,-0.5534460166278362,-0.5364730092304173,0.9362697464962008,-0.37548380330025893,-0.6509652667464869,0.8970401589650328,-0.5009942063842345,-0.44467857541875516,0.09353221011102655,-0.11262393269507838,0.7625100864753245,2.3613592187384107,1.029644115872112,-0.2242940367590926,0.5824917337235999,-2.6652205073890047,0.012729101381596683,-0.22203396772971987,0.09131735780368261,1.6016833144812963,-0.5474491875501178,-0.21470432358028996,0.8304930555147175,0.08789297532799611,-0.7104857063861766,2.0978491190720696,0.4547763828312598,0.020660494156799884,0.9137750695744344,-0.2524765883552448,0.18743883654481444,-0.27695411625325256,1.0623044063581735,0.0847298230681404,-2.402239634495088,0.6097433415482213,1.0828561134806167,0.30931683484609324,0.1278116765466919,-0.784658364858415,-0.06854681415485908,0.24234831106758858,-0.317327955941285,-0.5732783164792783,-0.1794450666813971,0.5751584951505719,-1.5956776053935104,-1.3413271641328415,-0.411489813959892,0.037151516689043845,1.4482132720076988,0.06431614118783856,-1.3208101075105647,1.1178702087130916,-0.9365522791504914,-0.7876891468081865,2.0388487442797953,-0.950333941501925],\"yaxis\":\"y13\",\"type\":\"scatter\"},{\"line\":{\"color\":\"rgba(128, 128, 128, 1.0)\",\"dash\":\"solid\",\"shape\":\"linear\",\"width\":1.3},\"marker\":{\"size\":2,\"symbol\":\"circle\"},\"mode\":\"markers\",\"name\":\"D\",\"text\":\"\",\"x\":[0.02001560917781522,-1.0891731935032625,1.117115278451909,0.40002640297342607,0.6788225994148674,-1.0464508327499304,1.753186397555937,0.4553153584280742,1.9267772772513023,0.36761632757654483,0.3354221156945639,-1.3975971007794514,-0.8288799184866059,-1.4694617838267692,0.38071369841281305,0.5873705484639964,-1.3368556819937818,1.4991333888708165,0.5813807231497642,-0.5527128990216509,-0.09761952261295645,-0.28166161146952456,0.7142778405665612,0.6293793918294663,-2.123446302387997,-0.1383482546425122,0.0893175440277195,-1.3223609989772662,-1.4742353228376357,2.3557586879361794,0.6407860071334618,-1.6723162335483108,0.010739496078409847,-0.8404641217846549,-0.37170568055098224,1.8912657465336102,0.18598631691892653,-0.5051875454241069,0.20307885101154383,-0.1892760143690366,1.0627125177800432,0.00576008208656999,1.4018256061331034,0.21525579076981813,0.9108216767100435,-0.09179782052924047,-0.8190698523389677,0.5656749663533622,1.01457085362219,-1.3907851791904955,0.09853552198020779,1.7139266832774738,-0.34554016715977387,2.2656738435005725,0.48749200482362615,0.7508919362554308,-0.5490445283005263,1.353420063225845,-0.3316233300195538,0.6405398483347998,-0.2463538808502654,-0.7363662270746788,-0.680425364174238,0.05553101197713513,1.6033590272505436,0.10504078713367834,2.080793389318112,-0.24229773712897296,-1.0333677171102167,0.4132352687474129,-0.02609569212262343,0.4517671856431499,-0.844903742341376,-1.117027526113431,0.20431018641555201,0.1887560681516722,-0.8661853113814597,-1.3997834715565687,1.293875546610676,0.12507506231115692,1.4813260456365591,1.2799752422469581,-1.873280502909398,-1.1616794539335047,-0.7297439373845849,0.3172723549807555,0.02191631673027781,1.763692690956398,-0.8702349417220633,1.63676868925836,-0.6512863117971823,0.5600399577030546,1.234716383944129,-1.0610391550838316,-0.31963888274136043,2.159961437255129,0.5231537525093585,-0.6452848760271948,0.9483151450214008,0.3273184835628279],\"xaxis\":\"x14\",\"y\":[-1.3310222068170523,-1.7096392690646527,-1.2912551841487887,-0.7020206211106352,-0.2875650554311028,0.19299137551135742,-0.3318021907267024,0.554407437903143,-1.6027514483438141,-0.5583374457996408,-1.1909155900979693,-0.16799969304505857,1.1076547382907063,-0.08899211740101358,-1.1449527400822357,1.6959826727319578,1.3670266110405185,-0.8405936593803466,-0.1929076216496946,0.8789932032389244,-0.4698205311769827,-0.398356752332882,1.0561635988235853,-0.3706603855536645,-0.277764072335064,-1.0785627100616377,-0.18152225999466887,0.5276844224501354,1.1561194606045417,1.1106954550163752,1.0627416146217996,-0.1260928931598106,-0.4598332651987356,0.6411437776042059,-1.041951477817779,0.6691217962214827,1.6296666424666046,-0.44574977222849377,-0.23281014979912887,-0.8639938660683446,0.27319588799445926,0.37558781089225113,-0.5534460166278362,-0.5364730092304173,0.9362697464962008,-0.37548380330025893,-0.6509652667464869,0.8970401589650328,-0.5009942063842345,-0.44467857541875516,0.09353221011102655,-0.11262393269507838,0.7625100864753245,2.3613592187384107,1.029644115872112,-0.2242940367590926,0.5824917337235999,-2.6652205073890047,0.012729101381596683,-0.22203396772971987,0.09131735780368261,1.6016833144812963,-0.5474491875501178,-0.21470432358028996,0.8304930555147175,0.08789297532799611,-0.7104857063861766,2.0978491190720696,0.4547763828312598,0.020660494156799884,0.9137750695744344,-0.2524765883552448,0.18743883654481444,-0.27695411625325256,1.0623044063581735,0.0847298230681404,-2.402239634495088,0.6097433415482213,1.0828561134806167,0.30931683484609324,0.1278116765466919,-0.784658364858415,-0.06854681415485908,0.24234831106758858,-0.317327955941285,-0.5732783164792783,-0.1794450666813971,0.5751584951505719,-1.5956776053935104,-1.3413271641328415,-0.411489813959892,0.037151516689043845,1.4482132720076988,0.06431614118783856,-1.3208101075105647,1.1178702087130916,-0.9365522791504914,-0.7876891468081865,2.0388487442797953,-0.950333941501925],\"yaxis\":\"y14\",\"type\":\"scatter\"},{\"line\":{\"color\":\"rgba(128, 128, 128, 1.0)\",\"dash\":\"solid\",\"shape\":\"linear\",\"width\":1.3},\"marker\":{\"size\":2,\"symbol\":\"circle\"},\"mode\":\"markers\",\"name\":\"D\",\"text\":\"\",\"x\":[-0.3308678283499978,1.2102869885680758,0.16165666886283267,-0.05014626976914914,-1.7041310004861954,2.024235238513975,-0.09134465405958134,-1.6844924497820224,0.9163296026413046,2.0794659045860073,0.9924934578875237,0.5873707456348409,1.2905227319405057,0.46820678032260965,1.1206849052535683,1.341070631482998,-0.9920483075572034,-0.37702169423272214,0.46126090421413385,-0.4546029067221703,0.4026763795390725,-0.7561975897647178,0.14441673856184556,0.8211975728390191,0.6788870276756361,1.1182546437714418,0.9490176518954572,-1.154782531524615,0.38181427290559194,0.33793396035602163,-0.7751405834311564,-0.5529730769082326,0.05647916438691906,0.10192405603420507,-2.5162833330941545,-0.7951372011661051,-0.3646860211475907,0.40531580458811517,1.1926397744105726,-0.29028992462203845,1.3583231215828995,0.07781708033642254,2.0736040373947846,-0.8696821561479623,0.12043740731758966,-0.03629497239265656,0.3053570205331342,0.18029122773894382,0.13354900391709607,-0.17334299637084163,1.441867436897421,1.4636153646305592,0.26550864279774633,-0.7738813937949514,-1.2303692250124292,0.838200091267915,-0.38617909861518657,0.7352581128330348,-0.4019180535632065,0.20708486170988621,-0.7159667677135855,0.8368946666471312,-0.7160851600715328,0.6010705536057844,0.2030736188503543,0.5921507478620754,0.7574792167617637,0.4842234648942265,0.5773379515467608,1.670424691479897,0.9266799668186261,-1.403877587672895,1.2038809660012877,0.3452384281513092,0.44303880229347764,0.8719181744286881,-1.2329183855895733,0.9236240777143699,-0.24448714149810596,-1.0261859997751288,-0.21321537760757056,-1.5737984069401019,-0.18240254216565702,-0.6234118074730078,-1.4485033427600447,0.5503312905497174,-1.8692148240880035,0.2651111144391633,-0.4259951764634556,-0.8599050611922008,-0.14029638457586968,-1.3003551328791512,2.2322790534052537,-0.29450300839930077,-1.0470733402417887,-1.0307516059120065,0.21920184356692302,-0.42602690198949716,1.0245308766574683,-1.9089173419853969],\"xaxis\":\"x15\",\"y\":[-1.3310222068170523,-1.7096392690646527,-1.2912551841487887,-0.7020206211106352,-0.2875650554311028,0.19299137551135742,-0.3318021907267024,0.554407437903143,-1.6027514483438141,-0.5583374457996408,-1.1909155900979693,-0.16799969304505857,1.1076547382907063,-0.08899211740101358,-1.1449527400822357,1.6959826727319578,1.3670266110405185,-0.8405936593803466,-0.1929076216496946,0.8789932032389244,-0.4698205311769827,-0.398356752332882,1.0561635988235853,-0.3706603855536645,-0.277764072335064,-1.0785627100616377,-0.18152225999466887,0.5276844224501354,1.1561194606045417,1.1106954550163752,1.0627416146217996,-0.1260928931598106,-0.4598332651987356,0.6411437776042059,-1.041951477817779,0.6691217962214827,1.6296666424666046,-0.44574977222849377,-0.23281014979912887,-0.8639938660683446,0.27319588799445926,0.37558781089225113,-0.5534460166278362,-0.5364730092304173,0.9362697464962008,-0.37548380330025893,-0.6509652667464869,0.8970401589650328,-0.5009942063842345,-0.44467857541875516,0.09353221011102655,-0.11262393269507838,0.7625100864753245,2.3613592187384107,1.029644115872112,-0.2242940367590926,0.5824917337235999,-2.6652205073890047,0.012729101381596683,-0.22203396772971987,0.09131735780368261,1.6016833144812963,-0.5474491875501178,-0.21470432358028996,0.8304930555147175,0.08789297532799611,-0.7104857063861766,2.0978491190720696,0.4547763828312598,0.020660494156799884,0.9137750695744344,-0.2524765883552448,0.18743883654481444,-0.27695411625325256,1.0623044063581735,0.0847298230681404,-2.402239634495088,0.6097433415482213,1.0828561134806167,0.30931683484609324,0.1278116765466919,-0.784658364858415,-0.06854681415485908,0.24234831106758858,-0.317327955941285,-0.5732783164792783,-0.1794450666813971,0.5751584951505719,-1.5956776053935104,-1.3413271641328415,-0.411489813959892,0.037151516689043845,1.4482132720076988,0.06431614118783856,-1.3208101075105647,1.1178702087130916,-0.9365522791504914,-0.7876891468081865,2.0388487442797953,-0.950333941501925],\"yaxis\":\"y15\",\"type\":\"scatter\"},{\"histfunc\":\"count\",\"histnorm\":\"\",\"marker\":{\"color\":\"rgba(128, 0, 128, 1.0)\",\"line\":{\"color\":\"#4D5663\",\"width\":1.3}},\"name\":\"D\",\"nbinsx\":10,\"opacity\":0.8,\"orientation\":\"v\",\"x\":[-1.3310222068170523,-1.7096392690646527,-1.2912551841487887,-0.7020206211106352,-0.2875650554311028,0.19299137551135742,-0.3318021907267024,0.554407437903143,-1.6027514483438141,-0.5583374457996408,-1.1909155900979693,-0.16799969304505857,1.1076547382907063,-0.08899211740101358,-1.1449527400822357,1.6959826727319578,1.3670266110405185,-0.8405936593803466,-0.1929076216496946,0.8789932032389244,-0.4698205311769827,-0.398356752332882,1.0561635988235853,-0.3706603855536645,-0.277764072335064,-1.0785627100616377,-0.18152225999466887,0.5276844224501354,1.1561194606045417,1.1106954550163752,1.0627416146217996,-0.1260928931598106,-0.4598332651987356,0.6411437776042059,-1.041951477817779,0.6691217962214827,1.6296666424666046,-0.44574977222849377,-0.23281014979912887,-0.8639938660683446,0.27319588799445926,0.37558781089225113,-0.5534460166278362,-0.5364730092304173,0.9362697464962008,-0.37548380330025893,-0.6509652667464869,0.8970401589650328,-0.5009942063842345,-0.44467857541875516,0.09353221011102655,-0.11262393269507838,0.7625100864753245,2.3613592187384107,1.029644115872112,-0.2242940367590926,0.5824917337235999,-2.6652205073890047,0.012729101381596683,-0.22203396772971987,0.09131735780368261,1.6016833144812963,-0.5474491875501178,-0.21470432358028996,0.8304930555147175,0.08789297532799611,-0.7104857063861766,2.0978491190720696,0.4547763828312598,0.020660494156799884,0.9137750695744344,-0.2524765883552448,0.18743883654481444,-0.27695411625325256,1.0623044063581735,0.0847298230681404,-2.402239634495088,0.6097433415482213,1.0828561134806167,0.30931683484609324,0.1278116765466919,-0.784658364858415,-0.06854681415485908,0.24234831106758858,-0.317327955941285,-0.5732783164792783,-0.1794450666813971,0.5751584951505719,-1.5956776053935104,-1.3413271641328415,-0.411489813959892,0.037151516689043845,1.4482132720076988,0.06431614118783856,-1.3208101075105647,1.1178702087130916,-0.9365522791504914,-0.7876891468081865,2.0388487442797953,-0.950333941501925],\"xaxis\":\"x16\",\"yaxis\":\"y16\",\"type\":\"histogram\"}],                        {\"bargap\":0.02,\"legend\":{\"bgcolor\":\"#F5F6F9\",\"font\":{\"color\":\"#4D5663\"}},\"paper_bgcolor\":\"#F5F6F9\",\"plot_bgcolor\":\"#F5F6F9\",\"showlegend\":false,\"template\":{\"data\":{\"barpolar\":[{\"marker\":{\"line\":{\"color\":\"#E5ECF6\",\"width\":0.5},\"pattern\":{\"fillmode\":\"overlay\",\"size\":10,\"solidity\":0.2}},\"type\":\"barpolar\"}],\"bar\":[{\"error_x\":{\"color\":\"#2a3f5f\"},\"error_y\":{\"color\":\"#2a3f5f\"},\"marker\":{\"line\":{\"color\":\"#E5ECF6\",\"width\":0.5},\"pattern\":{\"fillmode\":\"overlay\",\"size\":10,\"solidity\":0.2}},\"type\":\"bar\"}],\"carpet\":[{\"aaxis\":{\"endlinecolor\":\"#2a3f5f\",\"gridcolor\":\"white\",\"linecolor\":\"white\",\"minorgridcolor\":\"white\",\"startlinecolor\":\"#2a3f5f\"},\"baxis\":{\"endlinecolor\":\"#2a3f5f\",\"gridcolor\":\"white\",\"linecolor\":\"white\",\"minorgridcolor\":\"white\",\"startlinecolor\":\"#2a3f5f\"},\"type\":\"carpet\"}],\"choropleth\":[{\"colorbar\":{\"outlinewidth\":0,\"ticks\":\"\"},\"type\":\"choropleth\"}],\"contourcarpet\":[{\"colorbar\":{\"outlinewidth\":0,\"ticks\":\"\"},\"type\":\"contourcarpet\"}],\"contour\":[{\"colorbar\":{\"outlinewidth\":0,\"ticks\":\"\"},\"colorscale\":[[0.0,\"#0d0887\"],[0.1111111111111111,\"#46039f\"],[0.2222222222222222,\"#7201a8\"],[0.3333333333333333,\"#9c179e\"],[0.4444444444444444,\"#bd3786\"],[0.5555555555555556,\"#d8576b\"],[0.6666666666666666,\"#ed7953\"],[0.7777777777777778,\"#fb9f3a\"],[0.8888888888888888,\"#fdca26\"],[1.0,\"#f0f921\"]],\"type\":\"contour\"}],\"heatmapgl\":[{\"colorbar\":{\"outlinewidth\":0,\"ticks\":\"\"},\"colorscale\":[[0.0,\"#0d0887\"],[0.1111111111111111,\"#46039f\"],[0.2222222222222222,\"#7201a8\"],[0.3333333333333333,\"#9c179e\"],[0.4444444444444444,\"#bd3786\"],[0.5555555555555556,\"#d8576b\"],[0.6666666666666666,\"#ed7953\"],[0.7777777777777778,\"#fb9f3a\"],[0.8888888888888888,\"#fdca26\"],[1.0,\"#f0f921\"]],\"type\":\"heatmapgl\"}],\"heatmap\":[{\"colorbar\":{\"outlinewidth\":0,\"ticks\":\"\"},\"colorscale\":[[0.0,\"#0d0887\"],[0.1111111111111111,\"#46039f\"],[0.2222222222222222,\"#7201a8\"],[0.3333333333333333,\"#9c179e\"],[0.4444444444444444,\"#bd3786\"],[0.5555555555555556,\"#d8576b\"],[0.6666666666666666,\"#ed7953\"],[0.7777777777777778,\"#fb9f3a\"],[0.8888888888888888,\"#fdca26\"],[1.0,\"#f0f921\"]],\"type\":\"heatmap\"}],\"histogram2dcontour\":[{\"colorbar\":{\"outlinewidth\":0,\"ticks\":\"\"},\"colorscale\":[[0.0,\"#0d0887\"],[0.1111111111111111,\"#46039f\"],[0.2222222222222222,\"#7201a8\"],[0.3333333333333333,\"#9c179e\"],[0.4444444444444444,\"#bd3786\"],[0.5555555555555556,\"#d8576b\"],[0.6666666666666666,\"#ed7953\"],[0.7777777777777778,\"#fb9f3a\"],[0.8888888888888888,\"#fdca26\"],[1.0,\"#f0f921\"]],\"type\":\"histogram2dcontour\"}],\"histogram2d\":[{\"colorbar\":{\"outlinewidth\":0,\"ticks\":\"\"},\"colorscale\":[[0.0,\"#0d0887\"],[0.1111111111111111,\"#46039f\"],[0.2222222222222222,\"#7201a8\"],[0.3333333333333333,\"#9c179e\"],[0.4444444444444444,\"#bd3786\"],[0.5555555555555556,\"#d8576b\"],[0.6666666666666666,\"#ed7953\"],[0.7777777777777778,\"#fb9f3a\"],[0.8888888888888888,\"#fdca26\"],[1.0,\"#f0f921\"]],\"type\":\"histogram2d\"}],\"histogram\":[{\"marker\":{\"pattern\":{\"fillmode\":\"overlay\",\"size\":10,\"solidity\":0.2}},\"type\":\"histogram\"}],\"mesh3d\":[{\"colorbar\":{\"outlinewidth\":0,\"ticks\":\"\"},\"type\":\"mesh3d\"}],\"parcoords\":[{\"line\":{\"colorbar\":{\"outlinewidth\":0,\"ticks\":\"\"}},\"type\":\"parcoords\"}],\"pie\":[{\"automargin\":true,\"type\":\"pie\"}],\"scatter3d\":[{\"line\":{\"colorbar\":{\"outlinewidth\":0,\"ticks\":\"\"}},\"marker\":{\"colorbar\":{\"outlinewidth\":0,\"ticks\":\"\"}},\"type\":\"scatter3d\"}],\"scattercarpet\":[{\"marker\":{\"colorbar\":{\"outlinewidth\":0,\"ticks\":\"\"}},\"type\":\"scattercarpet\"}],\"scattergeo\":[{\"marker\":{\"colorbar\":{\"outlinewidth\":0,\"ticks\":\"\"}},\"type\":\"scattergeo\"}],\"scattergl\":[{\"marker\":{\"colorbar\":{\"outlinewidth\":0,\"ticks\":\"\"}},\"type\":\"scattergl\"}],\"scattermapbox\":[{\"marker\":{\"colorbar\":{\"outlinewidth\":0,\"ticks\":\"\"}},\"type\":\"scattermapbox\"}],\"scatterpolargl\":[{\"marker\":{\"colorbar\":{\"outlinewidth\":0,\"ticks\":\"\"}},\"type\":\"scatterpolargl\"}],\"scatterpolar\":[{\"marker\":{\"colorbar\":{\"outlinewidth\":0,\"ticks\":\"\"}},\"type\":\"scatterpolar\"}],\"scatter\":[{\"fillpattern\":{\"fillmode\":\"overlay\",\"size\":10,\"solidity\":0.2},\"type\":\"scatter\"}],\"scatterternary\":[{\"marker\":{\"colorbar\":{\"outlinewidth\":0,\"ticks\":\"\"}},\"type\":\"scatterternary\"}],\"surface\":[{\"colorbar\":{\"outlinewidth\":0,\"ticks\":\"\"},\"colorscale\":[[0.0,\"#0d0887\"],[0.1111111111111111,\"#46039f\"],[0.2222222222222222,\"#7201a8\"],[0.3333333333333333,\"#9c179e\"],[0.4444444444444444,\"#bd3786\"],[0.5555555555555556,\"#d8576b\"],[0.6666666666666666,\"#ed7953\"],[0.7777777777777778,\"#fb9f3a\"],[0.8888888888888888,\"#fdca26\"],[1.0,\"#f0f921\"]],\"type\":\"surface\"}],\"table\":[{\"cells\":{\"fill\":{\"color\":\"#EBF0F8\"},\"line\":{\"color\":\"white\"}},\"header\":{\"fill\":{\"color\":\"#C8D4E3\"},\"line\":{\"color\":\"white\"}},\"type\":\"table\"}]},\"layout\":{\"annotationdefaults\":{\"arrowcolor\":\"#2a3f5f\",\"arrowhead\":0,\"arrowwidth\":1},\"autotypenumbers\":\"strict\",\"coloraxis\":{\"colorbar\":{\"outlinewidth\":0,\"ticks\":\"\"}},\"colorscale\":{\"diverging\":[[0,\"#8e0152\"],[0.1,\"#c51b7d\"],[0.2,\"#de77ae\"],[0.3,\"#f1b6da\"],[0.4,\"#fde0ef\"],[0.5,\"#f7f7f7\"],[0.6,\"#e6f5d0\"],[0.7,\"#b8e186\"],[0.8,\"#7fbc41\"],[0.9,\"#4d9221\"],[1,\"#276419\"]],\"sequential\":[[0.0,\"#0d0887\"],[0.1111111111111111,\"#46039f\"],[0.2222222222222222,\"#7201a8\"],[0.3333333333333333,\"#9c179e\"],[0.4444444444444444,\"#bd3786\"],[0.5555555555555556,\"#d8576b\"],[0.6666666666666666,\"#ed7953\"],[0.7777777777777778,\"#fb9f3a\"],[0.8888888888888888,\"#fdca26\"],[1.0,\"#f0f921\"]],\"sequentialminus\":[[0.0,\"#0d0887\"],[0.1111111111111111,\"#46039f\"],[0.2222222222222222,\"#7201a8\"],[0.3333333333333333,\"#9c179e\"],[0.4444444444444444,\"#bd3786\"],[0.5555555555555556,\"#d8576b\"],[0.6666666666666666,\"#ed7953\"],[0.7777777777777778,\"#fb9f3a\"],[0.8888888888888888,\"#fdca26\"],[1.0,\"#f0f921\"]]},\"colorway\":[\"#636efa\",\"#EF553B\",\"#00cc96\",\"#ab63fa\",\"#FFA15A\",\"#19d3f3\",\"#FF6692\",\"#B6E880\",\"#FF97FF\",\"#FECB52\"],\"font\":{\"color\":\"#2a3f5f\"},\"geo\":{\"bgcolor\":\"white\",\"lakecolor\":\"white\",\"landcolor\":\"#E5ECF6\",\"showlakes\":true,\"showland\":true,\"subunitcolor\":\"white\"},\"hoverlabel\":{\"align\":\"left\"},\"hovermode\":\"closest\",\"mapbox\":{\"style\":\"light\"},\"paper_bgcolor\":\"white\",\"plot_bgcolor\":\"#E5ECF6\",\"polar\":{\"angularaxis\":{\"gridcolor\":\"white\",\"linecolor\":\"white\",\"ticks\":\"\"},\"bgcolor\":\"#E5ECF6\",\"radialaxis\":{\"gridcolor\":\"white\",\"linecolor\":\"white\",\"ticks\":\"\"}},\"scene\":{\"xaxis\":{\"backgroundcolor\":\"#E5ECF6\",\"gridcolor\":\"white\",\"gridwidth\":2,\"linecolor\":\"white\",\"showbackground\":true,\"ticks\":\"\",\"zerolinecolor\":\"white\"},\"yaxis\":{\"backgroundcolor\":\"#E5ECF6\",\"gridcolor\":\"white\",\"gridwidth\":2,\"linecolor\":\"white\",\"showbackground\":true,\"ticks\":\"\",\"zerolinecolor\":\"white\"},\"zaxis\":{\"backgroundcolor\":\"#E5ECF6\",\"gridcolor\":\"white\",\"gridwidth\":2,\"linecolor\":\"white\",\"showbackground\":true,\"ticks\":\"\",\"zerolinecolor\":\"white\"}},\"shapedefaults\":{\"line\":{\"color\":\"#2a3f5f\"}},\"ternary\":{\"aaxis\":{\"gridcolor\":\"white\",\"linecolor\":\"white\",\"ticks\":\"\"},\"baxis\":{\"gridcolor\":\"white\",\"linecolor\":\"white\",\"ticks\":\"\"},\"bgcolor\":\"#E5ECF6\",\"caxis\":{\"gridcolor\":\"white\",\"linecolor\":\"white\",\"ticks\":\"\"}},\"title\":{\"x\":0.05},\"xaxis\":{\"automargin\":true,\"gridcolor\":\"white\",\"linecolor\":\"white\",\"ticks\":\"\",\"title\":{\"standoff\":15},\"zerolinecolor\":\"white\",\"zerolinewidth\":2},\"yaxis\":{\"automargin\":true,\"gridcolor\":\"white\",\"linecolor\":\"white\",\"ticks\":\"\",\"title\":{\"standoff\":15},\"zerolinecolor\":\"white\",\"zerolinewidth\":2}}},\"title\":{\"font\":{\"color\":\"#4D5663\"}},\"xaxis\":{\"anchor\":\"y\",\"domain\":[0.0,0.2125],\"gridcolor\":\"#E1E5ED\",\"showgrid\":false,\"tickfont\":{\"color\":\"#4D5663\"},\"title\":{\"font\":{\"color\":\"#4D5663\"},\"text\":\"\"},\"zerolinecolor\":\"#E1E5ED\"},\"yaxis\":{\"anchor\":\"x\",\"domain\":[0.8025,1.0],\"gridcolor\":\"#E1E5ED\",\"showgrid\":false,\"tickfont\":{\"color\":\"#4D5663\"},\"title\":{\"font\":{\"color\":\"#4D5663\"},\"text\":\"\"},\"zerolinecolor\":\"#E1E5ED\"},\"xaxis2\":{\"anchor\":\"y2\",\"domain\":[0.2625,0.475],\"gridcolor\":\"#E1E5ED\",\"showgrid\":false,\"tickfont\":{\"color\":\"#4D5663\"},\"title\":{\"font\":{\"color\":\"#4D5663\"},\"text\":\"\"},\"zerolinecolor\":\"#E1E5ED\"},\"yaxis2\":{\"anchor\":\"x2\",\"domain\":[0.8025,1.0],\"gridcolor\":\"#E1E5ED\",\"showgrid\":false,\"tickfont\":{\"color\":\"#4D5663\"},\"title\":{\"font\":{\"color\":\"#4D5663\"},\"text\":\"\"},\"zerolinecolor\":\"#E1E5ED\"},\"xaxis3\":{\"anchor\":\"y3\",\"domain\":[0.525,0.7375],\"gridcolor\":\"#E1E5ED\",\"showgrid\":false,\"tickfont\":{\"color\":\"#4D5663\"},\"title\":{\"font\":{\"color\":\"#4D5663\"},\"text\":\"\"},\"zerolinecolor\":\"#E1E5ED\"},\"yaxis3\":{\"anchor\":\"x3\",\"domain\":[0.8025,1.0],\"gridcolor\":\"#E1E5ED\",\"showgrid\":false,\"tickfont\":{\"color\":\"#4D5663\"},\"title\":{\"font\":{\"color\":\"#4D5663\"},\"text\":\"\"},\"zerolinecolor\":\"#E1E5ED\"},\"xaxis4\":{\"anchor\":\"y4\",\"domain\":[0.7875,1.0],\"gridcolor\":\"#E1E5ED\",\"showgrid\":false,\"tickfont\":{\"color\":\"#4D5663\"},\"title\":{\"font\":{\"color\":\"#4D5663\"},\"text\":\"\"},\"zerolinecolor\":\"#E1E5ED\"},\"yaxis4\":{\"anchor\":\"x4\",\"domain\":[0.8025,1.0],\"gridcolor\":\"#E1E5ED\",\"showgrid\":false,\"tickfont\":{\"color\":\"#4D5663\"},\"title\":{\"font\":{\"color\":\"#4D5663\"},\"text\":\"\"},\"zerolinecolor\":\"#E1E5ED\"},\"xaxis5\":{\"anchor\":\"y5\",\"domain\":[0.0,0.2125],\"gridcolor\":\"#E1E5ED\",\"showgrid\":false,\"tickfont\":{\"color\":\"#4D5663\"},\"title\":{\"font\":{\"color\":\"#4D5663\"},\"text\":\"\"},\"zerolinecolor\":\"#E1E5ED\"},\"yaxis5\":{\"anchor\":\"x5\",\"domain\":[0.535,0.7325],\"gridcolor\":\"#E1E5ED\",\"showgrid\":false,\"tickfont\":{\"color\":\"#4D5663\"},\"title\":{\"font\":{\"color\":\"#4D5663\"},\"text\":\"\"},\"zerolinecolor\":\"#E1E5ED\"},\"xaxis6\":{\"anchor\":\"y6\",\"domain\":[0.2625,0.475],\"gridcolor\":\"#E1E5ED\",\"showgrid\":false,\"tickfont\":{\"color\":\"#4D5663\"},\"title\":{\"font\":{\"color\":\"#4D5663\"},\"text\":\"\"},\"zerolinecolor\":\"#E1E5ED\"},\"yaxis6\":{\"anchor\":\"x6\",\"domain\":[0.535,0.7325],\"gridcolor\":\"#E1E5ED\",\"showgrid\":false,\"tickfont\":{\"color\":\"#4D5663\"},\"title\":{\"font\":{\"color\":\"#4D5663\"},\"text\":\"\"},\"zerolinecolor\":\"#E1E5ED\"},\"xaxis7\":{\"anchor\":\"y7\",\"domain\":[0.525,0.7375],\"gridcolor\":\"#E1E5ED\",\"showgrid\":false,\"tickfont\":{\"color\":\"#4D5663\"},\"title\":{\"font\":{\"color\":\"#4D5663\"},\"text\":\"\"},\"zerolinecolor\":\"#E1E5ED\"},\"yaxis7\":{\"anchor\":\"x7\",\"domain\":[0.535,0.7325],\"gridcolor\":\"#E1E5ED\",\"showgrid\":false,\"tickfont\":{\"color\":\"#4D5663\"},\"title\":{\"font\":{\"color\":\"#4D5663\"},\"text\":\"\"},\"zerolinecolor\":\"#E1E5ED\"},\"xaxis8\":{\"anchor\":\"y8\",\"domain\":[0.7875,1.0],\"gridcolor\":\"#E1E5ED\",\"showgrid\":false,\"tickfont\":{\"color\":\"#4D5663\"},\"title\":{\"font\":{\"color\":\"#4D5663\"},\"text\":\"\"},\"zerolinecolor\":\"#E1E5ED\"},\"yaxis8\":{\"anchor\":\"x8\",\"domain\":[0.535,0.7325],\"gridcolor\":\"#E1E5ED\",\"showgrid\":false,\"tickfont\":{\"color\":\"#4D5663\"},\"title\":{\"font\":{\"color\":\"#4D5663\"},\"text\":\"\"},\"zerolinecolor\":\"#E1E5ED\"},\"xaxis9\":{\"anchor\":\"y9\",\"domain\":[0.0,0.2125],\"gridcolor\":\"#E1E5ED\",\"showgrid\":false,\"tickfont\":{\"color\":\"#4D5663\"},\"title\":{\"font\":{\"color\":\"#4D5663\"},\"text\":\"\"},\"zerolinecolor\":\"#E1E5ED\"},\"yaxis9\":{\"anchor\":\"x9\",\"domain\":[0.2675,0.465],\"gridcolor\":\"#E1E5ED\",\"showgrid\":false,\"tickfont\":{\"color\":\"#4D5663\"},\"title\":{\"font\":{\"color\":\"#4D5663\"},\"text\":\"\"},\"zerolinecolor\":\"#E1E5ED\"},\"xaxis10\":{\"anchor\":\"y10\",\"domain\":[0.2625,0.475],\"gridcolor\":\"#E1E5ED\",\"showgrid\":false,\"tickfont\":{\"color\":\"#4D5663\"},\"title\":{\"font\":{\"color\":\"#4D5663\"},\"text\":\"\"},\"zerolinecolor\":\"#E1E5ED\"},\"yaxis10\":{\"anchor\":\"x10\",\"domain\":[0.2675,0.465],\"gridcolor\":\"#E1E5ED\",\"showgrid\":false,\"tickfont\":{\"color\":\"#4D5663\"},\"title\":{\"font\":{\"color\":\"#4D5663\"},\"text\":\"\"},\"zerolinecolor\":\"#E1E5ED\"},\"xaxis11\":{\"anchor\":\"y11\",\"domain\":[0.525,0.7375],\"gridcolor\":\"#E1E5ED\",\"showgrid\":false,\"tickfont\":{\"color\":\"#4D5663\"},\"title\":{\"font\":{\"color\":\"#4D5663\"},\"text\":\"\"},\"zerolinecolor\":\"#E1E5ED\"},\"yaxis11\":{\"anchor\":\"x11\",\"domain\":[0.2675,0.465],\"gridcolor\":\"#E1E5ED\",\"showgrid\":false,\"tickfont\":{\"color\":\"#4D5663\"},\"title\":{\"font\":{\"color\":\"#4D5663\"},\"text\":\"\"},\"zerolinecolor\":\"#E1E5ED\"},\"xaxis12\":{\"anchor\":\"y12\",\"domain\":[0.7875,1.0],\"gridcolor\":\"#E1E5ED\",\"showgrid\":false,\"tickfont\":{\"color\":\"#4D5663\"},\"title\":{\"font\":{\"color\":\"#4D5663\"},\"text\":\"\"},\"zerolinecolor\":\"#E1E5ED\"},\"yaxis12\":{\"anchor\":\"x12\",\"domain\":[0.2675,0.465],\"gridcolor\":\"#E1E5ED\",\"showgrid\":false,\"tickfont\":{\"color\":\"#4D5663\"},\"title\":{\"font\":{\"color\":\"#4D5663\"},\"text\":\"\"},\"zerolinecolor\":\"#E1E5ED\"},\"xaxis13\":{\"anchor\":\"y13\",\"domain\":[0.0,0.2125],\"gridcolor\":\"#E1E5ED\",\"showgrid\":false,\"tickfont\":{\"color\":\"#4D5663\"},\"title\":{\"font\":{\"color\":\"#4D5663\"},\"text\":\"\"},\"zerolinecolor\":\"#E1E5ED\"},\"yaxis13\":{\"anchor\":\"x13\",\"domain\":[0.0,0.1975],\"gridcolor\":\"#E1E5ED\",\"showgrid\":false,\"tickfont\":{\"color\":\"#4D5663\"},\"title\":{\"font\":{\"color\":\"#4D5663\"},\"text\":\"\"},\"zerolinecolor\":\"#E1E5ED\"},\"xaxis14\":{\"anchor\":\"y14\",\"domain\":[0.2625,0.475],\"gridcolor\":\"#E1E5ED\",\"showgrid\":false,\"tickfont\":{\"color\":\"#4D5663\"},\"title\":{\"font\":{\"color\":\"#4D5663\"},\"text\":\"\"},\"zerolinecolor\":\"#E1E5ED\"},\"yaxis14\":{\"anchor\":\"x14\",\"domain\":[0.0,0.1975],\"gridcolor\":\"#E1E5ED\",\"showgrid\":false,\"tickfont\":{\"color\":\"#4D5663\"},\"title\":{\"font\":{\"color\":\"#4D5663\"},\"text\":\"\"},\"zerolinecolor\":\"#E1E5ED\"},\"xaxis15\":{\"anchor\":\"y15\",\"domain\":[0.525,0.7375],\"gridcolor\":\"#E1E5ED\",\"showgrid\":false,\"tickfont\":{\"color\":\"#4D5663\"},\"title\":{\"font\":{\"color\":\"#4D5663\"},\"text\":\"\"},\"zerolinecolor\":\"#E1E5ED\"},\"yaxis15\":{\"anchor\":\"x15\",\"domain\":[0.0,0.1975],\"gridcolor\":\"#E1E5ED\",\"showgrid\":false,\"tickfont\":{\"color\":\"#4D5663\"},\"title\":{\"font\":{\"color\":\"#4D5663\"},\"text\":\"\"},\"zerolinecolor\":\"#E1E5ED\"},\"xaxis16\":{\"anchor\":\"y16\",\"domain\":[0.7875,1.0],\"gridcolor\":\"#E1E5ED\",\"showgrid\":false,\"tickfont\":{\"color\":\"#4D5663\"},\"title\":{\"font\":{\"color\":\"#4D5663\"},\"text\":\"\"},\"zerolinecolor\":\"#E1E5ED\"},\"yaxis16\":{\"anchor\":\"x16\",\"domain\":[0.0,0.1975],\"gridcolor\":\"#E1E5ED\",\"showgrid\":false,\"tickfont\":{\"color\":\"#4D5663\"},\"title\":{\"font\":{\"color\":\"#4D5663\"},\"text\":\"\"},\"zerolinecolor\":\"#E1E5ED\"}},                        {\"showLink\": true, \"linkText\": \"Export to plot.ly\", \"plotlyServerURL\": \"https://plot.ly\", \"responsive\": true}                    ).then(function(){\n",
       "                            \n",
       "var gd = document.getElementById('e1213045-ec5a-42d5-ac17-4d7d4b3dc6c0');\n",
       "var x = new MutationObserver(function (mutations, observer) {{\n",
       "        var display = window.getComputedStyle(gd).display;\n",
       "        if (!display || display === 'none') {{\n",
       "            console.log([gd, 'removed!']);\n",
       "            Plotly.purge(gd);\n",
       "            observer.disconnect();\n",
       "        }}\n",
       "}});\n",
       "\n",
       "// Listen for the removal of the full notebook cells\n",
       "var notebookContainer = gd.closest('#notebook-container');\n",
       "if (notebookContainer) {{\n",
       "    x.observe(notebookContainer, {childList: true});\n",
       "}}\n",
       "\n",
       "// Listen for the clearing of the current output cell\n",
       "var outputEl = gd.closest('.output');\n",
       "if (outputEl) {{\n",
       "    x.observe(outputEl, {childList: true});\n",
       "}}\n",
       "\n",
       "                        })                };                });            </script>        </div>"
      ]
     },
     "metadata": {},
     "output_type": "display_data"
    }
   ],
   "source": [
    "df.scatter_matrix() #simimlar to pairplot in seaborn"
   ]
  },
  {
   "cell_type": "code",
   "execution_count": null,
   "metadata": {},
   "outputs": [],
   "source": []
  }
 ],
 "metadata": {
  "kernelspec": {
   "display_name": "Python 3",
   "language": "python",
   "name": "python3"
  },
  "language_info": {
   "codemirror_mode": {
    "name": "ipython",
    "version": 3
   },
   "file_extension": ".py",
   "mimetype": "text/x-python",
   "name": "python",
   "nbconvert_exporter": "python",
   "pygments_lexer": "ipython3",
   "version": "3.7.16"
  },
  "orig_nbformat": 4
 },
 "nbformat": 4,
 "nbformat_minor": 2
}
